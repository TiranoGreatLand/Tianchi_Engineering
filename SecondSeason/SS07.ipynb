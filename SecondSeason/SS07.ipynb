{
 "cells": [
  {
   "cell_type": "code",
   "execution_count": 1,
   "metadata": {
    "collapsed": true
   },
   "outputs": [],
   "source": [
    "import numpy as np\n",
    "import pandas as pd\n",
    "import copy\n",
    "import matplotlib.pyplot as plt\n",
    "import seaborn as sns\n",
    "from sklearn import preprocessing"
   ]
  },
  {
   "cell_type": "code",
   "execution_count": 2,
   "metadata": {
    "collapsed": true
   },
   "outputs": [],
   "source": [
    "train_df = pd.read_excel(\"data/train.xlsx\")\n",
    "test1_df = pd.read_excel(\"data/testA.xlsx\")\n",
    "test2_df = pd.read_excel(\"data/testB.xlsx\")"
   ]
  },
  {
   "cell_type": "code",
   "execution_count": 3,
   "metadata": {},
   "outputs": [
    {
     "data": {
      "text/plain": [
       "(800,)"
      ]
     },
     "execution_count": 3,
     "metadata": {},
     "output_type": "execute_result"
    }
   ],
   "source": [
    "train_y = train_df[train_df.columns[-1]]\n",
    "train_y.shape"
   ]
  },
  {
   "cell_type": "code",
   "execution_count": 5,
   "metadata": {},
   "outputs": [
    {
     "name": "stdout",
     "output_type": "stream",
     "text": [
      "(799, 5954) (799,)\n"
     ]
    }
   ],
   "source": [
    "train_df = train_df[train_y>1.8]\n",
    "train_y = train_y[train_y>1.8]\n",
    "print(train_df.shape, train_y.shape)"
   ]
  },
  {
   "cell_type": "code",
   "execution_count": 6,
   "metadata": {
    "collapsed": true
   },
   "outputs": [],
   "source": [
    "new_column = test1_df.columns\n",
    "train_df = train_df[new_column]\n",
    "train_id = train_df['ID']\n",
    "test1_id = test1_df['ID']\n",
    "test2_id = test2_df['ID']\n",
    "train_df.drop(['ID'], axis=1, inplace=True)\n",
    "test1_df.drop(['ID'], axis=1, inplace=True)\n",
    "test2_df.drop(['ID'], axis=1, inplace=True)"
   ]
  },
  {
   "cell_type": "code",
   "execution_count": 9,
   "metadata": {},
   "outputs": [
    {
     "name": "stdout",
     "output_type": "stream",
     "text": [
      "2328 40 541 11\n",
      "\n"
     ]
    }
   ],
   "source": [
    "names = train_df.columns\n",
    "dts = train_df.dtypes\n",
    "drop_names = []\n",
    "year = []\n",
    "ints = []\n",
    "objs = []\n",
    "ratio = 0.1\n",
    "for i in range(len(names)):\n",
    "    n = names[i]\n",
    "    tp = dts[i]\n",
    "    trd = train_df[n]\n",
    "    ted = test1_df[n]\n",
    "    if 'object' == str(tp):\n",
    "        objs.append(n)\n",
    "    else:\n",
    "        misstr = np.sum(trd.isnull())/500\n",
    "        misste = np.sum(ted.isnull())/100\n",
    "        if np.abs(misstr-misste) > ratio:\n",
    "            drop_names.append(n)\n",
    "        else:\n",
    "            trrd = trd[trd.notnull()].values\n",
    "            terd = ted[ted.notnull()].values\n",
    "            if (str(trrd[0])[:4] == '2017' and str(trrd[700])[:4] == '2017') or (str(trrd[0])[:4] == '2016' and str(trrd[700])[:4] == '2016'):\n",
    "                    year.append(n)\n",
    "            elif 'int' in str(tp):\n",
    "                ints.append(n)\n",
    "            else:\n",
    "                m1 = np.mean(trrd)\n",
    "                s1 = np.std(trrd)\n",
    "                m2 = np.mean(terd)\n",
    "                s2 = np.std(terd)\n",
    "                if np.abs(m1-m2)>ratio*np.abs(m1) and np.abs(s1-s2)>ratio*np.abs(s1):\n",
    "                    drop_names.append(n)\n",
    "print(len(drop_names),len(year), len(ints), len(objs))\n",
    "print()"
   ]
  },
  {
   "cell_type": "code",
   "execution_count": 10,
   "metadata": {
    "collapsed": true
   },
   "outputs": [],
   "source": [
    "train_df.drop(drop_names, axis=1, inplace=True)\n",
    "test1_df.drop(drop_names, axis=1, inplace=True)\n",
    "test2_df.drop(drop_names, axis=1, inplace=True)"
   ]
  },
  {
   "cell_type": "code",
   "execution_count": 11,
   "metadata": {
    "collapsed": true
   },
   "outputs": [],
   "source": [
    "df_X = pd.concat([train_df, test1_df, test2_df], axis=0)"
   ]
  },
  {
   "cell_type": "code",
   "execution_count": 12,
   "metadata": {},
   "outputs": [
    {
     "data": {
      "text/plain": [
       "0"
      ]
     },
     "execution_count": 12,
     "metadata": {},
     "output_type": "execute_result"
    }
   ],
   "source": [
    "np.sum(df_X[objs].isnull().values)"
   ]
  },
  {
   "cell_type": "code",
   "execution_count": 13,
   "metadata": {},
   "outputs": [
    {
     "name": "stdout",
     "output_type": "stream",
     "text": [
      "552\n"
     ]
    }
   ],
   "source": [
    "ints += objs\n",
    "print(len(ints))"
   ]
  },
  {
   "cell_type": "code",
   "execution_count": 100,
   "metadata": {},
   "outputs": [
    {
     "name": "stdout",
     "output_type": "stream",
     "text": [
      "142 179 189 40\n"
     ]
    }
   ],
   "source": [
    "remains1 = []\n",
    "remains2 = []\n",
    "tobedrop = []\n",
    "\n",
    "for n in ints:\n",
    "    lu1 = len(train_df[n].unique())\n",
    "    lu2 = len(df_X[n].unique())\n",
    "    if lu1 < 15 and lu1 > 1:\n",
    "        remains1.append(n)\n",
    "    if lu2 < 15 and lu2 > 1:\n",
    "        remains2.append(n)\n",
    "    if lu1 != lu2:\n",
    "        tobedrop.append(n)\n",
    "    \n",
    "print(len(remains1), len(remains2), len(tobedrop), len(year))"
   ]
  },
  {
   "cell_type": "code",
   "execution_count": 101,
   "metadata": {},
   "outputs": [
    {
     "name": "stdout",
     "output_type": "stream",
     "text": [
      "86\n"
     ]
    }
   ],
   "source": [
    "toberemain = list(set(remains1) & set(remains2) - set(tobedrop))\n",
    "print(len(toberemain))"
   ]
  },
  {
   "cell_type": "code",
   "execution_count": 102,
   "metadata": {
    "collapsed": true
   },
   "outputs": [],
   "source": [
    "def dict2list(dic:dict):\n",
    "    ''' 将字典转化为列表 '''\n",
    "    keys = dic.keys()\n",
    "    vals = dic.values()\n",
    "    lst = [(key, val) for key, val in zip(keys, vals)]\n",
    "    return lst\n",
    "\n",
    "def LastRemainJudge(column):\n",
    "    unique = set(column)\n",
    "    uf = {}\n",
    "    for u in unique:\n",
    "        uf[u] = 0\n",
    "    for c in column:\n",
    "        uf[c] += 1\n",
    "    sl = sorted(dict2list(uf), key = lambda x:x[1], reverse=True)\n",
    "    x = sl[0][1]/len(column)\n",
    "    sl = np.array(sl)\n",
    "    if x < 0.8:\n",
    "        #print(sl[:, 1]/len(column))\n",
    "        return True\n",
    "    else:\n",
    "        return False"
   ]
  },
  {
   "cell_type": "code",
   "execution_count": 103,
   "metadata": {},
   "outputs": [
    {
     "name": "stdout",
     "output_type": "stream",
     "text": [
      "54 53 53\n"
     ]
    }
   ],
   "source": [
    "lm1 = []\n",
    "lm2 = []\n",
    "for n in toberemain:\n",
    "    if LastRemainJudge(train_df[n]):\n",
    "        lm1.append(n)\n",
    "    if LastRemainJudge(df_X[n]):\n",
    "        lm2.append(n)\n",
    "print(len(lm1), len(lm2), len(set(lm1)&set(lm2)))"
   ]
  },
  {
   "cell_type": "code",
   "execution_count": 104,
   "metadata": {},
   "outputs": [
    {
     "name": "stdout",
     "output_type": "stream",
     "text": [
      "53\n",
      "3095\n",
      "(1511, 3095) (1511, 53)\n"
     ]
    }
   ],
   "source": [
    "names = df_X.columns\n",
    "dts = df_X.dtypes\n",
    "dfx_float_n = []\n",
    "dfx_onehot_n = list(set(lm1) & set(lm2))\n",
    "print(len(dfx_onehot_n))\n",
    "for i in range(len(names)):\n",
    "    n = names[i]\n",
    "    d = dts[i]\n",
    "    if 'float' in str(d):\n",
    "        dfx_float_n.append(n)\n",
    "print(len(dfx_float_n))\n",
    "dfx_float = df_X[dfx_float_n]\n",
    "dfx_onehot = df_X[dfx_onehot_n]\n",
    "print(dfx_float.shape, dfx_onehot.shape)"
   ]
  },
  {
   "cell_type": "code",
   "execution_count": 21,
   "metadata": {},
   "outputs": [
    {
     "name": "stdout",
     "output_type": "stream",
     "text": [
      "['210X24', '210X205', '210X213', '210X215', '220X71', '300X2', '300X3', '300X4', '300X6', '300X7', '300X9', '300X10', '300X13', '300X14', '300X20', '311X6', '311X56', '311X59', '311X78', '311X163', '311X164', '311X170', '311X171', '400X7', '400X9', '400X25', '400X27', '400X60', '400X61', '400X64', '400X65', '400X83', '400X84', '400X168', '400X169', '400X219', '400X220', '420X186', '520X148', '520X152', '520X171']\n"
     ]
    }
   ],
   "source": [
    "floatyear = []\n",
    "for n in dfx_float.columns:\n",
    "    c = dfx_float[n]\n",
    "    r = c[c.notnull()].astype(np.int64).values\n",
    "    if (str(r[0])[:4] == '2017' and str(r[-1])[:4] == '2017') or (str(r[0])[:4] == '2016' and str(r[-1])[:4] == '2016'):\n",
    "        floatyear.append(n)\n",
    "print(floatyear)"
   ]
  },
  {
   "cell_type": "code",
   "execution_count": 33,
   "metadata": {},
   "outputs": [
    {
     "name": "stderr",
     "output_type": "stream",
     "text": [
      "/home/magnusterra/anaconda3/lib/python3.6/site-packages/ipykernel_launcher.py:8: SettingWithCopyWarning: \n",
      "A value is trying to be set on a copy of a slice from a DataFrame.\n",
      "Try using .loc[row_indexer,col_indexer] = value instead\n",
      "\n",
      "See the caveats in the documentation: http://pandas.pydata.org/pandas-docs/stable/indexing.html#indexing-view-versus-copy\n",
      "  \n",
      "/home/magnusterra/anaconda3/lib/python3.6/site-packages/pandas/core/frame.py:2444: SettingWithCopyWarning: \n",
      "A value is trying to be set on a copy of a slice from a DataFrame\n",
      "\n",
      "See the caveats in the documentation: http://pandas.pydata.org/pandas-docs/stable/indexing.html#indexing-view-versus-copy\n",
      "  self.loc._setitem_with_indexer(indexer, value)\n",
      "/home/magnusterra/anaconda3/lib/python3.6/site-packages/pandas/core/frame.py:2424: SettingWithCopyWarning: \n",
      "A value is trying to be set on a copy of a slice from a DataFrame\n",
      "\n",
      "See the caveats in the documentation: http://pandas.pydata.org/pandas-docs/stable/indexing.html#indexing-view-versus-copy\n",
      "  self._setitem_array(key, value)\n",
      "/home/magnusterra/anaconda3/lib/python3.6/site-packages/ipykernel_launcher.py:11: SettingWithCopyWarning: \n",
      "A value is trying to be set on a copy of a slice from a DataFrame.\n",
      "Try using .loc[row_indexer,col_indexer] = value instead\n",
      "\n",
      "See the caveats in the documentation: http://pandas.pydata.org/pandas-docs/stable/indexing.html#indexing-view-versus-copy\n",
      "  # This is added back by InteractiveShellApp.init_path()\n"
     ]
    },
    {
     "name": "stdout",
     "output_type": "stream",
     "text": [
      "210X24 1 1 0 0\n",
      "210X213 4 3 1 0\n",
      "220X71 1 1 0 0\n"
     ]
    },
    {
     "name": "stderr",
     "output_type": "stream",
     "text": [
      "/home/magnusterra/anaconda3/lib/python3.6/site-packages/ipykernel_launcher.py:14: SettingWithCopyWarning: \n",
      "A value is trying to be set on a copy of a slice from a DataFrame.\n",
      "Try using .loc[row_indexer,col_indexer] = value instead\n",
      "\n",
      "See the caveats in the documentation: http://pandas.pydata.org/pandas-docs/stable/indexing.html#indexing-view-versus-copy\n",
      "  \n"
     ]
    },
    {
     "name": "stdout",
     "output_type": "stream",
     "text": [
      "300X2 45 27 9 9\n",
      "300X3 73 50 9 14\n",
      "300X4 140 95 17 28\n",
      "300X6 1 1 0 0\n",
      "300X7 44 29 9 6\n",
      "300X9 13 9 3 1\n",
      "300X10 15 10 2 3\n",
      "300X13 2 1 0 1\n",
      "300X14 6 3 2 1\n",
      "311X6 58 28 11 19\n",
      "311X56 62 33 11 18\n",
      "311X59 29 20 5 4\n",
      "311X163 2 0 2 0\n",
      "311X164 23 17 3 3\n",
      "311X170 70 35 15 20\n",
      "311X171 26 16 2 8\n",
      "400X7 2 2 0 0\n",
      "400X9 2 0 1 1\n",
      "400X25 4 4 0 0\n",
      "400X60 1 1 0 0\n",
      "400X64 3 2 1 0\n",
      "400X83 1 0 1 0\n",
      "400X84 1 1 0 0\n",
      "400X168 1 0 0 1\n",
      "400X169 1 1 0 0\n",
      "400X219 1 0 0 1\n",
      "400X220 2 0 1 1\n",
      "420X186 1 1 0 0\n",
      "520X152 1 1 0 0\n"
     ]
    }
   ],
   "source": [
    "#dfxt = dfx_float[floatyear]\n",
    "for n in dfxt.columns:\n",
    "    x = np.sum(dfxt[n].isnull())\n",
    "    if x > 0:\n",
    "        c = dfxt[n]\n",
    "        x1 = np.sum(dfxt[n][:799].isnull())\n",
    "        if x1 > 0:\n",
    "            dfxt[:799][c[:799].isnull()] = np.mean(c[:799][c[:799].notnull()])\n",
    "        x2 = np.sum(dfxt[n][799:1099].isnull())\n",
    "        if x2 > 0:\n",
    "            dfxt[799:1099][c[799:1099].isnull()] = np.mean(c[799:1099][c[799:1099].notnull()])\n",
    "        x3 = np.sum(dfxt[n][1099:].isnull())\n",
    "        if x3 > 0:\n",
    "            dfxt[1099:][c[1099:].isnull()] = np.mean(c[1099:][c[1099:].notnull()])\n",
    "        print(n, x, x1, x2, x3)\n",
    "        # fix each by pretaining mean\n",
    "        \n",
    "        # then transter the type into int "
   ]
  },
  {
   "cell_type": "code",
   "execution_count": 26,
   "metadata": {},
   "outputs": [
    {
     "name": "stdout",
     "output_type": "stream",
     "text": [
      "1\n"
     ]
    }
   ],
   "source": [
    "dfx_year = df_X[year]\n",
    "print(np.sum(dfx_year.isnull().values))"
   ]
  },
  {
   "cell_type": "code",
   "execution_count": 34,
   "metadata": {
    "scrolled": true
   },
   "outputs": [
    {
     "name": "stderr",
     "output_type": "stream",
     "text": [
      "/home/magnusterra/anaconda3/lib/python3.6/site-packages/ipykernel_launcher.py:9: SettingWithCopyWarning: \n",
      "A value is trying to be set on a copy of a slice from a DataFrame.\n",
      "Try using .loc[row_indexer,col_indexer] = value instead\n",
      "\n",
      "See the caveats in the documentation: http://pandas.pydata.org/pandas-docs/stable/indexing.html#indexing-view-versus-copy\n",
      "  if __name__ == '__main__':\n",
      "/home/magnusterra/anaconda3/lib/python3.6/site-packages/pandas/core/indexing.py:517: SettingWithCopyWarning: \n",
      "A value is trying to be set on a copy of a slice from a DataFrame.\n",
      "Try using .loc[row_indexer,col_indexer] = value instead\n",
      "\n",
      "See the caveats in the documentation: http://pandas.pydata.org/pandas-docs/stable/indexing.html#indexing-view-versus-copy\n",
      "  self.obj[item] = s\n"
     ]
    },
    {
     "name": "stdout",
     "output_type": "stream",
     "text": [
      "520X148 1 0 0 1\n"
     ]
    }
   ],
   "source": [
    "for n in dfx_year.columns:\n",
    "    c = dfx_year[n]\n",
    "    x = np.sum(c.isnull())\n",
    "    if x > 0:\n",
    "        x1 = np.sum(c[:799].isnull())\n",
    "        x2 = np.sum(c[799:1099].isnull())\n",
    "        x3 = np.sum(c[1099:].isnull())\n",
    "        c = dfx_year[n]\n",
    "        dfx_year[1099:][c[1099:].isnull()] = np.mean(c[1099:][c[1099:].notnull()])\n",
    "        print(n, x, x1, x2, x3)"
   ]
  },
  {
   "cell_type": "code",
   "execution_count": 35,
   "metadata": {},
   "outputs": [
    {
     "name": "stdout",
     "output_type": "stream",
     "text": [
      "0 0\n"
     ]
    }
   ],
   "source": [
    "print(np.sum(dfxt.isnull().values), np.sum(dfx_year.isnull().values))"
   ]
  },
  {
   "cell_type": "code",
   "execution_count": 28,
   "metadata": {},
   "outputs": [
    {
     "name": "stdout",
     "output_type": "stream",
     "text": [
      "(1511, 3054)\n"
     ]
    },
    {
     "name": "stderr",
     "output_type": "stream",
     "text": [
      "/home/magnusterra/anaconda3/lib/python3.6/site-packages/ipykernel_launcher.py:1: SettingWithCopyWarning: \n",
      "A value is trying to be set on a copy of a slice from a DataFrame\n",
      "\n",
      "See the caveats in the documentation: http://pandas.pydata.org/pandas-docs/stable/indexing.html#indexing-view-versus-copy\n",
      "  \"\"\"Entry point for launching an IPython kernel.\n"
     ]
    }
   ],
   "source": [
    "dfx_float.drop(floatyear, axis=1, inplace=True)\n",
    "print(dfx_float.shape)"
   ]
  },
  {
   "cell_type": "code",
   "execution_count": 36,
   "metadata": {},
   "outputs": [
    {
     "name": "stdout",
     "output_type": "stream",
     "text": [
      "(1511, 81)\n"
     ]
    }
   ],
   "source": [
    "dfx_days = pd.concat([dfx_year, dfxt], axis=1)\n",
    "print(dfx_days.shape)"
   ]
  },
  {
   "cell_type": "code",
   "execution_count": 65,
   "metadata": {
    "scrolled": true
   },
   "outputs": [
    {
     "name": "stdout",
     "output_type": "stream",
     "text": [
      "0 210X204 int64\n",
      "1 220X67 int64\n",
      "2 220X75 int64\n",
      "3 220X79 int64\n",
      "4 220X83 int64\n",
      "5 220X87 int64\n",
      "6 220X91 int64\n",
      "7 220X95 int64\n",
      "8 310X56 int64\n",
      "9 310X60 int64\n",
      "10 310X64 int64\n",
      "11 310X68 int64\n",
      "12 310X72 int64\n",
      "13 310X76 int64\n",
      "14 310X80 int64\n",
      "15 310X84 int64\n",
      "16 360X710 int64\n",
      "17 360X711 int64\n",
      "18 360X1287 int64\n",
      "19 360X1291 int64\n",
      "20 360X1292 int64\n",
      "21 360X1293 int64\n",
      "22 420X7 int64\n",
      "23 420X9 int64\n",
      "24 420X25 int64\n",
      "25 420X27 int64\n",
      "26 520X173 int64\n",
      "27 520X248 int64\n",
      "28 520X250 int64\n",
      "29 520X346 int64\n",
      "30 520X348 int64\n",
      "31 520X354 int64\n",
      "32 520X356 int64\n",
      "33 750X710 int64\n",
      "34 750X711 int64\n",
      "35 750X1287 int64\n",
      "36 750X1291 int64\n",
      "37 750X1292 int64\n",
      "38 750X1293 int64\n",
      "39 210X24 int64\n",
      "40 210X205 int64\n",
      "41 210X213 int64\n",
      "42 210X215 int64\n",
      "43 220X71 int64\n",
      "44 300X2 int64\n",
      "45 300X3 int64\n",
      "46 300X4 int64\n",
      "47 300X6 int64\n",
      "48 300X7 int64\n",
      "49 300X9 int64\n",
      "50 300X10 int64\n",
      "51 300X13 int64\n",
      "52 300X14 int64\n",
      "53 300X20 int64\n",
      "54 311X6 int64\n",
      "55 311X56 int64\n",
      "56 311X59 int64\n",
      "57 311X78 int64\n",
      "58 311X163 int64\n",
      "59 311X164 int64\n",
      "60 311X170 int64\n",
      "61 311X171 int64\n",
      "62 400X7 int64\n",
      "63 400X9 int64\n",
      "64 400X25 int64\n",
      "65 400X27 int64\n",
      "66 400X60 int64\n",
      "67 400X61 int64\n",
      "68 400X64 int64\n",
      "69 400X65 int64\n",
      "70 400X83 int64\n",
      "71 400X84 int64\n",
      "72 400X168 int64\n",
      "73 400X169 int64\n",
      "74 400X219 int64\n",
      "75 400X220 int64\n",
      "76 420X186 int64\n",
      "77 520X152 int64\n",
      "78 520X171 int64\n",
      "79 520X148X1 int64\n",
      "80 520X148 int64\n"
     ]
    }
   ],
   "source": [
    "#convert type of ime columns into int so that the length is true\n",
    "names = dfx_days.columns\n",
    "dtypes = dfx_days.dtypes\n",
    "for i in range(len(names)):\n",
    "    n = names[i]\n",
    "    if 'int' not in str(dtypes[i]):\n",
    "        dfx_days[n] = dfx_days[n].astype(np.int64)\n",
    "    print(i, n, dfx_days[n].dtype)"
   ]
  },
  {
   "cell_type": "code",
   "execution_count": 57,
   "metadata": {},
   "outputs": [
    {
     "name": "stdout",
     "output_type": "stream",
     "text": [
      "520X148 2\n",
      "520X148 2\n"
     ]
    }
   ],
   "source": [
    "for n in names:\n",
    "    c = dfx_days[n]\n",
    "    s = c.shape\n",
    "    try:\n",
    "        print(n, s[1])\n",
    "    except:\n",
    "        pass"
   ]
  },
  {
   "cell_type": "code",
   "execution_count": 62,
   "metadata": {},
   "outputs": [
    {
     "name": "stdout",
     "output_type": "stream",
     "text": [
      "(1511, 2)\n"
     ]
    }
   ],
   "source": [
    "c = copy.copy(dfx_days['520X148'])\n",
    "print(c.shape)"
   ]
  },
  {
   "cell_type": "code",
   "execution_count": 63,
   "metadata": {},
   "outputs": [
    {
     "name": "stdout",
     "output_type": "stream",
     "text": [
      "(1511, 80)\n"
     ]
    }
   ],
   "source": [
    "dfx_days.drop(['520X148'], axis=1, inplace=True)\n",
    "print(dfx_days.shape)"
   ]
  },
  {
   "cell_type": "code",
   "execution_count": 64,
   "metadata": {
    "collapsed": true
   },
   "outputs": [],
   "source": [
    "dfx_days['520X148'] = c.values[:, 0]\n",
    "dfx_days['520X148X1'] = c.values[:, 1]"
   ]
  },
  {
   "cell_type": "code",
   "execution_count": 70,
   "metadata": {
    "collapsed": true
   },
   "outputs": [],
   "source": [
    "copydfxday = copy.copy(dfx_days)"
   ]
  },
  {
   "cell_type": "code",
   "execution_count": 74,
   "metadata": {},
   "outputs": [
    {
     "name": "stdout",
     "output_type": "stream",
     "text": [
      "92\n",
      "0 87 5 100000\n",
      "1 92 0 1\n",
      "2 92 0 1\n",
      "3 92 0 1\n",
      "4 92 0 1\n",
      "5 92 0 1\n",
      "6 92 0 1\n",
      "7 92 0 1\n",
      "8 92 0 1\n",
      "9 92 0 1\n",
      "10 92 0 1\n",
      "11 92 0 1\n",
      "12 92 0 1\n",
      "13 92 0 1\n",
      "14 92 0 1\n",
      "15 92 0 1\n",
      "16 69 23 100000000000000000000000\n",
      "17 69 23 100000000000000000000000\n",
      "18 70 22 10000000000000000000000\n",
      "19 70 22 10000000000000000000000\n",
      "20 70 22 10000000000000000000000\n",
      "21 70 22 10000000000000000000000\n",
      "22 85 7 10000000\n",
      "23 85 7 10000000\n",
      "24 86 6 1000000\n",
      "25 86 6 1000000\n",
      "26 87 5 100000\n",
      "27 87 5 100000\n",
      "28 87 5 100000\n",
      "29 87 5 100000\n",
      "30 87 5 100000\n",
      "31 87 5 100000\n",
      "32 87 5 100000\n",
      "33 69 23 100000000000000000000000\n",
      "34 69 23 100000000000000000000000\n",
      "35 70 22 10000000000000000000000\n",
      "36 70 22 10000000000000000000000\n",
      "37 70 22 10000000000000000000000\n",
      "38 70 22 10000000000000000000000\n",
      "39 86 6 1000000\n",
      "40 87 5 100000\n",
      "41 87 5 100000\n",
      "42 87 5 100000\n",
      "43 92 0 1\n",
      "44 85 7 10000000\n",
      "45 85 7 10000000\n",
      "46 85 7 10000000\n",
      "47 85 7 10000000\n",
      "48 85 7 10000000\n",
      "49 85 7 10000000\n",
      "50 86 6 1000000\n",
      "51 86 6 1000000\n",
      "52 86 6 1000000\n",
      "53 86 6 1000000\n",
      "54 85 7 10000000\n",
      "55 86 6 1000000\n",
      "56 86 6 1000000\n",
      "57 86 6 1000000\n",
      "58 87 5 100000\n",
      "59 87 5 100000\n",
      "60 87 5 100000\n",
      "61 87 5 100000\n",
      "62 85 7 10000000\n",
      "63 85 7 10000000\n",
      "64 86 6 1000000\n",
      "65 86 6 1000000\n",
      "66 86 6 1000000\n",
      "67 86 6 1000000\n",
      "68 86 6 1000000\n",
      "69 86 6 1000000\n",
      "70 86 6 1000000\n",
      "71 86 6 1000000\n",
      "72 87 5 100000\n",
      "73 87 5 100000\n",
      "74 87 5 100000\n",
      "75 87 5 100000\n",
      "76 87 5 100000\n",
      "77 87 5 100000\n",
      "78 87 5 100000\n",
      "79 89 3 1000\n",
      "80 87 5 100000\n",
      "['220X67']\n"
     ]
    }
   ],
   "source": [
    "day_n = dfx_days.columns\n",
    "standardcolumn = copy.copy(dfx_days[day_n[1]])\n",
    "standardlen = len(str(standardcolumn[0]))\n",
    "print(standardlen)\n",
    "drop_names = []\n",
    "for i in range(len(day_n)):\n",
    "    #if i == 1:\n",
    "    #    print(i, \"standard\")\n",
    "    #    continue\n",
    "    l = len(str(dfx_days[day_n[i]][0]))\n",
    "    bias = standardlen - l\n",
    "    b10 = 1\n",
    "    if bias > 0:\n",
    "        for j in range(bias):\n",
    "            b10 *= 10\n",
    "    elif bias < 0:\n",
    "        for j in range(-bias):\n",
    "            b10 /= 10\n",
    "    print(i, l, bias, b10)\n",
    "    if b10 != 1:\n",
    "        dfx_days[day_n[i]] *= b10\n",
    "    dfx_days[day_n[i]] = dfx_days[day_n[i]] - standardcolumn\n",
    "    if np.sum(dfx_days[day_n[i]]) == 0:\n",
    "        drop_names.append(day_n[i])\n",
    "print(drop_names)"
   ]
  },
  {
   "cell_type": "code",
   "execution_count": 75,
   "metadata": {},
   "outputs": [
    {
     "name": "stdout",
     "output_type": "stream",
     "text": [
      "(1511, 80)\n"
     ]
    }
   ],
   "source": [
    "dfx_days.drop(drop_names, axis=1, inplace=True)\n",
    "print(dfx_days.shape)"
   ]
  },
  {
   "cell_type": "code",
   "execution_count": 84,
   "metadata": {},
   "outputs": [],
   "source": [
    "# normalize time\n",
    "names = dfx_days.columns\n",
    "for n in names:\n",
    "    c = dfx_days[n]\n",
    "    tmpm = np.mean(c)\n",
    "    tmps = np.std(c)\n",
    "    dfx_days[n] = (dfx_days[n] - tmpm) / tmps"
   ]
  },
  {
   "cell_type": "code",
   "execution_count": 89,
   "metadata": {},
   "outputs": [
    {
     "name": "stdout",
     "output_type": "stream",
     "text": [
      "360X710 47\n",
      "360X711 47\n",
      "360X1287 47\n",
      "360X1291 47\n",
      "360X1292 47\n",
      "360X1293 47\n",
      "750X710 45\n",
      "750X711 45\n",
      "750X1287 45\n",
      "750X1291 45\n",
      "750X1292 45\n",
      "750X1293 45\n",
      "['360X710', '360X711', '360X1287', '360X1291', '360X1292', '360X1293', '750X710', '750X711', '750X1287', '750X1291', '750X1292', '750X1293']\n"
     ]
    }
   ],
   "source": [
    "tooshort = []\n",
    "for n in names:\n",
    "    l = len(set(dfx_days[n]))\n",
    "    if l < 100:\n",
    "        print(n, l)\n",
    "        tooshort.append(n)\n",
    "print(tooshort)"
   ]
  },
  {
   "cell_type": "code",
   "execution_count": 91,
   "metadata": {},
   "outputs": [
    {
     "data": {
      "text/plain": [
       "(1511, 12)"
      ]
     },
     "execution_count": 91,
     "metadata": {},
     "output_type": "execute_result"
    }
   ],
   "source": [
    "# this part may be hashable or onehotable but now it's not time to get it\n",
    "# maybe this part could be add to ints and then try to onehot it\n",
    "copydfxday[tooshort].shape"
   ]
  },
  {
   "cell_type": "code",
   "execution_count": 95,
   "metadata": {},
   "outputs": [
    {
     "data": {
      "text/plain": [
       "0"
      ]
     },
     "execution_count": 95,
     "metadata": {},
     "output_type": "execute_result"
    }
   ],
   "source": [
    "np.sum(dfx_onehot.isnull().values)"
   ]
  },
  {
   "cell_type": "code",
   "execution_count": 106,
   "metadata": {},
   "outputs": [
    {
     "name": "stdout",
     "output_type": "stream",
     "text": [
      "(1511, 65)\n"
     ]
    }
   ],
   "source": [
    "dfxoh = pd.concat([dfx_onehot, copydfxday[tooshort]], axis=1)\n",
    "print(dfxoh.shape)"
   ]
  },
  {
   "cell_type": "code",
   "execution_count": 107,
   "metadata": {},
   "outputs": [
    {
     "data": {
      "text/plain": [
       "(1511, 3095)"
      ]
     },
     "execution_count": 107,
     "metadata": {},
     "output_type": "execute_result"
    }
   ],
   "source": [
    "dfx_float.shape"
   ]
  },
  {
   "cell_type": "code",
   "execution_count": 111,
   "metadata": {},
   "outputs": [
    {
     "name": "stdout",
     "output_type": "stream",
     "text": [
      "(1511, 73)\n",
      "(1511, 75)\n",
      "(1511, 77)\n",
      "(1511, 79)\n",
      "(1511, 86)\n",
      "(1511, 90)\n",
      "(1511, 93)\n",
      "(1511, 101)\n",
      "(1511, 103)\n",
      "(1511, 108)\n",
      "(1511, 111)\n",
      "(1511, 120)\n",
      "(1511, 124)\n",
      "(1511, 126)\n",
      "(1511, 136)\n",
      "(1511, 142)\n",
      "(1511, 144)\n",
      "(1511, 147)\n",
      "(1511, 149)\n",
      "(1511, 151)\n",
      "(1511, 158)\n",
      "(1511, 164)\n",
      "(1511, 168)\n",
      "(1511, 170)\n",
      "(1511, 175)\n",
      "(1511, 181)\n",
      "(1511, 183)\n",
      "(1511, 190)\n",
      "(1511, 194)\n",
      "(1511, 198)\n",
      "(1511, 200)\n",
      "(1511, 202)\n",
      "(1511, 204)\n",
      "(1511, 213)\n",
      "(1511, 215)\n",
      "(1511, 219)\n",
      "(1511, 221)\n",
      "(1511, 225)\n",
      "(1511, 228)\n",
      "(1511, 233)\n",
      "(1511, 236)\n",
      "(1511, 240)\n",
      "(1511, 243)\n",
      "(1511, 245)\n",
      "(1511, 249)\n",
      "(1511, 251)\n",
      "(1511, 256)\n",
      "(1511, 261)\n",
      "(1511, 263)\n",
      "(1511, 266)\n",
      "(1511, 270)\n",
      "(1511, 272)\n",
      "(1511, 275)\n",
      "(1511, 322)\n",
      "(1511, 369)\n",
      "(1511, 416)\n",
      "(1511, 463)\n",
      "(1511, 510)\n",
      "(1511, 557)\n",
      "(1511, 602)\n",
      "(1511, 647)\n",
      "(1511, 692)\n",
      "(1511, 737)\n",
      "(1511, 782)\n",
      "(1511, 827)\n"
     ]
    }
   ],
   "source": [
    "# make onehots onehot\n",
    "ohnames = dfxoh.columns\n",
    "for i in range(len(ohnames)):\n",
    "    n = ohnames[i]\n",
    "    tmp = pd.get_dummies(dfxoh[n], prefix='onehot_'+str(i))\n",
    "    dfxoh = pd.concat([dfxoh, tmp], axis=1)\n",
    "    print(dfxoh.shape)"
   ]
  },
  {
   "cell_type": "code",
   "execution_count": 112,
   "metadata": {
    "scrolled": true
   },
   "outputs": [
    {
     "name": "stdout",
     "output_type": "stream",
     "text": [
      "(1511, 762)\n"
     ]
    }
   ],
   "source": [
    "dfxoh.drop(ohnames, axis=1, inplace=True)\n",
    "print(dfxoh.shape)"
   ]
  },
  {
   "cell_type": "markdown",
   "metadata": {},
   "source": [
    "# part of floats"
   ]
  },
  {
   "cell_type": "code",
   "execution_count": 113,
   "metadata": {},
   "outputs": [
    {
     "name": "stdout",
     "output_type": "stream",
     "text": [
      "0\n"
     ]
    }
   ],
   "source": [
    "drop_names = []\n",
    "names = dfx_float.columns\n",
    "for n in names:\n",
    "    x = np.sum(dfx_float[n].isnull())\n",
    "    if x > 500:\n",
    "        drop_names.append(n)\n",
    "print(len(drop_names))"
   ]
  },
  {
   "cell_type": "code",
   "execution_count": 114,
   "metadata": {},
   "outputs": [
    {
     "name": "stdout",
     "output_type": "stream",
     "text": [
      "1319 1277\n",
      "131\n"
     ]
    }
   ],
   "source": [
    "means = []\n",
    "stds = []\n",
    "drop_names = []\n",
    "names = dfx_float.columns\n",
    "for n in names:\n",
    "    c = dfx_float[n]\n",
    "    r = c[c.notnull()]\n",
    "    tmpm = np.mean(r)\n",
    "    tmps = np.std(r)\n",
    "    means.append(tmpm)\n",
    "    stds.append(tmps)\n",
    "    if tmps == 0:\n",
    "        drop_names.append(n)\n",
    "print(len(set(means)), len(set(stds)))\n",
    "print(len(drop_names))"
   ]
  },
  {
   "cell_type": "code",
   "execution_count": 115,
   "metadata": {},
   "outputs": [
    {
     "name": "stderr",
     "output_type": "stream",
     "text": [
      "/home/magnusterra/anaconda3/lib/python3.6/site-packages/ipykernel_launcher.py:1: SettingWithCopyWarning: \n",
      "A value is trying to be set on a copy of a slice from a DataFrame\n",
      "\n",
      "See the caveats in the documentation: http://pandas.pydata.org/pandas-docs/stable/indexing.html#indexing-view-versus-copy\n",
      "  \"\"\"Entry point for launching an IPython kernel.\n"
     ]
    },
    {
     "data": {
      "text/plain": [
       "(1511, 2964)"
      ]
     },
     "execution_count": 115,
     "metadata": {},
     "output_type": "execute_result"
    }
   ],
   "source": [
    "dfx_float.drop(drop_names, axis=1, inplace=True)\n",
    "dfx_float.shape"
   ]
  },
  {
   "cell_type": "code",
   "execution_count": 118,
   "metadata": {},
   "outputs": [
    {
     "name": "stdout",
     "output_type": "stream",
     "text": [
      "360\n"
     ]
    }
   ],
   "source": [
    "# not move sames first, fill nan\n",
    "names = dfx_float.columns\n",
    "added = set()\n",
    "sames = []\n",
    "for i in range(len(names)):\n",
    "    tmpsl = []\n",
    "    tmpsl.append(i)\n",
    "    for j in range(i+1, len(names)):\n",
    "        if means[i] == means[j] and stds[i] == stds[j]:\n",
    "            if i not in added:\n",
    "                added.add(i)\n",
    "            if j not in added:\n",
    "                added.add(j)\n",
    "                tmpsl.append(j)\n",
    "    if len(tmpsl) > 1:\n",
    "        sames.append(tmpsl)\n",
    "print(len(sames))"
   ]
  },
  {
   "cell_type": "code",
   "execution_count": 119,
   "metadata": {},
   "outputs": [
    {
     "name": "stdout",
     "output_type": "stream",
     "text": [
      "1655\n"
     ]
    }
   ],
   "source": [
    "names = dfx_float.columns\n",
    "drop_names = []\n",
    "for i in sames:\n",
    "    for j in i[1:]:\n",
    "        drop_names.append(names[j])\n",
    "print(len(drop_names))"
   ]
  },
  {
   "cell_type": "code",
   "execution_count": 120,
   "metadata": {},
   "outputs": [
    {
     "name": "stdout",
     "output_type": "stream",
     "text": [
      "(1511, 2964)\n",
      "(1511, 1309)\n"
     ]
    },
    {
     "name": "stderr",
     "output_type": "stream",
     "text": [
      "/home/magnusterra/anaconda3/lib/python3.6/site-packages/ipykernel_launcher.py:3: SettingWithCopyWarning: \n",
      "A value is trying to be set on a copy of a slice from a DataFrame\n",
      "\n",
      "See the caveats in the documentation: http://pandas.pydata.org/pandas-docs/stable/indexing.html#indexing-view-versus-copy\n",
      "  This is separate from the ipykernel package so we can avoid doing imports until\n"
     ]
    }
   ],
   "source": [
    "print(dfx_float.shape)\n",
    "trainx_float = copy.copy(dfx_float)\n",
    "dfx_float.drop(drop_names, axis=1, inplace=True)\n",
    "print(dfx_float.shape)"
   ]
  },
  {
   "cell_type": "code",
   "execution_count": 121,
   "metadata": {},
   "outputs": [
    {
     "name": "stderr",
     "output_type": "stream",
     "text": [
      "/home/magnusterra/anaconda3/lib/python3.6/site-packages/pandas/core/generic.py:5088: SettingWithCopyWarning: \n",
      "A value is trying to be set on a copy of a slice from a DataFrame\n",
      "\n",
      "See the caveats in the documentation: http://pandas.pydata.org/pandas-docs/stable/indexing.html#indexing-view-versus-copy\n",
      "  self._update_inplace(new_data)\n",
      "/home/magnusterra/anaconda3/lib/python3.6/site-packages/IPython/core/interactiveshell.py:2881: SettingWithCopyWarning: \n",
      "A value is trying to be set on a copy of a slice from a DataFrame\n",
      "\n",
      "See the caveats in the documentation: http://pandas.pydata.org/pandas-docs/stable/indexing.html#indexing-view-versus-copy\n",
      "  exec(code_obj, self.user_global_ns, self.user_ns)\n"
     ]
    },
    {
     "name": "stdout",
     "output_type": "stream",
     "text": [
      "0\n"
     ]
    }
   ],
   "source": [
    "# fix first then log\n",
    "names = dfx_float.columns\n",
    "for n in names:\n",
    "    c = dfx_float[n]\n",
    "    r = c[c.notnull()]\n",
    "    tmpm = np.mean(r)\n",
    "    tmps = np.std(r)\n",
    "    assert tmps>0\n",
    "    dfx_float[n][c.isnull()] = tmpm\n",
    "print(np.sum(dfx_float.isnull().values))"
   ]
  },
  {
   "cell_type": "code",
   "execution_count": 122,
   "metadata": {},
   "outputs": [
    {
     "name": "stdout",
     "output_type": "stream",
     "text": [
      "0\n"
     ]
    }
   ],
   "source": [
    "mid = dfx_float-np.min(dfx_float)+1\n",
    "dfx_log1p = np.log1p(mid)\n",
    "del mid\n",
    "print(np.sum(dfx_log1p.isnull().values))"
   ]
  },
  {
   "cell_type": "code",
   "execution_count": 124,
   "metadata": {},
   "outputs": [],
   "source": [
    "for n in dfx_log1p.columns:\n",
    "    c = dfx_log1p[n]\n",
    "    tmpm = np.mean(c)\n",
    "    tmps = np.std(c)\n",
    "    assert tmps > 0\n",
    "    dfx_log1p[n] = (dfx_log1p[n] - tmpm)/tmps"
   ]
  },
  {
   "cell_type": "code",
   "execution_count": 126,
   "metadata": {},
   "outputs": [
    {
     "data": {
      "text/plain": [
       "(1511, 2151)"
      ]
     },
     "execution_count": 126,
     "metadata": {},
     "output_type": "execute_result"
    }
   ],
   "source": [
    "dfx = pd.concat([dfx_log1p, dfxoh, dfx_days], axis=1)\n",
    "dfx.shape"
   ]
  },
  {
   "cell_type": "code",
   "execution_count": 132,
   "metadata": {
    "collapsed": true
   },
   "outputs": [],
   "source": [
    "def MSE(y_raw, y_pred):\n",
    "    return np.mean(np.square(y_raw-y_pred))"
   ]
  },
  {
   "cell_type": "code",
   "execution_count": 128,
   "metadata": {},
   "outputs": [
    {
     "name": "stderr",
     "output_type": "stream",
     "text": [
      "/home/magnusterra/anaconda3/lib/python3.6/site-packages/sklearn/cross_validation.py:41: DeprecationWarning: This module was deprecated in version 0.18 in favor of the model_selection module into which all the refactored classes and functions are moved. Also note that the interface of the new CV iterators are different from that of this module. This module will be removed in 0.20.\n",
      "  \"This module will be removed in 0.20.\", DeprecationWarning)\n",
      "/home/magnusterra/anaconda3/lib/python3.6/site-packages/sklearn/grid_search.py:42: DeprecationWarning: This module was deprecated in version 0.18 in favor of the model_selection module into which all the refactored classes and functions are moved. This module will be removed in 0.20.\n",
      "  DeprecationWarning)\n"
     ]
    }
   ],
   "source": [
    "from sklearn.ensemble import BaggingRegressor\n",
    "from sklearn.linear_model import LinearRegression\n",
    "from xgboost import XGBRegressor\n",
    "import matplotlib.pyplot as plt\n",
    "from sklearn.cross_validation import train_test_split\n",
    "from sklearn.grid_search import GridSearchCV "
   ]
  },
  {
   "cell_type": "code",
   "execution_count": 129,
   "metadata": {
    "collapsed": true
   },
   "outputs": [],
   "source": [
    "from sklearn.model_selection import KFold \n",
    "kf = KFold(n_splits=5, random_state=2018)\n",
    "def get_oof(rgr, xtrain, ytrain, xtest, lenot):\n",
    "    oof_train = np.zeros((lenot,))\n",
    "    oof_test = np.zeros((100,))\n",
    "    oof_test_skf = np.empty((5, 100))\n",
    "    for i, (train_index, test_index) in enumerate(kf.split(xtrain)):\n",
    "        kf_xtrain = xtrain[train_index]\n",
    "        kf_ytrain = ytrain[train_index]\n",
    "        kf_xtest = xtrain[test_index]\n",
    "        rgr.fit(kf_xtrain, kf_ytrain)\n",
    "        oof_train[test_index] = rgr.predict(kf_xtest)\n",
    "        oof_test_skf[i, : ] = rgr.predict(xtest)\n",
    "    oof_test[:] = oof_test_skf.mean(axis=0)\n",
    "    return oof_train.reshape(-1,1), oof_test.reshape(-1,1)"
   ]
  },
  {
   "cell_type": "code",
   "execution_count": 133,
   "metadata": {},
   "outputs": [
    {
     "name": "stdout",
     "output_type": "stream",
     "text": [
      "0.0140775828022\n",
      "0.0162722881064\n",
      "0.0157576963807\n",
      "0.0157930865537\n",
      "0.0175288975703\n",
      "0.0143442341802\n",
      "0.0147937722934\n",
      "0.0177007394468\n",
      "0.0142873003574\n",
      "0.0142810936274\n",
      "0.0176986590439\n",
      "0.0170469584837\n",
      "0.0144865276584\n",
      "0.0130680889734\n",
      "0.0146767355855\n",
      "0.0158163673939\n",
      "0.0153371844377\n",
      "0.0141781989293\n",
      "0.0149454859026\n",
      "0.0169967768729\n",
      "0.0138960279221\n",
      "0.0143698433324\n",
      "0.0142014679414\n",
      "0.0155924670119\n",
      "0.0174913086677\n",
      "0.017304887269\n",
      "0.0163589933766\n",
      "0.0159542710627\n",
      "0.0164929544261\n",
      "0.0142850292977\n",
      "0.0143974287415\n",
      "0.0137858842446\n",
      "0.0150906107322\n",
      "0.0145239098712\n",
      "0.0149688219586\n",
      "0.0160866353539\n",
      "0.0144060506487\n",
      "0.0137982331628\n",
      "0.0189909777617\n",
      "0.0154209124015\n",
      "0.0139608663693\n",
      "0.0166219228321\n",
      "0.0146333122587\n",
      "0.0152819633443\n",
      "0.0133865141115\n",
      "0.0139790219608\n",
      "0.0166056673428\n",
      "0.0153375667858\n",
      "0.0162433063228\n",
      "0.0148615283697\n",
      "0.0151181074533\n",
      "0.0142808661049\n",
      "0.018548214727\n",
      "0.0153173837053\n",
      "0.0153667055192\n",
      "0.0142125828591\n",
      "0.014495643167\n",
      "0.0158257940129\n",
      "0.0141263023515\n",
      "0.0149410601663\n",
      "0.0172061401029\n",
      "0.0154194219879\n",
      "0.0136516922938\n",
      "0.0167036218813\n",
      "0.012349571135\n",
      "0.0156778696394\n",
      "0.015706258173\n",
      "0.0151243992629\n",
      "0.0146529948232\n",
      "0.0139284513669\n",
      "0.0153338523582\n",
      "0.0142702447819\n",
      "0.0155147378971\n",
      "0.0170815633979\n",
      "0.0142550912508\n",
      "0.0172487147768\n",
      "0.0150878664592\n",
      "0.0183262668795\n",
      "0.0145372562727\n",
      "0.0129150426102\n",
      "0.0151325681116\n",
      "0.0143464109658\n",
      "0.0135257962581\n",
      "0.0200562996029\n",
      "0.0161778112227\n",
      "0.0149398589166\n",
      "0.0163406911564\n",
      "0.0127344887492\n",
      "0.0156349159507\n",
      "0.0145829590542\n",
      "0.0169851940033\n",
      "0.0145020545873\n",
      "0.0139588408893\n",
      "0.019381340446\n",
      "0.0155485561441\n",
      "0.0150273801668\n",
      "0.0133117788475\n",
      "0.0155342208614\n",
      "0.0175451798328\n",
      "0.0158016436057\n",
      "0.0153570776627 0.00145957896183 0.0200562996029 0.012349571135\n"
     ]
    }
   ],
   "source": [
    "results = []\n",
    "for i in range(100):\n",
    "    subxtrain, subxval, subytrain, subyval = train_test_split(dfx[:799].values, train_y.values, test_size=0.3, random_state=i)\n",
    "    \n",
    "    xgb = XGBRegressor()\n",
    "    xgb.fit(subxtrain, subytrain)\n",
    "    test1_pred = xgb.predict(subxval)\n",
    "    t = MSE(test1_pred, subyval)\n",
    "    print(t)\n",
    "    results.append(t)\n",
    "print(np.mean(results), np.std(results), np.max(results), np.min(results))"
   ]
  },
  {
   "cell_type": "code",
   "execution_count": 134,
   "metadata": {},
   "outputs": [
    {
     "name": "stdout",
     "output_type": "stream",
     "text": [
      "0\n",
      "{'gamma': 1e-05, 'max_depth': 3, 'objective': 'reg:linear', 'subsample': 0.7}\n",
      "0.00220402847108 0.0139938318886\n",
      "1\n",
      "{'gamma': 0, 'max_depth': 4, 'objective': 'reg:linear', 'subsample': 0.7}\n",
      "0.000745347058362 0.0160090591259\n",
      "2\n",
      "{'gamma': 0.001, 'max_depth': 4, 'objective': 'reg:linear', 'subsample': 0.85}\n",
      "0.000565084303112 0.0155738197927\n",
      "3\n",
      "{'gamma': 0, 'max_depth': 4, 'objective': 'reg:gamma', 'subsample': 0.7}\n",
      "0.00108228563142 0.0156021520307\n",
      "4\n",
      "{'gamma': 0.01, 'max_depth': 4, 'objective': 'reg:linear', 'subsample': 0.85}\n",
      "0.000842858800184 0.0172494703048\n",
      "5\n",
      "{'gamma': 0, 'max_depth': 4, 'objective': 'reg:linear', 'subsample': 0.7}\n",
      "0.000764109171661 0.0151466061694\n",
      "6\n",
      "{'gamma': 0.001, 'max_depth': 4, 'objective': 'reg:linear', 'subsample': 0.7}\n",
      "0.000744071492364 0.0155929200028\n",
      "7\n",
      "{'gamma': 1e-05, 'max_depth': 3, 'objective': 'reg:gamma', 'subsample': 0.7}\n",
      "0.00313350841439 0.0172977340745\n",
      "8\n",
      "{'gamma': 0.0001, 'max_depth': 3, 'objective': 'reg:linear', 'subsample': 0.7}\n",
      "0.00243513997888 0.0145070858317\n",
      "9\n",
      "{'gamma': 0.001, 'max_depth': 3, 'objective': 'reg:linear', 'subsample': 0.85}\n",
      "0.0021381511562 0.014510270263\n",
      "10\n",
      "{'gamma': 0.01, 'max_depth': 3, 'objective': 'reg:linear', 'subsample': 0.85}\n",
      "0.00221167327852 0.0174072869405\n",
      "11\n",
      "{'gamma': 0.0001, 'max_depth': 3, 'objective': 'reg:linear', 'subsample': 0.85}\n",
      "0.00203315578521 0.0161519947565\n",
      "12\n",
      "{'gamma': 0.001, 'max_depth': 4, 'objective': 'reg:gamma', 'subsample': 0.7}\n",
      "0.00126765193808 0.0149294792288\n",
      "13\n",
      "{'gamma': 0.0001, 'max_depth': 4, 'objective': 'reg:linear', 'subsample': 0.85}\n",
      "0.000720159849362 0.0133706047597\n",
      "14\n",
      "{'gamma': 0.001, 'max_depth': 4, 'objective': 'reg:gamma', 'subsample': 0.7}\n",
      "0.0012981726599 0.0141742912618\n",
      "15\n",
      "{'gamma': 0.01, 'max_depth': 3, 'objective': 'reg:linear', 'subsample': 0.85}\n",
      "0.00238073044763 0.0146246017754\n",
      "16\n",
      "{'gamma': 0.0001, 'max_depth': 4, 'objective': 'reg:gamma', 'subsample': 0.7}\n",
      "0.00152187579883 0.0149953032554\n",
      "17\n",
      "{'gamma': 0, 'max_depth': 4, 'objective': 'reg:gamma', 'subsample': 0.85}\n",
      "0.00118402186196 0.0143617338486\n",
      "18\n",
      "{'gamma': 0.01, 'max_depth': 4, 'objective': 'reg:linear', 'subsample': 0.85}\n",
      "0.000932663353601 0.0135849194753\n",
      "19\n",
      "{'gamma': 0.001, 'max_depth': 4, 'objective': 'reg:linear', 'subsample': 0.85}\n",
      "0.000620830469411 0.0161893356229\n",
      "20\n",
      "{'gamma': 0, 'max_depth': 3, 'objective': 'reg:linear', 'subsample': 0.85}\n",
      "0.00234783174128 0.0127931500635\n",
      "21\n",
      "{'gamma': 0.001, 'max_depth': 5, 'objective': 'reg:gamma', 'subsample': 0.7}\n",
      "0.000760682021397 0.0138213282702\n",
      "22\n",
      "{'gamma': 1e-05, 'max_depth': 4, 'objective': 'reg:gamma', 'subsample': 0.7}\n",
      "0.00133553330528 0.0143115797843\n",
      "23\n",
      "{'gamma': 0.001, 'max_depth': 4, 'objective': 'reg:gamma', 'subsample': 0.7}\n",
      "0.00117613745802 0.016063701697\n",
      "24\n",
      "{'gamma': 1e-05, 'max_depth': 4, 'objective': 'reg:linear', 'subsample': 0.85}\n",
      "0.000580358799725 0.0163309677146\n",
      "25\n",
      "{'gamma': 0.01, 'max_depth': 3, 'objective': 'reg:linear', 'subsample': 0.85}\n",
      "0.00222363257167 0.0172541728894\n",
      "26\n",
      "{'gamma': 0.001, 'max_depth': 4, 'objective': 'reg:gamma', 'subsample': 0.7}\n",
      "0.00128538999569 0.0163748817584\n",
      "27\n",
      "{'gamma': 0, 'max_depth': 4, 'objective': 'reg:gamma', 'subsample': 0.85}\n",
      "0.00113765451983 0.0159274445234\n",
      "28\n",
      "{'gamma': 1e-05, 'max_depth': 4, 'objective': 'reg:gamma', 'subsample': 0.85}\n",
      "0.0010982450004 0.0159037162771\n",
      "29\n",
      "{'gamma': 0, 'max_depth': 3, 'objective': 'reg:linear', 'subsample': 0.85}\n",
      "0.00212846375973 0.0148153082449\n",
      "30\n",
      "{'gamma': 0.01, 'max_depth': 4, 'objective': 'reg:linear', 'subsample': 0.85}\n",
      "0.000825230572352 0.0142852071449\n",
      "31\n",
      "{'gamma': 0.0001, 'max_depth': 4, 'objective': 'reg:linear', 'subsample': 0.7}\n",
      "0.000818977306705 0.0145721707201\n",
      "32\n",
      "{'gamma': 0.01, 'max_depth': 3, 'objective': 'reg:linear', 'subsample': 0.85}\n",
      "0.00226134373788 0.0155021423262\n",
      "33\n",
      "{'gamma': 0.01, 'max_depth': 3, 'objective': 'reg:linear', 'subsample': 0.85}\n",
      "0.00234434686612 0.0145269896643\n",
      "34\n",
      "{'gamma': 0, 'max_depth': 5, 'objective': 'reg:gamma', 'subsample': 0.7}\n",
      "0.000471285067511 0.0156930972981\n",
      "35\n",
      "{'gamma': 0.001, 'max_depth': 4, 'objective': 'reg:linear', 'subsample': 0.85}\n",
      "0.000598592438164 0.0159446303116\n",
      "36\n",
      "{'gamma': 1e-05, 'max_depth': 3, 'objective': 'reg:linear', 'subsample': 0.7}\n",
      "0.00225900868163 0.0138948891592\n",
      "37\n",
      "{'gamma': 0.001, 'max_depth': 3, 'objective': 'reg:linear', 'subsample': 0.85}\n",
      "0.00212874745606 0.0139711292938\n",
      "38\n",
      "{'gamma': 0.01, 'max_depth': 3, 'objective': 'reg:linear', 'subsample': 0.7}\n",
      "0.00212537503958 0.0184218162003\n",
      "39\n",
      "{'gamma': 1e-05, 'max_depth': 4, 'objective': 'reg:linear', 'subsample': 0.85}\n",
      "0.000595577921653 0.0169933035364\n",
      "40\n",
      "{'gamma': 0.01, 'max_depth': 3, 'objective': 'reg:linear', 'subsample': 0.85}\n",
      "0.00216900265724 0.0154631992408\n",
      "41\n",
      "{'gamma': 0.001, 'max_depth': 5, 'objective': 'reg:gamma', 'subsample': 0.85}\n",
      "0.000633594038923 0.0170352919414\n",
      "42\n",
      "{'gamma': 0, 'max_depth': 4, 'objective': 'reg:linear', 'subsample': 0.85}\n",
      "0.000569317938297 0.0139151830805\n",
      "43\n",
      "{'gamma': 0.0001, 'max_depth': 3, 'objective': 'reg:linear', 'subsample': 0.85}\n",
      "0.00229489680092 0.0152595025364\n",
      "44\n",
      "{'gamma': 0.0001, 'max_depth': 4, 'objective': 'reg:gamma', 'subsample': 0.85}\n",
      "0.00111640851743 0.0142166950406\n",
      "45\n",
      "{'gamma': 0.01, 'max_depth': 4, 'objective': 'reg:linear', 'subsample': 0.85}\n",
      "0.000966064910833 0.0138792070914\n",
      "46\n",
      "{'gamma': 0.001, 'max_depth': 3, 'objective': 'reg:gamma', 'subsample': 0.7}\n",
      "0.00332059066219 0.0163573003371\n",
      "47\n",
      "{'gamma': 0.01, 'max_depth': 3, 'objective': 'reg:linear', 'subsample': 0.7}\n",
      "0.00224657159344 0.0141178147267\n",
      "48\n",
      "{'gamma': 0.001, 'max_depth': 4, 'objective': 'reg:linear', 'subsample': 0.7}\n",
      "0.000669453129348 0.0166410700364\n",
      "49\n",
      "{'gamma': 0.01, 'max_depth': 4, 'objective': 'reg:linear', 'subsample': 0.7}\n",
      "0.000935518304926 0.0151231482444\n",
      "50\n",
      "{'gamma': 0.01, 'max_depth': 4, 'objective': 'reg:linear', 'subsample': 0.85}\n",
      "0.000903131391101 0.0154861353449\n",
      "51\n",
      "{'gamma': 1e-05, 'max_depth': 4, 'objective': 'reg:linear', 'subsample': 0.85}\n",
      "0.000704331292021 0.0130269199354\n",
      "52\n",
      "{'gamma': 0.01, 'max_depth': 3, 'objective': 'reg:linear', 'subsample': 0.7}\n",
      "0.00254359292136 0.0165885167609\n",
      "53\n",
      "{'gamma': 0.001, 'max_depth': 4, 'objective': 'reg:gamma', 'subsample': 0.7}\n",
      "0.00138384687902 0.0169917160992\n",
      "54\n",
      "{'gamma': 0.001, 'max_depth': 4, 'objective': 'reg:linear', 'subsample': 0.85}\n",
      "0.000724399333668 0.0149531647924\n",
      "55\n",
      "{'gamma': 0.01, 'max_depth': 3, 'objective': 'reg:linear', 'subsample': 0.85}\n",
      "0.00224769565264 0.0155284438618\n",
      "56\n",
      "{'gamma': 0, 'max_depth': 4, 'objective': 'reg:gamma', 'subsample': 0.85}\n",
      "0.000974848596876 0.0158615121451\n",
      "57\n",
      "{'gamma': 0.001, 'max_depth': 3, 'objective': 'reg:gamma', 'subsample': 0.85}\n",
      "0.00303593369882 0.0158807200408\n",
      "58\n",
      "{'gamma': 0.0001, 'max_depth': 4, 'objective': 'reg:gamma', 'subsample': 0.85}\n",
      "0.00114892226093 0.0141542785181\n",
      "59\n",
      "{'gamma': 0.01, 'max_depth': 3, 'objective': 'reg:linear', 'subsample': 0.85}\n",
      "0.00225488326148 0.0164052670264\n",
      "60\n",
      "{'gamma': 0.01, 'max_depth': 3, 'objective': 'reg:linear', 'subsample': 0.7}\n",
      "0.00221518522515 0.0171409599951\n",
      "61\n",
      "{'gamma': 0.001, 'max_depth': 3, 'objective': 'reg:linear', 'subsample': 0.7}\n",
      "0.00238778796377 0.0158104403671\n",
      "62\n",
      "{'gamma': 0, 'max_depth': 2, 'objective': 'reg:linear', 'subsample': 0.7}\n",
      "0.00637472837264 0.0151493381195\n",
      "63\n",
      "{'gamma': 0.01, 'max_depth': 3, 'objective': 'reg:linear', 'subsample': 0.7}\n",
      "0.00228097956053 0.0153641059419\n",
      "64\n",
      "{'gamma': 0.001, 'max_depth': 4, 'objective': 'reg:gamma', 'subsample': 0.85}\n",
      "0.00133254473163 0.0134024809762\n",
      "65\n",
      "{'gamma': 1e-05, 'max_depth': 5, 'objective': 'reg:linear', 'subsample': 0.85}\n",
      "0.000175300356303 0.0157521646136\n",
      "66\n",
      "{'gamma': 0.01, 'max_depth': 4, 'objective': 'reg:linear', 'subsample': 0.85}\n",
      "0.000901182837914 0.0148159120607\n",
      "67\n",
      "{'gamma': 0, 'max_depth': 3, 'objective': 'reg:gamma', 'subsample': 0.7}\n",
      "0.00311551130827 0.0161851395207\n",
      "68\n",
      "{'gamma': 0, 'max_depth': 3, 'objective': 'reg:linear', 'subsample': 0.85}\n",
      "0.00216704283469 0.0147586777618\n",
      "69\n",
      "{'gamma': 0.01, 'max_depth': 3, 'objective': 'reg:linear', 'subsample': 0.7}\n",
      "0.00246148542834 0.0149220009899\n",
      "70\n",
      "{'gamma': 0.001, 'max_depth': 3, 'objective': 'reg:linear', 'subsample': 0.7}\n",
      "0.00210392299511 0.0166189480798\n",
      "71\n",
      "{'gamma': 0.001, 'max_depth': 5, 'objective': 'reg:linear', 'subsample': 0.85}\n",
      "0.000161783321968 0.0151786119741\n",
      "72\n",
      "{'gamma': 0.001, 'max_depth': 3, 'objective': 'reg:linear', 'subsample': 0.7}\n",
      "0.00259070705889 0.0149745313248\n"
     ]
    },
    {
     "name": "stdout",
     "output_type": "stream",
     "text": [
      "73\n",
      "{'gamma': 1e-05, 'max_depth': 4, 'objective': 'reg:linear', 'subsample': 0.7}\n",
      "0.000657231951208 0.0160219017833\n",
      "74\n",
      "{'gamma': 0.01, 'max_depth': 3, 'objective': 'reg:linear', 'subsample': 0.85}\n",
      "0.00242225228423 0.014104301852\n",
      "75\n",
      "{'gamma': 0.001, 'max_depth': 4, 'objective': 'reg:gamma', 'subsample': 0.85}\n",
      "0.00106836422863 0.0162521697343\n",
      "76\n",
      "{'gamma': 0.0001, 'max_depth': 3, 'objective': 'reg:gamma', 'subsample': 0.7}\n",
      "0.00335931179849 0.0153851807936\n",
      "77\n",
      "{'gamma': 0.001, 'max_depth': 3, 'objective': 'reg:linear', 'subsample': 0.7}\n",
      "0.00203983949881 0.0165334080719\n",
      "78\n",
      "{'gamma': 0.01, 'max_depth': 2, 'objective': 'reg:linear', 'subsample': 0.7}\n",
      "0.0068174665483 0.0142129615243\n",
      "79\n",
      "{'gamma': 0.001, 'max_depth': 4, 'objective': 'reg:linear', 'subsample': 0.85}\n",
      "0.000646154222638 0.0128591446091\n",
      "80\n",
      "{'gamma': 0.0001, 'max_depth': 4, 'objective': 'reg:linear', 'subsample': 0.85}\n",
      "0.000675933544007 0.014912583191\n",
      "81\n",
      "{'gamma': 0.001, 'max_depth': 3, 'objective': 'reg:linear', 'subsample': 0.85}\n",
      "0.00239017218428 0.0128939068217\n",
      "82\n",
      "{'gamma': 0.01, 'max_depth': 3, 'objective': 'reg:linear', 'subsample': 0.85}\n",
      "0.00226262419993 0.0143346919288\n",
      "83\n",
      "{'gamma': 0.0001, 'max_depth': 4, 'objective': 'reg:gamma', 'subsample': 0.7}\n",
      "0.00115407340606 0.0198848834256\n",
      "84\n",
      "{'gamma': 0.0001, 'max_depth': 3, 'objective': 'reg:linear', 'subsample': 0.85}\n",
      "0.0021229940797 0.0168294623438\n",
      "85\n",
      "{'gamma': 0.001, 'max_depth': 2, 'objective': 'reg:linear', 'subsample': 0.85}\n",
      "0.00604604759585 0.0159515709065\n",
      "86\n",
      "{'gamma': 0.01, 'max_depth': 3, 'objective': 'reg:linear', 'subsample': 0.85}\n",
      "0.00241492889545 0.0168179684043\n",
      "87\n",
      "{'gamma': 0.01, 'max_depth': 4, 'objective': 'reg:linear', 'subsample': 0.85}\n",
      "0.000856189088303 0.0122371332025\n",
      "88\n",
      "{'gamma': 0.01, 'max_depth': 3, 'objective': 'reg:linear', 'subsample': 0.85}\n",
      "0.00242613672053 0.0180230261555\n",
      "89\n",
      "{'gamma': 0.001, 'max_depth': 2, 'objective': 'reg:linear', 'subsample': 0.85}\n",
      "0.00617329669971 0.0159741905482\n",
      "90\n",
      "{'gamma': 0.0001, 'max_depth': 3, 'objective': 'reg:linear', 'subsample': 0.85}\n",
      "0.00223719773936 0.0169892597015\n",
      "91\n",
      "{'gamma': 0.001, 'max_depth': 4, 'objective': 'reg:linear', 'subsample': 0.7}\n",
      "0.000753745484645 0.0145765439195\n",
      "92\n",
      "{'gamma': 0, 'max_depth': 5, 'objective': 'reg:linear', 'subsample': 0.85}\n",
      "0.000141124305375 0.0153640422836\n",
      "93\n",
      "{'gamma': 1e-05, 'max_depth': 3, 'objective': 'reg:linear', 'subsample': 0.85}\n",
      "0.00192686042007 0.0217545948112\n",
      "94\n",
      "{'gamma': 0.01, 'max_depth': 4, 'objective': 'reg:linear', 'subsample': 0.7}\n",
      "0.000912442766572 0.0148361303661\n",
      "95\n",
      "{'gamma': 0.0001, 'max_depth': 3, 'objective': 'reg:linear', 'subsample': 0.7}\n",
      "0.00229927890934 0.0146844890889\n",
      "96\n",
      "{'gamma': 0.0001, 'max_depth': 4, 'objective': 'reg:gamma', 'subsample': 0.7}\n",
      "0.0012334139499 0.0131422697798\n",
      "97\n",
      "{'gamma': 0.0001, 'max_depth': 4, 'objective': 'reg:linear', 'subsample': 0.7}\n",
      "0.000671611034668 0.0169002370815\n",
      "98\n",
      "{'gamma': 0.01, 'max_depth': 3, 'objective': 'reg:linear', 'subsample': 0.7}\n",
      "0.00223448287766 0.0176530333188\n",
      "99\n",
      "{'gamma': 0, 'max_depth': 3, 'objective': 'reg:linear', 'subsample': 0.7}\n",
      "0.00243552206508 0.0157687054648\n",
      "----------------------------------\n",
      "{'gamma': 0.1, 'max_depth': 2, 'objective': 'reg:linear', 'subsample': 0.7}\n",
      "0.00765140382137\n"
     ]
    }
   ],
   "source": [
    "tuned_parameters = {'objective':['reg:linear', 'reg:gamma'], 'max_depth':[1,2,3,4, 5],\n",
    "                    'gamma':[0, 1e-5, 1e-4, 1e-3, 1e-2,  1e-1], 'subsample':[0.85, 0.7]}\n",
    "\n",
    "for i in range(100):\n",
    "    subxtrain, subxval, subytrain, subyval = train_test_split(dfx[:799].values, train_y.values, test_size=0.3, random_state=i)\n",
    "    \n",
    "    clf = GridSearchCV(estimator =XGBRegressor(), param_grid =tuned_parameters, cv=5, scoring='neg_mean_squared_error')\n",
    "    clf.fit(subxtrain, subytrain)\n",
    "    print(i)\n",
    "    print(clf.best_params_)  \n",
    "    y_pred1 = clf.predict(subxtrain)\n",
    "    mse1 = MSE(y_pred1, subytrain)\n",
    "    y_pred2 = clf.predict(subxval)\n",
    "    mse2 = MSE(subyval, y_pred2)\n",
    "    print(mse1, mse2)\n",
    "print(\"----------------------------------\")\n",
    "clf = GridSearchCV(estimator =XGBRegressor(), param_grid =tuned_parameters, cv=5, scoring='neg_mean_squared_error')\n",
    "clf.fit(dfx[:799].values, train_y.values)\n",
    "print(clf.best_params_)  \n",
    "y_pred1 = clf.predict(dfx[:799].values)\n",
    "print(MSE(y_pred1, train_y.values))"
   ]
  },
  {
   "cell_type": "code",
   "execution_count": 155,
   "metadata": {},
   "outputs": [
    {
     "name": "stdout",
     "output_type": "stream",
     "text": [
      "0.00765140382137\n"
     ]
    }
   ],
   "source": [
    "xgb = XGBRegressor(gamma=0.1, max_depth=2, objective='reg:linear', subsample=0.7)\n",
    "xgb.fit(dfx[:799].values, train_y.values)\n",
    "test1_pred = xgb.predict(dfx[:799].values)\n",
    "print(MSE(test1_pred, train_y.values))\n",
    "test1_pred = xgb.predict(dfx[800:1100].values)\n",
    "test1_pred = test1_pred.reshape(300)\n",
    "save = pd.DataFrame({'ID':test1_id, 'value':test1_pred})\n",
    "save.to_csv('answer/Synchronous_timeappend_logohtime_xgb_20180125.csv', index=False, header=False)"
   ]
  },
  {
   "cell_type": "code",
   "execution_count": 135,
   "metadata": {
    "collapsed": true
   },
   "outputs": [],
   "source": [
    "names = dfx_log1p.columns"
   ]
  },
  {
   "cell_type": "code",
   "execution_count": 177,
   "metadata": {},
   "outputs": [
    {
     "data": {
      "image/png": "[encoded data removed]",
      "text/plain": [
       "<matplotlib.figure.Figure at 0x7f3e297ada20>"
      ]
     },
     "metadata": {},
     "output_type": "display_data"
    }
   ],
   "source": [
    "tmpc = dfx_float[names[100]].values\n",
    "tmpc = np.sort(tmpc)\n",
    "plt.plot(np.arange(len(tmpc)),tmpc)\n",
    "plt.show()"
   ]
  },
  {
   "cell_type": "code",
   "execution_count": 185,
   "metadata": {},
   "outputs": [
    {
     "name": "stdout",
     "output_type": "stream",
     "text": [
      "210X1 too low minimum 88.53 0.04\n",
      "210X2 too low minimum 0.311 0.001\n",
      "210X4 too low minimum 0.504 0.002\n",
      "210X4 too high maximum 0.189 0.003\n",
      "210X5 too low minimum 23.68 0.16\n",
      "210X10 too low minimum 22.4 0.1\n",
      "210X12 too low minimum 0.32 0.004\n",
      "210X13 too low minimum 0.063 0.005\n",
      "210X14 too low minimum 0.063 0.001\n",
      "210X14 too high maximum 0.281 0.001\n",
      "210X15 too low minimum 0.069 0.001\n",
      "210X16 too low minimum 0.063 0.001\n",
      "210X18 [ 0.398  0.4  ]\n",
      "210X20 too low minimum 12.8 0.1\n",
      "210X23 too low minimum 12.6 0.2\n",
      "210X24 too low minimum 3906393664.0 6391.0\n",
      "210X24 too high maximum 2029009.0 2490.0\n",
      "210X25 too low minimum 0.669 0.001\n",
      "210X26 too low minimum 0.663 0.001\n",
      "210X30 [ 0.     0.001]\n",
      "210X34 too low minimum 0.064 0.001\n",
      "210X35 too low minimum 0.066 0.001\n",
      "210X39 too low minimum 37.96 0.13\n",
      "210X40 too low minimum 0.239 0.003\n",
      "210X42 too low minimum 0.416 0.001\n",
      "210X43 too low minimum 0.414 0.001\n",
      "210X44 too low minimum 0.925 0.001\n",
      "210X45 too low minimum 0.912 0.001\n",
      "210X45 too high maximum 0.122 0.004\n",
      "210X46 too low minimum 0.925 0.001\n",
      "210X47 too low minimum 0.913 0.001\n",
      "210X48 too low minimum 0.484 0.001\n",
      "210X49 too low minimum 0.488 0.001\n",
      "210X50 too low minimum 0.485 0.001\n",
      "210X51 too low minimum 0.49 0.001\n",
      "210X52 too low minimum 0.557 0.004\n",
      "210X53 too low minimum 0.465 0.001\n",
      "210X54 too low minimum 0.462 0.001\n",
      "210X55 too low minimum 0.465 0.001\n",
      "210X56 too low minimum 0.463 0.001\n",
      "210X58 too high maximum 0.226 0.008\n",
      "210X61 too low minimum 0.874 0.001\n",
      "210X62 too low minimum 0.866 0.001\n",
      "210X63 too low minimum 0.873 0.002\n",
      "210X64 too low minimum 0.867 0.001\n",
      "210X68 [ 0.     0.001  0.002]\n",
      "210X69 too low minimum 0.378 0.009\n",
      "210X70 too low minimum 0.386 0.001\n",
      "210X70 too high maximum 0.167 0.001\n",
      "210X71 too low minimum 0.388 0.001\n",
      "210X72 too low minimum 0.388 0.001\n",
      "210X90 too low minimum 0.15 0.01\n",
      "210X91 too low minimum 0.1 0.01\n",
      "210X92 too low minimum 134.8 0.1\n",
      "210X93 too low minimum 134.8 0.1\n",
      "210X94 too low minimum 36.1 0.1\n",
      "210X95 too low minimum 37.8 0.1\n",
      "210X96 too low minimum 961.6 0.1\n",
      "210X97 too high maximum 0.08 0.01\n",
      "210X100 too low minimum 968.6 0.3\n",
      "210X101 too low minimum 1998.9 0.0999999999999\n",
      "210X101 too high maximum 1.0 0.0999999999999\n",
      "210X102 too low minimum 1.59 0.01\n",
      "210X104 too low minimum 5720.8 0.4\n",
      "210X106 too low minimum 5726.0 0.1\n",
      "210X108 too low minimum 38.9 0.1\n",
      "210X109 [ 0.   0.1]\n",
      "210X110 too low minimum 38.9 0.1\n",
      "210X115 too low minimum 0.145 0.005\n",
      "210X116 too low minimum 0.465 0.001\n",
      "210X122 too low minimum 0.465 0.001\n",
      "210X123 too low minimum 0.463 0.001\n",
      "210X128 too low minimum 0.669 0.001\n",
      "210X129 too low minimum 0.665 0.001\n",
      "210X129 too high maximum 0.082 0.002\n",
      "210X130 too low minimum 0.873 0.002\n",
      "210X130 too high maximum 0.162 0.002\n",
      "210X131 too low minimum 0.865 0.001\n",
      "210X132 too low minimum 64.945 0.1\n",
      "210X136 too low minimum 0.873 0.002\n",
      "210X137 too low minimum 0.867 0.001\n",
      "210X142 too low minimum 0.935 0.065\n",
      "210X143 too low minimum 1.095 0.035\n",
      "210X146 too low minimum 0.378 0.005\n",
      "210X146 too high maximum 0.064 0.001\n",
      "210X147 too low minimum 0.386 0.001\n",
      "210X148 too low minimum 64.38 2.715\n",
      "210X150 too low minimum 69.495 0.02\n",
      "210X151 too low minimum 66.15 0.11\n",
      "210X154 too low minimum 0.55 0.001\n",
      "210X155 too low minimum 0.524 0.003\n",
      "210X158 too low minimum 0.029 0.001\n",
      "210X164 too low minimum 0.514 0.036\n",
      "210X165 too low minimum 0.524 0.002\n",
      "210X165 too high maximum 0.11 0.002\n",
      "210X174 too low minimum 0.554 0.002\n",
      "210X175 too low minimum 0.536 0.003\n",
      "210X176 too low minimum 0.029 0.001\n",
      "210X186 too low minimum 14431.9 439.6\n",
      "210X190 too low minimum 6.4 0.1\n",
      "210X200 too low minimum 0.668 0.001\n",
      "210X200 too high maximum 0.173 0.002\n",
      "210X201 too low minimum 0.663 0.001\n",
      "210X202 too low minimum 0.669 0.001\n",
      "210X203 too low minimum 0.663 0.001\n",
      "210X205 too low minimum 6375.0 723.0\n",
      "210X205 too high maximum 2028972.0 2508.0\n",
      "210X209 too low minimum 19.48 0.02\n",
      "210X210 too low minimum 1.115 0.003\n",
      "210X211 too low minimum 0.669 0.001\n",
      "210X212 too low minimum 0.663 0.001\n",
      "210X213 too high maximum 2024972.0 6508.0\n",
      "210X215 too low minimum 6334.0 764.0\n",
      "210X215 too high maximum 2028931.0 2548.0\n",
      "210X225 [ 0.      0.0225]\n",
      "220X10 too high maximum 0.133586 0.00777\n",
      "220X30 too low minimum 0.024 0.000999999999999\n",
      "220X31 too high maximum 0.208 0.013\n",
      "220X71 too low minimum 81247762.0 10288.0\n",
      "220X107 too low minimum 0.1 0.01\n",
      "220X112 too low minimum 0.191854 0.005572\n",
      "220X159 too high maximum 6.448125 0.016852\n",
      "220X160 too high maximum 0.516109 0.004208\n",
      "220X161 too high maximum 0.414365 0.004115\n",
      "220X175 too high maximum 0.059452 0.002121\n",
      "220X185 too low minimum 0.003453 0.00015\n",
      "220X186 too high maximum 0.003459 1.6e-05\n",
      "220X189 too low minimum 0.055566 0.003473\n",
      "220X198 [ 0.5  5. ]\n",
      "220X206 [ 0.5  1. ]\n",
      "300X2 too low minimum 49112.0 159.0\n",
      "300X3 too low minimum 49112.0 119.0\n",
      "300X4 too low minimum 49076.0 130.0\n",
      "300X6 too low minimum 49112.0 119.0\n",
      "300X7 too low minimum 49112.0 159.0\n",
      "300X9 too low minimum 49152.0 119.0\n",
      "300X10 too low minimum 49115.0 119.0\n",
      "300X13 too low minimum 49112.0 159.0\n",
      "300X14 too low minimum 49271.0 238.0\n",
      "300X16 [ 6.3  6.3]\n",
      "300X20 too low minimum 49190.0 84.0\n",
      "310X2 too low minimum 0.062123 0.000575\n",
      "310X2 too high maximum 0.051642 0.001725\n",
      "310X6 too high maximum 0.136504 0.00291\n",
      "310X27 too high maximum 0.018 0.002\n",
      "310X29 too high maximum 0.026 0.001\n",
      "310X31 too high maximum 0.024 0.000999999999999\n",
      "310X44 too high maximum 25.419515 0.092774\n",
      "310X96 too low minimum 0.11 0.01\n",
      "310X154 too high maximum 0.007953 3.3e-05\n",
      "310X161 too high maximum 0.074249 0.000676\n",
      "310X163 too low minimum 0.305169 0.000937\n",
      "310X164 too high maximum 0.074012 0.000928\n",
      "310X165 too high maximum 0.075787 0.001317\n",
      "310X166 too low minimum 0.001099 6.4e-05\n",
      "310X166 too high maximum 0.076865 1.3e-05\n",
      "310X168 too low minimum 0.003459 0.000127\n",
      "310X168 too high maximum 0.003511 8.6e-05\n",
      "310X170 too low minimum 0.003453 0.000182\n",
      "310X171 too low minimum 0.000167 2.2e-05\n",
      "310X176 too low minimum 0.055382 0.003462\n",
      "310X178 too low minimum 0.003465 0.000115\n",
      "310X180 too low minimum 0.003312 0.000163\n",
      "310X181 too low minimum 0.003473 2.7e-05\n",
      "310X181 too high maximum 0.003384 2.8e-05\n",
      "311X6 too low minimum 8544.0 135.0\n",
      "311X21 [ 1.          1.01128122  8.        ]\n",
      "311X29 too low minimum 0.886742171885 0.113257828115\n",
      "311X29 too high maximum 1.0 0.113257828115\n",
      "311X30 [ 300.          300.88341106  301.        ]\n",
      "311X32 [ 300.          300.82478348  301.        ]\n",
      "311X33 too high maximum 1.0 0.120586275816\n",
      "311X56 too low minimum 8505.0 175.0\n",
      "311X59 too low minimum 8504.0 136.0\n",
      "311X62 too high maximum 1.9 0.1\n",
      "311X64 too high maximum 1.9 0.1\n",
      "311X78 too low minimum 8544.0 135.0\n",
      "311X103 [ 0.          0.04743504  0.1       ]\n",
      "311X104 [ 0.          0.04410393  0.1       ]\n",
      "311X105 too low minimum 0.0894736842105 0.0105263157895\n",
      "311X105 too high maximum 0.1 0.0105263157895\n",
      "311X107 [ 0.          0.04743504  0.1       ]\n",
      "311X116 [ 29.9         29.97281812  30.        ]\n",
      "311X141 [ 1.3        1.3020986  1.31     ]\n",
      "311X142 too low minimum 0.00980679546966 0.000193204530345\n",
      "311X142 too high maximum 0.01 0.000193204530345\n",
      "311X151 [-0.1        -0.01952032  0.        ]\n",
      "311X152 [-0.1        -0.02538308  0.        ]\n",
      "311X154 [-0.1        -0.04823451  0.        ]\n",
      "311X163 too low minimum 8505.0 175.0\n",
      "311X164 too low minimum 8505.0 136.0\n",
      "311X171 too low minimum 8504.0 136.0\n",
      "340X24 too low minimum 1.7 0.2\n",
      "340X25 too low minimum 1.8 0.1\n",
      "340X37 [ 14.   15.   18.1]\n",
      "340X38 too low minimum 0.9 0.1\n",
      "340X38 too high maximum 3.1 0.1\n",
      "340X39 too low minimum 0.9 0.1\n",
      "340X39 too high maximum 3.1 0.1\n",
      "340X40 [ 14.   15.   18.2]\n",
      "340X46 too low minimum 1.5 0.1\n",
      "340X47 too low minimum 1.5 0.1\n",
      "340X113 [ 10.   10.1]\n",
      "340X115 [ 9.7  9.8  9.9]\n",
      "344X5 too low minimum 97.0 0.7\n",
      "344X6 too low minimum 25.0 1.3\n",
      "344X103 too low minimum 47.1 0.1\n",
      "344X114 too low minimum 4.0 0.1\n",
      "360X83 too low minimum 10.0 0.1\n",
      "360X115 too high maximum 1.33 0.01\n",
      "360X230 too low minimum 2.127 0.114\n",
      "360X241 too low minimum 2.1 0.074\n",
      "360X252 too low minimum 1.953 0.006\n",
      "360X252 too high maximum 0.192 0.025\n",
      "360X264 too low minimum 2.059 0.019\n",
      "360X264 too high maximum 0.073 0.009\n",
      "360X281 too low minimum 1.936 0.072\n",
      "360X370 too low minimum 6.811 0.342\n",
      "360X384 too low minimum 7.067 0.015\n",
      "360X396 too low minimum 7.12 0.184\n",
      "360X398 too low minimum 7.12 0.184\n",
      "360X404 too low minimum 7.053 0.239\n",
      "360X412 too high maximum 0.13 0.01\n",
      "360X429 too low minimum 7.168 0.808\n",
      "360X429 too high maximum 0.156 0.008\n",
      "360X437 too low minimum 6.366 0.839\n",
      "360X437 too high maximum 0.246 0.005\n",
      "360X445 too low minimum 0.08 0.01\n",
      "360X455 too low minimum 6.326 0.743\n",
      "360X455 too high maximum 0.195 0.001\n",
      "360X456 too low minimum 6.326 0.743\n",
      "360X456 too high maximum 0.195 0.001\n",
      "360X467 too low minimum 6.335 0.781\n",
      "360X478 too low minimum 6.307 0.767\n",
      "360X488 too low minimum 6.377 0.839\n",
      "360X488 too high maximum 0.103 0.008\n",
      "360X489 too low minimum 6.377 0.839\n",
      "360X489 too high maximum 0.103 0.008\n",
      "360X500 too high maximum 0.182 0.023\n",
      "360X528 too low minimum 6.266 0.746\n",
      "360X561 too low minimum 6.617 0.569\n",
      "360X574 too low minimum 6.655 0.586\n",
      "360X585 too low minimum 5.625 0.415\n",
      "360X595 too low minimum 4.099 0.428\n",
      "360X597 too low minimum 4.099 0.428\n",
      "360X655 too high maximum 0.423 0.009\n",
      "360X690 too high maximum 1.33 0.01\n",
      "360X735 too high maximum 0.13 0.01\n",
      "360X810 too high maximum 1.33 0.01\n",
      "360X812 too high maximum 1.33 0.01\n",
      "360X926 [  5.1  19.9  20. ]\n"
     ]
    },
    {
     "name": "stdout",
     "output_type": "stream",
     "text": [
      "360X1051 too high maximum 0.9 0.1\n",
      "360X1135 too low minimum 10.0 0.1\n",
      "360X1160 [  5.1  19.9  20. ]\n",
      "360X1276 too low minimum 10.0 0.1\n",
      "360X1356 too high maximum 38.9 0.3\n",
      "400X83 too high maximum 765064.0 1532.0\n",
      "400X84 too high maximum 765178.0 1394.0\n",
      "400X111 [ 0.          0.05981432  0.1       ]\n",
      "400X119 [ 5.1  5.1]\n",
      "400X121 [ 20.3        20.3306366  20.4      ]\n",
      "400X123 [ 20.2        20.2795756  20.3      ]\n",
      "400X125 [ 20.4  20.4]\n",
      "400X145 [ 2.09        2.09681698  2.1       ]\n",
      "400X146 [ 2.1         2.10442308  2.11      ]\n",
      "400X147 [ 2.09        2.09373342  2.1       ]\n",
      "400X148 too low minimum 0.01 0.000152519893856\n",
      "400X148 too high maximum 0.00984748010614 0.000152519893856\n",
      "400X150 [-0.1        -0.09980106  0.        ]\n",
      "400X151 [-0.1        -0.09025199  0.        ]\n",
      "400X152 [-0.1        -0.09005305  0.        ]\n",
      "400X153 [-0.2        -0.10046419 -0.1       ]\n",
      "400X154 [-0.1        -0.09980106  0.        ]\n",
      "400X156 [-0.1        -0.04834218  0.        ]\n",
      "400X157 [-0.1        -0.05072944  0.        ]\n",
      "400X160 [-0.1        -0.04774536  0.        ]\n",
      "400X183 [ 6.3  6.3]\n",
      "400X188 too low minimum 1.33521220159 0.0647877984083\n",
      "400X189 too low minimum 1.33521220159 0.0647877984077\n",
      "400X198 too low minimum 0.01 0.00131962864716\n",
      "400X204 [ 0.          4.71485411  5.        ]\n",
      "400X219 too high maximum 765178.0 1394.0\n",
      "400X227 [ 0.          0.00132626  1.        ]\n",
      "420X4 too high maximum 612.0 3.0\n",
      "420X29 [ 5.          6.99601064  7.        ]\n",
      "420X32 too high maximum 612.0 3.0\n",
      "420X34 [ 226.          226.23271277  227.        ]\n",
      "420X35 [ 226.          226.23138298  227.        ]\n",
      "420X36 [ 226.          226.36968085  227.        ]\n",
      "420X38 [ 226.          226.23670213  227.        ]\n",
      "420X87 too low minimum 2.66090425532 0.239095744681\n",
      "420X114 too low minimum 0.1 0.00478723404255\n",
      "420X115 too low minimum 0.1 0.000664893617021\n",
      "420X115 too high maximum 0.099335106383 0.000664893617021\n",
      "420X116 too high maximum 0.1 0.0122340425532\n",
      "420X118 too low minimum 0.1 0.00339095744681\n",
      "420X121 [ 0.          0.02992021  0.1       ]\n",
      "420X122 [ 0.          0.09700798  0.1       ]\n",
      "420X134 [ 0.          0.07426862  0.1       ]\n",
      "420X140 too low minimum 0.1 0.0110372340425\n",
      "420X140 too high maximum 0.0889627659575 0.0110372340425\n",
      "420X141 [ 15.9         15.93344415  16.        ]\n",
      "420X144 too low minimum 0.01 9.30851063374e-05\n",
      "420X144 too high maximum 0.00990691489366 9.30851063374e-05\n",
      "420X145 [ 1.59        1.59982713  1.6       ]\n",
      "420X147 [ 1.59        1.59709441  1.6       ]\n",
      "420X148 too low minimum 0.01 0.000106382978678\n",
      "420X148 too high maximum 0.00989361702132 0.000106382978678\n",
      "420X149 [ 1.6  1.6]\n",
      "420X159 [-0.1        -0.05033245  0.        ]\n",
      "420X160 [-0.1        -0.02859043  0.        ]\n",
      "420X188 too high maximum 2.3 0.1\n",
      "420X189 too high maximum 2.3 0.1\n",
      "420X205 too low minimum 44.0 5.0\n",
      "420X228 too high maximum 54.9135638298 6.08643617021\n",
      "440AX7 too high maximum 13.7 0.4\n",
      "440AX8 too high maximum 15.3 0.2\n",
      "440AX9 too high maximum 12.8 0.1\n",
      "440AX10 too high maximum 12.7 1.0\n",
      "440AX11 too high maximum 14.0 0.9\n",
      "440AX12 too high maximum 12.1 0.9\n",
      "440AX14 too high maximum 2.3 0.3\n",
      "440AX20 too high maximum 2.5 0.2\n",
      "440AX22 too low minimum 1.6 0.2\n",
      "440AX22 too high maximum 9.3 0.2\n",
      "440AX27 too high maximum 2.3 0.2\n",
      "440AX31 too low minimum 0.8 0.1\n",
      "440AX40 too high maximum 3.9 0.4\n",
      "440AX41 too high maximum 5.6 0.2\n",
      "440AX43 too high maximum 10.4 0.7\n",
      "440AX44 too high maximum 10.3 1.1\n",
      "440AX45 too high maximum 11.0 0.2\n",
      "440AX46 too high maximum 1.3 0.1\n",
      "440AX50 too low minimum 0.9 0.1\n",
      "440AX55 too high maximum 3.4 0.1\n",
      "440AX56 too high maximum 3.9 0.2\n",
      "440AX57 too high maximum 3.1 0.0999999999999\n",
      "440AX58 too high maximum 19.3 0.9\n",
      "440AX59 too high maximum 18.9 0.3\n",
      "440AX60 too high maximum 19.8 1.2\n",
      "440AX61 too high maximum 20.2 0.1\n",
      "440AX62 too low minimum 1.8 0.2\n",
      "440AX62 too high maximum 20.6 0.6\n",
      "440AX64 too high maximum 5.1 0.2\n",
      "440AX65 too high maximum 5.5 0.4\n",
      "440AX67 too high maximum 3.1 0.1\n",
      "440AX68 too high maximum 3.5 0.0999999999999\n",
      "440AX69 too high maximum 2.6 0.1\n",
      "440AX70 too high maximum 8.7 0.2\n",
      "440AX71 too high maximum 13.4 0.2\n",
      "440AX72 too high maximum 5.9 0.4\n",
      "440AX73 too high maximum 12.0 0.2\n",
      "440AX74 too high maximum 12.5 0.6\n",
      "440AX75 too high maximum 10.7 0.7\n",
      "440AX80 too high maximum 13.6 0.3\n",
      "440AX84 too high maximum 9.7 0.1\n",
      "440AX87 too high maximum 3.9 0.1\n",
      "440AX88 too high maximum 5.1 0.1\n",
      "440AX89 too high maximum 5.7 0.5\n",
      "440AX90 too high maximum 4.8 0.1\n",
      "440AX91 too high maximum 15.3 0.3\n",
      "440AX92 too high maximum 17.3 0.8\n",
      "440AX93 too high maximum 13.6 0.3\n",
      "440AX94 too high maximum 18.0 0.6\n",
      "440AX95 too low minimum 0.8 0.1\n",
      "440AX95 too high maximum 21.4 0.3\n",
      "440AX96 too high maximum 15.3 1.0\n",
      "440AX99 too high maximum 5.3 0.2\n",
      "440AX102 too high maximum 3.9 0.1\n",
      "440AX115 too high maximum 1.0 0.1\n",
      "440AX127 too high maximum 1.3 0.1\n",
      "440AX131 too high maximum 3.7 0.5\n",
      "440AX136 too high maximum 7.5 0.2\n",
      "440AX166 too high maximum 1.9 0.1\n",
      "440AX184 too high maximum 1.5 0.0999999999999\n",
      "440AX187 too high maximum 1.2 0.1\n",
      "440AX200 too high maximum 2.0 0.1\n",
      "520X11 [ 489.          490.95023537  493.        ]\n",
      "520X14 [ 489.          490.95023537  493.        ]\n",
      "520X19 [ 478.         481.4129119  485.       ]\n",
      "520X24 [ 487.          489.92535306  493.        ]\n",
      "520X29 [ 489.          490.46267653  492.        ]\n",
      "520X34 [ 490.          491.95023537  494.        ]\n",
      "520X39 [ 486.          487.95023537  490.        ]\n",
      "520X40 [ 489.          490.95023537  493.        ]\n",
      "520X44 [ 482.          482.48755884  483.        ]\n",
      "520X45 [ 489.          490.95023537  493.        ]\n",
      "520X49 [ 486.          488.04976463  490.        ]\n",
      "520X56 too low minimum 0.977807666443 0.0221923335575\n",
      "520X56 too high maximum 1.0 0.0221923335575\n",
      "520X59 [ 487.          487.97511769  489.        ]\n",
      "520X60 [ 478.         481.4129119  485.       ]\n",
      "520X64 [ 492.          492.51244116  493.        ]\n",
      "520X66 too low minimum 1.0 0.0188298587761\n",
      "520X67 too high maximum 1.0 0.0383322125084\n",
      "520X69 [ 485.          485.97511769  487.        ]\n",
      "520X74 [ 488.          488.97511769  490.        ]\n",
      "520X79 [ 493.          494.02488231  495.        ]\n",
      "520X80 [ 487.          489.92535306  493.        ]\n",
      "520X84 [ 488.          488.48755884  489.        ]\n",
      "520X86 too low minimum 0.99462004035 0.00537995965033\n",
      "520X89 [ 483.          483.97511769  485.        ]\n",
      "520X93 too high maximum 0.88231338265 0.11768661735\n",
      "520X94 [ 493.          493.48755884  494.        ]\n",
      "520X99 [ 485.          486.46267653  488.        ]\n",
      "520X100 [ 489.          490.46267653  492.        ]\n",
      "520X104 [ 492.          493.95023537  496.        ]\n",
      "520X109 [ 491.          492.46267653  494.        ]\n",
      "520X114 [ 495.          496.46267653  498.        ]\n",
      "520X117 [ 508.          508.51244116  509.        ]\n",
      "520X119 too low minimum 1.0 0.0726294552791\n",
      "520X119 too high maximum 0.927370544721 0.0726294552791\n",
      "520X120 [ 508.          508.51244116  509.        ]\n",
      "520X122 [ 508.          508.51244116  509.        ]\n",
      "520X125 [ 508.          508.51244116  509.        ]\n",
      "520X128 [ 505.          506.46267653  508.        ]\n",
      "520X132 [ 486.          487.95023537  490.        ]\n",
      "520X133 [ 505.          506.46267653  508.        ]\n",
      "520X143 too high maximum 78.0 8.0\n",
      "520X148 too low minimum 7542.0 450.0\n",
      "520X151 [ 508.          508.51244116  509.        ]\n",
      "520X152 too low minimum 7582.0 410.0\n",
      "520X166 too low minimum 0.1 0.0116232464931\n",
      "520X171 too low minimum 7581.0 418.0\n",
      "520X174 [  77.          116.50132626  125.        ]\n",
      "520X175 [ 4.          4.97995992  5.        ]\n",
      "520X178 too high maximum 78.0 8.0\n",
      "520X186 [ 21.          21.77087508  23.        ]\n",
      "520X187 [ 21.          21.77087508  23.        ]\n",
      "520X189 [ 21.          21.77087508  23.        ]\n",
      "520X190 [ 21.          21.77087508  23.        ]\n",
      "520X191 [ 21.          21.77087508  23.        ]\n",
      "520X192 [ 482.          482.48755884  483.        ]\n",
      "520X200 [ 495.          496.46267653  498.        ]\n",
      "520X215 [ 486.          488.04976463  490.        ]\n",
      "520X224 [ 493.          494.02488231  495.        ]\n",
      "520X225 too high maximum 1.0 0.0383322125084\n",
      "520X226 [ 488.          488.97511769  490.        ]\n",
      "520X227 [ 485.          485.97511769  487.        ]\n",
      "520X229 too low minimum 1.0 0.0188298587761\n",
      "520X247 [ 488.          488.48755884  489.        ]\n",
      "520X295 too low minimum 0.0921843687375 0.00781563126255\n",
      "520X318 too low minimum 0.01 0.000287241148932\n",
      "520X318 too high maximum 0.00971275885107 0.000287241148932\n",
      "520X322 [ 1.6  1.6]\n",
      "520X326 too low minimum 0.1 0.012959251837\n",
      "520X335 too high maximum 0.88231338265 0.11768661735\n",
      "520X361 [ 487.          487.97511769  489.        ]\n",
      "520X420 [ 491.          492.46267653  494.        ]\n",
      "750X3 too high maximum 1.1 0.1\n",
      "750X4 too high maximum 1.1 0.1\n",
      "750X6 too high maximum 1.1 0.1\n",
      "750X7 too high maximum 1.1 0.1\n",
      "750X9 too high maximum 1.1 0.1\n",
      "750X10 too high maximum 1.1 0.1\n",
      "750X14 [  9.9  10. ]\n",
      "750X15 [  9.9  10. ]\n"
     ]
    },
    {
     "name": "stdout",
     "output_type": "stream",
     "text": [
      "750X17 [  9.9  10. ]\n",
      "750X18 [  9.9  10. ]\n",
      "750X20 [  9.9  10. ]\n",
      "750X21 [  9.9  10. ]\n",
      "750X91 [ 4.   4.9  5. ]\n",
      "750X94 [ 4.   4.9  5. ]\n",
      "750X95 [ 4.   4.9  5. ]\n",
      "750X97 [ 4.   4.9  5. ]\n",
      "750X98 [ 4.   4.9  5. ]\n",
      "750X127 too high maximum 0.093 0.002\n",
      "750X162 too high maximum 0.14 0.00999999999999\n",
      "750X163 too high maximum 0.14 0.00999999999999\n",
      "750X173 too high maximum 0.14 0.00999999999999\n",
      "750X174 too high maximum 0.14 0.00999999999999\n",
      "750X184 too high maximum 0.14 0.00999999999999\n",
      "750X208 too high maximum 0.28 0.000999999999999\n",
      "750X281 too high maximum 0.093 0.006\n",
      "750X313 too high maximum 0.105 0.012\n",
      "750X318 too high maximum 0.114 0.004\n",
      "750X319 too high maximum 0.114 0.004\n",
      "750X334 too low minimum 0.35 0.01\n",
      "750X348 too low minimum 0.015 0.002\n",
      "750X368 too high maximum 0.24 0.02\n",
      "750X393 too high maximum 0.039 0.002\n",
      "750X400 too high maximum 0.24 0.02\n",
      "750X477 too low minimum 0.134 0.013\n",
      "750X478 too low minimum 0.134 0.013\n",
      "750X500 too high maximum 0.09 0.001\n",
      "750X518 too high maximum 1.3 0.1\n",
      "750X529 too high maximum 1.3 0.1\n",
      "750X540 too high maximum 1.3 0.1\n",
      "750X550 too low minimum 0.06 0.001\n",
      "750X619 too low minimum 0.27 0.01\n",
      "750X634 too low minimum 0.27 0.01\n",
      "750X642 too high maximum 0.34 0.01\n",
      "750X751 too high maximum 0.0089 2e-05\n",
      "750X763 too high maximum 0.199 0.005\n",
      "750X805 too low minimum 0.35 0.01\n",
      "750X821 too high maximum 0.14 0.00999999999999\n",
      "750X886 too low minimum 0.08 0.01\n",
      "750X888 too low minimum 0.08 0.01\n",
      "750X1259 too low minimum 0.27 0.01\n",
      "750X1268 too low minimum 0.28 0.01\n",
      "750X1279 [ 0.19  0.2 ]\n",
      "750X1364 too low minimum 1.0 0.01\n",
      "750X1376 too high maximum 1.3 0.1\n",
      "750X1429 too high maximum 0.199 0.005\n",
      "750X1451 too high maximum 0.0089 2e-05\n",
      "211 173 121\n"
     ]
    }
   ],
   "source": [
    "fixmin = []\n",
    "fixmax = []\n",
    "let3 = []\n",
    "for n in names:\n",
    "    fs = set(dfx_float[n])\n",
    "    fs = np.sort(list(fs))\n",
    "    if len(fs) <= 3:\n",
    "        print(n, fs)\n",
    "        let3.append(n)\n",
    "    elif len(fs) >3:\n",
    "        dmin1 = fs[1] - fs[0]\n",
    "        dmin2 = fs[2] - fs[1]\n",
    "        if dmin2 == 0 or dmin1/dmin2>7.389:\n",
    "            print(n, 'too low minimum', dmin1, dmin2)\n",
    "            fixmin.append(n)\n",
    "        dmax1 = fs[-1] - fs[-2]\n",
    "        dmax2 = fs[-2] - fs[-3]\n",
    "        if dmax2 == 0 or dmax1/dmax2>7.389:\n",
    "            print(n, 'too high maximum', dmax1, dmax2)\n",
    "            fixmax.append(n)\n",
    "print(len(fixmin), len(fixmax), len(let3))"
   ]
  },
  {
   "cell_type": "code",
   "execution_count": 183,
   "metadata": {
    "collapsed": true
   },
   "outputs": [],
   "source": [
    "# for the too low minimum: use fs[1]-fmin2 to replace f[0]\n",
    "# for the too high maximum: use fs[-2]+fmax2 to replace f[-1]\n",
    "# for the number of values <=3 : one_hot it"
   ]
  },
  {
   "cell_type": "code",
   "execution_count": null,
   "metadata": {
    "collapsed": true
   },
   "outputs": [],
   "source": []
  }
 ],
 "metadata": {
  "kernelspec": {
   "display_name": "Python 3",
   "language": "python",
   "name": "python3"
  },
  "language_info": {
   "codemirror_mode": {
    "name": "ipython",
    "version": 3
   },
   "file_extension": ".py",
   "mimetype": "text/x-python",
   "name": "python",
   "nbconvert_exporter": "python",
   "pygments_lexer": "ipython3",
   "version": "3.6.1"
  }
 },
 "nbformat": 4,
 "nbformat_minor": 2
}
