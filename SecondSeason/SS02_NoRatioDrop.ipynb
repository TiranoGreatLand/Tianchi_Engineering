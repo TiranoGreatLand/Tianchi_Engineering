{
 "cells": [
  {
   "cell_type": "code",
   "execution_count": 1,
   "metadata": {
    "collapsed": true
   },
   "outputs": [],
   "source": [
    "import numpy as np\n",
    "import pandas as pd\n",
    "import copy\n",
    "import matplotlib.pyplot as plt\n",
    "import seaborn as sns\n",
    "from sklearn import preprocessing"
   ]
  },
  {
   "cell_type": "code",
   "execution_count": 2,
   "metadata": {
    "collapsed": true
   },
   "outputs": [],
   "source": [
    "train_df = pd.read_excel(\"data/train.xlsx\")\n",
    "test1_df = pd.read_excel(\"data/testA.xlsx\")\n",
    "test2_df = pd.read_excel(\"data/testB.xlsx\")"
   ]
  },
  {
   "cell_type": "code",
   "execution_count": 3,
   "metadata": {},
   "outputs": [
    {
     "data": {
      "text/plain": [
       "(800,)"
      ]
     },
     "execution_count": 3,
     "metadata": {},
     "output_type": "execute_result"
    }
   ],
   "source": [
    "train_y = train_df[train_df.columns[-1]]\n",
    "train_y.shape"
   ]
  },
  {
   "cell_type": "code",
   "execution_count": 4,
   "metadata": {},
   "outputs": [
    {
     "data": {
      "text/plain": [
       "(799, 5954)"
      ]
     },
     "execution_count": 4,
     "metadata": {},
     "output_type": "execute_result"
    }
   ],
   "source": [
    "train_df = train_df[train_y>1.8]\n",
    "train_df.shape"
   ]
  },
  {
   "cell_type": "code",
   "execution_count": 5,
   "metadata": {},
   "outputs": [
    {
     "data": {
      "text/plain": [
       "(799,)"
      ]
     },
     "execution_count": 5,
     "metadata": {},
     "output_type": "execute_result"
    }
   ],
   "source": [
    "train_y = train_y[train_y>1.8]\n",
    "train_y.shape"
   ]
  },
  {
   "cell_type": "code",
   "execution_count": 6,
   "metadata": {
    "collapsed": true
   },
   "outputs": [],
   "source": [
    "new_column = test1_df.columns\n",
    "train_df = train_df[new_column]\n",
    "train_id = train_df['ID']\n",
    "test1_id = test1_df['ID']\n",
    "test2_id = test2_df['ID']\n",
    "train_df.drop(['ID'], axis=1, inplace=True)\n",
    "test1_df.drop(['ID'], axis=1, inplace=True)\n",
    "test2_df.drop(['ID'], axis=1, inplace=True)"
   ]
  },
  {
   "cell_type": "code",
   "execution_count": 7,
   "metadata": {
    "collapsed": true
   },
   "outputs": [],
   "source": [
    "names = train_df.columns\n",
    "dfs = train_df.dtypes"
   ]
  },
  {
   "cell_type": "code",
   "execution_count": 8,
   "metadata": {},
   "outputs": [
    {
     "name": "stdout",
     "output_type": "stream",
     "text": [
      "770\n",
      "45\n"
     ]
    }
   ],
   "source": [
    "# ints or strings\n",
    "ints = []\n",
    "year = []\n",
    "for i in range(len(names)):\n",
    "    if 'int' in str(dfs[i]) or 'object' in str(dfs[i]):\n",
    "        ints.append(names[i])\n",
    "print(len(ints))\n",
    "\n",
    "for n in ints:\n",
    "    if str(train_df[n][0])[:4] == '2017' and str(train_df[n][499])[:4] == '2017':\n",
    "        year.append(n)\n",
    "print(len(year))"
   ]
  },
  {
   "cell_type": "code",
   "execution_count": 9,
   "metadata": {
    "collapsed": true
   },
   "outputs": [],
   "source": [
    "df_X = pd.concat([train_df, test1_df, test2_df], axis=0)"
   ]
  },
  {
   "cell_type": "code",
   "execution_count": 10,
   "metadata": {
    "collapsed": true
   },
   "outputs": [],
   "source": [
    "dfx_year = df_X[year]"
   ]
  },
  {
   "cell_type": "code",
   "execution_count": 11,
   "metadata": {},
   "outputs": [
    {
     "name": "stdout",
     "output_type": "stream",
     "text": [
      "175 281 407 45\n"
     ]
    }
   ],
   "source": [
    "remains1 = []\n",
    "remains2 = []\n",
    "tobedrop = []\n",
    "\n",
    "for n in ints:\n",
    "    lu1 = len(train_df[n].unique())\n",
    "    lu2 = len(df_X[n].unique())\n",
    "    if lu1 < 10 and lu1 > 1:\n",
    "        remains1.append(n)\n",
    "    if lu2 < 10 and lu2 > 1:\n",
    "        remains2.append(n)\n",
    "    if lu1 != lu2:\n",
    "        tobedrop.append(n)\n",
    "    \n",
    "print(len(remains1), len(remains2), len(tobedrop), len(year))"
   ]
  },
  {
   "cell_type": "code",
   "execution_count": 12,
   "metadata": {},
   "outputs": [
    {
     "name": "stdout",
     "output_type": "stream",
     "text": [
      "84\n"
     ]
    }
   ],
   "source": [
    "toberemain = list(set(remains1) & set(remains2) - set(tobedrop))\n",
    "print(len(toberemain))"
   ]
  },
  {
   "cell_type": "code",
   "execution_count": 13,
   "metadata": {
    "collapsed": true
   },
   "outputs": [],
   "source": [
    "def dict2list(dic:dict):\n",
    "    ''' 将字典转化为列表 '''\n",
    "    keys = dic.keys()\n",
    "    vals = dic.values()\n",
    "    lst = [(key, val) for key, val in zip(keys, vals)]\n",
    "    return lst\n",
    "\n",
    "def LastRemainJudge(column):\n",
    "    unique = set(column)\n",
    "    uf = {}\n",
    "    for u in unique:\n",
    "        uf[u] = 0\n",
    "    for c in column:\n",
    "        uf[c] += 1\n",
    "    sl = sorted(dict2list(uf), key = lambda x:x[1], reverse=True)\n",
    "    x = sl[0][1]/len(column)\n",
    "    sl = np.array(sl)\n",
    "    if x < 0.8:\n",
    "        #print(sl[:, 1]/len(column))\n",
    "        return True\n",
    "    else:\n",
    "        return False"
   ]
  },
  {
   "cell_type": "code",
   "execution_count": 14,
   "metadata": {},
   "outputs": [
    {
     "name": "stdout",
     "output_type": "stream",
     "text": [
      "53 52 52\n"
     ]
    }
   ],
   "source": [
    "lm1 = []\n",
    "lm2 = []\n",
    "for n in toberemain:\n",
    "    if LastRemainJudge(train_df[n]):\n",
    "        lm1.append(n)\n",
    "    if LastRemainJudge(df_X[n]):\n",
    "        lm2.append(n)\n",
    "print(len(lm1), len(lm2), len(set(lm1)&set(lm2)))"
   ]
  },
  {
   "cell_type": "code",
   "execution_count": 15,
   "metadata": {},
   "outputs": [
    {
     "name": "stdout",
     "output_type": "stream",
     "text": [
      "52\n",
      "5423\n",
      "(1511, 5423) (1511, 52)\n"
     ]
    }
   ],
   "source": [
    "names = df_X.columns\n",
    "dts = df_X.dtypes\n",
    "dfx_float_n = []\n",
    "dfx_onehot_n = list(set(lm1) & set(lm2))\n",
    "print(len(dfx_onehot_n))\n",
    "for i in range(len(names)):\n",
    "    n = names[i]\n",
    "    d = dts[i]\n",
    "    if 'float' in str(d):\n",
    "        dfx_float_n.append(n)\n",
    "print(len(dfx_float_n))\n",
    "dfx_float = df_X[dfx_float_n]\n",
    "dfx_onehot = df_X[dfx_onehot_n]\n",
    "print(dfx_float.shape, dfx_onehot.shape)"
   ]
  },
  {
   "cell_type": "code",
   "execution_count": 16,
   "metadata": {},
   "outputs": [
    {
     "name": "stdout",
     "output_type": "stream",
     "text": [
      "267\n"
     ]
    }
   ],
   "source": [
    "drop_names = []\n",
    "names = dfx_float.columns\n",
    "for n in names:\n",
    "    x = np.sum(dfx_float[n].isnull())\n",
    "    if x > 700:\n",
    "        drop_names.append(n)\n",
    "print(len(drop_names))"
   ]
  },
  {
   "cell_type": "code",
   "execution_count": 17,
   "metadata": {},
   "outputs": [
    {
     "name": "stderr",
     "output_type": "stream",
     "text": [
      "/home/magnusterra/anaconda3/lib/python3.6/site-packages/ipykernel_launcher.py:1: SettingWithCopyWarning: \n",
      "A value is trying to be set on a copy of a slice from a DataFrame\n",
      "\n",
      "See the caveats in the documentation: http://pandas.pydata.org/pandas-docs/stable/indexing.html#indexing-view-versus-copy\n",
      "  \"\"\"Entry point for launching an IPython kernel.\n"
     ]
    }
   ],
   "source": [
    "dfx_float.drop(drop_names, axis=1, inplace=True)"
   ]
  },
  {
   "cell_type": "code",
   "execution_count": 18,
   "metadata": {},
   "outputs": [
    {
     "name": "stdout",
     "output_type": "stream",
     "text": [
      "2604 2541\n",
      "364\n"
     ]
    }
   ],
   "source": [
    "means = []\n",
    "stds = []\n",
    "drop_names = []\n",
    "names = dfx_float.columns\n",
    "for n in names:\n",
    "    c = dfx_float[n]\n",
    "    r = c[c.notnull()]\n",
    "    tmpm = np.mean(r)\n",
    "    tmps = np.std(r)\n",
    "    means.append(tmpm)\n",
    "    stds.append(tmps)\n",
    "    if tmps == 0:\n",
    "        drop_names.append(n)\n",
    "print(len(set(means)), len(set(stds)))\n",
    "print(len(drop_names))"
   ]
  },
  {
   "cell_type": "code",
   "execution_count": 19,
   "metadata": {},
   "outputs": [
    {
     "name": "stderr",
     "output_type": "stream",
     "text": [
      "/home/magnusterra/anaconda3/lib/python3.6/site-packages/ipykernel_launcher.py:1: SettingWithCopyWarning: \n",
      "A value is trying to be set on a copy of a slice from a DataFrame\n",
      "\n",
      "See the caveats in the documentation: http://pandas.pydata.org/pandas-docs/stable/indexing.html#indexing-view-versus-copy\n",
      "  \"\"\"Entry point for launching an IPython kernel.\n"
     ]
    }
   ],
   "source": [
    "dfx_float.drop(drop_names, axis=1, inplace=True)"
   ]
  },
  {
   "cell_type": "code",
   "execution_count": 20,
   "metadata": {},
   "outputs": [
    {
     "name": "stdout",
     "output_type": "stream",
     "text": [
      "687\n"
     ]
    }
   ],
   "source": [
    "# not move sames first, fill nan\n",
    "names = dfx_float.columns\n",
    "added = set()\n",
    "sames = []\n",
    "for i in range(len(names)):\n",
    "    tmpsl = []\n",
    "    tmpsl.append(i)\n",
    "    for j in range(i+1, len(names)):\n",
    "        if means[i] == means[j] and stds[i] == stds[j]:\n",
    "            if i not in added:\n",
    "                added.add(i)\n",
    "            if j not in added:\n",
    "                added.add(j)\n",
    "                tmpsl.append(j)\n",
    "    if len(tmpsl) > 1:\n",
    "        sames.append(tmpsl)\n",
    "print(len(sames))"
   ]
  },
  {
   "cell_type": "code",
   "execution_count": 21,
   "metadata": {},
   "outputs": [
    {
     "name": "stdout",
     "output_type": "stream",
     "text": [
      "2220\n"
     ]
    }
   ],
   "source": [
    "names = dfx_float.columns\n",
    "drop_names = []\n",
    "for i in sames:\n",
    "    for j in i[1:]:\n",
    "        drop_names.append(names[j])\n",
    "print(len(drop_names))"
   ]
  },
  {
   "cell_type": "code",
   "execution_count": 22,
   "metadata": {},
   "outputs": [
    {
     "name": "stderr",
     "output_type": "stream",
     "text": [
      "/home/magnusterra/anaconda3/lib/python3.6/site-packages/ipykernel_launcher.py:1: SettingWithCopyWarning: \n",
      "A value is trying to be set on a copy of a slice from a DataFrame\n",
      "\n",
      "See the caveats in the documentation: http://pandas.pydata.org/pandas-docs/stable/indexing.html#indexing-view-versus-copy\n",
      "  \"\"\"Entry point for launching an IPython kernel.\n"
     ]
    }
   ],
   "source": [
    "dfx_float.drop(drop_names, axis=1, inplace=True)"
   ]
  },
  {
   "cell_type": "code",
   "execution_count": 23,
   "metadata": {},
   "outputs": [
    {
     "name": "stdout",
     "output_type": "stream",
     "text": [
      "(1511, 2572)\n"
     ]
    }
   ],
   "source": [
    "print(dfx_float.shape)"
   ]
  },
  {
   "cell_type": "code",
   "execution_count": 24,
   "metadata": {},
   "outputs": [
    {
     "name": "stdout",
     "output_type": "stream",
     "text": [
      "(1511, 2572)\n"
     ]
    }
   ],
   "source": [
    "import copy\n",
    "trainx_float = copy.copy(dfx_float)\n",
    "#trainx_float.drop(drop_names, axis=1, inplace=True)\n",
    "print(trainx_float.shape)"
   ]
  },
  {
   "cell_type": "code",
   "execution_count": 25,
   "metadata": {},
   "outputs": [
    {
     "name": "stdout",
     "output_type": "stream",
     "text": [
      "0\n"
     ]
    }
   ],
   "source": [
    "names = trainx_float.columns\n",
    "for n in names:\n",
    "    c = trainx_float[n]\n",
    "    r = c[c.notnull()]\n",
    "    tmpm = np.mean(r)\n",
    "    tmps = np.std(r)\n",
    "    assert tmps>0\n",
    "    trainx_float[n][c.isnull()] = tmpm\n",
    "print(np.sum(trainx_float.isnull().values))"
   ]
  },
  {
   "cell_type": "code",
   "execution_count": 26,
   "metadata": {},
   "outputs": [
    {
     "name": "stdout",
     "output_type": "stream",
     "text": [
      "0\n"
     ]
    }
   ],
   "source": [
    "# it shall be that there is only thre lines with nan in log1p\n",
    "mid = trainx_float-np.min(trainx_float)+1\n",
    "trainx_log1p = np.log1p(mid)\n",
    "del mid\n",
    "print(np.sum(trainx_log1p.isnull().values))"
   ]
  },
  {
   "cell_type": "code",
   "execution_count": 27,
   "metadata": {
    "collapsed": true
   },
   "outputs": [],
   "source": [
    "for n in names:\n",
    "    m1 = np.mean(trainx_float[n])\n",
    "    s1 = np.std(trainx_float[n])\n",
    "    assert s1 > 0\n",
    "    trainx_float[n] = (trainx_float[n]-m1)/s1\n",
    "    m2 = np.mean(trainx_log1p[n])\n",
    "    s2 = np.std(trainx_log1p[n])\n",
    "    assert s2 > 0\n",
    "    trainx_log1p[n] = (trainx_log1p[n]-m2)/s2"
   ]
  },
  {
   "cell_type": "code",
   "execution_count": 28,
   "metadata": {
    "collapsed": true
   },
   "outputs": [],
   "source": [
    "ohnames = dfx_onehot.columns\n",
    "for i in range(len(ohnames)):\n",
    "    n = ohnames[i]\n",
    "    tmp = pd.get_dummies(dfx_onehot[n], prefix='onehot_'+str(i))\n",
    "    dfx_onehot = pd.concat([dfx_onehot, tmp], axis=1)"
   ]
  },
  {
   "cell_type": "code",
   "execution_count": 29,
   "metadata": {},
   "outputs": [
    {
     "name": "stdout",
     "output_type": "stream",
     "text": [
      "(1511, 200)\n"
     ]
    }
   ],
   "source": [
    "dfx_onehot.drop(ohnames, axis=1, inplace=True)\n",
    "print(dfx_onehot.shape)"
   ]
  },
  {
   "cell_type": "code",
   "execution_count": 30,
   "metadata": {
    "collapsed": true
   },
   "outputs": [],
   "source": [
    "dfx_float = trainx_float\n",
    "dfx_log1p = trainx_log1p"
   ]
  },
  {
   "cell_type": "code",
   "execution_count": 31,
   "metadata": {},
   "outputs": [
    {
     "name": "stderr",
     "output_type": "stream",
     "text": [
      "/home/magnusterra/anaconda3/lib/python3.6/site-packages/ipykernel_launcher.py:16: SettingWithCopyWarning: \n",
      "A value is trying to be set on a copy of a slice from a DataFrame.\n",
      "Try using .loc[row_indexer,col_indexer] = value instead\n",
      "\n",
      "See the caveats in the documentation: http://pandas.pydata.org/pandas-docs/stable/indexing.html#indexing-view-versus-copy\n",
      "  app.launch_new_instance()\n",
      "/home/magnusterra/anaconda3/lib/python3.6/site-packages/ipykernel_launcher.py:17: SettingWithCopyWarning: \n",
      "A value is trying to be set on a copy of a slice from a DataFrame.\n",
      "Try using .loc[row_indexer,col_indexer] = value instead\n",
      "\n",
      "See the caveats in the documentation: http://pandas.pydata.org/pandas-docs/stable/indexing.html#indexing-view-versus-copy\n"
     ]
    }
   ],
   "source": [
    "year_n = dfx_year.columns\n",
    "standardlen = len(str(dfx_year[year_n[0]][0]))\n",
    "for i in range(1, len(year_n)):\n",
    "    l = len(str(dfx_year[year_n[i]][0]))\n",
    "    bias = standardlen - l\n",
    "    b10 = 1\n",
    "    if bias > 0:\n",
    "        for j in range(bias):\n",
    "            b10 *= 10\n",
    "            #dfx_year[year_n[i]] /= 10\n",
    "    elif bias < 0:\n",
    "        for j in range(-bias):\n",
    "            b10 /= 10\n",
    "            #dfx_year[year_n[i]] *= 10\n",
    "    if b10 != 1:\n",
    "        dfx_year[year_n[i]] *= b10\n",
    "    dfx_year[year_n[i]] = dfx_year[year_n[i]] - dfx_year[year_n[0]] "
   ]
  },
  {
   "cell_type": "code",
   "execution_count": 32,
   "metadata": {
    "collapsed": true
   },
   "outputs": [],
   "source": [
    "dfx_time = (dfx_year - np.mean(dfx_year))/np.std(dfx_year)"
   ]
  },
  {
   "cell_type": "code",
   "execution_count": 33,
   "metadata": {},
   "outputs": [
    {
     "data": {
      "text/plain": [
       "(1511, 45)"
      ]
     },
     "execution_count": 33,
     "metadata": {},
     "output_type": "execute_result"
    }
   ],
   "source": [
    "dfx_time.shape"
   ]
  },
  {
   "cell_type": "code",
   "execution_count": 34,
   "metadata": {},
   "outputs": [
    {
     "data": {
      "text/plain": [
       "(1511, 44)"
      ]
     },
     "execution_count": 34,
     "metadata": {},
     "output_type": "execute_result"
    }
   ],
   "source": [
    "dfx_time = dfx_time[dfx_time.columns[1:]]\n",
    "dfx_time.shape"
   ]
  },
  {
   "cell_type": "code",
   "execution_count": 35,
   "metadata": {},
   "outputs": [
    {
     "name": "stderr",
     "output_type": "stream",
     "text": [
      "/home/magnusterra/anaconda3/lib/python3.6/site-packages/sklearn/cross_validation.py:41: DeprecationWarning: This module was deprecated in version 0.18 in favor of the model_selection module into which all the refactored classes and functions are moved. Also note that the interface of the new CV iterators are different from that of this module. This module will be removed in 0.20.\n",
      "  \"This module will be removed in 0.20.\", DeprecationWarning)\n"
     ]
    }
   ],
   "source": [
    "import matplotlib.pyplot as plt\n",
    "import xgboost as xgb\n",
    "from xgboost import plot_importance"
   ]
  },
  {
   "cell_type": "code",
   "execution_count": 36,
   "metadata": {
    "collapsed": true
   },
   "outputs": [],
   "source": [
    "from sklearn.ensemble import BaggingRegressor\n",
    "from sklearn.linear_model import LinearRegression\n",
    "from xgboost import XGBRegressor"
   ]
  },
  {
   "cell_type": "code",
   "execution_count": 37,
   "metadata": {
    "collapsed": true
   },
   "outputs": [],
   "source": [
    "def MSE(y_raw, y_pred):\n",
    "    r = np.mean(np.square(y_raw-y_pred))\n",
    "    #print(r)\n",
    "    return r"
   ]
  },
  {
   "cell_type": "code",
   "execution_count": 38,
   "metadata": {},
   "outputs": [
    {
     "name": "stderr",
     "output_type": "stream",
     "text": [
      "/home/magnusterra/anaconda3/lib/python3.6/site-packages/sklearn/grid_search.py:42: DeprecationWarning: This module was deprecated in version 0.18 in favor of the model_selection module into which all the refactored classes and functions are moved. This module will be removed in 0.20.\n",
      "  DeprecationWarning)\n"
     ]
    }
   ],
   "source": [
    "import matplotlib.pyplot as plt\n",
    "from sklearn.cross_validation import train_test_split\n",
    "from sklearn.grid_search import GridSearchCV "
   ]
  },
  {
   "cell_type": "code",
   "execution_count": 39,
   "metadata": {
    "collapsed": true
   },
   "outputs": [],
   "source": [
    "from sklearn.model_selection import KFold \n",
    "kf = KFold(n_splits=5, random_state=2018)\n",
    "def get_oof(rgr, xtrain, ytrain, xtest, lenot, lenoe):\n",
    "    oof_train = np.zeros((lenot,))\n",
    "    oof_test = np.zeros((lenoe,))\n",
    "    oof_test_skf = np.empty((5, lenoe))\n",
    "    for i, (train_index, test_index) in enumerate(kf.split(xtrain)):\n",
    "        kf_xtrain = xtrain[train_index]\n",
    "        kf_ytrain = ytrain[train_index]\n",
    "        kf_xtest = xtrain[test_index]\n",
    "        rgr.fit(kf_xtrain, kf_ytrain)\n",
    "        oof_train[test_index] = rgr.predict(kf_xtest)\n",
    "        oof_test_skf[i, : ] = rgr.predict(xtest)\n",
    "    oof_test[:] = oof_test_skf.mean(axis=0)\n",
    "    return oof_train.reshape(-1,1), oof_test.reshape(-1,1)"
   ]
  },
  {
   "cell_type": "code",
   "execution_count": 40,
   "metadata": {},
   "outputs": [
    {
     "data": {
      "text/plain": [
       "(1511, 2772)"
      ]
     },
     "execution_count": 40,
     "metadata": {},
     "output_type": "execute_result"
    }
   ],
   "source": [
    "dfx = pd.concat([dfx_log1p, dfx_onehot], axis=1)\n",
    "dfx.shape"
   ]
  },
  {
   "cell_type": "code",
   "execution_count": 41,
   "metadata": {},
   "outputs": [
    {
     "data": {
      "text/plain": [
       "(1511, 2816)"
      ]
     },
     "execution_count": 41,
     "metadata": {},
     "output_type": "execute_result"
    }
   ],
   "source": [
    "ndfx = pd.concat([dfx, dfx_time], axis=1)\n",
    "ndfx.shape"
   ]
  },
  {
   "cell_type": "code",
   "execution_count": 66,
   "metadata": {
    "collapsed": true
   },
   "outputs": [],
   "source": [
    "trndfx = ndfx[:800]\n",
    "trndfx = trndfx[train_y>1.8]"
   ]
  },
  {
   "cell_type": "code",
   "execution_count": 67,
   "metadata": {},
   "outputs": [
    {
     "data": {
      "text/plain": [
       "(799,)"
      ]
     },
     "execution_count": 67,
     "metadata": {},
     "output_type": "execute_result"
    }
   ],
   "source": [
    "trny = train_y[train_y>1.8]\n",
    "trny.shape"
   ]
  },
  {
   "cell_type": "code",
   "execution_count": 42,
   "metadata": {},
   "outputs": [
    {
     "name": "stdout",
     "output_type": "stream",
     "text": [
      "0.0142321754574 0.00171075087503 0.0189760014693 0.010342441345\n"
     ]
    }
   ],
   "source": [
    "# drop one point first then mnipulate the data\n",
    "results = []\n",
    "for i in range(100):\n",
    "    subxtrain, subxval, subytrain, subyval = train_test_split(ndfx[:799].values, train_y.values, test_size=0.2, random_state=i)\n",
    "    \n",
    "    xgb = XGBRegressor(gamma=0.0001, max_depth=4, objective='reg:linear')\n",
    "    xgb.fit(subxtrain, subytrain)\n",
    "    test1_pred = xgb.predict(subxval)\n",
    "    t = MSE(test1_pred, subyval)\n",
    "    results.append(t)\n",
    "print(np.mean(results), np.std(results), np.max(results), np.min(results))"
   ]
  },
  {
   "cell_type": "code",
   "execution_count": 46,
   "metadata": {},
   "outputs": [
    {
     "name": "stdout",
     "output_type": "stream",
     "text": [
      "0.00115347477557\n"
     ]
    }
   ],
   "source": [
    "xgb = XGBRegressor(gamma=0.0001, max_depth=4, objective='reg:linear')\n",
    "xgb.fit(ndfx[:799].values, train_y.values)\n",
    "test1_pred = xgb.predict(ndfx[:799].values)\n",
    "print(MSE(test1_pred, train_y.values))\n",
    "test1_pred = xgb.predict(ndfx[799:1099].values)\n",
    "test1_pred = test1_pred.reshape(300)\n",
    "save = pd.DataFrame({'ID':test1_id, 'value':test1_pred})\n",
    "save.to_csv('answer/noSynchronous_logohtime_xgb_20180120_01.csv', index=False, header=False)"
   ]
  },
  {
   "cell_type": "code",
   "execution_count": 48,
   "metadata": {},
   "outputs": [
    {
     "name": "stdout",
     "output_type": "stream",
     "text": [
      "0\n",
      "{'gamma': 0.01, 'max_depth': 3, 'objective': 'reg:linear', 'subsample': 0.85}\n",
      "0.00221182562624 0.0157196673508\n",
      "1\n",
      "{'gamma': 0.0001, 'max_depth': 4, 'objective': 'reg:gamma', 'subsample': 0.85}\n",
      "0.000955975833544 0.0168398909048\n",
      "2\n",
      "{'gamma': 0.01, 'max_depth': 3, 'objective': 'reg:linear', 'subsample': 0.85}\n",
      "0.00209228183326 0.0149764078866\n",
      "3\n",
      "{'gamma': 0.01, 'max_depth': 3, 'objective': 'reg:linear', 'subsample': 0.85}\n",
      "0.00217236459476 0.0140400958242\n",
      "4\n",
      "{'gamma': 0.001, 'max_depth': 3, 'objective': 'reg:linear', 'subsample': 0.85}\n",
      "0.00226651959531 0.0151655328155\n",
      "5\n",
      "{'gamma': 0.01, 'max_depth': 4, 'objective': 'reg:linear', 'subsample': 0.85}\n",
      "0.000852467303127 0.0136390656625\n",
      "6\n",
      "{'gamma': 0, 'max_depth': 3, 'objective': 'reg:linear', 'subsample': 0.85}\n",
      "0.00204433272349 0.014569950792\n",
      "7\n",
      "{'gamma': 0.01, 'max_depth': 3, 'objective': 'reg:linear', 'subsample': 0.7}\n",
      "0.00231280041922 0.0166878607083\n",
      "8\n",
      "{'gamma': 0.001, 'max_depth': 3, 'objective': 'reg:linear', 'subsample': 0.85}\n",
      "0.00215241054335 0.0128650838211\n",
      "9\n",
      "{'gamma': 0.0001, 'max_depth': 3, 'objective': 'reg:linear', 'subsample': 0.85}\n",
      "0.00211757351119 0.0139247525449\n",
      "10\n",
      "{'gamma': 0.001, 'max_depth': 4, 'objective': 'reg:gamma', 'subsample': 0.85}\n",
      "0.00108770956971 0.01909799851\n",
      "11\n",
      "{'gamma': 0.01, 'max_depth': 4, 'objective': 'reg:linear', 'subsample': 0.7}\n",
      "0.000869196730236 0.0163302907872\n",
      "12\n",
      "{'gamma': 0.0001, 'max_depth': 3, 'objective': 'reg:linear', 'subsample': 0.7}\n",
      "0.00229985272441 0.0143342223759\n",
      "13\n",
      "{'gamma': 0.01, 'max_depth': 3, 'objective': 'reg:linear', 'subsample': 0.85}\n",
      "0.00227149992414 0.0111810295731\n",
      "14\n",
      "{'gamma': 0, 'max_depth': 4, 'objective': 'reg:linear', 'subsample': 0.7}\n",
      "0.000643602030092 0.0139257626216\n",
      "15\n",
      "{'gamma': 0.0001, 'max_depth': 3, 'objective': 'reg:gamma', 'subsample': 0.85}\n",
      "0.00301571902194 0.017097979206\n",
      "16\n",
      "{'gamma': 0.01, 'max_depth': 3, 'objective': 'reg:linear', 'subsample': 0.7}\n",
      "0.0021646667637 0.0156300573154\n",
      "17\n",
      "{'gamma': 0.0001, 'max_depth': 4, 'objective': 'reg:gamma', 'subsample': 0.85}\n",
      "0.00114605035041 0.0136546517659\n",
      "18\n",
      "{'gamma': 0.01, 'max_depth': 3, 'objective': 'reg:linear', 'subsample': 0.7}\n",
      "0.00245192038829 0.0116856004308\n",
      "19\n",
      "{'gamma': 0, 'max_depth': 4, 'objective': 'reg:linear', 'subsample': 0.85}\n",
      "0.000627926009504 0.0145169397337\n",
      "20\n",
      "{'gamma': 0.01, 'max_depth': 4, 'objective': 'reg:linear', 'subsample': 0.85}\n",
      "0.000847072893776 0.0140297138071\n",
      "21\n",
      "{'gamma': 0.001, 'max_depth': 4, 'objective': 'reg:linear', 'subsample': 0.85}\n",
      "0.000642451586666 0.0129786318012\n",
      "22\n",
      "{'gamma': 0.001, 'max_depth': 4, 'objective': 'reg:linear', 'subsample': 0.85}\n",
      "0.000692124167446 0.0130603717062\n",
      "23\n",
      "{'gamma': 0.01, 'max_depth': 4, 'objective': 'reg:linear', 'subsample': 0.7}\n",
      "0.0009484777079 0.0150784901899\n",
      "24\n",
      "{'gamma': 0, 'max_depth': 3, 'objective': 'reg:linear', 'subsample': 0.7}\n",
      "0.00211504658251 0.0168753223113\n",
      "25\n",
      "{'gamma': 0.01, 'max_depth': 3, 'objective': 'reg:linear', 'subsample': 0.85}\n",
      "0.00224504701818 0.0142402579193\n",
      "26\n",
      "{'gamma': 0.01, 'max_depth': 3, 'objective': 'reg:linear', 'subsample': 0.85}\n",
      "0.00205371450053 0.0143988891634\n",
      "27\n",
      "{'gamma': 0.001, 'max_depth': 3, 'objective': 'reg:linear', 'subsample': 0.7}\n",
      "0.00233321200637 0.01279399968\n",
      "28\n",
      "{'gamma': 0, 'max_depth': 4, 'objective': 'reg:linear', 'subsample': 0.85}\n",
      "0.000688115567636 0.0161413398154\n",
      "29\n",
      "{'gamma': 0.01, 'max_depth': 4, 'objective': 'reg:linear', 'subsample': 0.7}\n",
      "0.000997997992319 0.0128190332586\n",
      "30\n",
      "{'gamma': 0.01, 'max_depth': 4, 'objective': 'reg:linear', 'subsample': 0.85}\n",
      "0.000841589642208 0.0149854309623\n",
      "31\n",
      "{'gamma': 0.0001, 'max_depth': 3, 'objective': 'reg:linear', 'subsample': 0.7}\n",
      "0.00206083263471 0.0133706885521\n",
      "32\n",
      "{'gamma': 0.01, 'max_depth': 3, 'objective': 'reg:linear', 'subsample': 0.85}\n",
      "0.00233791833575 0.0128854157308\n",
      "33\n",
      "{'gamma': 0.01, 'max_depth': 4, 'objective': 'reg:linear', 'subsample': 0.85}\n",
      "0.000825974253995 0.0131795049553\n",
      "34\n",
      "{'gamma': 0.001, 'max_depth': 3, 'objective': 'reg:linear', 'subsample': 0.7}\n",
      "0.00216094275398 0.0153588966032\n",
      "35\n",
      "{'gamma': 0.01, 'max_depth': 3, 'objective': 'reg:linear', 'subsample': 0.85}\n",
      "0.00230709660501 0.0163646415827\n",
      "36\n",
      "{'gamma': 0.01, 'max_depth': 4, 'objective': 'reg:linear', 'subsample': 0.85}\n",
      "0.000830611793597 0.0132886947249\n",
      "37\n",
      "{'gamma': 0, 'max_depth': 3, 'objective': 'reg:linear', 'subsample': 0.85}\n",
      "0.00208119024051 0.0143234796141\n",
      "38\n",
      "{'gamma': 0.01, 'max_depth': 3, 'objective': 'reg:linear', 'subsample': 0.7}\n",
      "0.00208734571449 0.0186326349625\n",
      "39\n",
      "{'gamma': 0.001, 'max_depth': 3, 'objective': 'reg:linear', 'subsample': 0.85}\n",
      "0.00199309976557 0.0172727390111\n",
      "40\n",
      "{'gamma': 0.01, 'max_depth': 3, 'objective': 'reg:linear', 'subsample': 0.85}\n",
      "0.00234431053596 0.0131427184249\n",
      "41\n",
      "{'gamma': 0.0001, 'max_depth': 3, 'objective': 'reg:linear', 'subsample': 0.7}\n",
      "0.00215163559483 0.0171354430303\n",
      "42\n",
      "{'gamma': 0.01, 'max_depth': 3, 'objective': 'reg:linear', 'subsample': 0.85}\n",
      "0.0020468141641 0.0132973904216\n",
      "43\n",
      "{'gamma': 0.001, 'max_depth': 4, 'objective': 'reg:linear', 'subsample': 0.85}\n",
      "0.000663891037733 0.0152366420709\n",
      "44\n",
      "{'gamma': 0, 'max_depth': 3, 'objective': 'reg:linear', 'subsample': 0.7}\n",
      "0.00242794403577 0.0146277693948\n",
      "45\n",
      "{'gamma': 0.0001, 'max_depth': 3, 'objective': 'reg:linear', 'subsample': 0.7}\n",
      "0.00226090901776 0.0131372448079\n",
      "46\n",
      "{'gamma': 0.01, 'max_depth': 3, 'objective': 'reg:linear', 'subsample': 0.85}\n",
      "0.00214520925665 0.0165900058566\n",
      "47\n",
      "{'gamma': 0, 'max_depth': 4, 'objective': 'reg:linear', 'subsample': 0.7}\n",
      "0.000771824304874 0.0138792560643\n",
      "48\n",
      "{'gamma': 0, 'max_depth': 3, 'objective': 'reg:linear', 'subsample': 0.7}\n",
      "0.00237289236232 0.0148123552207\n",
      "49\n",
      "{'gamma': 0.01, 'max_depth': 3, 'objective': 'reg:linear', 'subsample': 0.7}\n",
      "0.00247226397835 0.0150305849797\n",
      "50\n",
      "{'gamma': 0.0001, 'max_depth': 4, 'objective': 'reg:linear', 'subsample': 0.7}\n",
      "0.000688581386562 0.0149081896229\n",
      "51\n",
      "{'gamma': 0.001, 'max_depth': 4, 'objective': 'reg:linear', 'subsample': 0.85}\n",
      "0.00055718313251 0.0119523843571\n",
      "52\n",
      "{'gamma': 0.0001, 'max_depth': 4, 'objective': 'reg:linear', 'subsample': 0.7}\n",
      "0.000781497612989 0.0157243359593\n",
      "53\n",
      "{'gamma': 0.001, 'max_depth': 4, 'objective': 'reg:linear', 'subsample': 0.7}\n",
      "0.000786473546733 0.0134787571797\n",
      "54\n",
      "{'gamma': 0.001, 'max_depth': 3, 'objective': 'reg:linear', 'subsample': 0.7}\n",
      "0.00196057115126 0.0148545786754\n",
      "55\n",
      "{'gamma': 0.0001, 'max_depth': 4, 'objective': 'reg:linear', 'subsample': 0.7}\n",
      "0.000633660760916 0.0142187992226\n",
      "56\n",
      "{'gamma': 0.001, 'max_depth': 3, 'objective': 'reg:linear', 'subsample': 0.85}\n",
      "0.00216278072154 0.0133117500404\n",
      "57\n",
      "{'gamma': 0.0001, 'max_depth': 4, 'objective': 'reg:linear', 'subsample': 0.85}\n",
      "0.000689775865857 0.0151945869757\n",
      "58\n",
      "{'gamma': 0.001, 'max_depth': 4, 'objective': 'reg:linear', 'subsample': 0.85}\n",
      "0.00072257219957 0.013217125367\n",
      "59\n",
      "{'gamma': 0.0001, 'max_depth': 4, 'objective': 'reg:linear', 'subsample': 0.7}\n",
      "0.000800120166148 0.0153647308604\n",
      "60\n",
      "{'gamma': 0.0001, 'max_depth': 4, 'objective': 'reg:linear', 'subsample': 0.85}\n",
      "0.000602699623592 0.0163157212337\n",
      "61\n",
      "{'gamma': 0.001, 'max_depth': 4, 'objective': 'reg:linear', 'subsample': 0.85}\n",
      "0.00064607684081 0.0146450755773\n",
      "62\n",
      "{'gamma': 0, 'max_depth': 3, 'objective': 'reg:linear', 'subsample': 0.7}\n",
      "0.00227245463921 0.01346008016\n",
      "63\n",
      "{'gamma': 0.01, 'max_depth': 3, 'objective': 'reg:linear', 'subsample': 0.85}\n",
      "0.00211439527197 0.0159194048201\n",
      "64\n",
      "{'gamma': 0, 'max_depth': 3, 'objective': 'reg:linear', 'subsample': 0.85}\n",
      "0.0023043136534 0.0119780008658\n",
      "65\n",
      "{'gamma': 0.001, 'max_depth': 3, 'objective': 'reg:linear', 'subsample': 0.85}\n",
      "0.00216620840509 0.0129755226853\n",
      "66\n",
      "{'gamma': 0.001, 'max_depth': 4, 'objective': 'reg:gamma', 'subsample': 0.7}\n",
      "0.00129797154128 0.0147673547403\n",
      "67\n",
      "{'gamma': 0.001, 'max_depth': 3, 'objective': 'reg:linear', 'subsample': 0.85}\n",
      "0.00212911189368 0.0151282670339\n",
      "68\n",
      "{'gamma': 0.01, 'max_depth': 3, 'objective': 'reg:linear', 'subsample': 0.85}\n",
      "0.00194834472982 0.0142547898\n",
      "69\n",
      "{'gamma': 0.001, 'max_depth': 3, 'objective': 'reg:linear', 'subsample': 0.85}\n",
      "0.00216091229914 0.0138956060733\n",
      "70\n",
      "{'gamma': 0.0001, 'max_depth': 3, 'objective': 'reg:linear', 'subsample': 0.85}\n",
      "0.00201104767272 0.0148442979675\n",
      "71\n",
      "{'gamma': 0.01, 'max_depth': 3, 'objective': 'reg:linear', 'subsample': 0.85}\n",
      "0.00225923174652 0.0136422573146\n",
      "72\n",
      "{'gamma': 0.001, 'max_depth': 3, 'objective': 'reg:linear', 'subsample': 0.85}\n",
      "0.00220329263987 0.0146489916341\n"
     ]
    },
    {
     "name": "stdout",
     "output_type": "stream",
     "text": [
      "73\n",
      "{'gamma': 0, 'max_depth': 4, 'objective': 'reg:linear', 'subsample': 0.7}\n",
      "0.000712952001903 0.0150725246838\n",
      "74\n",
      "{'gamma': 0.0001, 'max_depth': 3, 'objective': 'reg:linear', 'subsample': 0.85}\n",
      "0.00215900393328 0.0138147808028\n",
      "75\n",
      "{'gamma': 0.001, 'max_depth': 4, 'objective': 'reg:gamma', 'subsample': 0.85}\n",
      "0.0013678959787 0.0155499547027\n",
      "76\n",
      "{'gamma': 0.0001, 'max_depth': 4, 'objective': 'reg:linear', 'subsample': 0.7}\n",
      "0.000668843754283 0.0145149224832\n",
      "77\n",
      "{'gamma': 0, 'max_depth': 4, 'objective': 'reg:linear', 'subsample': 0.7}\n",
      "0.000643202301725 0.0180851293004\n",
      "78\n",
      "{'gamma': 0.0001, 'max_depth': 4, 'objective': 'reg:linear', 'subsample': 0.7}\n",
      "0.00074580905641 0.0148765602351\n",
      "79\n",
      "{'gamma': 0.01, 'max_depth': 4, 'objective': 'reg:linear', 'subsample': 0.85}\n",
      "0.000791914487227 0.0126202627426\n",
      "80\n",
      "{'gamma': 0.01, 'max_depth': 4, 'objective': 'reg:linear', 'subsample': 0.85}\n",
      "0.000853607915329 0.0153806866305\n",
      "81\n",
      "{'gamma': 0.001, 'max_depth': 4, 'objective': 'reg:linear', 'subsample': 0.85}\n",
      "0.000741805591874 0.0139024062692\n",
      "82\n",
      "{'gamma': 0, 'max_depth': 4, 'objective': 'reg:linear', 'subsample': 0.7}\n",
      "0.000638807468498 0.0128136068985\n",
      "83\n",
      "{'gamma': 0.01, 'max_depth': 4, 'objective': 'reg:linear', 'subsample': 0.85}\n",
      "0.000836770129272 0.0200621977584\n",
      "84\n",
      "{'gamma': 0.01, 'max_depth': 3, 'objective': 'reg:linear', 'subsample': 0.7}\n",
      "0.00220437287351 0.0161221194783\n",
      "85\n",
      "{'gamma': 0.001, 'max_depth': 4, 'objective': 'reg:linear', 'subsample': 0.85}\n",
      "0.000722080730926 0.01364398313\n",
      "86\n",
      "{'gamma': 0.001, 'max_depth': 4, 'objective': 'reg:gamma', 'subsample': 0.85}\n",
      "0.00141436907351 0.0150296519768\n",
      "87\n",
      "{'gamma': 0.0001, 'max_depth': 3, 'objective': 'reg:linear', 'subsample': 0.85}\n",
      "0.00202485954979 0.0132063947256\n",
      "88\n",
      "{'gamma': 0.01, 'max_depth': 3, 'objective': 'reg:linear', 'subsample': 0.85}\n",
      "0.00227624689211 0.0157738948456\n",
      "89\n",
      "{'gamma': 0.0001, 'max_depth': 3, 'objective': 'reg:linear', 'subsample': 0.85}\n",
      "0.0021351205703 0.013788438331\n",
      "90\n",
      "{'gamma': 0.001, 'max_depth': 3, 'objective': 'reg:linear', 'subsample': 0.7}\n",
      "0.00220789130618 0.0158183617316\n",
      "91\n",
      "{'gamma': 0.001, 'max_depth': 4, 'objective': 'reg:linear', 'subsample': 0.85}\n",
      "0.000600826266522 0.013076395036\n",
      "92\n",
      "{'gamma': 0, 'max_depth': 3, 'objective': 'reg:linear', 'subsample': 0.7}\n",
      "0.00218409322303 0.0137525943973\n",
      "93\n",
      "{'gamma': 0, 'max_depth': 3, 'objective': 'reg:gamma', 'subsample': 0.7}\n",
      "0.00311900179308 0.0178093915438\n",
      "94\n",
      "{'gamma': 0.0001, 'max_depth': 4, 'objective': 'reg:linear', 'subsample': 0.85}\n",
      "0.000690374803969 0.0145611300219\n",
      "95\n",
      "{'gamma': 0.001, 'max_depth': 3, 'objective': 'reg:linear', 'subsample': 0.7}\n",
      "0.00221604374827 0.0133835756286\n",
      "96\n",
      "{'gamma': 0, 'max_depth': 4, 'objective': 'reg:linear', 'subsample': 0.7}\n",
      "0.000713397174701 0.0136823082058\n",
      "97\n",
      "{'gamma': 0.0001, 'max_depth': 3, 'objective': 'reg:linear', 'subsample': 0.85}\n",
      "0.00208754378796 0.0132182128034\n",
      "98\n",
      "{'gamma': 0.0001, 'max_depth': 3, 'objective': 'reg:linear', 'subsample': 0.7}\n",
      "0.00227864872891 0.0156894980025\n",
      "99\n",
      "{'gamma': 0, 'max_depth': 3, 'objective': 'reg:linear', 'subsample': 0.85}\n",
      "0.00196771630609 0.0164721955617\n",
      "----------------------------------\n"
     ]
    },
    {
     "ename": "NameError",
     "evalue": "name 'trndfx' is not defined",
     "output_type": "error",
     "traceback": [
      "\u001b[0;31m---------------------------------------------------------------------------\u001b[0m",
      "\u001b[0;31mNameError\u001b[0m                                 Traceback (most recent call last)",
      "\u001b[0;32m<ipython-input-48-2b3606920683>\u001b[0m in \u001b[0;36m<module>\u001b[0;34m()\u001b[0m\n\u001b[1;32m     15\u001b[0m \u001b[0mprint\u001b[0m\u001b[0;34m(\u001b[0m\u001b[0;34m\"----------------------------------\"\u001b[0m\u001b[0;34m)\u001b[0m\u001b[0;34m\u001b[0m\u001b[0m\n\u001b[1;32m     16\u001b[0m \u001b[0mclf\u001b[0m \u001b[0;34m=\u001b[0m \u001b[0mGridSearchCV\u001b[0m\u001b[0;34m(\u001b[0m\u001b[0mestimator\u001b[0m \u001b[0;34m=\u001b[0m\u001b[0mXGBRegressor\u001b[0m\u001b[0;34m(\u001b[0m\u001b[0;34m)\u001b[0m\u001b[0;34m,\u001b[0m \u001b[0mparam_grid\u001b[0m \u001b[0;34m=\u001b[0m\u001b[0mtuned_parameters\u001b[0m\u001b[0;34m,\u001b[0m \u001b[0mcv\u001b[0m\u001b[0;34m=\u001b[0m\u001b[0;36m5\u001b[0m\u001b[0;34m,\u001b[0m \u001b[0mscoring\u001b[0m\u001b[0;34m=\u001b[0m\u001b[0;34m'neg_mean_squared_error'\u001b[0m\u001b[0;34m)\u001b[0m\u001b[0;34m\u001b[0m\u001b[0m\n\u001b[0;32m---> 17\u001b[0;31m \u001b[0mclf\u001b[0m\u001b[0;34m.\u001b[0m\u001b[0mfit\u001b[0m\u001b[0;34m(\u001b[0m\u001b[0mtrndfx\u001b[0m\u001b[0;34m.\u001b[0m\u001b[0mvalue\u001b[0m\u001b[0;34m,\u001b[0m \u001b[0mtrny\u001b[0m\u001b[0;34m.\u001b[0m\u001b[0mvalues\u001b[0m\u001b[0;34m)\u001b[0m\u001b[0;34m\u001b[0m\u001b[0m\n\u001b[0m\u001b[1;32m     18\u001b[0m \u001b[0mprint\u001b[0m\u001b[0;34m(\u001b[0m\u001b[0mclf\u001b[0m\u001b[0;34m.\u001b[0m\u001b[0mbest_params_\u001b[0m\u001b[0;34m)\u001b[0m\u001b[0;34m\u001b[0m\u001b[0m\n\u001b[1;32m     19\u001b[0m \u001b[0my_pred1\u001b[0m \u001b[0;34m=\u001b[0m \u001b[0mclf\u001b[0m\u001b[0;34m.\u001b[0m\u001b[0mpredict\u001b[0m\u001b[0;34m(\u001b[0m\u001b[0mtrndfx\u001b[0m\u001b[0;34m.\u001b[0m\u001b[0mvalue\u001b[0m\u001b[0;34m)\u001b[0m\u001b[0;34m\u001b[0m\u001b[0m\n",
      "\u001b[0;31mNameError\u001b[0m: name 'trndfx' is not defined"
     ]
    }
   ],
   "source": [
    "tuned_parameters = {'objective':['reg:linear', 'reg:gamma'], 'max_depth':[1,2,3,4],\n",
    "                    'gamma':[0, 1e-3, 1e-2,  1e-4], 'subsample':[0.85, 0.7]}\n",
    "for i in range(100):\n",
    "    subxtrain, subxval, subytrain, subyval = train_test_split(ndfx[:799].values, train_y.values, test_size=0.27, random_state=i)\n",
    "    \n",
    "    clf = GridSearchCV(estimator =XGBRegressor(), param_grid =tuned_parameters, cv=5, scoring='neg_mean_squared_error')\n",
    "    clf.fit(subxtrain, subytrain)\n",
    "    print(i)\n",
    "    print(clf.best_params_)  \n",
    "    y_pred1 = clf.predict(subxtrain)\n",
    "    mse1 = MSE(y_pred1, subytrain)\n",
    "    y_pred2 = clf.predict(subxval)\n",
    "    mse2 = MSE(subyval, y_pred2)\n",
    "    print(mse1, mse2)\n",
    "print(\"----------------------------------\")\n",
    "clf = GridSearchCV(estimator =XGBRegressor(), param_grid =tuned_parameters, cv=5, scoring='neg_mean_squared_error')\n",
    "clf.fit(trndfx.value, trny.values)\n",
    "print(clf.best_params_)  \n",
    "y_pred1 = clf.predict(trndfx.value)\n",
    "print(MSE(y_pred1, trny.values))"
   ]
  },
  {
   "cell_type": "code",
   "execution_count": 69,
   "metadata": {},
   "outputs": [
    {
     "name": "stdout",
     "output_type": "stream",
     "text": [
      "0.01425987801 0.00164559350444 0.0184795652628 0.0103416833322\n"
     ]
    }
   ],
   "source": [
    "results = []\n",
    "for i in range(100):\n",
    "    subxtrain, subxval, subytrain, subyval = train_test_split(trndfx.values, trny.values, test_size=0.2, random_state=i)\n",
    "    \n",
    "    xgb = XGBRegressor(gamma=0.0001, max_depth=4, objective='reg:linear')\n",
    "    xgb.fit(subxtrain, subytrain)\n",
    "    test1_pred = xgb.predict(subxval)\n",
    "    t = MSE(test1_pred, subyval)\n",
    "    results.append(t)\n",
    "print(np.mean(results), np.std(results), np.max(results), np.min(results))"
   ]
  },
  {
   "cell_type": "code",
   "execution_count": 70,
   "metadata": {},
   "outputs": [
    {
     "name": "stdout",
     "output_type": "stream",
     "text": [
      "0.00123398876007\n"
     ]
    }
   ],
   "source": [
    "xgb = XGBRegressor(gamma=0.0001, max_depth=4, objective='reg:linear')\n",
    "xgb.fit(trndfx.values, trny.values)\n",
    "test1_pred = xgb.predict(trndfx.values)\n",
    "print(MSE(test1_pred, trny.values))\n",
    "test1_pred = xgb.predict(ndfx[800:1100].values)\n",
    "test1_pred = test1_pred.reshape(300)\n",
    "save = pd.DataFrame({'ID':test1_id, 'value':test1_pred})\n",
    "save.to_csv('answer/noSynchronous_logohtime_xgb_20180119.csv', index=False, header=False)"
   ]
  },
  {
   "cell_type": "code",
   "execution_count": 71,
   "metadata": {
    "collapsed": true
   },
   "outputs": [],
   "source": [
    "# 0 : GradientBoostingRegressor\n",
    "# 1 : ExtraTreesRegressor\n",
    "# 2 : RandomForestRegressor\n",
    "# 3 : SVM Regressor(RBF Kernel)\n",
    "# 4 : KNN Regressor(Distance-weighted)\n",
    "# 5 : Decision TreeRegressor\n",
    "# 6 : KNN Regressor (Uniform-weighted)\n",
    "# 7 : LinearRegression\n",
    "# 8 : SGDRegressor\n",
    "# 9 : SVM Regressor(Linear Kernel)\n",
    "\n",
    "from sklearn.ensemble import RandomForestRegressor, ExtraTreesRegressor, GradientBoostingRegressor\n",
    "from sklearn.tree import DecisionTreeRegressor\n",
    "from sklearn.neighbors import KNeighborsRegressor\n",
    "from sklearn.svm import SVR\n",
    "from sklearn.linear_model import LinearRegression, SGDRegressor\n",
    "\n",
    "def Regressor(number):\n",
    "    if number == 0:\n",
    "        return GradientBoostingRegressor()\n",
    "    elif number == 1:\n",
    "        return ExtraTreesRegressor()\n",
    "    elif number == 2:\n",
    "        return RandomForestRegressor()\n",
    "    elif number == 3:\n",
    "        return SVR(kernel='rbf')\n",
    "    elif number == 4:\n",
    "        return KNeighborsRegressor(weights='distance')\n",
    "    elif number == 5:\n",
    "        return DecisionTreeRegressor()\n",
    "    elif number == 6:\n",
    "        return KNeighborsRegressor(weights='uniform')\n",
    "    elif number == 7:\n",
    "        return LinearRegression()\n",
    "    elif number == 8:\n",
    "        return SGDRegressor()\n",
    "    elif number == 9:\n",
    "        return SVR(kernel='linear')\n",
    "    else:\n",
    "        return None"
   ]
  },
  {
   "cell_type": "code",
   "execution_count": 75,
   "metadata": {},
   "outputs": [
    {
     "name": "stdout",
     "output_type": "stream",
     "text": [
      "0 0.0144297094854 0.00174658291877 0.0191151781497 0.010950372674\n",
      "1 0.0193927937422 0.00285699602256 0.025930588733 0.0137611943718\n",
      "2 0.0203357050017 0.00272743015394 0.0270910803524 0.0140967855898\n",
      "3 0.018500045709 0.00211817216644 0.0235322698117 0.0140010209954\n",
      "4 0.027539221639 0.00296901301398 0.0356893601019 0.0210478399349\n",
      "5 0.0369698761661 0.0043683057054 0.0474240097001 0.0255846879016\n",
      "6 0.0289217696235 0.00302206176037 0.03700701334 0.0224013488826\n",
      "7 0.0402042702699 0.00751995068948 0.0755559957483 0.0277384000627\n"
     ]
    },
    {
     "name": "stderr",
     "output_type": "stream",
     "text": [
      "/home/magnusterra/anaconda3/lib/python3.6/site-packages/sklearn/linear_model/stochastic_gradient.py:128: FutureWarning: max_iter and tol parameters have been added in <class 'sklearn.linear_model.stochastic_gradient.SGDRegressor'> in 0.19. If both are left unset, they default to max_iter=5 and tol=None. If tol is not None, max_iter defaults to max_iter=1000. From 0.21, default max_iter will be 1000, and default tol will be 1e-3.\n",
      "  \"and default tol will be 1e-3.\" % type(self), FutureWarning)\n"
     ]
    },
    {
     "name": "stdout",
     "output_type": "stream",
     "text": [
      "8 4.93491908411e+24 2.97715046903e+24 2.38007200836e+25 1.86113360659e+24\n",
      "9 0.020113022857 0.00220094379958 0.0269094454547 0.0132261763663\n"
     ]
    }
   ],
   "source": [
    "for x in range(10):\n",
    "    results = []\n",
    "    for i in range(100):\n",
    "        subxtrain, subxval, subytrain, subyval = train_test_split(trndfx.values, trny.values, test_size=0.2, random_state=i)\n",
    "        rgr = Regressor(x)\n",
    "        rgr.fit(subxtrain, subytrain)\n",
    "        tepred = rgr.predict(subxval)\n",
    "        t = MSE(tepred, subyval)\n",
    "        results.append(t)\n",
    "    print(x, np.mean(results), np.std(results), np.max(results), np.min(results))"
   ]
  },
  {
   "cell_type": "code",
   "execution_count": null,
   "metadata": {
    "collapsed": true
   },
   "outputs": [],
   "source": []
  }
 ],
 "metadata": {
  "kernelspec": {
   "display_name": "Python 3",
   "language": "python",
   "name": "python3"
  },
  "language_info": {
   "codemirror_mode": {
    "name": "ipython",
    "version": 3
   },
   "file_extension": ".py",
   "mimetype": "text/x-python",
   "name": "python",
   "nbconvert_exporter": "python",
   "pygments_lexer": "ipython3",
   "version": "3.6.1"
  }
 },
 "nbformat": 4,
 "nbformat_minor": 2
}
