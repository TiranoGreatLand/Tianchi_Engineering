{
 "cells": [
  {
   "cell_type": "code",
   "execution_count": 1,
   "metadata": {
    "collapsed": true
   },
   "outputs": [],
   "source": [
    "import numpy as np\n",
    "import pandas as pd\n",
    "import copy\n",
    "import matplotlib.pyplot as plt\n",
    "import seaborn as sns\n",
    "from sklearn import preprocessing"
   ]
  },
  {
   "cell_type": "code",
   "execution_count": 2,
   "metadata": {
    "collapsed": true
   },
   "outputs": [],
   "source": [
    "train_df = pd.read_excel(\"data/train.xlsx\")\n",
    "test1_df = pd.read_excel(\"data/testA.xlsx\")\n",
    "test2_df = pd.read_excel(\"data/testB.xlsx\")"
   ]
  },
  {
   "cell_type": "code",
   "execution_count": 3,
   "metadata": {},
   "outputs": [
    {
     "data": {
      "text/plain": [
       "(800,)"
      ]
     },
     "execution_count": 3,
     "metadata": {},
     "output_type": "execute_result"
    }
   ],
   "source": [
    "train_y = train_df[train_df.columns[-1]]\n",
    "train_y.shape"
   ]
  },
  {
   "cell_type": "code",
   "execution_count": 4,
   "metadata": {},
   "outputs": [
    {
     "name": "stdout",
     "output_type": "stream",
     "text": [
      "(799, 5954) (799,)\n"
     ]
    }
   ],
   "source": [
    "train_df = train_df[train_y>1.8]\n",
    "train_y = train_y[train_y>1.8]\n",
    "print(train_df.shape, train_y.shape)"
   ]
  },
  {
   "cell_type": "code",
   "execution_count": 5,
   "metadata": {
    "collapsed": true
   },
   "outputs": [],
   "source": [
    "new_column = test1_df.columns\n",
    "train_df = train_df[new_column]\n",
    "train_id = train_df['ID']\n",
    "test1_id = test1_df['ID']\n",
    "test2_id = test2_df['ID']\n",
    "train_df.drop(['ID'], axis=1, inplace=True)\n",
    "test1_df.drop(['ID'], axis=1, inplace=True)\n",
    "test2_df.drop(['ID'], axis=1, inplace=True)"
   ]
  },
  {
   "cell_type": "code",
   "execution_count": 6,
   "metadata": {},
   "outputs": [
    {
     "data": {
      "text/plain": [
       "(300, 2)"
      ]
     },
     "execution_count": 6,
     "metadata": {},
     "output_type": "execute_result"
    }
   ],
   "source": [
    "test1y = pd.read_csv('data/testAy.csv', header=None)\n",
    "test1y.shape"
   ]
  },
  {
   "cell_type": "code",
   "execution_count": 7,
   "metadata": {
    "collapsed": true
   },
   "outputs": [],
   "source": [
    "test1y = test1y.values[:, 1]"
   ]
  },
  {
   "cell_type": "code",
   "execution_count": 8,
   "metadata": {},
   "outputs": [
    {
     "data": {
      "text/plain": [
       "(1511, 5952)"
      ]
     },
     "execution_count": 8,
     "metadata": {},
     "output_type": "execute_result"
    }
   ],
   "source": [
    "dfX = pd.concat([train_df, test1_df, test2_df], axis=0)\n",
    "dfX.shape"
   ]
  },
  {
   "cell_type": "code",
   "execution_count": 9,
   "metadata": {
    "scrolled": true
   },
   "outputs": [
    {
     "name": "stdout",
     "output_type": "stream",
     "text": [
      "210X225 0.022425545996029757 0.0012921577653821725 0.0225 0.0\n",
      "300X16 6.300000000000021 2.1316282072803006e-14 6.3 6.3\n",
      "310X161 0.1715000575777681 0.039919891054378404 0.305521 -0.229141\n",
      "310X162 0.15700705956319758 0.013680947834524388 0.232323 0.15257\n",
      "310X163 0.15199984315023715 0.019271361022436626 0.153589 -0.153053\n",
      "310X164 0.17201277895433215 0.03320377177262633 0.30542 0.153653\n",
      "310X166 0.15377082594309 0.002849041662371128 0.230827 0.152786\n",
      "311X144 1.2999999999999685 3.1530333899354446e-14 1.3 1.3\n",
      "312X161 3.099999999999985 1.509903313490213e-14 3.1 3.1\n",
      "312X162 18.399129852744746 0.009287495320179215 18.4 18.3\n",
      "312X179 3.099999999999985 1.509903313490213e-14 3.1 3.1\n",
      "312X180 18.400000000000436 4.369837824924616e-13 18.4 18.4\n",
      "312X183 3.397731821214123 0.08778760297963373 3.4 0.0\n",
      "312X184 3.3999999999999813 1.865174681370263e-14 3.4 3.4\n",
      "312X185 23.20000000000033 3.304023721284466e-13 23.2 23.2\n",
      "312X190 3.3999999999999813 1.865174681370263e-14 3.4 3.4\n",
      "312X195 3.397731821214123 0.08778760297963373 3.4 0.0\n",
      "312X196 3.3999999999999813 1.865174681370263e-14 3.4 3.4\n",
      "312X201 3.397731821214123 0.08778760297963373 3.4 0.0\n",
      "312X202 3.3999999999999813 1.865174681370263e-14 3.4 3.4\n",
      "312X203 23.299999999999688 3.126388037344441e-13 23.3 23.3\n",
      "312X225 54.063909272848846 1.3968556827053962 54.1 0.0\n",
      "312X226 54.10000000000027 2.7000623958883807e-13 54.1 54.1\n",
      "312X228 47.19999999999869 1.3145040611561853e-12 47.2 47.2\n",
      "312X231 4.39706470980644 0.11360748620894176 4.4 0.0\n",
      "312X232 4.399999999999903 9.769962616701378e-14 4.4 4.4\n",
      "312X237 4.399999999999903 9.769962616701378e-14 4.4 4.4\n",
      "312X242 4.39706470980644 0.11360748620894176 4.4 0.0\n",
      "312X243 4.399799331103582 0.0077563136147508925 4.4 4.1\n",
      "312X247 4.39706470980644 0.11360748620894176 4.4 0.0\n",
      "312X248 4.399999999999903 9.769962616701378e-14 4.4 4.4\n",
      "312X249 30.099999999999167 8.348877145181177e-13 30.1 30.1\n",
      "312X250 19.40000000000049 4.902744876744691e-13 19.4 19.4\n",
      "330X1163 0.1900144196106686 0.0003794577467034099 0.2 0.19\n",
      "330X1164 0.1900144196106686 0.0003794577467034099 0.2 0.19\n",
      "344X58 56.34296551724112 41.559276596275524 112.8 0.0\n",
      "344X88 10.055448275861933 7.771730467162536 18.4 0.0\n",
      "344X112 380.5931171409459 316.6074547490292 1199.0 0.0\n",
      "344X124 9.747862068965397 9.319049025495802 19.4 -5.0\n",
      "360X475 0.4904897418927929 0.0027027440279894215 0.5 0.44\n",
      "360X485 0.4904897418927929 0.0027027440279894215 0.5 0.44\n",
      "360X486 0.4904897418927929 0.0027027440279894215 0.5 0.44\n",
      "360X496 0.4904897418927929 0.0027027440279894215 0.5 0.44\n",
      "360X497 0.4904897418927929 0.0027027440279894215 0.5 0.44\n",
      "360X507 0.4904897418927929 0.0027027440279894215 0.5 0.44\n",
      "360X1400 0.4904897418927929 0.0027027440279894215 0.5 0.44\n",
      "360X1401 0.4904897418927929 0.0027027440279894215 0.5 0.44\n",
      "360X1403 0.4904897418927929 0.0027027440279894215 0.5 0.44\n",
      "360X1404 0.4904897418927929 0.0027027440279894215 0.5 0.44\n",
      "360X1406 0.4904897418927929 0.0027027440279894215 0.5 0.44\n",
      "360X1407 0.4904897418927929 0.0027027440279894215 0.5 0.44\n",
      "400X119 5.1000000000001355 1.3589129821411916e-13 5.1 5.1\n",
      "400X125 20.400000000000542 5.435651928564766e-13 20.4 20.4\n",
      "400X149 2.0999999999999437 5.639932965095795e-14 2.1 2.1\n",
      "400X150 -0.09980106100795473 0.0044558189462419375 0.0 -0.1\n",
      "400X153 -0.1004641909814295 0.0067973248323141625 -0.1 -0.2\n",
      "400X154 -0.09980106100795473 0.0044558189462419375 0.0 -0.1\n",
      "400X183 6.300000000000014 1.4210854715202004e-14 6.3 6.3\n",
      "420X146 1.6001595744680397 0.0012531084031265271 1.61 1.6\n",
      "420X148 1.600106382978678 0.0014083193930717356 1.61 1.59\n",
      "420X149 1.5999999999999548 4.529709940470639e-14 1.6 1.6\n",
      "520X322 1.599999999999955 4.5075054799781356e-14 1.6 1.6\n",
      "750X475 0.49029119788220427 0.0016814227949496737 0.5 0.49\n",
      "750X485 0.49029119788220427 0.0016814227949496737 0.5 0.49\n",
      "750X486 0.49029119788220427 0.0016814227949496737 0.5 0.49\n",
      "750X496 0.49029119788220427 0.0016814227949496737 0.5 0.49\n",
      "750X497 0.49029119788220427 0.0016814227949496737 0.5 0.49\n",
      "750X507 0.49029119788220427 0.0016814227949496737 0.5 0.49\n",
      "750X1400 0.49029119788220427 0.0016814227949496737 0.5 0.49\n",
      "750X1401 0.49029119788220427 0.0016814227949496737 0.5 0.49\n",
      "750X1403 0.49029119788220427 0.0016814227949496737 0.5 0.49\n",
      "750X1404 0.49029119788220427 0.0016814227949496737 0.5 0.49\n",
      "750X1406 0.49029119788220427 0.0016814227949496737 0.5 0.49\n",
      "750X1407 0.49029119788220427 0.0016814227949496737 0.5 0.49\n",
      "1144 74\n"
     ]
    }
   ],
   "source": [
    "names = train_df.columns\n",
    "dts = train_df.dtypes\n",
    "drop_names = []\n",
    "dn2 = []\n",
    "objs = []\n",
    "for i in range(len(names)):\n",
    "    n = names[i]\n",
    "    d = str(dts[i])\n",
    "    if 'obj' in d:\n",
    "        objs.append(n)\n",
    "    else:\n",
    "        c = dfX[n]\n",
    "        r = c[c.notnull()]\n",
    "        c1 = c[:799]\n",
    "        c2 = c[799:1099]\n",
    "        c3 = c[1099:]\n",
    "        r1 = c1[c1.notnull()]\n",
    "        r2 = c2[c2.notnull()]\n",
    "        r3 = c3[c3.notnull()]\n",
    "        if len(r) < 1000 or len(r1)<480 or len(r2)<180 or len(r3)<248:\n",
    "            drop_names.append(n)\n",
    "        else:\n",
    "            tmpm = np.mean(r)\n",
    "            tmps = np.std(r)\n",
    "            tmpm1 = np.mean(r1)\n",
    "            tmps1 = np.std(r1)\n",
    "            tmpm2 = np.mean(r2)\n",
    "            tmps2 = np.std(r2)\n",
    "            tmpm3 = np.mean(r3)\n",
    "            tmps3 = np.std(r3)\n",
    "            if np.abs(tmps) == 0 or np.abs(tmps1)==0 or np.abs(tmps2)==0 or np.abs(tmps3)==0:\n",
    "                drop_names.append(n)\n",
    "            elif tmps < 1e-5 or tmps1<1e-5 or tmps2<1e-5 or tmps3<1e-5 or np.max(r)==np.min(r) or np.max(r1)==np.min(r1) or np.max(r2)==np.min(r2) or np.max(r3)==np.min(r3):\n",
    "                print(n, tmpm, tmps, np.max(r), np.min(r))\n",
    "                dn2.append(n)\n",
    "print(len(drop_names), len(dn2))            "
   ]
  },
  {
   "cell_type": "code",
   "execution_count": 10,
   "metadata": {},
   "outputs": [
    {
     "data": {
      "text/plain": [
       "(1511, 4808)"
      ]
     },
     "execution_count": 10,
     "metadata": {},
     "output_type": "execute_result"
    }
   ],
   "source": [
    "dfX.drop(drop_names, axis=1, inplace=True)\n",
    "dfX.shape"
   ]
  },
  {
   "cell_type": "code",
   "execution_count": 11,
   "metadata": {},
   "outputs": [
    {
     "data": {
      "text/plain": [
       "(1511, 4734)"
      ]
     },
     "execution_count": 11,
     "metadata": {},
     "output_type": "execute_result"
    }
   ],
   "source": [
    "dfX.drop(dn2, axis=1, inplace=True)\n",
    "dfX.shape"
   ]
  },
  {
   "cell_type": "code",
   "execution_count": 12,
   "metadata": {},
   "outputs": [
    {
     "name": "stdout",
     "output_type": "stream",
     "text": [
      "(1511, 4723)\n",
      "(1511, 11)\n"
     ]
    }
   ],
   "source": [
    "dfxobj = dfX[objs]\n",
    "dfX.drop(objs, axis=1, inplace=True)\n",
    "print(dfX.shape)\n",
    "print(dfxobj.shape)"
   ]
  },
  {
   "cell_type": "code",
   "execution_count": 13,
   "metadata": {},
   "outputs": [
    {
     "name": "stdout",
     "output_type": "stream",
     "text": [
      "90\n"
     ]
    }
   ],
   "source": [
    "years = []\n",
    "for n in dfX.columns:\n",
    "    c = dfX[n]\n",
    "    r = c[c.notnull()]\n",
    "    r1 = r.astype(np.int64).values\n",
    "    if (str(r1[0])[:4] == '2017' and str(r1[-1])[:4] == '2017') or (str(r1[0])[:4] == '2016' and str(r1[-1])[:4] == '2016'):\n",
    "        years.append(n)\n",
    "print(len(years))"
   ]
  },
  {
   "cell_type": "code",
   "execution_count": 14,
   "metadata": {},
   "outputs": [
    {
     "name": "stdout",
     "output_type": "stream",
     "text": [
      "(1511, 90)\n",
      "(1511, 4633)\n"
     ]
    }
   ],
   "source": [
    "dfXyear = dfX[years]\n",
    "dfX.drop(years, axis=1, inplace=True)\n",
    "print(dfXyear.shape)\n",
    "print(dfX.shape)"
   ]
  },
  {
   "cell_type": "code",
   "execution_count": 15,
   "metadata": {},
   "outputs": [
    {
     "name": "stderr",
     "output_type": "stream",
     "text": [
      "/home/magnusterra/anaconda3/lib/python3.6/site-packages/ipykernel_launcher.py:5: SettingWithCopyWarning: \n",
      "A value is trying to be set on a copy of a slice from a DataFrame\n",
      "\n",
      "See the caveats in the documentation: http://pandas.pydata.org/pandas-docs/stable/indexing.html#indexing-view-versus-copy\n",
      "  \"\"\"\n",
      "/home/magnusterra/anaconda3/lib/python3.6/site-packages/pandas/core/generic.py:5088: SettingWithCopyWarning: \n",
      "A value is trying to be set on a copy of a slice from a DataFrame\n",
      "\n",
      "See the caveats in the documentation: http://pandas.pydata.org/pandas-docs/stable/indexing.html#indexing-view-versus-copy\n",
      "  self._update_inplace(new_data)\n",
      "/home/magnusterra/anaconda3/lib/python3.6/site-packages/IPython/core/interactiveshell.py:2881: SettingWithCopyWarning: \n",
      "A value is trying to be set on a copy of a slice from a DataFrame\n",
      "\n",
      "See the caveats in the documentation: http://pandas.pydata.org/pandas-docs/stable/indexing.html#indexing-view-versus-copy\n",
      "  exec(code_obj, self.user_global_ns, self.user_ns)\n"
     ]
    },
    {
     "name": "stdout",
     "output_type": "stream",
     "text": [
      "0\n"
     ]
    }
   ],
   "source": [
    "for n in years:\n",
    "    c = dfXyear[n]\n",
    "    r = c[c.notnull()]\n",
    "    tmpm = np.mean(r)\n",
    "    dfXyear[n][c.isnull()] = tmpm\n",
    "print(np.sum(dfXyear.isnull().values))"
   ]
  },
  {
   "cell_type": "code",
   "execution_count": 16,
   "metadata": {},
   "outputs": [
    {
     "name": "stderr",
     "output_type": "stream",
     "text": [
      "/home/magnusterra/anaconda3/lib/python3.6/site-packages/ipykernel_launcher.py:9: SettingWithCopyWarning: \n",
      "A value is trying to be set on a copy of a slice from a DataFrame.\n",
      "Try using .loc[row_indexer,col_indexer] = value instead\n",
      "\n",
      "See the caveats in the documentation: http://pandas.pydata.org/pandas-docs/stable/indexing.html#indexing-view-versus-copy\n",
      "  if __name__ == '__main__':\n"
     ]
    }
   ],
   "source": [
    "names = dfXyear.columns\n",
    "standardc = dfXyear[names[0]]\n",
    "tmpst = standardc.values[0]\n",
    "for i in range(1, len(names)):\n",
    "    c = dfXyear[names[i]]\n",
    "    tmp0 = c.values[0]\n",
    "    ratio = tmp0/tmpst\n",
    "    if ratio < 0.01:\n",
    "        dfXyear[n] *= 1000000"
   ]
  },
  {
   "cell_type": "code",
   "execution_count": 17,
   "metadata": {
    "scrolled": true
   },
   "outputs": [
    {
     "name": "stderr",
     "output_type": "stream",
     "text": [
      "/home/magnusterra/anaconda3/lib/python3.6/site-packages/ipykernel_launcher.py:2: SettingWithCopyWarning: \n",
      "A value is trying to be set on a copy of a slice from a DataFrame.\n",
      "Try using .loc[row_indexer,col_indexer] = value instead\n",
      "\n",
      "See the caveats in the documentation: http://pandas.pydata.org/pandas-docs/stable/indexing.html#indexing-view-versus-copy\n",
      "  \n"
     ]
    }
   ],
   "source": [
    "for n in names:\n",
    "    dfXyear[n] = dfXyear[n].astype(np.int64)"
   ]
  },
  {
   "cell_type": "code",
   "execution_count": 18,
   "metadata": {
    "collapsed": true
   },
   "outputs": [],
   "source": [
    "dfx_days = copy.copy(dfXyear)"
   ]
  },
  {
   "cell_type": "code",
   "execution_count": 29,
   "metadata": {},
   "outputs": [
    {
     "name": "stdout",
     "output_type": "stream",
     "text": [
      "210X205 50\n",
      "210X213 16\n",
      "210X215 42\n",
      "3\n"
     ]
    }
   ],
   "source": [
    "tooshorttimes = []\n",
    "for n in dfx_days.columns:\n",
    "    x = len(set(dfx_days[n].values))\n",
    "    if x < 100:\n",
    "        tooshorttimes.append(n)\n",
    "        print(n, x)\n",
    "print(len(tooshorttimes))"
   ]
  },
  {
   "cell_type": "code",
   "execution_count": 20,
   "metadata": {},
   "outputs": [
    {
     "name": "stdout",
     "output_type": "stream",
     "text": [
      "(1511, 90)\n",
      "(1511, 89)\n"
     ]
    }
   ],
   "source": [
    "print(dfx_days.shape)\n",
    "dfx_days.drop(['750X1293'], axis=1, inplace=True)\n",
    "print(dfx_days.shape)"
   ]
  },
  {
   "cell_type": "code",
   "execution_count": 21,
   "metadata": {},
   "outputs": [
    {
     "name": "stdout",
     "output_type": "stream",
     "text": [
      "87\n",
      "0 86 1 10\n",
      "1 87 0 1\n",
      "2 87 0 1\n",
      "3 87 0 1\n",
      "4 87 0 1\n",
      "5 92 -5 1e-05\n",
      "6 92 -5 1e-05\n",
      "7 92 -5 1e-05\n",
      "8 92 -5 1e-05\n",
      "9 92 -5 1e-05\n",
      "10 92 -5 1e-05\n",
      "11 92 -5 1e-05\n",
      "12 92 -5 1e-05\n",
      "13 85 2 100\n",
      "14 85 2 100\n",
      "15 85 2 100\n",
      "16 85 2 100\n",
      "17 85 2 100\n",
      "18 85 2 100\n",
      "19 86 1 10\n",
      "20 86 1 10\n",
      "21 86 1 10\n",
      "22 86 1 10\n",
      "23 92 -5 1e-05\n",
      "24 92 -5 1e-05\n",
      "25 92 -5 1e-05\n",
      "26 92 -5 1e-05\n",
      "27 92 -5 1e-05\n",
      "28 92 -5 1e-05\n",
      "29 92 -5 1e-05\n",
      "30 92 -5 1e-05\n",
      "31 85 2 100\n",
      "32 85 2 100\n",
      "33 86 1 10\n",
      "34 86 1 10\n",
      "35 86 1 10\n",
      "36 86 1 10\n",
      "37 86 1 10\n",
      "38 86 1 10\n",
      "39 86 1 10\n",
      "40 86 1 10\n",
      "41 87 0 1\n",
      "42 87 0 1\n",
      "43 87 0 1\n",
      "44 87 0 1\n",
      "45 69 18 1000000000000000000\n",
      "46 69 18 1000000000000000000\n",
      "47 70 17 100000000000000000\n",
      "48 70 17 100000000000000000\n",
      "49 70 17 100000000000000000\n",
      "50 69 18 1000000000000000000\n",
      "51 69 18 1000000000000000000\n",
      "52 70 17 100000000000000000\n",
      "53 70 17 100000000000000000\n",
      "54 70 17 100000000000000000\n",
      "55 70 17 100000000000000000\n",
      "56 85 2 100\n",
      "57 85 2 100\n",
      "58 86 1 10\n",
      "59 86 1 10\n",
      "60 86 1 10\n",
      "61 86 1 10\n",
      "62 86 1 10\n",
      "63 86 1 10\n",
      "64 86 1 10\n",
      "65 86 1 10\n",
      "66 87 0 1\n",
      "67 87 0 1\n",
      "68 87 0 1\n",
      "69 87 0 1\n",
      "70 85 2 100\n",
      "71 85 2 100\n",
      "72 86 1 10\n",
      "73 86 1 10\n",
      "74 87 0 1\n",
      "75 87 0 1\n",
      "76 87 0 1\n",
      "77 87 0 1\n",
      "78 87 0 1\n",
      "79 87 0 1\n",
      "80 87 0 1\n",
      "81 87 0 1\n",
      "82 87 0 1\n",
      "83 87 0 1\n",
      "84 69 18 1000000000000000000\n",
      "85 69 18 1000000000000000000\n",
      "86 70 17 100000000000000000\n",
      "87 70 17 100000000000000000\n",
      "88 70 17 100000000000000000\n",
      "['210X204']\n"
     ]
    }
   ],
   "source": [
    "day_n = dfx_days.columns\n",
    "standardcolumn = copy.copy(dfx_days[day_n[1]])\n",
    "standardlen = len(str(standardcolumn[0]))\n",
    "print(standardlen)\n",
    "drop_names = []\n",
    "for i in range(len(day_n)):\n",
    "    #if i == 1:\n",
    "    #    print(i, \"standard\")\n",
    "    #    continue\n",
    "    l = len(str(dfx_days[day_n[i]][0]))\n",
    "    bias = standardlen - l\n",
    "    b10 = 1\n",
    "    if bias > 0:\n",
    "        for j in range(bias):\n",
    "            b10 *= 10\n",
    "    elif bias < 0:\n",
    "        for j in range(-bias):\n",
    "            b10 /= 10\n",
    "    print(i, l, bias, b10)\n",
    "    if b10 != 1:\n",
    "        dfx_days[day_n[i]] *= b10\n",
    "    dfx_days[day_n[i]] = dfx_days[day_n[i]] - standardcolumn\n",
    "    if np.sum(dfx_days[day_n[i]]) == 0:\n",
    "        drop_names.append(day_n[i])\n",
    "print(drop_names)"
   ]
  },
  {
   "cell_type": "code",
   "execution_count": 22,
   "metadata": {},
   "outputs": [
    {
     "name": "stdout",
     "output_type": "stream",
     "text": [
      "(1511, 89)\n",
      "(1511, 88)\n"
     ]
    }
   ],
   "source": [
    "print(dfx_days.shape)\n",
    "dfx_days.drop(['210X204'], axis=1, inplace=True)\n",
    "print(dfx_days.shape)"
   ]
  },
  {
   "cell_type": "code",
   "execution_count": 23,
   "metadata": {
    "collapsed": true
   },
   "outputs": [],
   "source": [
    "# normalize time\n",
    "names = dfx_days.columns\n",
    "for n in names:\n",
    "    c = dfx_days[n]\n",
    "    tmpm = np.mean(c)\n",
    "    tmps = np.std(c)\n",
    "    dfx_days[n] = (dfx_days[n] - tmpm) / tmps"
   ]
  },
  {
   "cell_type": "code",
   "execution_count": 30,
   "metadata": {},
   "outputs": [
    {
     "name": "stdout",
     "output_type": "stream",
     "text": [
      "(1511, 3)\n"
     ]
    }
   ],
   "source": [
    "dfx_ts = dfx_days[tooshorttimes]\n",
    "print(dfx_ts.shape)"
   ]
  },
  {
   "cell_type": "code",
   "execution_count": 31,
   "metadata": {},
   "outputs": [
    {
     "name": "stderr",
     "output_type": "stream",
     "text": [
      "/home/magnusterra/anaconda3/lib/python3.6/site-packages/ipykernel_launcher.py:6: SettingWithCopyWarning: \n",
      "A value is trying to be set on a copy of a slice from a DataFrame.\n",
      "Try using .loc[row_indexer,col_indexer] = value instead\n",
      "\n",
      "See the caveats in the documentation: http://pandas.pydata.org/pandas-docs/stable/indexing.html#indexing-view-versus-copy\n",
      "  \n"
     ]
    }
   ],
   "source": [
    "names = dfx_ts.columns\n",
    "for n in names:\n",
    "    c = dfx_ts[n]\n",
    "    tmpm = np.mean(c)\n",
    "    tmps = np.std(c)\n",
    "    dfx_ts[n] = (dfx_ts[n] - tmpm) / tmps"
   ]
  },
  {
   "cell_type": "code",
   "execution_count": 32,
   "metadata": {},
   "outputs": [
    {
     "name": "stdout",
     "output_type": "stream",
     "text": [
      "(1511, 4633)\n",
      "199 4434\n"
     ]
    }
   ],
   "source": [
    "# manipulate int\n",
    "names = dfX.columns\n",
    "dtypes = dfX.dtypes\n",
    "ints = []\n",
    "floats = []\n",
    "print(dfX.shape)\n",
    "for i in range(len(names)):\n",
    "    n = names[i]\n",
    "    d = str(dtypes[i])\n",
    "    if 'int' in d:\n",
    "        ints.append(n)\n",
    "    else:\n",
    "        floats.append(n)\n",
    "print(len(ints), len(floats))"
   ]
  },
  {
   "cell_type": "code",
   "execution_count": 33,
   "metadata": {
    "collapsed": true
   },
   "outputs": [],
   "source": [
    "for n in dfx_ts.columns:\n",
    "    c = dfx_ts[n].values\n",
    "    tmpm = np.mean(c)\n",
    "    if tmpm == 0:\n",
    "        print(n)"
   ]
  },
  {
   "cell_type": "code",
   "execution_count": 36,
   "metadata": {},
   "outputs": [
    {
     "name": "stdout",
     "output_type": "stream",
     "text": [
      "(1511, 88)\n",
      "(1511, 91)\n"
     ]
    }
   ],
   "source": [
    "print(dfx_days.shape)\n",
    "dfx_days = pd.concat([dfx_days, dfx_ts], axis=1)\n",
    "print(dfx_days.shape)"
   ]
  },
  {
   "cell_type": "code",
   "execution_count": 37,
   "metadata": {},
   "outputs": [
    {
     "name": "stdout",
     "output_type": "stream",
     "text": [
      "(1511, 199)\n"
     ]
    }
   ],
   "source": [
    "# manipulate ints\n",
    "dfxints = dfX[ints]\n",
    "print(dfxints.shape)"
   ]
  },
  {
   "cell_type": "code",
   "execution_count": 38,
   "metadata": {},
   "outputs": [
    {
     "name": "stdout",
     "output_type": "stream",
     "text": [
      "(1511, 210)\n"
     ]
    }
   ],
   "source": [
    "dfxints = pd.concat([dfxints, dfxobj], axis=1)\n",
    "print(dfxints.shape)"
   ]
  },
  {
   "cell_type": "code",
   "execution_count": 42,
   "metadata": {},
   "outputs": [
    {
     "name": "stdout",
     "output_type": "stream",
     "text": [
      "289\n"
     ]
    }
   ],
   "source": [
    "float2int = []\n",
    "for n in floats:\n",
    "    c = dfX[n]\n",
    "    if np.sum(c.isnull().values) == 0:\n",
    "        x = len(set(c.values))\n",
    "        if x < 10:\n",
    "            float2int.append(n)\n",
    "print(len(float2int))"
   ]
  },
  {
   "cell_type": "code",
   "execution_count": 43,
   "metadata": {},
   "outputs": [
    {
     "name": "stdout",
     "output_type": "stream",
     "text": [
      "(1511, 499)\n"
     ]
    }
   ],
   "source": [
    "dfxints = pd.concat([dfxints, dfX[float2int]], axis=1)\n",
    "print(dfxints.shape)"
   ]
  },
  {
   "cell_type": "code",
   "execution_count": 44,
   "metadata": {},
   "outputs": [
    {
     "name": "stdout",
     "output_type": "stream",
     "text": [
      "391 387 61\n"
     ]
    }
   ],
   "source": [
    "remains1 = []\n",
    "remains2 = []\n",
    "tobedrop = []\n",
    "\n",
    "for n in dfxints.columns:\n",
    "    lu1 = len(dfxints[:799][n].unique())\n",
    "    lu2 = len(dfxints[n].unique())\n",
    "    if lu1 < 15 and lu1 > 1:\n",
    "        remains1.append(n)\n",
    "    if lu2 < 15 and lu2 > 1:\n",
    "        remains2.append(n)\n",
    "    if lu2 > 30:\n",
    "        #print(lu1, lu2)\n",
    "        tobedrop.append(n)\n",
    "    \n",
    "print(len(remains1), len(remains2), len(tobedrop))"
   ]
  },
  {
   "cell_type": "code",
   "execution_count": 45,
   "metadata": {},
   "outputs": [
    {
     "name": "stdout",
     "output_type": "stream",
     "text": [
      "387\n"
     ]
    }
   ],
   "source": [
    "toberemain = list(set(remains1) & set(remains2) - set(tobedrop))\n",
    "print(len(toberemain))"
   ]
  },
  {
   "cell_type": "code",
   "execution_count": 46,
   "metadata": {
    "collapsed": true
   },
   "outputs": [],
   "source": [
    "def dict2list(dic:dict):\n",
    "    ''' 将字典转化为列表 '''\n",
    "    keys = dic.keys()\n",
    "    vals = dic.values()\n",
    "    lst = [(key, val) for key, val in zip(keys, vals)]\n",
    "    return lst\n",
    "\n",
    "def LastRemainJudge(column):\n",
    "    unique = set(column)\n",
    "    uf = {}\n",
    "    for u in unique:\n",
    "        uf[u] = 0\n",
    "    for c in column:\n",
    "        uf[c] += 1\n",
    "    sl = sorted(dict2list(uf), key = lambda x:x[1], reverse=True)\n",
    "    x = sl[0][1]/len(column)\n",
    "    sl = np.array(sl)\n",
    "    if x < 0.85:\n",
    "        #print(sl[:, 1]/len(column))\n",
    "        return True\n",
    "    else:\n",
    "        return False"
   ]
  },
  {
   "cell_type": "code",
   "execution_count": 47,
   "metadata": {},
   "outputs": [
    {
     "name": "stdout",
     "output_type": "stream",
     "text": [
      "332 342 330\n"
     ]
    }
   ],
   "source": [
    "lm1 = []\n",
    "lm2 = []\n",
    "for n in toberemain:\n",
    "    if LastRemainJudge(dfxints[:799][n]):\n",
    "        lm1.append(n)\n",
    "    if LastRemainJudge(dfxints[n]):\n",
    "        lm2.append(n)\n",
    "print(len(lm1), len(lm2), len(set(lm1)&set(lm2)))"
   ]
  },
  {
   "cell_type": "code",
   "execution_count": 48,
   "metadata": {
    "collapsed": true
   },
   "outputs": [],
   "source": [
    "dfx_onehot_n = list(set(lm1) & set(lm2))"
   ]
  },
  {
   "cell_type": "code",
   "execution_count": 49,
   "metadata": {},
   "outputs": [
    {
     "name": "stdout",
     "output_type": "stream",
     "text": [
      "(1511, 330)\n"
     ]
    }
   ],
   "source": [
    "dfx_onehot = dfxints[dfx_onehot_n]\n",
    "print(dfx_onehot.shape)"
   ]
  },
  {
   "cell_type": "code",
   "execution_count": 50,
   "metadata": {},
   "outputs": [
    {
     "name": "stdout",
     "output_type": "stream",
     "text": [
      "(1511, 2111)\n"
     ]
    }
   ],
   "source": [
    "# make onehots onehot\n",
    "ohnames = dfx_onehot.columns\n",
    "for i in range(len(ohnames)):\n",
    "    n = ohnames[i]\n",
    "    tmp = pd.get_dummies(dfx_onehot[n], prefix='onehot_'+str(i))\n",
    "    dfx_onehot = pd.concat([dfx_onehot, tmp], axis=1)\n",
    "print(dfx_onehot.shape)"
   ]
  },
  {
   "cell_type": "code",
   "execution_count": 51,
   "metadata": {},
   "outputs": [
    {
     "name": "stdout",
     "output_type": "stream",
     "text": [
      "(1511, 1781)\n"
     ]
    }
   ],
   "source": [
    "dfx_onehot.drop(ohnames, axis=1, inplace=True)\n",
    "print(dfx_onehot.shape)"
   ]
  },
  {
   "cell_type": "code",
   "execution_count": 52,
   "metadata": {},
   "outputs": [
    {
     "name": "stdout",
     "output_type": "stream",
     "text": [
      "(1511, 4434)\n"
     ]
    }
   ],
   "source": [
    "# manipulate floats\n",
    "dfxfloats = dfX[floats]\n",
    "print(dfxfloats.shape)"
   ]
  },
  {
   "cell_type": "code",
   "execution_count": 53,
   "metadata": {},
   "outputs": [
    {
     "name": "stdout",
     "output_type": "stream",
     "text": [
      "0 504 700\n"
     ]
    }
   ],
   "source": [
    "change_names1 = []\n",
    "change_names2 = []\n",
    "change_names3 = []\n",
    "for n in dfxfloats.columns:\n",
    "    c = dfxfloats[n]\n",
    "    r = c[c.notnull()]\n",
    "    if len(set(r))<=3:\n",
    "        continue\n",
    "    x = np.sort(list(set(r)))\n",
    "    max1 = x[-1] - x[-2]\n",
    "    max2 = x[-2] - x[-3]\n",
    "    min1 = x[1] - x[0]\n",
    "    min2 = x[2] - x[1]\n",
    "    if (max1 > 0 and max2==0) or (min1>0 and min2==0):\n",
    "        change_names1.append(n)\n",
    "    else:\n",
    "        if (max2>0 and max1/max2>=7.3891):\n",
    "            change_names2.append(n)\n",
    "            newmax1 = x[-2] + max2\n",
    "            dfxfloats[n][c.notnull()][r==x[-1]] = newmax1\n",
    "        if (min2>0 and min1/min2>=7.3891):\n",
    "            change_names3.append(n)\n",
    "            newmin1 = x[1] - min2\n",
    "            dfxfloats[n][c.notnull()][r==x[0]] = newmin1\n",
    "print(len(change_names1), len(change_names2), len(change_names3))"
   ]
  },
  {
   "cell_type": "code",
   "execution_count": 54,
   "metadata": {},
   "outputs": [
    {
     "name": "stdout",
     "output_type": "stream",
     "text": [
      "978\n"
     ]
    },
    {
     "data": {
      "image/png": "[encoded data removed]",
      "text/plain": [
       "<matplotlib.figure.Figure at 0x7fdc32d31fd0>"
      ]
     },
     "metadata": {},
     "output_type": "display_data"
    }
   ],
   "source": [
    "# get the shorts\n",
    "floatsetlength = []\n",
    "for n in dfxfloats.columns:\n",
    "    c = dfxfloats[n]\n",
    "    r = c[c.notnull()].values\n",
    "    x = len(set(r))\n",
    "    floatsetlength.append(x)\n",
    "floatsetlength = np.sort(floatsetlength)\n",
    "print(np.sum(floatsetlength<10))\n",
    "plt.plot(np.arange(len(floatsetlength)), floatsetlength)\n",
    "plt.show()"
   ]
  },
  {
   "cell_type": "code",
   "execution_count": 55,
   "metadata": {},
   "outputs": [
    {
     "name": "stdout",
     "output_type": "stream",
     "text": [
      "2272 2257\n",
      "0\n"
     ]
    }
   ],
   "source": [
    "means = []\n",
    "stds = []\n",
    "drop_names = []\n",
    "names = dfxfloats.columns\n",
    "for n in names:\n",
    "    c = dfxfloats[n]\n",
    "    r = c[c.notnull()]\n",
    "    tmpm = np.mean(r)\n",
    "    tmps = np.std(r)\n",
    "    means.append(tmpm)\n",
    "    stds.append(tmps)\n",
    "    if tmps == 0:\n",
    "        drop_names.append(n)\n",
    "print(len(set(means)), len(set(stds)))\n",
    "print(len(drop_names))"
   ]
  },
  {
   "cell_type": "code",
   "execution_count": 56,
   "metadata": {},
   "outputs": [
    {
     "name": "stdout",
     "output_type": "stream",
     "text": [
      "670\n"
     ]
    }
   ],
   "source": [
    "names = dfxfloats.columns\n",
    "added = set()\n",
    "sames = []\n",
    "for i in range(len(names)):\n",
    "    tmpsl = []\n",
    "    tmpsl.append(i)\n",
    "    for j in range(i+1, len(names)):\n",
    "        if means[i] == means[j] and stds[i] == stds[j]:\n",
    "            if i not in added:\n",
    "                added.add(i)\n",
    "            if j not in added:\n",
    "                added.add(j)\n",
    "                tmpsl.append(j)\n",
    "    if len(tmpsl) > 1:\n",
    "        sames.append(tmpsl)\n",
    "print(len(sames))"
   ]
  },
  {
   "cell_type": "code",
   "execution_count": 57,
   "metadata": {},
   "outputs": [
    {
     "name": "stdout",
     "output_type": "stream",
     "text": [
      "2160\n"
     ]
    }
   ],
   "source": [
    "names = dfxfloats.columns\n",
    "drop_names = []\n",
    "for i in sames:\n",
    "    for j in i[1:]:\n",
    "        drop_names.append(names[j])\n",
    "print(len(drop_names))"
   ]
  },
  {
   "cell_type": "code",
   "execution_count": 58,
   "metadata": {},
   "outputs": [
    {
     "name": "stderr",
     "output_type": "stream",
     "text": [
      "/home/magnusterra/anaconda3/lib/python3.6/site-packages/ipykernel_launcher.py:1: SettingWithCopyWarning: \n",
      "A value is trying to be set on a copy of a slice from a DataFrame\n",
      "\n",
      "See the caveats in the documentation: http://pandas.pydata.org/pandas-docs/stable/indexing.html#indexing-view-versus-copy\n",
      "  \"\"\"Entry point for launching an IPython kernel.\n"
     ]
    },
    {
     "data": {
      "text/plain": [
       "(1511, 2274)"
      ]
     },
     "execution_count": 58,
     "metadata": {},
     "output_type": "execute_result"
    }
   ],
   "source": [
    "dfxfloats.drop(drop_names, axis=1, inplace=True)\n",
    "dfxfloats.shape"
   ]
  },
  {
   "cell_type": "code",
   "execution_count": 59,
   "metadata": {
    "scrolled": true
   },
   "outputs": [
    {
     "name": "stderr",
     "output_type": "stream",
     "text": [
      "/home/magnusterra/anaconda3/lib/python3.6/site-packages/pandas/core/generic.py:5088: SettingWithCopyWarning: \n",
      "A value is trying to be set on a copy of a slice from a DataFrame\n",
      "\n",
      "See the caveats in the documentation: http://pandas.pydata.org/pandas-docs/stable/indexing.html#indexing-view-versus-copy\n",
      "  self._update_inplace(new_data)\n",
      "/home/magnusterra/anaconda3/lib/python3.6/site-packages/IPython/core/interactiveshell.py:2881: SettingWithCopyWarning: \n",
      "A value is trying to be set on a copy of a slice from a DataFrame\n",
      "\n",
      "See the caveats in the documentation: http://pandas.pydata.org/pandas-docs/stable/indexing.html#indexing-view-versus-copy\n",
      "  exec(code_obj, self.user_global_ns, self.user_ns)\n"
     ]
    },
    {
     "name": "stdout",
     "output_type": "stream",
     "text": [
      "100\n",
      "200\n",
      "300\n",
      "400\n",
      "500\n",
      "600\n",
      "700\n",
      "800\n",
      "900\n",
      "1000\n",
      "1100\n",
      "1200\n",
      "1300\n",
      "1400\n",
      "1500\n",
      "1600\n",
      "1700\n",
      "1800\n",
      "1900\n",
      "2000\n",
      "2100\n",
      "2200\n"
     ]
    }
   ],
   "source": [
    "count = 0\n",
    "for n in dfxfloats.columns:\n",
    "    c = dfxfloats[n]\n",
    "    r = c[c.notnull()]\n",
    "    tmpm = np.mean(r)\n",
    "    dfxfloats[n][c.isnull()] = tmpm\n",
    "    count += 1\n",
    "    if count % 100 == 0:\n",
    "        print(count)"
   ]
  },
  {
   "cell_type": "code",
   "execution_count": 141,
   "metadata": {},
   "outputs": [
    {
     "name": "stdout",
     "output_type": "stream",
     "text": [
      "258\n"
     ]
    }
   ],
   "source": [
    "drop_names = []\n",
    "ratio = 0.2\n",
    "for n in dfxfloats.columns:\n",
    "    c = dfxfloats[n]\n",
    "    c1 = c[:799].values\n",
    "    c2 = c[799:1099].values\n",
    "    c3 = c[1099:].values\n",
    "    #tmpm = np.mean(c.values)\n",
    "    #tmps = np.std(c.values)\n",
    "    tmpm1 = np.mean(c1)\n",
    "    tmps1 = np.mean(c1)\n",
    "    tmpm2 = np.mean(c2)\n",
    "    tmps2 = np.mean(c2)\n",
    "    tmpm3 = np.mean(c3)\n",
    "    tmps3 = np.mean(c3)\n",
    "    if (np.abs(tmpm1-tmpm2)/tmpm1 > ratio and np.abs(tmps1-tmps2)/tmps1 > ratio) or (np.abs(tmpm1-tmpm3)/tmpm1 > ratio and np.abs(tmps1-tmps3)/tmps1 > ratio):\n",
    "        drop_names.append(n)\n",
    "print(len(drop_names))"
   ]
  },
  {
   "cell_type": "code",
   "execution_count": 142,
   "metadata": {},
   "outputs": [
    {
     "name": "stdout",
     "output_type": "stream",
     "text": [
      "(1511, 2016) (1511, 2274)\n"
     ]
    }
   ],
   "source": [
    "dfxfdr = dfxfloats.drop(drop_names, axis=1)\n",
    "print(dfxfdr.shape, dfxfloats.shape)"
   ]
  },
  {
   "cell_type": "code",
   "execution_count": 143,
   "metadata": {
    "collapsed": true
   },
   "outputs": [],
   "source": [
    "dfxlog1p = np.log(dfxfdr-np.min(dfxfdr)+1)\n",
    "dfxlog1p = (dfxlog1p-np.mean(dfxlog1p))/np.std(dfxlog1p)"
   ]
  },
  {
   "cell_type": "code",
   "execution_count": 144,
   "metadata": {},
   "outputs": [
    {
     "name": "stdout",
     "output_type": "stream",
     "text": [
      "(1511, 3888)\n"
     ]
    }
   ],
   "source": [
    "ndfx = pd.concat((dfxlog1p, dfx_onehot, dfx_days), axis=1)\n",
    "print(ndfx.shape)"
   ]
  },
  {
   "cell_type": "code",
   "execution_count": 156,
   "metadata": {},
   "outputs": [
    {
     "name": "stdout",
     "output_type": "stream",
     "text": [
      "0.00514022741207\n",
      "0.030491993233992924\n"
     ]
    }
   ],
   "source": [
    "xgb = XGBRegressor(gamma=0.1, max_depth=3, objective='reg:linear', subsample=0.95) \n",
    "xgb.fit(ndfx[:799].values, train_y.values) \n",
    "test1_pred = xgb.predict(ndfx[:799].values) \n",
    "print(MSE(test1_pred, train_y.values)) \n",
    "test1_pred = xgb.predict(ndfx[799:1099].values) \n",
    "print(MSE(test1_pred, test1y))\n",
    "xgb = XGBRegressor(gamma=0.1, max_depth=3, objective='reg:linear', subsample=0.95) \n",
    "ny = np.concatenate([train_y.values, test1y], axis=0)\n",
    "xgb.fit(ndfx[:1099].values, ny) \n",
    "test1_pred = xgb.predict(ndfx[1099:].values)\n",
    "test1_pred = test1_pred.reshape(412)\n",
    "save = pd.DataFrame({'ID':test2_id, 'value':test1_pred})\n",
    "save.to_csv('answer/b_Synchronous_logohtime_xgb_20180128_2.csv', index=False, header=False)"
   ]
  },
  {
   "cell_type": "code",
   "execution_count": 146,
   "metadata": {},
   "outputs": [
    {
     "name": "stdout",
     "output_type": "stream",
     "text": [
      "0.00274756868188\n",
      "0.032497758324087744\n"
     ]
    }
   ],
   "source": [
    "xgb = XGBRegressor(gamma=0.001, max_depth=3, objective='reg:linear', subsample=0.95)\n",
    "xgb.fit(ndfx[:799].values, train_y.values)\n",
    "test1_pred = xgb.predict(ndfx[:799].values)\n",
    "print(MSE(test1_pred, train_y.values))\n",
    "test1_pred = xgb.predict(ndfx[799:1099].values)\n",
    "print(MSE(test1_pred, test1y))"
   ]
  },
  {
   "cell_type": "code",
   "execution_count": 78,
   "metadata": {
    "collapsed": true
   },
   "outputs": [],
   "source": [
    "def MSE(y_raw, y_pred):\n",
    "    return np.mean(np.square(y_raw-y_pred))"
   ]
  },
  {
   "cell_type": "code",
   "execution_count": 79,
   "metadata": {},
   "outputs": [
    {
     "name": "stderr",
     "output_type": "stream",
     "text": [
      "/home/magnusterra/anaconda3/lib/python3.6/site-packages/sklearn/cross_validation.py:41: DeprecationWarning: This module was deprecated in version 0.18 in favor of the model_selection module into which all the refactored classes and functions are moved. Also note that the interface of the new CV iterators are different from that of this module. This module will be removed in 0.20.\n",
      "  \"This module will be removed in 0.20.\", DeprecationWarning)\n",
      "/home/magnusterra/anaconda3/lib/python3.6/site-packages/sklearn/grid_search.py:42: DeprecationWarning: This module was deprecated in version 0.18 in favor of the model_selection module into which all the refactored classes and functions are moved. This module will be removed in 0.20.\n",
      "  DeprecationWarning)\n"
     ]
    }
   ],
   "source": [
    "from sklearn.ensemble import BaggingRegressor\n",
    "from sklearn.linear_model import LinearRegression\n",
    "from xgboost import XGBRegressor\n",
    "import matplotlib.pyplot as plt\n",
    "from sklearn.cross_validation import train_test_split\n",
    "from sklearn.grid_search import GridSearchCV "
   ]
  },
  {
   "cell_type": "code",
   "execution_count": 96,
   "metadata": {
    "collapsed": true
   },
   "outputs": [],
   "source": [
    "from sklearn.model_selection import KFold \n",
    "kf = KFold(n_splits=5, random_state=2018)\n",
    "def get_oof(rgr, xtrain, ytrain, xtest, lenot):\n",
    "    oof_train = np.zeros((lenot,))\n",
    "    oof_test = np.zeros((100,))\n",
    "    oof_test_skf = np.empty((5, 100))\n",
    "    for i, (train_index, test_index) in enumerate(kf.split(xtrain)):\n",
    "        kf_xtrain = xtrain[train_index]\n",
    "        kf_ytrain = ytrain[train_index]\n",
    "        kf_xtest = xtrain[test_index]\n",
    "        rgr.fit(kf_xtrain, kf_ytrain)\n",
    "        oof_train[test_index] = rgr.predict(kf_xtest)\n",
    "        oof_test_skf[i, : ] = rgr.predict(xtest)\n",
    "    oof_test[:] = oof_test_skf.mean(axis=0)\n",
    "    return oof_train.reshape(-1,1), oof_test.reshape(-1,1)"
   ]
  },
  {
   "cell_type": "code",
   "execution_count": null,
   "metadata": {
    "collapsed": true
   },
   "outputs": [],
   "source": []
  }
 ],
 "metadata": {
  "kernelspec": {
   "display_name": "Python 3",
   "language": "python",
   "name": "python3"
  },
  "language_info": {
   "codemirror_mode": {
    "name": "ipython",
    "version": 3
   },
   "file_extension": ".py",
   "mimetype": "text/x-python",
   "name": "python",
   "nbconvert_exporter": "python",
   "pygments_lexer": "ipython3",
   "version": "3.6.1"
  }
 },
 "nbformat": 4,
 "nbformat_minor": 2
}
