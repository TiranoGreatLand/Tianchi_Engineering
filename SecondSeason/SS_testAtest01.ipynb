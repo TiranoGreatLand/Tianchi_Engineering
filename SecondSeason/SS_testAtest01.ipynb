{
 "cells": [
  {
   "cell_type": "code",
   "execution_count": 1,
   "metadata": {
    "collapsed": true
   },
   "outputs": [],
   "source": [
    "import numpy as np\n",
    "import pandas as pd\n",
    "import copy\n",
    "import matplotlib.pyplot as plt\n",
    "import seaborn as sns\n",
    "from sklearn import preprocessing"
   ]
  },
  {
   "cell_type": "code",
   "execution_count": 157,
   "metadata": {
    "collapsed": true
   },
   "outputs": [],
   "source": [
    "train_df = pd.read_excel(\"data/train.xlsx\")\n",
    "test1_df = pd.read_excel(\"data/testA.xlsx\")\n",
    "test2_df = pd.read_excel(\"data/testB.xlsx\")"
   ]
  },
  {
   "cell_type": "code",
   "execution_count": 158,
   "metadata": {},
   "outputs": [
    {
     "data": {
      "text/plain": [
       "(800,)"
      ]
     },
     "execution_count": 158,
     "metadata": {},
     "output_type": "execute_result"
    }
   ],
   "source": [
    "train_y = train_df[train_df.columns[-1]]\n",
    "train_y.shape"
   ]
  },
  {
   "cell_type": "code",
   "execution_count": 159,
   "metadata": {},
   "outputs": [
    {
     "name": "stdout",
     "output_type": "stream",
     "text": [
      "(799, 5954) (799,)\n"
     ]
    }
   ],
   "source": [
    "train_df = train_df[train_y>1.8]\n",
    "train_y = train_y[train_y>1.8]\n",
    "print(train_df.shape, train_y.shape)"
   ]
  },
  {
   "cell_type": "code",
   "execution_count": 160,
   "metadata": {
    "collapsed": true
   },
   "outputs": [],
   "source": [
    "test1y = pd.read_csv('data/testAy.csv', header=None)"
   ]
  },
  {
   "cell_type": "code",
   "execution_count": 161,
   "metadata": {},
   "outputs": [
    {
     "data": {
      "text/plain": [
       "(300,)"
      ]
     },
     "execution_count": 161,
     "metadata": {},
     "output_type": "execute_result"
    }
   ],
   "source": [
    "test1y = test1y.values[:, 1]\n",
    "test1y.shape"
   ]
  },
  {
   "cell_type": "code",
   "execution_count": 162,
   "metadata": {
    "collapsed": true
   },
   "outputs": [],
   "source": [
    "new_column = test1_df.columns\n",
    "train_df = train_df[new_column]\n",
    "train_id = train_df['ID']\n",
    "test1_id = test1_df['ID']\n",
    "test2_id = test2_df['ID']\n",
    "train_df.drop(['ID'], axis=1, inplace=True)\n",
    "test1_df.drop(['ID'], axis=1, inplace=True)\n",
    "test2_df.drop(['ID'], axis=1, inplace=True)"
   ]
  },
  {
   "cell_type": "code",
   "execution_count": 164,
   "metadata": {},
   "outputs": [
    {
     "name": "stdout",
     "output_type": "stream",
     "text": [
      "1264\n",
      "45\n"
     ]
    }
   ],
   "source": [
    "names = train_df.columns\n",
    "dts = train_df.dtypes\n",
    "drop_names = []\n",
    "year = []\n",
    "ratio = 0.15\n",
    "for i in range(len(names)):\n",
    "    n = names[i]\n",
    "    tp = dts[i]\n",
    "    trd = train_df[n]\n",
    "    ted = test1_df[n]\n",
    "    if 'object' == str(tp):\n",
    "        continue\n",
    "    else:\n",
    "        if str(train_df[n][0])[:4] == '2017' and str(train_df[n][499])[:4] == '2017':\n",
    "                year.append(n)\n",
    "        else:\n",
    "            misstr = np.sum(trd.isnull())/799\n",
    "            misste = np.sum(ted.isnull())/300\n",
    "            if np.abs(misstr-misste) > ratio:\n",
    "                drop_names.append(n)\n",
    "            \n",
    "print(len(drop_names))\n",
    "print(len(year))"
   ]
  },
  {
   "cell_type": "code",
   "execution_count": 123,
   "metadata": {
    "collapsed": true
   },
   "outputs": [],
   "source": [
    "train_df.drop(drop_names, axis=1, inplace=True)\n",
    "test1_df.drop(drop_names, axis=1, inplace=True)\n",
    "test2_df.drop(drop_names, axis=1, inplace=True)"
   ]
  },
  {
   "cell_type": "code",
   "execution_count": 124,
   "metadata": {},
   "outputs": [
    {
     "name": "stdout",
     "output_type": "stream",
     "text": [
      "680\n"
     ]
    }
   ],
   "source": [
    "names = train_df.columns\n",
    "dfs = train_df.dtypes\n",
    "# ints or strings\n",
    "ints = []\n",
    "for i in range(len(names)):\n",
    "    if 'int' in str(dfs[i]) or 'object' in str(dfs[i]):\n",
    "        ints.append(names[i])\n",
    "print(len(ints))"
   ]
  },
  {
   "cell_type": "code",
   "execution_count": 125,
   "metadata": {
    "collapsed": true
   },
   "outputs": [],
   "source": [
    "df_X = pd.concat([train_df, test1_df, test2_df], axis=0)"
   ]
  },
  {
   "cell_type": "code",
   "execution_count": 126,
   "metadata": {
    "collapsed": true
   },
   "outputs": [],
   "source": [
    "dfx_year = df_X[year]"
   ]
  },
  {
   "cell_type": "code",
   "execution_count": 127,
   "metadata": {},
   "outputs": [
    {
     "name": "stdout",
     "output_type": "stream",
     "text": [
      "159 222 317 40\n"
     ]
    }
   ],
   "source": [
    "remains1 = []\n",
    "remains2 = []\n",
    "tobedrop = []\n",
    "\n",
    "for n in ints:\n",
    "    lu1 = len(train_df[n].unique())\n",
    "    lu2 = len(df_X[n].unique())\n",
    "    if lu1 < 10 and lu1 > 1:\n",
    "        remains1.append(n)\n",
    "    if lu2 < 10 and lu2 > 1:\n",
    "        remains2.append(n)\n",
    "    if lu1 != lu2:\n",
    "        tobedrop.append(n)\n",
    "    \n",
    "print(len(remains1), len(remains2), len(tobedrop), len(year))"
   ]
  },
  {
   "cell_type": "code",
   "execution_count": 128,
   "metadata": {},
   "outputs": [
    {
     "name": "stdout",
     "output_type": "stream",
     "text": [
      "84\n"
     ]
    }
   ],
   "source": [
    "toberemain = list(set(remains1) & set(remains2) - set(tobedrop))\n",
    "print(len(toberemain))"
   ]
  },
  {
   "cell_type": "code",
   "execution_count": 129,
   "metadata": {
    "collapsed": true
   },
   "outputs": [],
   "source": [
    "def dict2list(dic:dict):\n",
    "    ''' 将字典转化为列表 '''\n",
    "    keys = dic.keys()\n",
    "    vals = dic.values()\n",
    "    lst = [(key, val) for key, val in zip(keys, vals)]\n",
    "    return lst\n",
    "\n",
    "def LastRemainJudge(column):\n",
    "    unique = set(column)\n",
    "    uf = {}\n",
    "    for u in unique:\n",
    "        uf[u] = 0\n",
    "    for c in column:\n",
    "        uf[c] += 1\n",
    "    sl = sorted(dict2list(uf), key = lambda x:x[1], reverse=True)\n",
    "    x = sl[0][1]/len(column)\n",
    "    sl = np.array(sl)\n",
    "    if x < 0.8:\n",
    "        #print(sl[:, 1]/len(column))\n",
    "        return True\n",
    "    else:\n",
    "        return False"
   ]
  },
  {
   "cell_type": "code",
   "execution_count": 130,
   "metadata": {},
   "outputs": [
    {
     "name": "stdout",
     "output_type": "stream",
     "text": [
      "53 52 52\n"
     ]
    }
   ],
   "source": [
    "lm1 = []\n",
    "lm2 = []\n",
    "for n in toberemain:\n",
    "    if LastRemainJudge(train_df[n]):\n",
    "        lm1.append(n)\n",
    "    if LastRemainJudge(df_X[n]):\n",
    "        lm2.append(n)\n",
    "print(len(lm1), len(lm2), len(set(lm1)&set(lm2)))"
   ]
  },
  {
   "cell_type": "code",
   "execution_count": 131,
   "metadata": {},
   "outputs": [
    {
     "name": "stdout",
     "output_type": "stream",
     "text": [
      "52\n",
      "3851\n",
      "(1511, 3851) (1511, 52)\n"
     ]
    }
   ],
   "source": [
    "names = df_X.columns\n",
    "dts = df_X.dtypes\n",
    "dfx_float_n = []\n",
    "dfx_onehot_n = list(set(lm1) & set(lm2))\n",
    "print(len(dfx_onehot_n))\n",
    "for i in range(len(names)):\n",
    "    n = names[i]\n",
    "    d = dts[i]\n",
    "    if 'float' in str(d):\n",
    "        dfx_float_n.append(n)\n",
    "print(len(dfx_float_n))\n",
    "dfx_float = df_X[dfx_float_n]\n",
    "dfx_onehot = df_X[dfx_onehot_n]\n",
    "print(dfx_float.shape, dfx_onehot.shape)"
   ]
  },
  {
   "cell_type": "code",
   "execution_count": 132,
   "metadata": {},
   "outputs": [
    {
     "name": "stdout",
     "output_type": "stream",
     "text": [
      "75\n"
     ]
    }
   ],
   "source": [
    "drop_names = []\n",
    "names = dfx_float.columns\n",
    "for n in names:\n",
    "    x = np.sum(dfx_float[n].isnull())\n",
    "    if x > 500:\n",
    "        drop_names.append(n)\n",
    "print(len(drop_names))"
   ]
  },
  {
   "cell_type": "code",
   "execution_count": 133,
   "metadata": {},
   "outputs": [
    {
     "name": "stdout",
     "output_type": "stream",
     "text": [
      "1866 1761\n",
      "346\n"
     ]
    }
   ],
   "source": [
    "means = []\n",
    "stds = []\n",
    "drop_names = []\n",
    "names = dfx_float.columns\n",
    "for n in names:\n",
    "    c = dfx_float[n]\n",
    "    r = c[c.notnull()]\n",
    "    tmpm = np.mean(r)\n",
    "    tmps = np.std(r)\n",
    "    means.append(tmpm)\n",
    "    stds.append(tmps)\n",
    "    if tmps == 0:\n",
    "        drop_names.append(n)\n",
    "print(len(set(means)), len(set(stds)))\n",
    "print(len(drop_names))"
   ]
  },
  {
   "cell_type": "code",
   "execution_count": 134,
   "metadata": {},
   "outputs": [
    {
     "name": "stderr",
     "output_type": "stream",
     "text": [
      "/home/magnusterra/anaconda3/lib/python3.6/site-packages/ipykernel_launcher.py:1: SettingWithCopyWarning: \n",
      "A value is trying to be set on a copy of a slice from a DataFrame\n",
      "\n",
      "See the caveats in the documentation: http://pandas.pydata.org/pandas-docs/stable/indexing.html#indexing-view-versus-copy\n",
      "  \"\"\"Entry point for launching an IPython kernel.\n"
     ]
    }
   ],
   "source": [
    "dfx_float.drop(drop_names, axis=1, inplace=True)"
   ]
  },
  {
   "cell_type": "code",
   "execution_count": 135,
   "metadata": {},
   "outputs": [
    {
     "name": "stdout",
     "output_type": "stream",
     "text": [
      "372\n"
     ]
    }
   ],
   "source": [
    "# not move sames first, fill nan\n",
    "names = dfx_float.columns\n",
    "added = set()\n",
    "sames = []\n",
    "for i in range(len(names)):\n",
    "    tmpsl = []\n",
    "    tmpsl.append(i)\n",
    "    for j in range(i+1, len(names)):\n",
    "        if means[i] == means[j] and stds[i] == stds[j]:\n",
    "            if i not in added:\n",
    "                added.add(i)\n",
    "            if j not in added:\n",
    "                added.add(j)\n",
    "                tmpsl.append(j)\n",
    "    if len(tmpsl) > 1:\n",
    "        sames.append(tmpsl)\n",
    "print(len(sames))"
   ]
  },
  {
   "cell_type": "code",
   "execution_count": 136,
   "metadata": {},
   "outputs": [
    {
     "name": "stdout",
     "output_type": "stream",
     "text": [
      "1671\n"
     ]
    }
   ],
   "source": [
    "names = dfx_float.columns\n",
    "drop_names = []\n",
    "for i in sames:\n",
    "    for j in i[1:]:\n",
    "        drop_names.append(names[j])\n",
    "print(len(drop_names))"
   ]
  },
  {
   "cell_type": "code",
   "execution_count": 137,
   "metadata": {},
   "outputs": [
    {
     "name": "stdout",
     "output_type": "stream",
     "text": [
      "(1511, 1834)\n"
     ]
    },
    {
     "name": "stderr",
     "output_type": "stream",
     "text": [
      "/home/magnusterra/anaconda3/lib/python3.6/site-packages/ipykernel_launcher.py:1: SettingWithCopyWarning: \n",
      "A value is trying to be set on a copy of a slice from a DataFrame\n",
      "\n",
      "See the caveats in the documentation: http://pandas.pydata.org/pandas-docs/stable/indexing.html#indexing-view-versus-copy\n",
      "  \"\"\"Entry point for launching an IPython kernel.\n"
     ]
    }
   ],
   "source": [
    "dfx_float.drop(drop_names, axis=1, inplace=True)\n",
    "print(dfx_float.shape)"
   ]
  },
  {
   "cell_type": "code",
   "execution_count": 138,
   "metadata": {
    "collapsed": true
   },
   "outputs": [],
   "source": [
    "cpdfxf = copy.copy(dfx_float)"
   ]
  },
  {
   "cell_type": "code",
   "execution_count": 139,
   "metadata": {},
   "outputs": [
    {
     "name": "stdout",
     "output_type": "stream",
     "text": [
      "0 217 338\n"
     ]
    }
   ],
   "source": [
    "change_names1 = []\n",
    "change_names2 = []\n",
    "change_names3 = []\n",
    "for n in dfx_float.columns:\n",
    "    c = dfx_float[n]\n",
    "    r = c[c.notnull()]\n",
    "    if len(set(r))<=3:\n",
    "        continue\n",
    "    x = np.sort(list(set(r)))\n",
    "    max1 = x[-1] - x[-2]\n",
    "    max2 = x[-2] - x[-3]\n",
    "    min1 = x[1] - x[0]\n",
    "    min2 = x[2] - x[1]\n",
    "    if (max1 > 0 and max2==0) or (min1>0 and min2==0):\n",
    "        change_names1.append(n)\n",
    "    else:\n",
    "        if (max2>0 and max1/max2>=7.3891):\n",
    "            change_names2.append(n)\n",
    "            newmax1 = x[-2] + max2\n",
    "            dfx_float[n][c.notnull()][r==x[-1]] = newmax1\n",
    "        if (min2>0 and min1/min2>=7.3891):\n",
    "            change_names3.append(n)\n",
    "            newmin1 = x[1] - min2\n",
    "            dfx_float[n][c.notnull()][r==x[0]] = newmin1\n",
    "print(len(change_names1), len(change_names2), len(change_names3))"
   ]
  },
  {
   "cell_type": "code",
   "execution_count": 140,
   "metadata": {},
   "outputs": [
    {
     "name": "stderr",
     "output_type": "stream",
     "text": [
      "/home/magnusterra/anaconda3/lib/python3.6/site-packages/pandas/core/generic.py:5088: SettingWithCopyWarning: \n",
      "A value is trying to be set on a copy of a slice from a DataFrame\n",
      "\n",
      "See the caveats in the documentation: http://pandas.pydata.org/pandas-docs/stable/indexing.html#indexing-view-versus-copy\n",
      "  self._update_inplace(new_data)\n",
      "/home/magnusterra/anaconda3/lib/python3.6/site-packages/IPython/core/interactiveshell.py:2881: SettingWithCopyWarning: \n",
      "A value is trying to be set on a copy of a slice from a DataFrame\n",
      "\n",
      "See the caveats in the documentation: http://pandas.pydata.org/pandas-docs/stable/indexing.html#indexing-view-versus-copy\n",
      "  exec(code_obj, self.user_global_ns, self.user_ns)\n"
     ]
    },
    {
     "name": "stdout",
     "output_type": "stream",
     "text": [
      "0\n"
     ]
    }
   ],
   "source": [
    "names = dfx_float.columns\n",
    "for n in names:\n",
    "    c = dfx_float[n]\n",
    "    r = c[c.notnull()]\n",
    "    tmpm = np.mean(r)\n",
    "    tmps = np.std(r)\n",
    "    assert tmps>0\n",
    "    dfx_float[n][c.isnull()] = tmpm\n",
    "print(np.sum(dfx_float.isnull().values))"
   ]
  },
  {
   "cell_type": "code",
   "execution_count": 141,
   "metadata": {},
   "outputs": [
    {
     "name": "stdout",
     "output_type": "stream",
     "text": [
      "0\n"
     ]
    }
   ],
   "source": [
    "# it shall be that there is only thre lines with nan in log1p\n",
    "mid = dfx_float-np.min(dfx_float)+1\n",
    "dfx_log1p = np.log1p(mid)\n",
    "del mid\n",
    "print(np.sum(dfx_log1p.isnull().values))"
   ]
  },
  {
   "cell_type": "code",
   "execution_count": 142,
   "metadata": {},
   "outputs": [
    {
     "name": "stderr",
     "output_type": "stream",
     "text": [
      "/home/magnusterra/anaconda3/lib/python3.6/site-packages/ipykernel_launcher.py:5: SettingWithCopyWarning: \n",
      "A value is trying to be set on a copy of a slice from a DataFrame.\n",
      "Try using .loc[row_indexer,col_indexer] = value instead\n",
      "\n",
      "See the caveats in the documentation: http://pandas.pydata.org/pandas-docs/stable/indexing.html#indexing-view-versus-copy\n",
      "  \"\"\"\n"
     ]
    }
   ],
   "source": [
    "for n in names:\n",
    "    m1 = np.mean(dfx_float[n])\n",
    "    s1 = np.std(dfx_float[n])\n",
    "    assert s1 > 0\n",
    "    dfx_float[n] = (dfx_float[n]-m1)/s1\n",
    "    m2 = np.mean(dfx_log1p[n])\n",
    "    s2 = np.std(dfx_log1p[n])\n",
    "    assert s2 > 0\n",
    "    dfx_log1p[n] = (dfx_log1p[n]-m2)/s2"
   ]
  },
  {
   "cell_type": "code",
   "execution_count": 143,
   "metadata": {},
   "outputs": [
    {
     "name": "stdout",
     "output_type": "stream",
     "text": [
      "(1511, 252)\n"
     ]
    }
   ],
   "source": [
    "# make onehots onehot\n",
    "ohnames = dfx_onehot.columns\n",
    "for i in range(len(ohnames)):\n",
    "    n = ohnames[i]\n",
    "    tmp = pd.get_dummies(dfx_onehot[n], prefix='onehot_'+str(i))\n",
    "    dfx_onehot = pd.concat([dfx_onehot, tmp], axis=1)\n",
    "print(dfx_onehot.shape)"
   ]
  },
  {
   "cell_type": "code",
   "execution_count": 144,
   "metadata": {},
   "outputs": [
    {
     "data": {
      "text/plain": [
       "(1511, 252)"
      ]
     },
     "execution_count": 144,
     "metadata": {},
     "output_type": "execute_result"
    }
   ],
   "source": [
    "dfx_onehot.shape"
   ]
  },
  {
   "cell_type": "code",
   "execution_count": 145,
   "metadata": {},
   "outputs": [
    {
     "name": "stdout",
     "output_type": "stream",
     "text": [
      "(1511, 200)\n"
     ]
    }
   ],
   "source": [
    "dfx_onehot.drop(ohnames, axis=1, inplace=True)\n",
    "print(dfx_onehot.shape)"
   ]
  },
  {
   "cell_type": "code",
   "execution_count": 146,
   "metadata": {},
   "outputs": [
    {
     "name": "stderr",
     "output_type": "stream",
     "text": [
      "/home/magnusterra/anaconda3/lib/python3.6/site-packages/ipykernel_launcher.py:16: SettingWithCopyWarning: \n",
      "A value is trying to be set on a copy of a slice from a DataFrame.\n",
      "Try using .loc[row_indexer,col_indexer] = value instead\n",
      "\n",
      "See the caveats in the documentation: http://pandas.pydata.org/pandas-docs/stable/indexing.html#indexing-view-versus-copy\n",
      "  app.launch_new_instance()\n",
      "/home/magnusterra/anaconda3/lib/python3.6/site-packages/ipykernel_launcher.py:17: SettingWithCopyWarning: \n",
      "A value is trying to be set on a copy of a slice from a DataFrame.\n",
      "Try using .loc[row_indexer,col_indexer] = value instead\n",
      "\n",
      "See the caveats in the documentation: http://pandas.pydata.org/pandas-docs/stable/indexing.html#indexing-view-versus-copy\n"
     ]
    }
   ],
   "source": [
    "year_n = dfx_year.columns\n",
    "standardlen = len(str(dfx_year[year_n[0]][0]))\n",
    "for i in range(1, len(year_n)):\n",
    "    l = len(str(dfx_year[year_n[i]][0]))\n",
    "    bias = standardlen - l\n",
    "    b10 = 1\n",
    "    if bias > 0:\n",
    "        for j in range(bias):\n",
    "            b10 *= 10\n",
    "            #dfx_year[year_n[i]] /= 10\n",
    "    elif bias < 0:\n",
    "        for j in range(-bias):\n",
    "            b10 /= 10\n",
    "            #dfx_year[year_n[i]] *= 10\n",
    "    if b10 != 1:\n",
    "        dfx_year[year_n[i]] *= b10\n",
    "    dfx_year[year_n[i]] = dfx_year[year_n[i]] - dfx_year[year_n[0]] "
   ]
  },
  {
   "cell_type": "code",
   "execution_count": 147,
   "metadata": {},
   "outputs": [
    {
     "data": {
      "text/plain": [
       "(1511, 39)"
      ]
     },
     "execution_count": 147,
     "metadata": {},
     "output_type": "execute_result"
    }
   ],
   "source": [
    "dfx_time = (dfx_year - np.mean(dfx_year))/np.std(dfx_year)\n",
    "dfx_time.shape\n",
    "dfx_time = dfx_time[dfx_time.columns[1:]]\n",
    "dfx_time.shape"
   ]
  },
  {
   "cell_type": "code",
   "execution_count": 148,
   "metadata": {},
   "outputs": [],
   "source": [
    "import matplotlib.pyplot as plt\n",
    "import xgboost as xgb\n",
    "from xgboost import plot_importance"
   ]
  },
  {
   "cell_type": "code",
   "execution_count": 149,
   "metadata": {
    "collapsed": true
   },
   "outputs": [],
   "source": [
    "from sklearn.ensemble import BaggingRegressor\n",
    "from sklearn.linear_model import LinearRegression\n",
    "from xgboost import XGBRegressor"
   ]
  },
  {
   "cell_type": "code",
   "execution_count": 150,
   "metadata": {
    "collapsed": true
   },
   "outputs": [],
   "source": [
    "def MSE(y_raw, y_pred):\n",
    "    r = np.mean(np.square(y_raw-y_pred))\n",
    "    #print(r)\n",
    "    return r"
   ]
  },
  {
   "cell_type": "code",
   "execution_count": 151,
   "metadata": {},
   "outputs": [
    {
     "data": {
      "text/plain": [
       "(1511, 2034)"
      ]
     },
     "execution_count": 151,
     "metadata": {},
     "output_type": "execute_result"
    }
   ],
   "source": [
    "dfx = pd.concat([dfx_log1p, dfx_onehot], axis=1)\n",
    "dfx.shape"
   ]
  },
  {
   "cell_type": "code",
   "execution_count": 152,
   "metadata": {},
   "outputs": [
    {
     "data": {
      "text/plain": [
       "(1511, 2073)"
      ]
     },
     "execution_count": 152,
     "metadata": {},
     "output_type": "execute_result"
    }
   ],
   "source": [
    "ndfx = pd.concat([dfx, dfx_time], axis=1)\n",
    "ndfx.shape"
   ]
  },
  {
   "cell_type": "code",
   "execution_count": 155,
   "metadata": {},
   "outputs": [
    {
     "name": "stdout",
     "output_type": "stream",
     "text": [
      "0.0154202196647\n",
      "0.03883532748316096\n"
     ]
    }
   ],
   "source": [
    "xgb = XGBRegressor(gamma=0.0001, max_depth=1, objective='reg:linear')\n",
    "xgb.fit(ndfx[:799].values, train_y.values)\n",
    "test1_pred = xgb.predict(ndfx[:799].values)\n",
    "print(MSE(test1_pred, train_y.values))\n",
    "test1_pred = xgb.predict(ndfx[799:1099].values)\n",
    "print(MSE(test1_pred, test1y))"
   ]
  },
  {
   "cell_type": "code",
   "execution_count": null,
   "metadata": {
    "collapsed": true
   },
   "outputs": [],
   "source": []
  }
 ],
 "metadata": {
  "kernelspec": {
   "display_name": "Python 3",
   "language": "python",
   "name": "python3"
  },
  "language_info": {
   "codemirror_mode": {
    "name": "ipython",
    "version": 3
   },
   "file_extension": ".py",
   "mimetype": "text/x-python",
   "name": "python",
   "nbconvert_exporter": "python",
   "pygments_lexer": "ipython3",
   "version": "3.6.1"
  }
 },
 "nbformat": 4,
 "nbformat_minor": 2
}
