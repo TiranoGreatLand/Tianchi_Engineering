{
 "cells": [
  {
   "cell_type": "code",
   "execution_count": 1,
   "metadata": {
    "collapsed": true
   },
   "outputs": [],
   "source": [
    "import numpy as np\n",
    "import pandas as pd\n",
    "import copy\n",
    "import matplotlib.pyplot as plt\n",
    "import seaborn as sns\n",
    "from sklearn import preprocessing"
   ]
  },
  {
   "cell_type": "code",
   "execution_count": 2,
   "metadata": {
    "collapsed": true
   },
   "outputs": [],
   "source": [
    "train_df = pd.read_excel(\"data/train.xlsx\")\n",
    "test1_df = pd.read_excel(\"data/testA.xlsx\")\n",
    "test2_df = pd.read_excel(\"data/testB.xlsx\")"
   ]
  },
  {
   "cell_type": "code",
   "execution_count": 3,
   "metadata": {
    "collapsed": true
   },
   "outputs": [],
   "source": [
    "train_y = train_df[train_df.columns[-1]]\n",
    "train_y.shape\n",
    "new_column = test1_df.columns\n",
    "train_df = train_df[new_column]\n",
    "train_id = train_df['ID']\n",
    "test1_id = test1_df['ID']\n",
    "test2_id = test2_df['ID']\n",
    "train_df.drop(['ID'], axis=1, inplace=True)\n",
    "test1_df.drop(['ID'], axis=1, inplace=True)\n",
    "test2_df.drop(['ID'], axis=1, inplace=True)"
   ]
  },
  {
   "cell_type": "code",
   "execution_count": 4,
   "metadata": {},
   "outputs": [
    {
     "data": {
      "text/plain": [
       "(799, 5952)"
      ]
     },
     "execution_count": 4,
     "metadata": {},
     "output_type": "execute_result"
    }
   ],
   "source": [
    "train_df = train_df[train_y>1.8]\n",
    "train_df.shape"
   ]
  },
  {
   "cell_type": "code",
   "execution_count": 5,
   "metadata": {},
   "outputs": [
    {
     "data": {
      "text/plain": [
       "(799,)"
      ]
     },
     "execution_count": 5,
     "metadata": {},
     "output_type": "execute_result"
    }
   ],
   "source": [
    "train_y = train_y[train_y>1.8]\n",
    "train_y.shape"
   ]
  },
  {
   "cell_type": "code",
   "execution_count": 6,
   "metadata": {},
   "outputs": [
    {
     "name": "stdout",
     "output_type": "stream",
     "text": [
      "770\n",
      "45\n"
     ]
    }
   ],
   "source": [
    "# get int and time part first\n",
    "ints = []\n",
    "year = []\n",
    "names = train_df.columns\n",
    "dts = train_df.dtypes\n",
    "for i in range(len(names)):\n",
    "    if 'int' in str(dts[i]) or 'object' in str(dts[i]):\n",
    "        ints.append(names[i])\n",
    "print(len(ints))\n",
    "\n",
    "for n in ints:\n",
    "    if str(train_df[n][0])[:4] == '2017' and str(test1_df[n][0])[:4] == '2017':\n",
    "        year.append(n)\n",
    "print(len(year))"
   ]
  },
  {
   "cell_type": "code",
   "execution_count": 7,
   "metadata": {},
   "outputs": [
    {
     "name": "stdout",
     "output_type": "stream",
     "text": [
      "(1511, 5952)\n",
      "621\n",
      "32239\n"
     ]
    }
   ],
   "source": [
    "# whether these has nulls\n",
    "df_X = pd.concat([train_df, test1_df, test2_df], axis=0)\n",
    "print(df_X.shape)\n",
    "print(np.sum(df_X[year].isnull().values))\n",
    "print(np.sum(df_X[ints].isnull().values))"
   ]
  },
  {
   "cell_type": "code",
   "execution_count": 8,
   "metadata": {},
   "outputs": [
    {
     "name": "stdout",
     "output_type": "stream",
     "text": [
      "330X640 124 0 78 46\n",
      "330X641 124 0 78 46\n",
      "330X1165 124 0 78 46\n",
      "330X1168 124 0 78 46\n",
      "330X1169 124 0 78 46\n",
      "520X148 1 0 0 1\n",
      "6\n"
     ]
    }
   ],
   "source": [
    "count = 0\n",
    "for n in year:\n",
    "    x = np.sum(np.sum(df_X[n].isnull().values))\n",
    "    x1 = np.sum(np.sum(train_df[n].isnull().values))\n",
    "    x2 = np.sum(np.sum(test1_df[n].isnull().values))\n",
    "    x3 = np.sum(np.sum(test2_df[n].isnull().values))\n",
    "    if x > 0:\n",
    "        count += 1\n",
    "        print(n, x, x1, x2, x3)\n",
    "print(count)"
   ]
  },
  {
   "cell_type": "code",
   "execution_count": 9,
   "metadata": {},
   "outputs": [
    {
     "name": "stderr",
     "output_type": "stream",
     "text": [
      "/home/magnusterra/anaconda3/lib/python3.6/site-packages/ipykernel_launcher.py:9: SettingWithCopyWarning: \n",
      "A value is trying to be set on a copy of a slice from a DataFrame\n",
      "\n",
      "See the caveats in the documentation: http://pandas.pydata.org/pandas-docs/stable/indexing.html#indexing-view-versus-copy\n",
      "  if __name__ == '__main__':\n",
      "/home/magnusterra/anaconda3/lib/python3.6/site-packages/pandas/core/generic.py:5088: SettingWithCopyWarning: \n",
      "A value is trying to be set on a copy of a slice from a DataFrame\n",
      "\n",
      "See the caveats in the documentation: http://pandas.pydata.org/pandas-docs/stable/indexing.html#indexing-view-versus-copy\n",
      "  self._update_inplace(new_data)\n",
      "/home/magnusterra/anaconda3/lib/python3.6/site-packages/IPython/core/interactiveshell.py:2881: SettingWithCopyWarning: \n",
      "A value is trying to be set on a copy of a slice from a DataFrame\n",
      "\n",
      "See the caveats in the documentation: http://pandas.pydata.org/pandas-docs/stable/indexing.html#indexing-view-versus-copy\n",
      "  exec(code_obj, self.user_global_ns, self.user_ns)\n"
     ]
    },
    {
     "name": "stdout",
     "output_type": "stream",
     "text": [
      "0\n"
     ]
    }
   ],
   "source": [
    "# manipulate year first\n",
    "dfx_year = df_X[year]\n",
    "# fix null\n",
    "for n in year:\n",
    "    x = np.sum(np.sum(df_X[n].isnull().values))\n",
    "    if x > 0:\n",
    "        c = dfx_year[n]\n",
    "        r = c[c.notnull()]\n",
    "        dfx_year[n][c.isnull()] = np.mean(r)\n",
    "print(np.sum(dfx_year.isnull().values))"
   ]
  },
  {
   "cell_type": "code",
   "execution_count": 10,
   "metadata": {},
   "outputs": [
    {
     "name": "stderr",
     "output_type": "stream",
     "text": [
      "/home/magnusterra/anaconda3/lib/python3.6/site-packages/ipykernel_launcher.py:16: SettingWithCopyWarning: \n",
      "A value is trying to be set on a copy of a slice from a DataFrame.\n",
      "Try using .loc[row_indexer,col_indexer] = value instead\n",
      "\n",
      "See the caveats in the documentation: http://pandas.pydata.org/pandas-docs/stable/indexing.html#indexing-view-versus-copy\n",
      "  app.launch_new_instance()\n",
      "/home/magnusterra/anaconda3/lib/python3.6/site-packages/ipykernel_launcher.py:17: SettingWithCopyWarning: \n",
      "A value is trying to be set on a copy of a slice from a DataFrame.\n",
      "Try using .loc[row_indexer,col_indexer] = value instead\n",
      "\n",
      "See the caveats in the documentation: http://pandas.pydata.org/pandas-docs/stable/indexing.html#indexing-view-versus-copy\n"
     ]
    }
   ],
   "source": [
    "year_n = dfx_year.columns\n",
    "standardlen = len(str(dfx_year[year_n[0]][0]))\n",
    "for i in range(1, len(year_n)):\n",
    "    l = len(str(dfx_year[year_n[i]][0]))\n",
    "    bias = standardlen - l\n",
    "    b10 = 1\n",
    "    if bias > 0:\n",
    "        for j in range(bias):\n",
    "            b10 *= 10\n",
    "            #dfx_year[year_n[i]] /= 10\n",
    "    elif bias < 0:\n",
    "        for j in range(-bias):\n",
    "            b10 /= 10\n",
    "            #dfx_year[year_n[i]] *= 10\n",
    "    if b10 != 1:\n",
    "        dfx_year[year_n[i]] *= b10\n",
    "    dfx_year[year_n[i]] = dfx_year[year_n[i]] - dfx_year[year_n[0]] "
   ]
  },
  {
   "cell_type": "code",
   "execution_count": 11,
   "metadata": {
    "collapsed": true
   },
   "outputs": [],
   "source": [
    "dfx_time = (dfx_year - np.mean(dfx_year))/np.std(dfx_year)"
   ]
  },
  {
   "cell_type": "code",
   "execution_count": 12,
   "metadata": {},
   "outputs": [
    {
     "data": {
      "text/plain": [
       "(1511, 44)"
      ]
     },
     "execution_count": 12,
     "metadata": {},
     "output_type": "execute_result"
    }
   ],
   "source": [
    "dfx_time = dfx_time[dfx_time.columns[1:]]\n",
    "dfx_time.shape"
   ]
  },
  {
   "cell_type": "code",
   "execution_count": 13,
   "metadata": {},
   "outputs": [
    {
     "name": "stdout",
     "output_type": "stream",
     "text": [
      "725\n",
      "220X158 0.0 0.833333333333 1.0 2\n",
      "220X199 0.0 0.833333333333 1.0 2\n",
      "220X205 0.0 0.833333333333 1.0 2\n",
      "220X220 0.0 0.833333333333 1.0 2\n",
      "220X222 0.0 0.833333333333 1.0 2\n",
      "220X223 0.0 0.833333333333 1.0 29\n",
      "220X224 0.0 0.833333333333 1.0 220\n",
      "312X36 0.0 0.04 0.0 5\n",
      "312X46 0.0 0.04 0.0 6\n",
      "312X51 0.0 0.04 0.0 59\n",
      "312X57 0.0 0.04 0.0 104\n",
      "312X63 0.0 0.04 0.0 81\n",
      "312X87 0.0 0.04 0.0 10\n",
      "312X93 0.0 0.04 0.0 6\n",
      "312X99 0.0 0.04 0.0 4\n",
      "312X105 0.0 0.04 0.0 3\n",
      "312X147 0.0 0.04 0.0 3\n",
      "312X153 0.0 0.04 0.0 4\n",
      "312X177 0.0 0.04 0.0 3\n",
      "312X253 0.0 0.04 0.0 10\n",
      "312X259 0.0 0.04 0.0 38\n",
      "312X265 0.0 0.04 0.0 10\n",
      "312X271 0.0 0.04 0.0 2\n",
      "312X277 0.0 0.04 0.0 8\n",
      "312X283 0.0 0.04 0.0 5\n",
      "312X289 0.0 0.04 0.0 5\n",
      "312X295 0.0 0.04 0.0 3\n",
      "312X301 0.0 0.04 0.0 2\n",
      "312X307 0.0 0.04 0.0 3\n",
      "312X313 0.0 0.04 0.0 2\n",
      "312X319 0.0 0.04 0.0 2\n",
      "312X325 0.0 0.04 0.0 2\n",
      "312X331 0.0 0.04 0.0 5\n",
      "312X337 0.0 0.04 0.0 5\n",
      "312X343 0.0 0.04 0.0 2\n",
      "312X349 0.0 0.04 0.0 5\n",
      "312X355 0.0 0.04 0.0 4\n",
      "312X361 0.0 0.04 0.0 5\n",
      "312X367 0.0 0.04 0.0 3\n",
      "312X373 0.0 0.04 0.0 9\n",
      "312X379 0.0 0.04 0.0 7\n",
      "312X385 0.0 0.04 0.0 6\n",
      "312X391 0.0 0.04 0.0 2\n",
      "312X397 0.0 0.04 0.0 2\n",
      "312X403 0.0 0.04 0.0 2\n",
      "312X409 0.0 0.04 0.0 2\n",
      "312X415 0.0 0.04 0.0 2\n",
      "312X426 0.0 0.04 0.0 5\n",
      "312X432 0.0 0.04 0.0 3\n",
      "312X450 0.0 0.04 0.0 3\n",
      "312X456 0.0 0.04 0.0 5\n",
      "312X462 0.0 0.04 0.0 54\n",
      "312X468 0.0 0.04 0.0 56\n",
      "312X474 0.0 0.04 0.0 13\n",
      "312X480 0.0 0.04 0.0 22\n",
      "312X486 0.0 0.04 0.0 11\n",
      "312X492 0.0 0.04 0.0 2\n",
      "312X498 0.0 0.04 0.0 2\n",
      "312X504 0.0 0.04 0.0 2\n",
      "312X510 0.0 0.04 0.0 3\n",
      "312X516 0.0 0.04 0.0 15\n",
      "312X522 0.0 0.04 0.0 14\n",
      "312X528 0.0 0.04 0.0 39\n",
      "312X534 0.0 0.04 0.0 2\n",
      "312X540 0.0 0.04 0.0 2\n",
      "312X546 0.0 0.04 0.0 2\n",
      "312X552 0.0 0.04 0.0 194\n",
      "312X558 0.0 0.04 0.0 198\n",
      "312X564 0.0 0.04 0.0 204\n",
      "312X570 0.0 0.04 0.0 6\n",
      "312X576 0.0 0.04 0.0 47\n",
      "312X582 0.0 0.04 0.0 42\n",
      "312X588 0.0 0.04 0.0 15\n",
      "312X594 0.0 0.04 0.0 15\n",
      "312X600 0.0 0.04 0.0 15\n",
      "312X606 0.0 0.04 0.0 2\n",
      "312X612 0.0 0.04 0.0 2\n",
      "312X618 0.0 0.04 0.0 2\n",
      "312X624 0.0 0.04 0.0 3\n",
      "312X630 0.0 0.04 0.0 12\n",
      "312X636 0.0 0.04 0.0 19\n",
      "312X642 0.0 0.04 0.0 12\n",
      "312X648 0.0 0.04 0.0 2\n",
      "312X654 0.0 0.04 0.0 2\n",
      "312X660 0.0 0.04 0.0 2\n",
      "312X666 0.0 0.04 0.0 123\n",
      "312X672 0.0 0.04 0.0 148\n",
      "312X678 0.0 0.04 0.0 121\n",
      "312X684 0.0 0.04 0.0 2\n",
      "312X695 0.0 0.04 0.0 16\n",
      "312X700 0.0 0.04 0.0 46\n",
      "312X705 0.0 0.04 0.0 3\n",
      "312X746 0.0 0.04 0.0 3\n",
      "312X752 0.0 0.04 0.0 13\n",
      "312X794 0.0 0.04 0.0 3\n",
      "330X33 0.0 0.26 0.111650485437 2\n",
      "330X34 0.0 0.26 0.111650485437 2\n",
      "330X36 0.0 0.26 0.111650485437 2\n",
      "330X37 0.0 0.26 0.111650485437 2\n",
      "330X39 0.0 0.26 0.111650485437 2\n",
      "330X40 0.0 0.26 0.111650485437 2\n",
      "330X83 0.0 0.26 0.111650485437 2\n",
      "330X84 0.0 0.26 0.111650485437 2\n",
      "330X86 0.0 0.26 0.111650485437 2\n",
      "330X87 0.0 0.26 0.111650485437 2\n",
      "330X89 0.0 0.26 0.111650485437 2\n",
      "330X90 0.0 0.26 0.111650485437 2\n",
      "330X91 0.0 0.26 0.111650485437 3\n",
      "330X624 0.0 0.26 0.111650485437 2\n",
      "330X625 0.0 0.26 0.111650485437 2\n",
      "330X642 0.0 0.26 0.111650485437 15\n",
      "330X643 0.0 0.26 0.111650485437 15\n",
      "330X644 0.0 0.26 0.111650485437 2\n",
      "330X645 0.0 0.26 0.111650485437 2\n",
      "330X646 0.0 0.26 0.111650485437 2\n",
      "330X647 0.0 0.26 0.111650485437 4\n",
      "330X648 0.0 0.26 0.111650485437 4\n",
      "330X659 0.0 0.26 0.111650485437 2\n",
      "ERROR:#N/A (#1) 0.0 0.26 0.111650485437 2\n",
      "330X679 0.0 0.26 0.111650485437 2\n",
      "ERROR:#N/A_1 (#1) 0.0 0.26 0.111650485437 2\n",
      "330X739 0.0 0.26 0.111650485437 2\n",
      "330X779 0.0 0.26 0.111650485437 2\n",
      "330X838 0.0 0.26 0.111650485437 2\n",
      "330X848 0.0 0.26 0.111650485437 2\n",
      "330X878 0.0 0.26 0.111650485437 971\n",
      "330X879 0.0 0.26 0.111650485437 2\n",
      "330X889 0.0 0.26 0.111650485437 972\n",
      "330X890 0.0 0.26 0.111650485437 20\n",
      "330X906 0.0 0.26 0.111650485437 3\n",
      "330X907 0.0 0.26 0.111650485437 3\n",
      "330X1053 0.0 0.26 0.111650485437 3\n",
      "330X1054 0.0 0.26 0.111650485437 3\n",
      "330X1100 0.0 0.26 0.111650485437 75\n",
      "330X1101 0.0 0.26 0.111650485437 75\n",
      "330X1103 0.0 0.26 0.111650485437 76\n",
      "330X1104 0.0 0.26 0.111650485437 76\n",
      "330X1166 0.0 0.26 0.111650485437 1343\n",
      "330X1167 0.0 0.26 0.111650485437 971\n",
      "330X1170 0.0 0.26 0.111650485437 1343\n",
      "330X1213 0.0 0.26 0.111650485437 3\n",
      "330X1272 0.0 0.26 0.111650485437 20\n",
      "330X1302 0.0 0.26 0.111650485437 4\n",
      "344X29 0.0 0.83 1.0 4\n",
      "344X92 0.0 0.83 1.0 4\n",
      "344X101 0.0 0.83 1.0 3\n",
      "344X110 0.0 0.83 1.0 4\n",
      "344X119 0.0 0.83 1.0 4\n",
      "344X128 0.0 0.83 1.0 3\n",
      "344X137 0.0 0.83 1.0 4\n",
      "344X146 0.0 0.83 1.0 527\n",
      "344X158 0.0 0.83 1.0 62\n",
      "344X167 0.0 0.83 1.0 3\n",
      "ERROR:#N/A (#3) 0.0 0.833333333333 1.0 19\n",
      "344X176 0.0 0.83 1.0 28\n",
      "ERROR:#N/A_2 (#1) 0.0 0.833333333333 1.0 2\n",
      "ERROR:#N/A_4 (#1) 0.0 0.833333333333 1.0 2\n",
      "344X185 0.0 0.83 1.0 76\n",
      "ERROR:#N/A_6 0.0 0.833333333333 1.0 74\n",
      "ERROR:#N/A_8 0.0 0.833333333333 1.0 55\n",
      "344X194 0.0 0.83 1.0 47\n",
      "344X203 0.0 0.83 1.0 2\n",
      "ERROR:#N/A_9 0.0 0.833333333333 1.0 4\n",
      "ERROR:#N/A_11 0.0 0.833333333333 1.0 32\n",
      "ERROR:#N/A_12 0.0 0.833333333333 1.0 2\n",
      "344X220 0.0 0.83 1.0 3\n",
      "ERROR:#N/A_14 0.0 0.833333333333 1.0 239\n",
      "ERROR:#N/A_16 0.0 0.833333333333 1.0 3\n",
      "ERROR:#N/A_18 0.0 0.833333333333 1.0 9\n",
      "ERROR:#N/A_19 0.0 0.833333333333 1.0 2\n",
      "ERROR:#N/A_22 0.0 0.833333333333 1.0 2\n",
      "344X250 0.0 0.83 1.0 25\n",
      "ERROR:#N/A_26 0.0 0.833333333333 1.0 2\n",
      "400X1 0.0 0.00333333333333 0.00485436893204 2\n",
      "400X2 0.0 0.00333333333333 0.00485436893204 2\n",
      "400X3 0.0 0.00333333333333 0.00485436893204 2\n",
      "400X4 0.0 0.00333333333333 0.00485436893204 1428\n",
      "400X17 0.0 0.00333333333333 0.00485436893204 2\n",
      "400X24 0.0 0.00333333333333 0.00485436893204 2\n",
      "400X29 0.0 0.00333333333333 0.00485436893204 3\n",
      "400X30 0.0 0.00333333333333 0.00485436893204 1413\n",
      "400X31 0.0 0.00333333333333 0.00485436893204 1413\n",
      "400X32 0.0 0.00333333333333 0.00485436893204 1466\n",
      "400X33 0.0 0.00333333333333 0.00485436893204 1436\n",
      "400X34 0.0 0.00333333333333 0.00485436893204 4\n",
      "400X35 0.0 0.00333333333333 0.00485436893204 3\n",
      "400X36 0.0 0.00333333333333 0.00485436893204 4\n",
      "400X37 0.0 0.00333333333333 0.00485436893204 4\n",
      "400X38 0.0 0.00333333333333 0.00485436893204 4\n",
      "400X39 0.0 0.00333333333333 0.00485436893204 2\n",
      "400X40 0.0 0.00333333333333 0.00485436893204 2\n",
      "400X41 0.0 0.00333333333333 0.00485436893204 2\n",
      "400X42 0.0 0.00333333333333 0.00485436893204 2\n",
      "400X43 0.0 0.00333333333333 0.00485436893204 2\n",
      "400X44 0.0 0.00333333333333 0.00485436893204 2\n",
      "400X45 0.0 0.00333333333333 0.00485436893204 2\n",
      "400X46 0.0 0.00333333333333 0.00485436893204 2\n",
      "400X47 0.0 0.00333333333333 0.00485436893204 2\n",
      "400X71 0.0 0.00333333333333 0.00485436893204 4\n",
      "400X90 0.0 0.00333333333333 0.00485436893204 5\n",
      "400X107 0.0 0.00333333333333 0.00485436893204 2\n",
      "400X113 0.0 0.00333333333333 0.00485436893204 2\n",
      "400X137 0.0 0.00333333333333 0.00485436893204 2\n",
      "400X143 0.0 0.00333333333333 0.00485436893204 2\n",
      "400X155 0.0 0.00333333333333 0.00485436893204 2\n",
      "400X161 0.0 0.00333333333333 0.00485436893204 2\n",
      "400X187 0.0 0.00333333333333 0.00485436893204 8\n",
      "400X203 0.0 0.00333333333333 0.00485436893204 2\n",
      "400X204 0.0 0.00333333333333 0.00485436893204 3\n",
      "400X205 0.0 0.00333333333333 0.00485436893204 83\n",
      "400X206 0.0 0.00333333333333 0.00485436893204 2\n",
      "400X207 0.0 0.00333333333333 0.00485436893204 2\n",
      "400X226 0.0 0.00333333333333 0.00485436893204 2\n",
      "400X227 0.0 0.00333333333333 0.00485436893204 3\n",
      "400X228 0.0 0.00333333333333 0.00485436893204 17\n",
      "400X229 0.0 0.00333333333333 0.00485436893204 2\n",
      "400X230 0.0 0.00333333333333 0.00485436893204 2\n",
      "217 86\n"
     ]
    }
   ],
   "source": [
    "# then manipulate the one_hots\n",
    "count = 0\n",
    "print(len(ints)-len(year))\n",
    "drop_ints = []\n",
    "for n in ints:\n",
    "    if n not in year:\n",
    "        x = np.sum(df_X[n].isnull().values)\n",
    "        if x > 0:\n",
    "            x1 = np.sum(train_df[n].isnull().values)/799\n",
    "            x2 = np.sum(test1_df[n].isnull().values)/300\n",
    "            x3 = np.sum(test2_df[n].isnull().values)/412\n",
    "            x4 = len(df_X[n].unique())\n",
    "            if x2 > 0.4 or x3 > 0.4 or x4 > 10:\n",
    "                drop_ints.append(n)\n",
    "            print(n, x1, x2, x3, x4)\n",
    "            count += 1\n",
    "print(count, len(drop_ints))"
   ]
  },
  {
   "cell_type": "code",
   "execution_count": 14,
   "metadata": {},
   "outputs": [
    {
     "name": "stdout",
     "output_type": "stream",
     "text": [
      "639\n"
     ]
    }
   ],
   "source": [
    "newints = set(ints) - set(year) - set(drop_ints)\n",
    "print(len(newints))"
   ]
  },
  {
   "cell_type": "code",
   "execution_count": 15,
   "metadata": {},
   "outputs": [
    {
     "name": "stdout",
     "output_type": "stream",
     "text": [
      "131\n"
     ]
    }
   ],
   "source": [
    "count = 0\n",
    "nullints = []\n",
    "for n in newints:\n",
    "    c = df_X[n]\n",
    "    x = np.sum(c.isnull().values)\n",
    "    if x > 0:\n",
    "        nullints.append(n)\n",
    "        r = c[c.notnull()]\n",
    "        count += 1\n",
    "print(count)"
   ]
  },
  {
   "cell_type": "code",
   "execution_count": 16,
   "metadata": {},
   "outputs": [
    {
     "name": "stdout",
     "output_type": "stream",
     "text": [
      "508\n"
     ]
    }
   ],
   "source": [
    "# not fix the null first, just drop it\n",
    "nints = set(newints) - set(nullints)\n",
    "print(len(nints))"
   ]
  },
  {
   "cell_type": "code",
   "execution_count": 17,
   "metadata": {},
   "outputs": [
    {
     "name": "stdout",
     "output_type": "stream",
     "text": [
      "120 129 145 45\n"
     ]
    }
   ],
   "source": [
    "remains1 = []\n",
    "remains2 = []\n",
    "tobedrop = []\n",
    "\n",
    "for n in nints:\n",
    "    lu1 = len(train_df[n].unique())\n",
    "    lu2 = len(df_X[n].unique())\n",
    "    if lu1 < 10 and lu1 > 1:\n",
    "        remains1.append(n)\n",
    "    if lu2 < 10 and lu2 > 1:\n",
    "        remains2.append(n)\n",
    "    if lu1 != lu2:\n",
    "        tobedrop.append(n)\n",
    "    \n",
    "print(len(remains1), len(remains2), len(tobedrop), len(year))"
   ]
  },
  {
   "cell_type": "code",
   "execution_count": 18,
   "metadata": {},
   "outputs": [
    {
     "name": "stdout",
     "output_type": "stream",
     "text": [
      "84\n"
     ]
    }
   ],
   "source": [
    "toberemain = list(set(remains1) & set(remains2) - set(tobedrop))\n",
    "print(len(toberemain))"
   ]
  },
  {
   "cell_type": "code",
   "execution_count": 19,
   "metadata": {
    "collapsed": true
   },
   "outputs": [],
   "source": [
    "def dict2list(dic:dict):\n",
    "    ''' 将字典转化为列表 '''\n",
    "    keys = dic.keys()\n",
    "    vals = dic.values()\n",
    "    lst = [(key, val) for key, val in zip(keys, vals)]\n",
    "    return lst\n",
    "\n",
    "def LastRemainJudge(column):\n",
    "    unique = set(column)\n",
    "    uf = {}\n",
    "    for u in unique:\n",
    "        uf[u] = 0\n",
    "    for c in column:\n",
    "        uf[c] += 1\n",
    "    sl = sorted(dict2list(uf), key = lambda x:x[1], reverse=True)\n",
    "    x = sl[0][1]/len(column)\n",
    "    sl = np.array(sl)\n",
    "    if x < 0.8:\n",
    "        #print(sl[:, 1]/len(column))\n",
    "        return True\n",
    "    else:\n",
    "        return False"
   ]
  },
  {
   "cell_type": "code",
   "execution_count": 20,
   "metadata": {},
   "outputs": [
    {
     "name": "stdout",
     "output_type": "stream",
     "text": [
      "53 52 52\n"
     ]
    }
   ],
   "source": [
    "lm1 = []\n",
    "lm2 = []\n",
    "for n in toberemain:\n",
    "    if LastRemainJudge(train_df[n]):\n",
    "        lm1.append(n)\n",
    "    if LastRemainJudge(df_X[n]):\n",
    "        lm2.append(n)\n",
    "print(len(lm1), len(lm2), len(set(lm1)&set(lm2)))"
   ]
  },
  {
   "cell_type": "code",
   "execution_count": 21,
   "metadata": {},
   "outputs": [
    {
     "name": "stdout",
     "output_type": "stream",
     "text": [
      "52\n"
     ]
    }
   ],
   "source": [
    "dfx_onehot_n = list(set(lm1) & set(lm2))\n",
    "print(len(dfx_onehot_n))"
   ]
  },
  {
   "cell_type": "code",
   "execution_count": 22,
   "metadata": {
    "collapsed": true
   },
   "outputs": [],
   "source": [
    "dfx_onehot = df_X[dfx_onehot_n]"
   ]
  },
  {
   "cell_type": "code",
   "execution_count": 23,
   "metadata": {},
   "outputs": [
    {
     "name": "stdout",
     "output_type": "stream",
     "text": [
      "(1511, 200)\n"
     ]
    }
   ],
   "source": [
    "ohnames = dfx_onehot.columns\n",
    "for i in range(len(ohnames)):\n",
    "    n = ohnames[i]\n",
    "    tmp = pd.get_dummies(dfx_onehot[n], prefix='onehot_'+str(i))\n",
    "    dfx_onehot = pd.concat([dfx_onehot, tmp], axis=1)\n",
    "\n",
    "dfx_onehot.drop(ohnames, axis=1, inplace=True)\n",
    "print(dfx_onehot.shape)"
   ]
  },
  {
   "cell_type": "code",
   "execution_count": 313,
   "metadata": {},
   "outputs": [
    {
     "name": "stdout",
     "output_type": "stream",
     "text": [
      "5423\n"
     ]
    }
   ],
   "source": [
    "# manipulate the global part of float manipulation\n",
    "names = df_X.columns\n",
    "dtypes = df_X.dtypes\n",
    "floats = []\n",
    "for i in range(len(names)):\n",
    "    n = names[i]\n",
    "    d = dtypes[i]\n",
    "    if 'float' in str(d):\n",
    "        floats.append(n)\n",
    "print(len(floats))"
   ]
  },
  {
   "cell_type": "code",
   "execution_count": 314,
   "metadata": {},
   "outputs": [
    {
     "name": "stdout",
     "output_type": "stream",
     "text": [
      "475\n",
      "(1511, 4948)\n"
     ]
    },
    {
     "name": "stderr",
     "output_type": "stream",
     "text": [
      "/home/magnusterra/anaconda3/lib/python3.6/site-packages/ipykernel_launcher.py:12: SettingWithCopyWarning: \n",
      "A value is trying to be set on a copy of a slice from a DataFrame\n",
      "\n",
      "See the caveats in the documentation: http://pandas.pydata.org/pandas-docs/stable/indexing.html#indexing-view-versus-copy\n",
      "  if sys.path[0] == '':\n"
     ]
    }
   ],
   "source": [
    "dfxF = df_X[floats]\n",
    "drop_names = []\n",
    "for n in dfxF.columns:\n",
    "    c = dfxF[n]\n",
    "    r = c[c.notnull()]\n",
    "    tmps = np.std(r)\n",
    "    if tmps == 0:\n",
    "        drop_names.append(n)\n",
    "dnl = len(drop_names)\n",
    "print(dnl)\n",
    "if dnl > 0:\n",
    "    dfxF.drop(drop_names, axis=1, inplace=True)\n",
    "print(dfxF.shape)"
   ]
  },
  {
   "cell_type": "code",
   "execution_count": 315,
   "metadata": {},
   "outputs": [
    {
     "name": "stdout",
     "output_type": "stream",
     "text": [
      "156\n",
      "156\n",
      "(1511, 4792)\n"
     ]
    },
    {
     "name": "stderr",
     "output_type": "stream",
     "text": [
      "/home/magnusterra/anaconda3/lib/python3.6/site-packages/ipykernel_launcher.py:11: SettingWithCopyWarning: \n",
      "A value is trying to be set on a copy of a slice from a DataFrame\n",
      "\n",
      "See the caveats in the documentation: http://pandas.pydata.org/pandas-docs/stable/indexing.html#indexing-view-versus-copy\n",
      "  # This is added back by InteractiveShellApp.init_path()\n"
     ]
    }
   ],
   "source": [
    "drop_names = []\n",
    "names = dfxF.columns\n",
    "for n in names:\n",
    "    x = np.sum(dfxF[n].isnull())\n",
    "    if x > 700:\n",
    "        drop_names.append(n)\n",
    "print(len(drop_names))\n",
    "dnl = len(drop_names)\n",
    "print(dnl)\n",
    "if dnl > 0:\n",
    "    dfxF.drop(drop_names, axis=1, inplace=True)\n",
    "print(dfxF.shape)"
   ]
  },
  {
   "cell_type": "code",
   "execution_count": 316,
   "metadata": {},
   "outputs": [
    {
     "name": "stdout",
     "output_type": "stream",
     "text": [
      "2556 2540\n",
      "0\n"
     ]
    }
   ],
   "source": [
    "means = []\n",
    "stds = []\n",
    "drop_names = []\n",
    "names = dfxF.columns\n",
    "for n in names:\n",
    "    c = dfxF[n]\n",
    "    r = c[c.notnull()]\n",
    "    tmpm = np.mean(r)\n",
    "    tmps = np.std(r)\n",
    "    means.append(tmpm)\n",
    "    stds.append(tmps)\n",
    "    if tmps == 0:\n",
    "        drop_names.append(n)\n",
    "print(len(set(means)), len(set(stds)))\n",
    "print(len(drop_names))"
   ]
  },
  {
   "cell_type": "code",
   "execution_count": 317,
   "metadata": {},
   "outputs": [
    {
     "data": {
      "text/plain": [
       "(1511, 4792)"
      ]
     },
     "execution_count": 317,
     "metadata": {},
     "output_type": "execute_result"
    }
   ],
   "source": [
    "dfxF.shape"
   ]
  },
  {
   "cell_type": "code",
   "execution_count": 318,
   "metadata": {},
   "outputs": [
    {
     "name": "stdout",
     "output_type": "stream",
     "text": [
      "277\n"
     ]
    }
   ],
   "source": [
    "names = dfxF.columns\n",
    "added = set()\n",
    "sames = []\n",
    "for i in range(len(names)):\n",
    "    tmpsl = []\n",
    "    tmpsl.append(i)\n",
    "    for j in range(i+1, len(names)):\n",
    "        if means[i] == means[j] and stds[i] == stds[j]:\n",
    "            c1 = dfxF[names[i]]\n",
    "            c2 = dfxF[names[j]]\n",
    "            x1 = np.sum(c1.isnull())\n",
    "            x2 = np.sum(c2.isnull())\n",
    "            if x1 == x2:\n",
    "                if x1 == 0:\n",
    "                    if np.sum(c1==c2) >1500:\n",
    "                        if i not in added:\n",
    "                            added.add(i)\n",
    "                        if j not in added:\n",
    "                            added.add(j)\n",
    "                            tmpsl.append(j)\n",
    "                else:\n",
    "                    if np.sum(c1.isnull()==c2.isnull()) > 1500:\n",
    "                        r1 = c1[c1.isnull()]\n",
    "                        r2 = c2[c2.isnull()]\n",
    "                        if np.sum(r1==r2) == 1511-x1:\n",
    "                            if i not in added:\n",
    "                                added.add(i)\n",
    "                            if j not in added:\n",
    "                                added.add(j)\n",
    "                                tmpsl.append(j)\n",
    "    if len(tmpsl) > 1:\n",
    "        sames.append(tmpsl)\n",
    "print(len(sames))"
   ]
  },
  {
   "cell_type": "code",
   "execution_count": 319,
   "metadata": {},
   "outputs": [
    {
     "name": "stdout",
     "output_type": "stream",
     "text": [
      "1642\n"
     ]
    }
   ],
   "source": [
    "names = dfxF.columns\n",
    "drop_names = []\n",
    "for i in sames:\n",
    "    for j in i[1:]:\n",
    "        drop_names.append(names[j])\n",
    "print(len(drop_names))"
   ]
  },
  {
   "cell_type": "code",
   "execution_count": 320,
   "metadata": {},
   "outputs": [
    {
     "name": "stdout",
     "output_type": "stream",
     "text": [
      "(1511, 3150)\n"
     ]
    },
    {
     "name": "stderr",
     "output_type": "stream",
     "text": [
      "/home/magnusterra/anaconda3/lib/python3.6/site-packages/ipykernel_launcher.py:1: SettingWithCopyWarning: \n",
      "A value is trying to be set on a copy of a slice from a DataFrame\n",
      "\n",
      "See the caveats in the documentation: http://pandas.pydata.org/pandas-docs/stable/indexing.html#indexing-view-versus-copy\n",
      "  \"\"\"Entry point for launching an IPython kernel.\n"
     ]
    }
   ],
   "source": [
    "dfxF.drop(drop_names, axis=1, inplace=True)\n",
    "print(dfxF.shape)"
   ]
  },
  {
   "cell_type": "code",
   "execution_count": 321,
   "metadata": {},
   "outputs": [
    {
     "name": "stdout",
     "output_type": "stream",
     "text": [
      "2242 2242\n"
     ]
    }
   ],
   "source": [
    "t_null = []\n",
    "e_null = []\n",
    "drop_names = []\n",
    "for n in dfxF.columns:\n",
    "    c = dfxF[n]\n",
    "    x = np.sum(c.isnull())\n",
    "    if x > 0:\n",
    "        xt = np.sum(c[:799].isnull())\n",
    "        xe = np.sum(c[799:1099].isnull())\n",
    "        t_null.append(xt)\n",
    "        e_null.append(xe)\n",
    "        drop_names.append(n)\n",
    "print(len(t_null), len(drop_names))"
   ]
  },
  {
   "cell_type": "code",
   "execution_count": 322,
   "metadata": {},
   "outputs": [
    {
     "name": "stdout",
     "output_type": "stream",
     "text": [
      "after first drop 1258\n",
      "after second drop 1246 1246\n",
      "996\n"
     ]
    }
   ],
   "source": [
    "t_null = np.array(t_null)\n",
    "e_null = np.array(e_null)\n",
    "drop_names = np.array(drop_names)\n",
    "remain_names = copy.copy(drop_names)\n",
    "t_null_1 = t_null[e_null<70]\n",
    "e_null_1 = e_null[e_null<70]\n",
    "remain_names = remain_names[e_null<70]\n",
    "print(\"after first drop\", len(t_null_1))\n",
    "t_null_2 = t_null_1[t_null_1<80]\n",
    "e_null_2 = e_null_1[t_null_1<80]\n",
    "remain_names = remain_names[t_null_1<80]\n",
    "print(\"after second drop\", len(t_null_2), len(remain_names))\n",
    "drop_names = list(set(drop_names)-set(remain_names))\n",
    "print(len(drop_names))"
   ]
  },
  {
   "cell_type": "code",
   "execution_count": 323,
   "metadata": {},
   "outputs": [
    {
     "name": "stdout",
     "output_type": "stream",
     "text": [
      "0\n"
     ]
    }
   ],
   "source": [
    "print(np.sum(e_null_2>70))"
   ]
  },
  {
   "cell_type": "code",
   "execution_count": 324,
   "metadata": {},
   "outputs": [
    {
     "data": {
      "image/png": "[encoded data removed]",
      "text/plain": [
       "<matplotlib.figure.Figure at 0x7fb036f17080>"
      ]
     },
     "metadata": {},
     "output_type": "display_data"
    }
   ],
   "source": [
    "plt.scatter(t_null_2, e_null_2)\n",
    "plt.show()"
   ]
  },
  {
   "cell_type": "code",
   "execution_count": 325,
   "metadata": {},
   "outputs": [
    {
     "name": "stdout",
     "output_type": "stream",
     "text": [
      "996\n"
     ]
    }
   ],
   "source": [
    "drop_names = list(set(drop_names)-set(remain_names))\n",
    "print(len(drop_names))"
   ]
  },
  {
   "cell_type": "code",
   "execution_count": 326,
   "metadata": {},
   "outputs": [
    {
     "name": "stdout",
     "output_type": "stream",
     "text": [
      "(1511, 2154)\n"
     ]
    },
    {
     "name": "stderr",
     "output_type": "stream",
     "text": [
      "/home/magnusterra/anaconda3/lib/python3.6/site-packages/ipykernel_launcher.py:1: SettingWithCopyWarning: \n",
      "A value is trying to be set on a copy of a slice from a DataFrame\n",
      "\n",
      "See the caveats in the documentation: http://pandas.pydata.org/pandas-docs/stable/indexing.html#indexing-view-versus-copy\n",
      "  \"\"\"Entry point for launching an IPython kernel.\n"
     ]
    }
   ],
   "source": [
    "dfxF.drop(drop_names, axis=1, inplace=True)\n",
    "print(dfxF.shape)"
   ]
  },
  {
   "cell_type": "code",
   "execution_count": 327,
   "metadata": {},
   "outputs": [
    {
     "name": "stdout",
     "output_type": "stream",
     "text": [
      "1246 1246\n"
     ]
    }
   ],
   "source": [
    "t_null = []\n",
    "e_null = []\n",
    "drop_names = []\n",
    "for n in dfxF.columns:\n",
    "    c = dfxF[n]\n",
    "    x = np.sum(c.isnull())\n",
    "    if x > 0:\n",
    "        xt = np.sum(c[:799].isnull())/799\n",
    "        xe = np.sum(c[799:1099].isnull())/300\n",
    "        t_null.append(xt)\n",
    "        e_null.append(xe)\n",
    "        drop_names.append(n)\n",
    "print(len(t_null), len(drop_names))"
   ]
  },
  {
   "cell_type": "code",
   "execution_count": 328,
   "metadata": {
    "collapsed": true
   },
   "outputs": [],
   "source": [
    "remain_names = copy.copy(drop_names)"
   ]
  },
  {
   "cell_type": "code",
   "execution_count": 329,
   "metadata": {},
   "outputs": [
    {
     "name": "stdout",
     "output_type": "stream",
     "text": [
      "1246 1246\n"
     ]
    }
   ],
   "source": [
    "tnr = []\n",
    "enr = []\n",
    "for i in range(len(t_null)):\n",
    "    tmpt = t_null[i]\n",
    "    tmpe = e_null[i]\n",
    "    if tmpt > 0 and tmpe > 0:\n",
    "        tnr.append(tmpt/tmpe)\n",
    "        enr.append(tmpe/tmpt)\n",
    "    else:\n",
    "        tnr.append(0)\n",
    "        enr.append(0)\n",
    "tnr = np.array(tnr)\n",
    "enr = np.array(enr)\n",
    "print(len(tnr), len(enr))"
   ]
  },
  {
   "cell_type": "code",
   "execution_count": 330,
   "metadata": {},
   "outputs": [
    {
     "name": "stdout",
     "output_type": "stream",
     "text": [
      "945 945\n",
      "301\n"
     ]
    }
   ],
   "source": [
    "drop_names = np.array(drop_names)\n",
    "remain_names = np.array(remain_names)\n",
    "tnr_1 = tnr[enr<5]\n",
    "enr_1 = enr[enr<5]\n",
    "remain_names = remain_names[enr<5]\n",
    "tnr_2 = tnr_1[tnr_1<3]\n",
    "enr_2 = enr_1[tnr_1<3]\n",
    "remain_names = remain_names[tnr_1<3]\n",
    "print(len(tnr_2), len(remain_names))\n",
    "drop_names = list(set(drop_names)-set(remain_names))\n",
    "print(len(drop_names))"
   ]
  },
  {
   "cell_type": "code",
   "execution_count": 331,
   "metadata": {
    "scrolled": false
   },
   "outputs": [
    {
     "data": {
      "image/png": "[encoded data removed]",
      "text/plain": [
       "<matplotlib.figure.Figure at 0x7fb037951198>"
      ]
     },
     "metadata": {},
     "output_type": "display_data"
    }
   ],
   "source": [
    "plt.scatter(tnr_2, enr_2)\n",
    "plt.show()"
   ]
  },
  {
   "cell_type": "code",
   "execution_count": 332,
   "metadata": {},
   "outputs": [
    {
     "name": "stdout",
     "output_type": "stream",
     "text": [
      "(1511, 1853)\n"
     ]
    },
    {
     "name": "stderr",
     "output_type": "stream",
     "text": [
      "/home/magnusterra/anaconda3/lib/python3.6/site-packages/ipykernel_launcher.py:1: SettingWithCopyWarning: \n",
      "A value is trying to be set on a copy of a slice from a DataFrame\n",
      "\n",
      "See the caveats in the documentation: http://pandas.pydata.org/pandas-docs/stable/indexing.html#indexing-view-versus-copy\n",
      "  \"\"\"Entry point for launching an IPython kernel.\n"
     ]
    }
   ],
   "source": [
    "dfxF.drop(drop_names, axis=1, inplace=True)\n",
    "print(dfxF.shape)"
   ]
  },
  {
   "cell_type": "code",
   "execution_count": 334,
   "metadata": {},
   "outputs": [
    {
     "name": "stdout",
     "output_type": "stream",
     "text": [
      "(1511, 1853)\n",
      "0\n"
     ]
    }
   ],
   "source": [
    "# fix the dfxs by mean of each\n",
    "print(dfxF.shape)\n",
    "for n in dfxF.columns:\n",
    "    c = dfxF[n]\n",
    "    x = np.sum(c.isnull())\n",
    "    if x > 0:\n",
    "        c1 = c[:799]\n",
    "        c2 = c[799:1099]\n",
    "        c3 = c[1099:]\n",
    "        dfxF[n][:799][c1.isnull()] = np.mean(np.mean(c1[c1.notnull()]))\n",
    "        dfxF[n][799:1099][c2.isnull()] = np.mean(np.mean(c2[c2.notnull()]))\n",
    "        dfxF[n][1099:][c3.isnull()] = np.mean(np.mean(c3[c3.notnull()]))\n",
    "print(np.sum(dfxF.isnull().values))"
   ]
  },
  {
   "cell_type": "code",
   "execution_count": 335,
   "metadata": {},
   "outputs": [],
   "source": [
    "meansftr = np.mean(dfxF[:799])\n",
    "stdsftr = np.std(dfxF[:799])\n",
    "meansfte1 = np.mean(dfxF[799:1099])\n",
    "stdsfte1 = np.std(dfxF[799:1099])"
   ]
  },
  {
   "cell_type": "code",
   "execution_count": 342,
   "metadata": {},
   "outputs": [
    {
     "name": "stdout",
     "output_type": "stream",
     "text": [
      "1853 1853\n",
      "1748 1748\n"
     ]
    }
   ],
   "source": [
    "names1 = dfxF.columns\n",
    "m_ratio_r = np.abs((meansftr-meansfte1)/meansfte1)\n",
    "s_ratio_r = np.abs((stdsftr-stdsfte1)/stdsfte1)\n",
    "print(len(names1), len(m_ratio_r))\n",
    "names1 = names1[s_ratio_r<1.25]\n",
    "m_ratio_r = m_ratio_r[s_ratio_r<1.25]\n",
    "s_ratio_r = s_ratio_r[s_ratio_r<1.25]\n",
    "names1 = names1[m_ratio_r<6]\n",
    "s_ratio_r = s_ratio_r[m_ratio_r<6]\n",
    "m_ratio_r = m_ratio_r[m_ratio_r<6]\n",
    "print(len(s_ratio_r), len(names1))"
   ]
  },
  {
   "cell_type": "code",
   "execution_count": 343,
   "metadata": {},
   "outputs": [
    {
     "data": {
      "image/png": "[encoded data removed]",
      "text/plain": [
       "<matplotlib.figure.Figure at 0x7fb03703bf98>"
      ]
     },
     "metadata": {},
     "output_type": "display_data"
    }
   ],
   "source": [
    "plt.scatter(m_ratio_r, s_ratio_r)\n",
    "plt.show()"
   ]
  },
  {
   "cell_type": "code",
   "execution_count": 384,
   "metadata": {},
   "outputs": [
    {
     "name": "stdout",
     "output_type": "stream",
     "text": [
      "1669 1669\n"
     ]
    }
   ],
   "source": [
    "names2 = dfxF.columns\n",
    "m_ratio_e = np.abs((meansftr-meansfte1)/meansftr)\n",
    "s_ratio_e = np.abs((stdsftr-stdsfte1)/stdsftr)\n",
    "names2 = names2[s_ratio_e<2.25]\n",
    "m_ratio_e = m_ratio_e[s_ratio_e<2.25]\n",
    "s_ratio_e = s_ratio_e[s_ratio_e<2.25]\n",
    "names2 = names2[m_ratio_e<3]\n",
    "s_ratio_e = s_ratio_e[m_ratio_e<3]\n",
    "m_ratio_e = m_ratio_e[m_ratio_e<3]\n",
    "print(len(s_ratio_e), len(names2))"
   ]
  },
  {
   "cell_type": "code",
   "execution_count": 385,
   "metadata": {
    "scrolled": true
   },
   "outputs": [
    {
     "data": {
      "image/png": "[encoded data removed]",
      "text/plain": [
       "<matplotlib.figure.Figure at 0x7fb036ccc518>"
      ]
     },
     "metadata": {},
     "output_type": "display_data"
    }
   ],
   "source": [
    "plt.scatter(m_ratio_e, s_ratio_e)\n",
    "plt.show()"
   ]
  },
  {
   "cell_type": "code",
   "execution_count": 386,
   "metadata": {},
   "outputs": [
    {
     "name": "stdout",
     "output_type": "stream",
     "text": [
      "1566\n"
     ]
    }
   ],
   "source": [
    "print(len(set(names1) & set(names2)))"
   ]
  },
  {
   "cell_type": "code",
   "execution_count": 387,
   "metadata": {},
   "outputs": [
    {
     "name": "stdout",
     "output_type": "stream",
     "text": [
      "(1511, 1566)\n"
     ]
    }
   ],
   "source": [
    "nxf = dfxF[list(set(names1) & set(names2))]\n",
    "print(nxf.shape)\n",
    "corr_values = []\n",
    "float_col = nxf.columns\n",
    "float_df = nxf[:799]\n",
    "for col in float_col:\n",
    "    corr_values.append(abs(np.corrcoef(float_df[col].values,train_y)[0,1]))\n",
    "corr_df = pd.DataFrame({'col':float_col,'corr_value':corr_values})\n",
    "corr_df = corr_df.sort_values(by='corr_value',ascending=False)"
   ]
  },
  {
   "cell_type": "code",
   "execution_count": 397,
   "metadata": {},
   "outputs": [
    {
     "data": {
      "text/plain": [
       "col           1566\n",
       "corr_value    1524\n",
       "dtype: int64"
      ]
     },
     "execution_count": 397,
     "metadata": {},
     "output_type": "execute_result"
    }
   ],
   "source": [
    "np.sum(corr_df>0.005)"
   ]
  },
  {
   "cell_type": "code",
   "execution_count": 398,
   "metadata": {
    "collapsed": true
   },
   "outputs": [],
   "source": [
    "# now it's the turn of floats\n",
    "def floatFirstStep(ratio, co):\n",
    "    names = nxf.columns\n",
    "    drop_names = []\n",
    "    #ratio = 0.1\n",
    "    for i in range(len(names)):\n",
    "        n = names[i]\n",
    "        trd = train_df[n]\n",
    "        ted = test1_df[n]\n",
    "        \n",
    "        misstr = np.sum(trd.isnull())/799\n",
    "        misste = np.sum(ted.isnull())/300\n",
    "        if np.abs(misstr-misste) > ratio:\n",
    "            drop_names.append(n)\n",
    "        else:\n",
    "            trrd = trd[trd.notnull()]\n",
    "            terd = ted[ted.notnull()]\n",
    "            m1 = np.mean(trrd)\n",
    "            s1 = np.std(trrd)\n",
    "            m2 = np.mean(terd)\n",
    "            s2 = np.std(terd)\n",
    "            if co == 'm':\n",
    "                if np.abs(m1-m2)>ratio*np.abs(m1) and np.abs(s1-s2)>ratio*np.abs(s1):\n",
    "                    drop_names.append(n)\n",
    "            elif co == 's':\n",
    "                if np.abs(m1-m2)>ratio*np.abs(s1) and np.abs(s1-s2)>ratio*np.abs(s1):\n",
    "                    drop_names.append(n)\n",
    "            if s1 == 0 or s2 == 0:\n",
    "                drop_names.append(n)\n",
    "    #print(len(drop_names), len(floats))\n",
    "    return list(set(names) - set(drop_names))\n",
    "\n",
    "def FloatDrop(dfx_float_n):\n",
    "    dfx_float = nxf[dfx_float_n]\n",
    "    drop_names = []\n",
    "    names = dfx_float.columns\n",
    "    for n in names:\n",
    "        x = np.sum(dfx_float[n].isnull())\n",
    "        if x > 700:\n",
    "            drop_names.append(n)\n",
    "    #print(len(drop_names))\n",
    "    if len(drop_names) > 0:\n",
    "        dfx_float.drop(drop_names, axis=1, inplace=True)\n",
    "    \n",
    "    means = []\n",
    "    stds = []\n",
    "    drop_names = []\n",
    "    names = dfx_float.columns\n",
    "    for n in names:\n",
    "        c = dfx_float[n]\n",
    "        r = c[c.notnull()]\n",
    "        tmpm = np.mean(r)\n",
    "        tmps = np.std(r)\n",
    "        means.append(tmpm)\n",
    "        stds.append(tmps)\n",
    "        if tmps == 0:\n",
    "            drop_names.append(n)\n",
    "    #print(len(set(means)), len(set(stds)))\n",
    "    #print(len(drop_names))\n",
    "    if len(drop_names) > 0:\n",
    "        dfx_float.drop(drop_names, axis=1, inplace=True)\n",
    "    \n",
    "    names = dfx_float.columns\n",
    "    added = set()\n",
    "    sames = []\n",
    "    for i in range(len(names)):\n",
    "        tmpsl = []\n",
    "        tmpsl.append(i)\n",
    "        for j in range(i+1, len(names)):\n",
    "            if means[i] == means[j] and stds[i] == stds[j]:\n",
    "                if i not in added:\n",
    "                    added.add(i)\n",
    "                if j not in added:\n",
    "                    added.add(j)\n",
    "                    tmpsl.append(j)\n",
    "        if len(tmpsl) > 1:\n",
    "            sames.append(tmpsl)\n",
    "    #print(len(sames))\n",
    "    names = dfx_float.columns\n",
    "    drop_names = []\n",
    "    for i in sames:\n",
    "        for j in i[1:]:\n",
    "            drop_names.append(names[j])\n",
    "    #print(len(drop_names))\n",
    "    if len(drop_names) > 0:\n",
    "        dfx_float.drop(drop_names, axis=1, inplace=True)\n",
    "    \n",
    "    names = dfx_float.columns\n",
    "    for n in names:\n",
    "        c = dfx_float[n]\n",
    "        r = c[c.notnull()]\n",
    "        tmpm = np.mean(r)\n",
    "        tmps = np.std(r)\n",
    "        assert tmps>0\n",
    "        dfx_float[n][c.isnull()] = tmpm\n",
    "    return dfx_float\n",
    "\n",
    "def Float2Log(dfx_float, mlt_ratio):\n",
    "    mid = dfx_float-np.min(dfx_float)\n",
    "    dfx_log1p = np.log1p(mid*mlt_ratio+1)\n",
    "    ret = (dfx_log1p - np.mean(dfx_log1p))/np.std(dfx_log1p)\n",
    "    return ret"
   ]
  },
  {
   "cell_type": "code",
   "execution_count": 421,
   "metadata": {},
   "outputs": [
    {
     "name": "stdout",
     "output_type": "stream",
     "text": [
      "(1511, 1566)\n"
     ]
    }
   ],
   "source": [
    "nxf2 = Float2Log(nxf, 1)\n",
    "print(nxf2.shape)"
   ]
  },
  {
   "cell_type": "code",
   "execution_count": 41,
   "metadata": {},
   "outputs": [
    {
     "name": "stderr",
     "output_type": "stream",
     "text": [
      "/home/magnusterra/anaconda3/lib/python3.6/site-packages/sklearn/cross_validation.py:41: DeprecationWarning: This module was deprecated in version 0.18 in favor of the model_selection module into which all the refactored classes and functions are moved. Also note that the interface of the new CV iterators are different from that of this module. This module will be removed in 0.20.\n",
      "  \"This module will be removed in 0.20.\", DeprecationWarning)\n"
     ]
    }
   ],
   "source": [
    "import matplotlib.pyplot as plt\n",
    "import xgboost as xgb\n",
    "from xgboost import plot_importance"
   ]
  },
  {
   "cell_type": "code",
   "execution_count": 42,
   "metadata": {
    "collapsed": true
   },
   "outputs": [],
   "source": [
    "from sklearn.ensemble import BaggingRegressor\n",
    "from sklearn.linear_model import LinearRegression\n",
    "from xgboost import XGBRegressor"
   ]
  },
  {
   "cell_type": "code",
   "execution_count": 43,
   "metadata": {
    "collapsed": true
   },
   "outputs": [],
   "source": [
    "def MSE(y_raw, y_pred):\n",
    "    r = np.mean(np.square(y_raw-y_pred))\n",
    "    #print(r)\n",
    "    return r"
   ]
  },
  {
   "cell_type": "code",
   "execution_count": 44,
   "metadata": {
    "scrolled": false
   },
   "outputs": [
    {
     "name": "stderr",
     "output_type": "stream",
     "text": [
      "/home/magnusterra/anaconda3/lib/python3.6/site-packages/sklearn/grid_search.py:42: DeprecationWarning: This module was deprecated in version 0.18 in favor of the model_selection module into which all the refactored classes and functions are moved. This module will be removed in 0.20.\n",
      "  DeprecationWarning)\n"
     ]
    }
   ],
   "source": [
    "import matplotlib.pyplot as plt\n",
    "from sklearn.cross_validation import train_test_split\n",
    "from sklearn.grid_search import GridSearchCV "
   ]
  },
  {
   "cell_type": "code",
   "execution_count": 422,
   "metadata": {
    "scrolled": false
   },
   "outputs": [
    {
     "name": "stdout",
     "output_type": "stream",
     "text": [
      "m 0.1 1000 data over, validate (1511, 1810)\n"
     ]
    },
    {
     "ename": "KeyboardInterrupt",
     "evalue": "",
     "output_type": "error",
     "traceback": [
      "\u001b[0;31m---------------------------------------------------------------------------\u001b[0m",
      "\u001b[0;31mKeyboardInterrupt\u001b[0m                         Traceback (most recent call last)",
      "\u001b[0;32m<ipython-input-422-d984b0b0bb20>\u001b[0m in \u001b[0;36m<module>\u001b[0;34m()\u001b[0m\n\u001b[1;32m     14\u001b[0m \u001b[0;34m\u001b[0m\u001b[0m\n\u001b[1;32m     15\u001b[0m             \u001b[0mxgb\u001b[0m \u001b[0;34m=\u001b[0m \u001b[0mXGBRegressor\u001b[0m\u001b[0;34m(\u001b[0m\u001b[0;34m)\u001b[0m\u001b[0;34m\u001b[0m\u001b[0m\n\u001b[0;32m---> 16\u001b[0;31m             \u001b[0mxgb\u001b[0m\u001b[0;34m.\u001b[0m\u001b[0mfit\u001b[0m\u001b[0;34m(\u001b[0m\u001b[0msubxtrain\u001b[0m\u001b[0;34m,\u001b[0m \u001b[0msubytrain\u001b[0m\u001b[0;34m)\u001b[0m\u001b[0;34m\u001b[0m\u001b[0m\n\u001b[0m\u001b[1;32m     17\u001b[0m             \u001b[0mtest1_pred\u001b[0m \u001b[0;34m=\u001b[0m \u001b[0mxgb\u001b[0m\u001b[0;34m.\u001b[0m\u001b[0mpredict\u001b[0m\u001b[0;34m(\u001b[0m\u001b[0msubxval\u001b[0m\u001b[0;34m)\u001b[0m\u001b[0;34m\u001b[0m\u001b[0m\n\u001b[1;32m     18\u001b[0m             \u001b[0mt\u001b[0m \u001b[0;34m=\u001b[0m \u001b[0mMSE\u001b[0m\u001b[0;34m(\u001b[0m\u001b[0mtest1_pred\u001b[0m\u001b[0;34m,\u001b[0m \u001b[0msubyval\u001b[0m\u001b[0;34m)\u001b[0m\u001b[0;34m\u001b[0m\u001b[0m\n",
      "\u001b[0;32m/home/magnusterra/anaconda3/lib/python3.6/site-packages/xgboost/sklearn.py\u001b[0m in \u001b[0;36mfit\u001b[0;34m(self, X, y, eval_set, eval_metric, early_stopping_rounds, verbose)\u001b[0m\n\u001b[1;32m    249\u001b[0m                               \u001b[0mearly_stopping_rounds\u001b[0m\u001b[0;34m=\u001b[0m\u001b[0mearly_stopping_rounds\u001b[0m\u001b[0;34m,\u001b[0m\u001b[0;34m\u001b[0m\u001b[0m\n\u001b[1;32m    250\u001b[0m                               \u001b[0mevals_result\u001b[0m\u001b[0;34m=\u001b[0m\u001b[0mevals_result\u001b[0m\u001b[0;34m,\u001b[0m \u001b[0mobj\u001b[0m\u001b[0;34m=\u001b[0m\u001b[0mobj\u001b[0m\u001b[0;34m,\u001b[0m \u001b[0mfeval\u001b[0m\u001b[0;34m=\u001b[0m\u001b[0mfeval\u001b[0m\u001b[0;34m,\u001b[0m\u001b[0;34m\u001b[0m\u001b[0m\n\u001b[0;32m--> 251\u001b[0;31m                               verbose_eval=verbose)\n\u001b[0m\u001b[1;32m    252\u001b[0m \u001b[0;34m\u001b[0m\u001b[0m\n\u001b[1;32m    253\u001b[0m         \u001b[0;32mif\u001b[0m \u001b[0mevals_result\u001b[0m\u001b[0;34m:\u001b[0m\u001b[0;34m\u001b[0m\u001b[0m\n",
      "\u001b[0;32m/home/magnusterra/anaconda3/lib/python3.6/site-packages/xgboost/training.py\u001b[0m in \u001b[0;36mtrain\u001b[0;34m(params, dtrain, num_boost_round, evals, obj, feval, maximize, early_stopping_rounds, evals_result, verbose_eval, learning_rates, xgb_model, callbacks)\u001b[0m\n\u001b[1;32m    203\u001b[0m                            \u001b[0mevals\u001b[0m\u001b[0;34m=\u001b[0m\u001b[0mevals\u001b[0m\u001b[0;34m,\u001b[0m\u001b[0;34m\u001b[0m\u001b[0m\n\u001b[1;32m    204\u001b[0m                            \u001b[0mobj\u001b[0m\u001b[0;34m=\u001b[0m\u001b[0mobj\u001b[0m\u001b[0;34m,\u001b[0m \u001b[0mfeval\u001b[0m\u001b[0;34m=\u001b[0m\u001b[0mfeval\u001b[0m\u001b[0;34m,\u001b[0m\u001b[0;34m\u001b[0m\u001b[0m\n\u001b[0;32m--> 205\u001b[0;31m                            xgb_model=xgb_model, callbacks=callbacks)\n\u001b[0m\u001b[1;32m    206\u001b[0m \u001b[0;34m\u001b[0m\u001b[0m\n\u001b[1;32m    207\u001b[0m \u001b[0;34m\u001b[0m\u001b[0m\n",
      "\u001b[0;32m/home/magnusterra/anaconda3/lib/python3.6/site-packages/xgboost/training.py\u001b[0m in \u001b[0;36m_train_internal\u001b[0;34m(params, dtrain, num_boost_round, evals, obj, feval, xgb_model, callbacks)\u001b[0m\n\u001b[1;32m     74\u001b[0m         \u001b[0;31m# Skip the first update if it is a recovery step.\u001b[0m\u001b[0;34m\u001b[0m\u001b[0;34m\u001b[0m\u001b[0m\n\u001b[1;32m     75\u001b[0m         \u001b[0;32mif\u001b[0m \u001b[0mversion\u001b[0m \u001b[0;34m%\u001b[0m \u001b[0;36m2\u001b[0m \u001b[0;34m==\u001b[0m \u001b[0;36m0\u001b[0m\u001b[0;34m:\u001b[0m\u001b[0;34m\u001b[0m\u001b[0m\n\u001b[0;32m---> 76\u001b[0;31m             \u001b[0mbst\u001b[0m\u001b[0;34m.\u001b[0m\u001b[0mupdate\u001b[0m\u001b[0;34m(\u001b[0m\u001b[0mdtrain\u001b[0m\u001b[0;34m,\u001b[0m \u001b[0mi\u001b[0m\u001b[0;34m,\u001b[0m \u001b[0mobj\u001b[0m\u001b[0;34m)\u001b[0m\u001b[0;34m\u001b[0m\u001b[0m\n\u001b[0m\u001b[1;32m     77\u001b[0m             \u001b[0mbst\u001b[0m\u001b[0;34m.\u001b[0m\u001b[0msave_rabit_checkpoint\u001b[0m\u001b[0;34m(\u001b[0m\u001b[0;34m)\u001b[0m\u001b[0;34m\u001b[0m\u001b[0m\n\u001b[1;32m     78\u001b[0m             \u001b[0mversion\u001b[0m \u001b[0;34m+=\u001b[0m \u001b[0;36m1\u001b[0m\u001b[0;34m\u001b[0m\u001b[0m\n",
      "\u001b[0;32m/home/magnusterra/anaconda3/lib/python3.6/site-packages/xgboost/core.py\u001b[0m in \u001b[0;36mupdate\u001b[0;34m(self, dtrain, iteration, fobj)\u001b[0m\n\u001b[1;32m    804\u001b[0m \u001b[0;34m\u001b[0m\u001b[0m\n\u001b[1;32m    805\u001b[0m         \u001b[0;32mif\u001b[0m \u001b[0mfobj\u001b[0m \u001b[0;32mis\u001b[0m \u001b[0;32mNone\u001b[0m\u001b[0;34m:\u001b[0m\u001b[0;34m\u001b[0m\u001b[0m\n\u001b[0;32m--> 806\u001b[0;31m             \u001b[0m_check_call\u001b[0m\u001b[0;34m(\u001b[0m\u001b[0m_LIB\u001b[0m\u001b[0;34m.\u001b[0m\u001b[0mXGBoosterUpdateOneIter\u001b[0m\u001b[0;34m(\u001b[0m\u001b[0mself\u001b[0m\u001b[0;34m.\u001b[0m\u001b[0mhandle\u001b[0m\u001b[0;34m,\u001b[0m \u001b[0miteration\u001b[0m\u001b[0;34m,\u001b[0m \u001b[0mdtrain\u001b[0m\u001b[0;34m.\u001b[0m\u001b[0mhandle\u001b[0m\u001b[0;34m)\u001b[0m\u001b[0;34m)\u001b[0m\u001b[0;34m\u001b[0m\u001b[0m\n\u001b[0m\u001b[1;32m    807\u001b[0m         \u001b[0;32melse\u001b[0m\u001b[0;34m:\u001b[0m\u001b[0;34m\u001b[0m\u001b[0m\n\u001b[1;32m    808\u001b[0m             \u001b[0mpred\u001b[0m \u001b[0;34m=\u001b[0m \u001b[0mself\u001b[0m\u001b[0;34m.\u001b[0m\u001b[0mpredict\u001b[0m\u001b[0;34m(\u001b[0m\u001b[0mdtrain\u001b[0m\u001b[0;34m)\u001b[0m\u001b[0;34m\u001b[0m\u001b[0m\n",
      "\u001b[0;31mKeyboardInterrupt\u001b[0m: "
     ]
    }
   ],
   "source": [
    "param_co = ['m', 's']\n",
    "param_ratio = [0.1, 0.2, 0.3, 0.5, 0.75, 1, 2, 3, 5]\n",
    "#param_mlt = [1e-2, 1e-1, 1, 10, 100, 1000]\n",
    "for r in param_ratio:\n",
    "    for c in param_co:\n",
    "        #fns = floatFirstStep(r, c)\n",
    "        dfx_float = copy.copy(nxf)\n",
    "        dfx_log1p = Float2Log(dfx_float, 1)\n",
    "        ndfx = pd.concat([dfx_float, dfx_onehot, dfx_time], axis=1)\n",
    "        print(c, r, m, 'data over, validate', ndfx.shape)\n",
    "        results = []\n",
    "        for i in range(100):\n",
    "            subxtrain, subxval, subytrain, subyval = train_test_split(ndfx[:799].values, train_y.values, test_size=0.3, random_state=i)\n",
    "\n",
    "            xgb = XGBRegressor()\n",
    "            xgb.fit(subxtrain, subytrain)\n",
    "            test1_pred = xgb.predict(subxval)\n",
    "            t = MSE(test1_pred, subyval)\n",
    "            results.append(t)\n",
    "        print(np.mean(results), np.std(results), np.max(results), np.min(results))"
   ]
  },
  {
   "cell_type": "code",
   "execution_count": 423,
   "metadata": {},
   "outputs": [
    {
     "name": "stdout",
     "output_type": "stream",
     "text": [
      "(1511, 1810)\n"
     ]
    }
   ],
   "source": [
    "usesx = pd.concat([nxf2, dfx_onehot, dfx_time], axis=1)\n",
    "print(usesx.shape)"
   ]
  },
  {
   "cell_type": "code",
   "execution_count": 403,
   "metadata": {},
   "outputs": [
    {
     "name": "stdout",
     "output_type": "stream",
     "text": [
      "0\n",
      "{'gamma': 0.0001, 'max_depth': 4, 'objective': 'reg:linear', 'subsample': 0.85}\n",
      "0.000683865186766 0.013442819594\n",
      "1\n",
      "{'gamma': 0.001, 'max_depth': 4, 'objective': 'reg:linear', 'subsample': 0.85}\n",
      "0.000493228703024 0.0179758194218\n",
      "2\n",
      "{'gamma': 0, 'max_depth': 3, 'objective': 'reg:linear', 'subsample': 0.7}\n",
      "0.00215747526725 0.0154803043613\n",
      "3\n",
      "{'gamma': 0.0001, 'max_depth': 3, 'objective': 'reg:linear', 'subsample': 0.85}\n",
      "0.00203557423178 0.0140773436045\n",
      "4\n",
      "{'gamma': 0.01, 'max_depth': 4, 'objective': 'reg:linear', 'subsample': 0.85}\n",
      "0.000828912393687 0.0159163377031\n",
      "5\n",
      "{'gamma': 0.01, 'max_depth': 2, 'objective': 'reg:linear', 'subsample': 0.85}\n",
      "0.00562853303183 0.0143593724998\n",
      "6\n",
      "{'gamma': 0.0001, 'max_depth': 3, 'objective': 'reg:linear', 'subsample': 0.7}\n",
      "0.00190879426302 0.0150192062193\n",
      "7\n",
      "{'gamma': 0.01, 'max_depth': 4, 'objective': 'reg:linear', 'subsample': 0.7}\n",
      "0.000903603973471 0.0151639520465\n",
      "8\n",
      "{'gamma': 0.001, 'max_depth': 3, 'objective': 'reg:linear', 'subsample': 0.85}\n",
      "0.00219912406021 0.0134071134344\n",
      "9\n",
      "{'gamma': 0.01, 'max_depth': 3, 'objective': 'reg:linear', 'subsample': 0.7}\n",
      "0.00203988838439 0.0129600188117\n",
      "10\n",
      "{'gamma': 0.001, 'max_depth': 3, 'objective': 'reg:linear', 'subsample': 0.7}\n",
      "0.00210540440422 0.0175888782877\n",
      "11\n",
      "{'gamma': 0.001, 'max_depth': 3, 'objective': 'reg:linear', 'subsample': 0.85}\n",
      "0.00192103430604 0.0153931642923\n",
      "12\n",
      "{'gamma': 0.01, 'max_depth': 3, 'objective': 'reg:linear', 'subsample': 0.85}\n",
      "0.00203061611189 0.0146391185993\n",
      "13\n",
      "{'gamma': 0.01, 'max_depth': 3, 'objective': 'reg:linear', 'subsample': 0.85}\n",
      "0.00203721052409 0.0119359443666\n",
      "14\n",
      "{'gamma': 0.01, 'max_depth': 3, 'objective': 'reg:linear', 'subsample': 0.85}\n",
      "0.00204488891303 0.0143639600681\n",
      "15\n",
      "{'gamma': 0, 'max_depth': 4, 'objective': 'reg:linear', 'subsample': 0.85}\n",
      "0.000575837222414 0.0147297864677\n",
      "16\n",
      "{'gamma': 0.001, 'max_depth': 4, 'objective': 'reg:linear', 'subsample': 0.85}\n",
      "0.000567857687816 0.0139369511287\n",
      "17\n",
      "{'gamma': 0.001, 'max_depth': 3, 'objective': 'reg:linear', 'subsample': 0.85}\n",
      "0.00224635882121 0.0148700490389\n",
      "18\n",
      "{'gamma': 0, 'max_depth': 3, 'objective': 'reg:linear', 'subsample': 0.85}\n",
      "0.00232113510287 0.0132985154639\n",
      "19\n",
      "{'gamma': 0, 'max_depth': 4, 'objective': 'reg:linear', 'subsample': 0.85}\n",
      "0.000531879051809 0.0155952978066\n",
      "20\n",
      "{'gamma': 0.01, 'max_depth': 4, 'objective': 'reg:linear', 'subsample': 0.85}\n",
      "0.000873891789014 0.0133340834718\n",
      "21\n",
      "{'gamma': 0.01, 'max_depth': 3, 'objective': 'reg:linear', 'subsample': 0.85}\n",
      "0.00213874723517 0.013568109405\n",
      "22\n",
      "{'gamma': 0.0001, 'max_depth': 4, 'objective': 'reg:linear', 'subsample': 0.85}\n",
      "0.000667352685563 0.0135772942948\n",
      "23\n",
      "{'gamma': 0.0001, 'max_depth': 3, 'objective': 'reg:linear', 'subsample': 0.85}\n",
      "0.00198011589016 0.0149793798071\n",
      "24\n",
      "{'gamma': 0.001, 'max_depth': 3, 'objective': 'reg:linear', 'subsample': 0.85}\n",
      "0.00212543934584 0.0163376697042\n",
      "25\n",
      "{'gamma': 0.0001, 'max_depth': 4, 'objective': 'reg:linear', 'subsample': 0.7}\n",
      "0.000748057207402 0.0172394261512\n",
      "26\n",
      "{'gamma': 0, 'max_depth': 3, 'objective': 'reg:linear', 'subsample': 0.85}\n",
      "0.00214512100211 0.0147547489542\n",
      "27\n",
      "{'gamma': 0.001, 'max_depth': 3, 'objective': 'reg:linear', 'subsample': 0.7}\n",
      "0.00234905368165 0.0152218979707\n",
      "28\n",
      "{'gamma': 0, 'max_depth': 4, 'objective': 'reg:linear', 'subsample': 0.7}\n",
      "0.000692900813289 0.013945812358\n",
      "29\n",
      "{'gamma': 0, 'max_depth': 3, 'objective': 'reg:linear', 'subsample': 0.85}\n",
      "0.00195076137919 0.0137765038998\n",
      "30\n",
      "{'gamma': 0.01, 'max_depth': 3, 'objective': 'reg:linear', 'subsample': 0.7}\n",
      "0.00231241117372 0.0148906439633\n",
      "31\n",
      "{'gamma': 0.0001, 'max_depth': 4, 'objective': 'reg:linear', 'subsample': 0.7}\n",
      "0.000738120588235 0.012416259233\n",
      "32\n",
      "{'gamma': 0.001, 'max_depth': 3, 'objective': 'reg:linear', 'subsample': 0.7}\n",
      "0.00210951602253 0.0131158531603\n",
      "33\n",
      "{'gamma': 0.01, 'max_depth': 3, 'objective': 'reg:linear', 'subsample': 0.7}\n",
      "0.00217203261115 0.0132514432922\n",
      "34\n",
      "{'gamma': 0.001, 'max_depth': 4, 'objective': 'reg:linear', 'subsample': 0.85}\n",
      "0.000586097277113 0.0138179620239\n",
      "35\n",
      "{'gamma': 0.01, 'max_depth': 3, 'objective': 'reg:linear', 'subsample': 0.7}\n",
      "0.00223284493156 0.0161191183179\n",
      "36\n",
      "{'gamma': 0.001, 'max_depth': 3, 'objective': 'reg:linear', 'subsample': 0.85}\n",
      "0.00197742555808 0.013724846384\n",
      "37\n",
      "{'gamma': 0.01, 'max_depth': 4, 'objective': 'reg:linear', 'subsample': 0.7}\n",
      "0.0008926564417 0.0141212711591\n",
      "38\n",
      "{'gamma': 1e-05, 'max_depth': 4, 'objective': 'reg:linear', 'subsample': 0.85}\n",
      "0.000497926099383 0.0173690413051\n",
      "39\n",
      "{'gamma': 0.01, 'max_depth': 3, 'objective': 'reg:linear', 'subsample': 0.85}\n",
      "0.00210161076633 0.0156587444768\n",
      "40\n",
      "{'gamma': 0, 'max_depth': 4, 'objective': 'reg:linear', 'subsample': 0.7}\n",
      "0.00077016762983 0.013585551589\n",
      "41\n",
      "{'gamma': 0.0001, 'max_depth': 4, 'objective': 'reg:linear', 'subsample': 0.85}\n",
      "0.000655323185282 0.0161725708065\n",
      "42\n",
      "{'gamma': 0.001, 'max_depth': 3, 'objective': 'reg:linear', 'subsample': 0.7}\n",
      "0.00209416152647 0.0152598965999\n",
      "43\n",
      "{'gamma': 0.001, 'max_depth': 4, 'objective': 'reg:linear', 'subsample': 0.7}\n",
      "0.00064557980724 0.0152458060242\n",
      "44\n",
      "{'gamma': 0.01, 'max_depth': 3, 'objective': 'reg:linear', 'subsample': 0.85}\n",
      "0.00206613647786 0.0138636550166\n",
      "45\n",
      "{'gamma': 0.01, 'max_depth': 3, 'objective': 'reg:linear', 'subsample': 0.7}\n",
      "0.00243286280738 0.0131306593\n",
      "46\n",
      "{'gamma': 0, 'max_depth': 3, 'objective': 'reg:linear', 'subsample': 0.7}\n",
      "0.00209985842369 0.014294948896\n",
      "47\n",
      "{'gamma': 0.01, 'max_depth': 3, 'objective': 'reg:linear', 'subsample': 0.7}\n",
      "0.00212250375722 0.0144281695799\n",
      "48\n",
      "{'gamma': 0.001, 'max_depth': 3, 'objective': 'reg:linear', 'subsample': 0.85}\n",
      "0.00215361311567 0.015399644694\n",
      "49\n",
      "{'gamma': 0, 'max_depth': 3, 'objective': 'reg:linear', 'subsample': 0.7}\n",
      "0.00230102232385 0.0151803144593\n",
      "50\n",
      "{'gamma': 0.001, 'max_depth': 3, 'objective': 'reg:linear', 'subsample': 0.7}\n",
      "0.00231976310921 0.0156436815221\n",
      "51\n",
      "{'gamma': 1e-05, 'max_depth': 3, 'objective': 'reg:linear', 'subsample': 0.85}\n",
      "0.00204720043373 0.0129102133321\n",
      "52\n",
      "{'gamma': 0.01, 'max_depth': 3, 'objective': 'reg:linear', 'subsample': 0.85}\n",
      "0.00214360018854 0.0171140212655\n",
      "53\n",
      "{'gamma': 0.01, 'max_depth': 3, 'objective': 'reg:linear', 'subsample': 0.85}\n",
      "0.00209352584648 0.0155429814248\n",
      "54\n",
      "{'gamma': 0.001, 'max_depth': 3, 'objective': 'reg:linear', 'subsample': 0.85}\n",
      "0.00199700915037 0.0140161655537\n",
      "55\n",
      "{'gamma': 0.01, 'max_depth': 4, 'objective': 'reg:linear', 'subsample': 0.85}\n",
      "0.000831642890334 0.0140262071265\n",
      "56\n",
      "{'gamma': 0.01, 'max_depth': 3, 'objective': 'reg:linear', 'subsample': 0.85}\n",
      "0.00200345474693 0.0144429099641\n",
      "57\n",
      "{'gamma': 0.001, 'max_depth': 4, 'objective': 'reg:linear', 'subsample': 0.85}\n",
      "0.000611242237225 0.0129466666379\n",
      "58\n",
      "{'gamma': 0.001, 'max_depth': 4, 'objective': 'reg:linear', 'subsample': 0.85}\n",
      "0.000598264114598 0.0125652729463\n",
      "59\n",
      "{'gamma': 0.01, 'max_depth': 4, 'objective': 'reg:linear', 'subsample': 0.85}\n",
      "0.000832869402667 0.0159734391438\n",
      "60\n",
      "{'gamma': 0.01, 'max_depth': 4, 'objective': 'reg:linear', 'subsample': 0.7}\n",
      "0.000848591432405 0.0160412467399\n",
      "61\n",
      "{'gamma': 0.0001, 'max_depth': 3, 'objective': 'reg:linear', 'subsample': 0.7}\n",
      "0.00228455654888 0.01449289843\n",
      "62\n",
      "{'gamma': 0.001, 'max_depth': 4, 'objective': 'reg:linear', 'subsample': 0.7}\n",
      "0.000771217065927 0.0131213209517\n",
      "63\n",
      "{'gamma': 0.0001, 'max_depth': 3, 'objective': 'reg:linear', 'subsample': 0.7}\n",
      "0.00195975814357 0.0156401232663\n",
      "64\n",
      "{'gamma': 0.0001, 'max_depth': 4, 'objective': 'reg:linear', 'subsample': 0.7}\n",
      "0.000705824688199 0.0123326889617\n",
      "65\n",
      "{'gamma': 0.0001, 'max_depth': 3, 'objective': 'reg:linear', 'subsample': 0.85}\n",
      "0.001873584055 0.0148378263811\n",
      "66\n",
      "{'gamma': 1e-05, 'max_depth': 3, 'objective': 'reg:linear', 'subsample': 0.85}\n",
      "0.00202084815399 0.0152124330956\n",
      "67\n",
      "{'gamma': 0.001, 'max_depth': 4, 'objective': 'reg:linear', 'subsample': 0.7}\n",
      "0.000641829172245 0.0155565789058\n",
      "68\n",
      "{'gamma': 0.0001, 'max_depth': 4, 'objective': 'reg:linear', 'subsample': 0.7}\n",
      "0.000631852691018 0.0149911332315\n",
      "69\n",
      "{'gamma': 0.001, 'max_depth': 3, 'objective': 'reg:linear', 'subsample': 0.7}\n",
      "0.00205193239865 0.0133103494612\n",
      "70\n",
      "{'gamma': 0.001, 'max_depth': 4, 'objective': 'reg:linear', 'subsample': 0.85}\n",
      "0.000569011990172 0.0137896416252\n",
      "71\n",
      "{'gamma': 0, 'max_depth': 3, 'objective': 'reg:linear', 'subsample': 0.7}\n",
      "0.00201023923333 0.013535836452\n"
     ]
    },
    {
     "name": "stdout",
     "output_type": "stream",
     "text": [
      "72\n",
      "{'gamma': 0.001, 'max_depth': 3, 'objective': 'reg:linear', 'subsample': 0.7}\n",
      "0.00198981957344 0.0140268718975\n",
      "73\n",
      "{'gamma': 0.01, 'max_depth': 3, 'objective': 'reg:linear', 'subsample': 0.85}\n",
      "0.0021077283393 0.0156840049856\n",
      "74\n",
      "{'gamma': 0, 'max_depth': 3, 'objective': 'reg:linear', 'subsample': 0.85}\n",
      "0.00221243666214 0.0143946945709\n",
      "75\n",
      "{'gamma': 0.0001, 'max_depth': 4, 'objective': 'reg:linear', 'subsample': 0.7}\n",
      "0.00060306174509 0.0152223397171\n",
      "76\n",
      "{'gamma': 0.001, 'max_depth': 3, 'objective': 'reg:linear', 'subsample': 0.85}\n",
      "0.00216328441887 0.0141322550713\n",
      "77\n",
      "{'gamma': 0.001, 'max_depth': 4, 'objective': 'reg:linear', 'subsample': 0.85}\n",
      "0.000526367281693 0.0167413528331\n",
      "78\n",
      "{'gamma': 0.0001, 'max_depth': 4, 'objective': 'reg:linear', 'subsample': 0.85}\n",
      "0.000701372101013 0.0124562549985\n",
      "79\n",
      "{'gamma': 0.01, 'max_depth': 4, 'objective': 'reg:linear', 'subsample': 0.85}\n",
      "0.000931653831066 0.0115364785872\n",
      "80\n",
      "{'gamma': 0.0001, 'max_depth': 3, 'objective': 'reg:linear', 'subsample': 0.85}\n",
      "0.00221481331813 0.013439336269\n",
      "81\n",
      "{'gamma': 0.001, 'max_depth': 4, 'objective': 'reg:linear', 'subsample': 0.7}\n",
      "0.0007145271611 0.013640133363\n",
      "82\n",
      "{'gamma': 0.001, 'max_depth': 4, 'objective': 'reg:linear', 'subsample': 0.7}\n",
      "0.000745282944757 0.0146092693554\n",
      "83\n",
      "{'gamma': 0.001, 'max_depth': 4, 'objective': 'reg:linear', 'subsample': 0.85}\n",
      "0.000584982111895 0.0181829316671\n",
      "84\n",
      "{'gamma': 0.01, 'max_depth': 4, 'objective': 'reg:linear', 'subsample': 0.85}\n",
      "0.000898418696956 0.0152241537481\n",
      "85\n",
      "{'gamma': 0.01, 'max_depth': 4, 'objective': 'reg:linear', 'subsample': 0.7}\n",
      "0.000886830988657 0.0134649339021\n",
      "86\n",
      "{'gamma': 0.0001, 'max_depth': 3, 'objective': 'reg:linear', 'subsample': 0.7}\n",
      "0.00234821209704 0.0152682823323\n",
      "87\n",
      "{'gamma': 0.01, 'max_depth': 3, 'objective': 'reg:linear', 'subsample': 0.85}\n",
      "0.00204461346366 0.0121834516328\n",
      "88\n",
      "{'gamma': 0.001, 'max_depth': 4, 'objective': 'reg:linear', 'subsample': 0.85}\n",
      "0.000591758858587 0.0147877988311\n",
      "89\n",
      "{'gamma': 0.001, 'max_depth': 3, 'objective': 'reg:linear', 'subsample': 0.85}\n",
      "0.00218735391905 0.0149565455566\n",
      "90\n",
      "{'gamma': 0.001, 'max_depth': 4, 'objective': 'reg:linear', 'subsample': 0.85}\n",
      "0.000638767006126 0.0149570271377\n",
      "91\n",
      "{'gamma': 0.001, 'max_depth': 3, 'objective': 'reg:linear', 'subsample': 0.85}\n",
      "0.00209717255072 0.0127549890269\n",
      "92\n",
      "{'gamma': 0.001, 'max_depth': 4, 'objective': 'reg:linear', 'subsample': 0.7}\n",
      "0.000651501434741 0.0131962454721\n",
      "93\n",
      "{'gamma': 0.01, 'max_depth': 3, 'objective': 'reg:linear', 'subsample': 0.7}\n",
      "0.00200242157611 0.01813813321\n",
      "94\n",
      "{'gamma': 0.01, 'max_depth': 3, 'objective': 'reg:linear', 'subsample': 0.85}\n",
      "0.00209899599247 0.0152701056944\n",
      "95\n",
      "{'gamma': 0.0001, 'max_depth': 3, 'objective': 'reg:linear', 'subsample': 0.85}\n",
      "0.00209841487387 0.0141950880482\n",
      "96\n",
      "{'gamma': 1e-05, 'max_depth': 4, 'objective': 'reg:linear', 'subsample': 0.85}\n",
      "0.000615521340078 0.0123313208016\n",
      "97\n",
      "{'gamma': 0.01, 'max_depth': 3, 'objective': 'reg:linear', 'subsample': 0.85}\n",
      "0.00200860854642 0.0141867894927\n",
      "98\n",
      "{'gamma': 0, 'max_depth': 4, 'objective': 'reg:linear', 'subsample': 0.85}\n",
      "0.000575474877601 0.0167075931266\n",
      "99\n",
      "{'gamma': 0.01, 'max_depth': 4, 'objective': 'reg:linear', 'subsample': 0.7}\n",
      "0.000887299801172 0.0149825800336\n",
      "----------------------------------\n",
      "{'gamma': 0.01, 'max_depth': 3, 'objective': 'reg:linear', 'subsample': 0.7}\n",
      "0.00306630222477\n"
     ]
    }
   ],
   "source": [
    "tuned_parameters = {'objective':['reg:linear'], 'max_depth':[1,2,3,4],\n",
    "                    'gamma':[0, 1e-5, 1e-4, 1e-3,  1e-2, 1e-1], 'subsample':[0.85, 0.7]}\n",
    "for i in range(100):\n",
    "    subxtrain, subxval, subytrain, subyval = train_test_split(usesx[:799].values, train_y.values, test_size=0.3, random_state=i)\n",
    "    \n",
    "    clf = GridSearchCV(estimator =XGBRegressor(), param_grid =tuned_parameters, cv=5, scoring='neg_mean_squared_error')\n",
    "    clf.fit(subxtrain, subytrain)\n",
    "    print(i)\n",
    "    print(clf.best_params_)  \n",
    "    y_pred1 = clf.predict(subxtrain)\n",
    "    mse1 = MSE(y_pred1, subytrain)\n",
    "    y_pred2 = clf.predict(subxval)\n",
    "    mse2 = MSE(subyval, y_pred2)\n",
    "    print(mse1, mse2)\n",
    "print(\"----------------------------------\")\n",
    "clf = GridSearchCV(estimator =XGBRegressor(), param_grid =tuned_parameters, cv=5, scoring='neg_mean_squared_error')\n",
    "clf.fit(usesx[:799].values, train_y.values)\n",
    "print(clf.best_params_)  \n",
    "y_pred1 = clf.predict(usesx[:799].values)\n",
    "print(MSE(y_pred1, train_y.values))"
   ]
  },
  {
   "cell_type": "code",
   "execution_count": 424,
   "metadata": {},
   "outputs": [
    {
     "name": "stdout",
     "output_type": "stream",
     "text": [
      "0.0001 0.85 0.0150172170567 0.00137386775051 0.0180945945427 0.0123938437704\n",
      "0.0001 0.7 0.0152263028845 0.00138581795741 0.0185531904796 0.0121644055249\n",
      "0.001 0.85 0.0150411473876 0.00137976538682 0.0179330451913 0.0119862508569\n",
      "0.001 0.7 0.0152302984723 0.00131785307329 0.018533941926 0.0121735442756\n",
      "0.01 0.85 0.0150993639632 0.00134643858945 0.0179889234864 0.011972531605\n",
      "0.01 0.7 0.0151749394554 0.00129926054286 0.0181676421384 0.0124387887443\n"
     ]
    }
   ],
   "source": [
    "params_gamma = [1e-4, 1e-3, 1e-2]\n",
    "params_subsample = [0.85, 0.7]\n",
    "for g in params_gamma:\n",
    "    for ss in params_subsample:\n",
    "        results = []\n",
    "        for i in range(100):\n",
    "            subxtrain, subxval, subytrain, subyval = train_test_split(usesx[:799].values, train_y.values, test_size=0.375, random_state=i)\n",
    "\n",
    "            xgb = XGBRegressor(objective='reg:linear', max_depth=3, gamma=g, subsample=ss)\n",
    "            xgb.fit(subxtrain, subytrain)\n",
    "            test1_pred = xgb.predict(subxval)\n",
    "            t = MSE(test1_pred, subyval)\n",
    "            results.append(t)\n",
    "        print(g, ss, np.mean(results), np.std(results), np.max(results), np.min(results))"
   ]
  },
  {
   "cell_type": "code",
   "execution_count": 427,
   "metadata": {},
   "outputs": [
    {
     "name": "stdout",
     "output_type": "stream",
     "text": [
      "0.0030243879559\n"
     ]
    }
   ],
   "source": [
    "xgb = XGBRegressor(gamma=0.01, max_depth=3, objective='reg:linear', subsample=0.85)\n",
    "xgb.fit(usesx[:799].values, train_y.values)\n",
    "test1_pred = xgb.predict(usesx[:799].values)\n",
    "print(MSE(test1_pred, train_y.values))\n",
    "test1_pred = xgb.predict(usesx[799:1099].values)\n",
    "test1_pred = test1_pred.reshape(300)\n",
    "save = pd.DataFrame({'ID':test1_id, 'value':test1_pred})\n",
    "save.to_csv('answer/newSynchronous_logohtime_xgb_20180122.csv', index=False, header=False)"
   ]
  },
  {
   "cell_type": "code",
   "execution_count": 416,
   "metadata": {
    "collapsed": true
   },
   "outputs": [],
   "source": [
    "names = usesx.columns"
   ]
  },
  {
   "cell_type": "code",
   "execution_count": 454,
   "metadata": {},
   "outputs": [
    {
     "data": {
      "image/png": "[encoded data removed]",
      "text/plain": [
       "<matplotlib.figure.Figure at 0x7fb03766d5c0>"
      ]
     },
     "metadata": {},
     "output_type": "display_data"
    }
   ],
   "source": [
    "plt.scatter(train_df[names[300]], usesx[names[300]][:799])\n",
    "plt.show()"
   ]
  },
  {
   "cell_type": "code",
   "execution_count": 465,
   "metadata": {},
   "outputs": [
    {
     "data": {
      "image/png": "[encoded data removed]",
      "text/plain": [
       "<matplotlib.figure.Figure at 0x7fb037341cc0>"
      ]
     },
     "metadata": {},
     "output_type": "display_data"
    }
   ],
   "source": [
    "plt.scatter(usesx[names[9]][:799], train_y)\n",
    "plt.show()"
   ]
  },
  {
   "cell_type": "code",
   "execution_count": null,
   "metadata": {
    "collapsed": true
   },
   "outputs": [],
   "source": []
  }
 ],
 "metadata": {
  "kernelspec": {
   "display_name": "Python 3",
   "language": "python",
   "name": "python3"
  },
  "language_info": {
   "codemirror_mode": {
    "name": "ipython",
    "version": 3
   },
   "file_extension": ".py",
   "mimetype": "text/x-python",
   "name": "python",
   "nbconvert_exporter": "python",
   "pygments_lexer": "ipython3",
   "version": "3.6.1"
  }
 },
 "nbformat": 4,
 "nbformat_minor": 2
}
