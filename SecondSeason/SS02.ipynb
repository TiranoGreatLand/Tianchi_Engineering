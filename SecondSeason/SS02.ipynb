{
 "cells": [
  {
   "cell_type": "code",
   "execution_count": 1,
   "metadata": {
    "collapsed": true
   },
   "outputs": [],
   "source": [
    "import numpy as np\n",
    "import pandas as pd\n",
    "import copy\n",
    "import matplotlib.pyplot as plt\n",
    "import seaborn as sns\n",
    "from sklearn import preprocessing"
   ]
  },
  {
   "cell_type": "code",
   "execution_count": 14,
   "metadata": {
    "collapsed": true
   },
   "outputs": [],
   "source": [
    "train_df = pd.read_excel(\"data/train.xlsx\")\n",
    "test1_df = pd.read_excel(\"data/testA.xlsx\")\n",
    "test2_df = pd.read_excel(\"data/testB.xlsx\")"
   ]
  },
  {
   "cell_type": "code",
   "execution_count": 15,
   "metadata": {},
   "outputs": [
    {
     "data": {
      "text/plain": [
       "(800,)"
      ]
     },
     "execution_count": 15,
     "metadata": {},
     "output_type": "execute_result"
    }
   ],
   "source": [
    "train_y = train_df[train_df.columns[-1]]\n",
    "train_y.shape"
   ]
  },
  {
   "cell_type": "code",
   "execution_count": 16,
   "metadata": {
    "collapsed": true
   },
   "outputs": [],
   "source": [
    "new_column = test1_df.columns\n",
    "train_df = train_df[new_column]\n",
    "train_id = train_df['ID']\n",
    "test1_id = test1_df['ID']\n",
    "test2_id = test2_df['ID']\n",
    "train_df.drop(['ID'], axis=1, inplace=True)\n",
    "test1_df.drop(['ID'], axis=1, inplace=True)\n",
    "test2_df.drop(['ID'], axis=1, inplace=True)"
   ]
  },
  {
   "cell_type": "code",
   "execution_count": 17,
   "metadata": {},
   "outputs": [
    {
     "name": "stdout",
     "output_type": "stream",
     "text": [
      "770\n",
      "45\n"
     ]
    }
   ],
   "source": [
    "# ints or strings\n",
    "ints = []\n",
    "year = []\n",
    "for i in range(len(names)):\n",
    "    if 'int' in str(dts[i]) or 'object' in str(dts[i]):\n",
    "        ints.append(names[i])\n",
    "print(len(ints))\n",
    "\n",
    "for n in ints:\n",
    "    if str(train_df[n][0])[:4] == '2017' and str(test1_df[n][0])[:4] == '2017':\n",
    "        year.append(n)\n",
    "print(len(year))"
   ]
  },
  {
   "cell_type": "code",
   "execution_count": null,
   "metadata": {
    "collapsed": true
   },
   "outputs": [],
   "source": [
    "names = train_df.columns\n",
    "dts = train_df.dtypes\n",
    "drop_names = []\n",
    "year = []\n",
    "ratio = 0.1\n",
    "for i in range(len(names)):\n",
    "    n = names[i]\n",
    "    tp = dts[i]\n",
    "    trd = train_df[n]\n",
    "    ted = test1_df[n]\n",
    "    if 'object' == str(tp):\n",
    "        continue\n",
    "    else:\n",
    "        misstr = np.sum(trd.isnull())/500\n",
    "        misste = np.sum(ted.isnull())/100\n",
    "        if np.abs(misstr-misste) > ratio:\n",
    "            drop_names.append(n)\n",
    "        else:\n",
    "            if 'int' in str(tp):\n",
    "                if str(train_df[n][0])[:4] == '2017' and str(train_df[n][499])[:4] == '2017':\n",
    "                    year.append(n)\n",
    "            else:\n",
    "                trrd = trd[trd.notnull()]\n",
    "                terd = ted[ted.notnull()]\n",
    "                m1 = np.mean(trrd)\n",
    "                s1 = np.std(trrd)\n",
    "                m2 = np.mean(terd)\n",
    "                s2 = np.std(terd)\n",
    "                if np.abs(m1-m2)>ratio*np.abs(m1) and np.abs(s1-s2)>ratio*np.abs(s1):\n",
    "                    drop_names.append(n)\n",
    "print(len(drop_names))\n",
    "print(len(year))"
   ]
  },
  {
   "cell_type": "code",
   "execution_count": 13,
   "metadata": {
    "collapsed": true
   },
   "outputs": [],
   "source": [
    "train_df.drop(drop_names, axis=1, inplace=True)\n",
    "test1_df.drop(drop_names, axis=1, inplace=True)\n",
    "test2_df.drop(drop_names, axis=1, inplace=True)"
   ]
  },
  {
   "cell_type": "code",
   "execution_count": 7,
   "metadata": {
    "collapsed": true
   },
   "outputs": [],
   "source": [
    "names = train_df.columns\n",
    "dfs = train_df.dtypes"
   ]
  },
  {
   "cell_type": "code",
   "execution_count": 8,
   "metadata": {},
   "outputs": [
    {
     "name": "stdout",
     "output_type": "stream",
     "text": [
      "592\n"
     ]
    }
   ],
   "source": [
    "# ints or strings\n",
    "ints = []\n",
    "for i in range(len(names)):\n",
    "    if 'int' in str(dfs[i]) or 'object' in str(dfs[i]):\n",
    "        ints.append(names[i])\n",
    "print(len(ints))"
   ]
  },
  {
   "cell_type": "code",
   "execution_count": 9,
   "metadata": {
    "collapsed": true
   },
   "outputs": [],
   "source": [
    "df_X = pd.concat([train_df, test1_df, test2_df], axis=0)"
   ]
  },
  {
   "cell_type": "code",
   "execution_count": 10,
   "metadata": {
    "collapsed": true
   },
   "outputs": [],
   "source": [
    "dfx_year = df_X[year]"
   ]
  },
  {
   "cell_type": "code",
   "execution_count": 11,
   "metadata": {},
   "outputs": [
    {
     "name": "stdout",
     "output_type": "stream",
     "text": [
      "135 169 229 40\n"
     ]
    }
   ],
   "source": [
    "remains1 = []\n",
    "remains2 = []\n",
    "tobedrop = []\n",
    "\n",
    "for n in ints:\n",
    "    lu1 = len(train_df[n].unique())\n",
    "    lu2 = len(df_X[n].unique())\n",
    "    if lu1 < 10 and lu1 > 1:\n",
    "        remains1.append(n)\n",
    "    if lu2 < 10 and lu2 > 1:\n",
    "        remains2.append(n)\n",
    "    if lu1 != lu2:\n",
    "        tobedrop.append(n)\n",
    "    \n",
    "print(len(remains1), len(remains2), len(tobedrop), len(year))"
   ]
  },
  {
   "cell_type": "code",
   "execution_count": 12,
   "metadata": {},
   "outputs": [
    {
     "name": "stdout",
     "output_type": "stream",
     "text": [
      "87\n"
     ]
    }
   ],
   "source": [
    "toberemain = list(set(remains1) & set(remains2) - set(tobedrop))\n",
    "print(len(toberemain))"
   ]
  },
  {
   "cell_type": "code",
   "execution_count": 13,
   "metadata": {
    "collapsed": true
   },
   "outputs": [],
   "source": [
    "def dict2list(dic:dict):\n",
    "    ''' 将字典转化为列表 '''\n",
    "    keys = dic.keys()\n",
    "    vals = dic.values()\n",
    "    lst = [(key, val) for key, val in zip(keys, vals)]\n",
    "    return lst\n",
    "\n",
    "def LastRemainJudge(column):\n",
    "    unique = set(column)\n",
    "    uf = {}\n",
    "    for u in unique:\n",
    "        uf[u] = 0\n",
    "    for c in column:\n",
    "        uf[c] += 1\n",
    "    sl = sorted(dict2list(uf), key = lambda x:x[1], reverse=True)\n",
    "    x = sl[0][1]/len(column)\n",
    "    sl = np.array(sl)\n",
    "    if x < 0.8:\n",
    "        #print(sl[:, 1]/len(column))\n",
    "        return True\n",
    "    else:\n",
    "        return False"
   ]
  },
  {
   "cell_type": "code",
   "execution_count": 14,
   "metadata": {},
   "outputs": [
    {
     "name": "stdout",
     "output_type": "stream",
     "text": [
      "53 52 52\n"
     ]
    }
   ],
   "source": [
    "lm1 = []\n",
    "lm2 = []\n",
    "for n in toberemain:\n",
    "    if LastRemainJudge(train_df[n]):\n",
    "        lm1.append(n)\n",
    "    if LastRemainJudge(df_X[n]):\n",
    "        lm2.append(n)\n",
    "print(len(lm1), len(lm2), len(set(lm1)&set(lm2)))"
   ]
  },
  {
   "cell_type": "code",
   "execution_count": 15,
   "metadata": {},
   "outputs": [
    {
     "name": "stdout",
     "output_type": "stream",
     "text": [
      "52\n",
      "3097\n",
      "(1512, 3097) (1512, 52)\n"
     ]
    }
   ],
   "source": [
    "names = df_X.columns\n",
    "dts = df_X.dtypes\n",
    "dfx_float_n = []\n",
    "dfx_onehot_n = list(set(lm1) & set(lm2))\n",
    "print(len(dfx_onehot_n))\n",
    "for i in range(len(names)):\n",
    "    n = names[i]\n",
    "    d = dts[i]\n",
    "    if 'float' in str(d):\n",
    "        dfx_float_n.append(n)\n",
    "print(len(dfx_float_n))\n",
    "dfx_float = df_X[dfx_float_n]\n",
    "dfx_onehot = df_X[dfx_onehot_n]\n",
    "print(dfx_float.shape, dfx_onehot.shape)"
   ]
  },
  {
   "cell_type": "code",
   "execution_count": 16,
   "metadata": {},
   "outputs": [
    {
     "name": "stdout",
     "output_type": "stream",
     "text": [
      "0\n"
     ]
    }
   ],
   "source": [
    "drop_names = []\n",
    "names = dfx_float.columns\n",
    "for n in names:\n",
    "    x = np.sum(dfx_float[n].isnull())\n",
    "    if x > 500:\n",
    "        drop_names.append(n)\n",
    "print(len(drop_names))"
   ]
  },
  {
   "cell_type": "code",
   "execution_count": 19,
   "metadata": {},
   "outputs": [
    {
     "name": "stdout",
     "output_type": "stream",
     "text": [
      "1292 1278\n",
      "0\n"
     ]
    }
   ],
   "source": [
    "means = []\n",
    "stds = []\n",
    "drop_names = []\n",
    "names = dfx_float.columns\n",
    "for n in names:\n",
    "    c = dfx_float[n]\n",
    "    r = c[c.notnull()]\n",
    "    tmpm = np.mean(r)\n",
    "    tmps = np.std(r)\n",
    "    means.append(tmpm)\n",
    "    stds.append(tmps)\n",
    "    if tmps == 0:\n",
    "        drop_names.append(n)\n",
    "print(len(set(means)), len(set(stds)))\n",
    "print(len(drop_names))"
   ]
  },
  {
   "cell_type": "code",
   "execution_count": 18,
   "metadata": {},
   "outputs": [
    {
     "name": "stderr",
     "output_type": "stream",
     "text": [
      "/home/magnusterra/anaconda3/lib/python3.6/site-packages/ipykernel_launcher.py:1: SettingWithCopyWarning: \n",
      "A value is trying to be set on a copy of a slice from a DataFrame\n",
      "\n",
      "See the caveats in the documentation: http://pandas.pydata.org/pandas-docs/stable/indexing.html#indexing-view-versus-copy\n",
      "  \"\"\"Entry point for launching an IPython kernel.\n"
     ]
    }
   ],
   "source": [
    "dfx_float.drop(drop_names, axis=1, inplace=True)"
   ]
  },
  {
   "cell_type": "code",
   "execution_count": 20,
   "metadata": {},
   "outputs": [
    {
     "name": "stdout",
     "output_type": "stream",
     "text": [
      "358\n"
     ]
    }
   ],
   "source": [
    "# not move sames first, fill nan\n",
    "added = set()\n",
    "sames = []\n",
    "for i in range(len(names)):\n",
    "    tmpsl = []\n",
    "    tmpsl.append(i)\n",
    "    for j in range(i+1, len(names)):\n",
    "        if means[i] == means[j] and stds[i] == stds[j]:\n",
    "            if i not in added:\n",
    "                added.add(i)\n",
    "            if j not in added:\n",
    "                added.add(j)\n",
    "                tmpsl.append(j)\n",
    "    if len(tmpsl) > 1:\n",
    "        sames.append(tmpsl)\n",
    "print(len(sames))"
   ]
  },
  {
   "cell_type": "code",
   "execution_count": 21,
   "metadata": {},
   "outputs": [
    {
     "name": "stdout",
     "output_type": "stream",
     "text": [
      "1672\n"
     ]
    }
   ],
   "source": [
    "names = dfx_float.columns\n",
    "drop_names = []\n",
    "for i in sames:\n",
    "    for j in i[1:]:\n",
    "        drop_names.append(names[j])\n",
    "print(len(drop_names))"
   ]
  },
  {
   "cell_type": "code",
   "execution_count": 22,
   "metadata": {},
   "outputs": [
    {
     "name": "stdout",
     "output_type": "stream",
     "text": [
      "(1512, 2966)\n"
     ]
    }
   ],
   "source": [
    "print(dfx_float.shape)"
   ]
  },
  {
   "cell_type": "code",
   "execution_count": 23,
   "metadata": {},
   "outputs": [
    {
     "name": "stdout",
     "output_type": "stream",
     "text": [
      "(1512, 1294)\n"
     ]
    }
   ],
   "source": [
    "import copy\n",
    "trainx_float = copy.copy(dfx_float)\n",
    "trainx_float.drop(drop_names, axis=1, inplace=True)\n",
    "print(trainx_float.shape)"
   ]
  },
  {
   "cell_type": "code",
   "execution_count": 24,
   "metadata": {},
   "outputs": [
    {
     "name": "stdout",
     "output_type": "stream",
     "text": [
      "0\n"
     ]
    }
   ],
   "source": [
    "names = trainx_float.columns\n",
    "for n in names:\n",
    "    c = trainx_float[n]\n",
    "    r = c[c.notnull()]\n",
    "    tmpm = np.mean(r)\n",
    "    tmps = np.std(r)\n",
    "    assert tmps>0\n",
    "    trainx_float[n][c.isnull()] = tmpm\n",
    "print(np.sum(trainx_float.isnull().values))"
   ]
  },
  {
   "cell_type": "code",
   "execution_count": 25,
   "metadata": {},
   "outputs": [
    {
     "name": "stdout",
     "output_type": "stream",
     "text": [
      "0\n"
     ]
    }
   ],
   "source": [
    "# it shall be that there is only thre lines with nan in log1p\n",
    "mid = trainx_float-np.min(trainx_float)+1\n",
    "trainx_log1p = np.log1p(mid)\n",
    "del mid\n",
    "print(np.sum(trainx_log1p.isnull().values))"
   ]
  },
  {
   "cell_type": "code",
   "execution_count": 26,
   "metadata": {
    "collapsed": true
   },
   "outputs": [],
   "source": [
    "for n in names:\n",
    "    m1 = np.mean(trainx_float[n])\n",
    "    s1 = np.std(trainx_float[n])\n",
    "    assert s1 > 0\n",
    "    trainx_float[n] = (trainx_float[n]-m1)/s1\n",
    "    m2 = np.mean(trainx_log1p[n])\n",
    "    s2 = np.std(trainx_log1p[n])\n",
    "    assert s2 > 0\n",
    "    trainx_log1p[n] = (trainx_log1p[n]-m2)/s2"
   ]
  },
  {
   "cell_type": "code",
   "execution_count": 27,
   "metadata": {
    "collapsed": true
   },
   "outputs": [],
   "source": [
    "# make onehots onehot\n",
    "ohnames = dfx_onehot.columns\n",
    "for i in range(len(ohnames)):\n",
    "    n = ohnames[i]\n",
    "    tmp = pd.get_dummies(dfx_onehot[n], prefix='onehot_'+str(i))\n",
    "    dfx_onehot = pd.concat([dfx_onehot, tmp], axis=1)\n",
    "    #print(dfx_onehot.shape)"
   ]
  },
  {
   "cell_type": "code",
   "execution_count": 28,
   "metadata": {},
   "outputs": [
    {
     "name": "stdout",
     "output_type": "stream",
     "text": [
      "(1512, 200)\n"
     ]
    }
   ],
   "source": [
    "dfx_onehot.drop(ohnames, axis=1, inplace=True)\n",
    "print(dfx_onehot.shape)"
   ]
  },
  {
   "cell_type": "code",
   "execution_count": 29,
   "metadata": {
    "collapsed": true
   },
   "outputs": [],
   "source": [
    "dfx_float = trainx_float\n",
    "dfx_log1p = trainx_log1p"
   ]
  },
  {
   "cell_type": "code",
   "execution_count": 30,
   "metadata": {},
   "outputs": [
    {
     "name": "stderr",
     "output_type": "stream",
     "text": [
      "/home/magnusterra/anaconda3/lib/python3.6/site-packages/ipykernel_launcher.py:16: SettingWithCopyWarning: \n",
      "A value is trying to be set on a copy of a slice from a DataFrame.\n",
      "Try using .loc[row_indexer,col_indexer] = value instead\n",
      "\n",
      "See the caveats in the documentation: http://pandas.pydata.org/pandas-docs/stable/indexing.html#indexing-view-versus-copy\n",
      "  app.launch_new_instance()\n",
      "/home/magnusterra/anaconda3/lib/python3.6/site-packages/ipykernel_launcher.py:17: SettingWithCopyWarning: \n",
      "A value is trying to be set on a copy of a slice from a DataFrame.\n",
      "Try using .loc[row_indexer,col_indexer] = value instead\n",
      "\n",
      "See the caveats in the documentation: http://pandas.pydata.org/pandas-docs/stable/indexing.html#indexing-view-versus-copy\n"
     ]
    }
   ],
   "source": [
    "year_n = dfx_year.columns\n",
    "standardlen = len(str(dfx_year[year_n[0]][0]))\n",
    "for i in range(1, len(year_n)):\n",
    "    l = len(str(dfx_year[year_n[i]][0]))\n",
    "    bias = standardlen - l\n",
    "    b10 = 1\n",
    "    if bias > 0:\n",
    "        for j in range(bias):\n",
    "            b10 *= 10\n",
    "            #dfx_year[year_n[i]] /= 10\n",
    "    elif bias < 0:\n",
    "        for j in range(-bias):\n",
    "            b10 /= 10\n",
    "            #dfx_year[year_n[i]] *= 10\n",
    "    if b10 != 1:\n",
    "        dfx_year[year_n[i]] *= b10\n",
    "    dfx_year[year_n[i]] = dfx_year[year_n[i]] - dfx_year[year_n[0]] "
   ]
  },
  {
   "cell_type": "code",
   "execution_count": 76,
   "metadata": {
    "collapsed": true
   },
   "outputs": [],
   "source": [
    "dfx_time = (dfx_year - np.mean(dfx_year))/np.std(dfx_year)"
   ]
  },
  {
   "cell_type": "code",
   "execution_count": 85,
   "metadata": {},
   "outputs": [
    {
     "data": {
      "text/plain": [
       "(1512, 40)"
      ]
     },
     "execution_count": 85,
     "metadata": {},
     "output_type": "execute_result"
    }
   ],
   "source": [
    "dfx_time.shape"
   ]
  },
  {
   "cell_type": "code",
   "execution_count": 86,
   "metadata": {
    "collapsed": true
   },
   "outputs": [],
   "source": [
    "dfx_time = dfx_time[dfx_time.columns[1:]]"
   ]
  },
  {
   "cell_type": "code",
   "execution_count": 87,
   "metadata": {},
   "outputs": [
    {
     "data": {
      "text/plain": [
       "(1512, 39)"
      ]
     },
     "execution_count": 87,
     "metadata": {},
     "output_type": "execute_result"
    }
   ],
   "source": [
    "dfx_time.shape"
   ]
  },
  {
   "cell_type": "code",
   "execution_count": 35,
   "metadata": {},
   "outputs": [
    {
     "name": "stderr",
     "output_type": "stream",
     "text": [
      "/home/magnusterra/anaconda3/lib/python3.6/site-packages/sklearn/cross_validation.py:41: DeprecationWarning: This module was deprecated in version 0.18 in favor of the model_selection module into which all the refactored classes and functions are moved. Also note that the interface of the new CV iterators are different from that of this module. This module will be removed in 0.20.\n",
      "  \"This module will be removed in 0.20.\", DeprecationWarning)\n"
     ]
    }
   ],
   "source": [
    "import matplotlib.pyplot as plt\n",
    "import xgboost as xgb\n",
    "from xgboost import plot_importance"
   ]
  },
  {
   "cell_type": "code",
   "execution_count": 52,
   "metadata": {},
   "outputs": [
    {
     "data": {
      "image/png": "[encoded data removed]",
      "text/plain": [
       "<matplotlib.figure.Figure at 0x7fb16733deb8>"
      ]
     },
     "metadata": {},
     "output_type": "display_data"
    }
   ],
   "source": [
    "plt.scatter(dfx_time.values[:800, 20], train_y.values)\n",
    "plt.show()"
   ]
  },
  {
   "cell_type": "code",
   "execution_count": 53,
   "metadata": {
    "collapsed": true
   },
   "outputs": [],
   "source": [
    "from sklearn.ensemble import BaggingRegressor\n",
    "from sklearn.linear_model import LinearRegression\n",
    "from xgboost import XGBRegressor"
   ]
  },
  {
   "cell_type": "code",
   "execution_count": 94,
   "metadata": {
    "collapsed": true
   },
   "outputs": [],
   "source": [
    "def MSE(y_raw, y_pred):\n",
    "    r = np.mean(np.square(y_raw-y_pred))\n",
    "    #print(r)\n",
    "    return r"
   ]
  },
  {
   "cell_type": "code",
   "execution_count": 55,
   "metadata": {},
   "outputs": [
    {
     "name": "stderr",
     "output_type": "stream",
     "text": [
      "/home/magnusterra/anaconda3/lib/python3.6/site-packages/sklearn/grid_search.py:42: DeprecationWarning: This module was deprecated in version 0.18 in favor of the model_selection module into which all the refactored classes and functions are moved. This module will be removed in 0.20.\n",
      "  DeprecationWarning)\n"
     ]
    }
   ],
   "source": [
    "import matplotlib.pyplot as plt\n",
    "from sklearn.cross_validation import train_test_split\n",
    "from sklearn.grid_search import GridSearchCV "
   ]
  },
  {
   "cell_type": "code",
   "execution_count": 113,
   "metadata": {
    "collapsed": true
   },
   "outputs": [],
   "source": [
    "from sklearn.model_selection import KFold \n",
    "kf = KFold(n_splits=5, random_state=2018)\n",
    "def get_oof(rgr, xtrain, ytrain, xtest, lenot, lenoe):\n",
    "    oof_train = np.zeros((lenot,))\n",
    "    oof_test = np.zeros((lenoe,))\n",
    "    oof_test_skf = np.empty((5, lenoe))\n",
    "    for i, (train_index, test_index) in enumerate(kf.split(xtrain)):\n",
    "        kf_xtrain = xtrain[train_index]\n",
    "        kf_ytrain = ytrain[train_index]\n",
    "        kf_xtest = xtrain[test_index]\n",
    "        rgr.fit(kf_xtrain, kf_ytrain)\n",
    "        oof_train[test_index] = rgr.predict(kf_xtest)\n",
    "        oof_test_skf[i, : ] = rgr.predict(xtest)\n",
    "    oof_test[:] = oof_test_skf.mean(axis=0)\n",
    "    return oof_train.reshape(-1,1), oof_test.reshape(-1,1)"
   ]
  },
  {
   "cell_type": "code",
   "execution_count": 88,
   "metadata": {},
   "outputs": [
    {
     "data": {
      "text/plain": [
       "(1512, 1494)"
      ]
     },
     "execution_count": 88,
     "metadata": {},
     "output_type": "execute_result"
    }
   ],
   "source": [
    "dfx = pd.concat([dfx_log1p, dfx_onehot], axis=1)\n",
    "dfx.shape"
   ]
  },
  {
   "cell_type": "code",
   "execution_count": 89,
   "metadata": {},
   "outputs": [
    {
     "data": {
      "text/plain": [
       "(1512, 1533)"
      ]
     },
     "execution_count": 89,
     "metadata": {},
     "output_type": "execute_result"
    }
   ],
   "source": [
    "ndfx = pd.concat([dfx, dfx_time], axis=1)\n",
    "ndfx.shape"
   ]
  },
  {
   "cell_type": "code",
   "execution_count": 90,
   "metadata": {
    "collapsed": true
   },
   "outputs": [],
   "source": [
    "trndfx = ndfx[:800]\n",
    "trndfx = trndfx[train_y>1.8]"
   ]
  },
  {
   "cell_type": "code",
   "execution_count": 91,
   "metadata": {},
   "outputs": [
    {
     "data": {
      "text/plain": [
       "(799,)"
      ]
     },
     "execution_count": 91,
     "metadata": {},
     "output_type": "execute_result"
    }
   ],
   "source": [
    "trny = train_y[train_y>1.8]\n",
    "trny.shape"
   ]
  },
  {
   "cell_type": "code",
   "execution_count": 92,
   "metadata": {},
   "outputs": [
    {
     "name": "stdout",
     "output_type": "stream",
     "text": [
      "0.012956001176\n",
      "0.0150168025429\n",
      "0.015843769448\n",
      "0.0131705455574\n",
      "0.0156547362543\n",
      "0.0146185219075\n",
      "0.0158633236506\n",
      "0.0167757342976\n",
      "0.0135966512199\n",
      "0.0145114011405\n",
      "0.0172754119816\n",
      "0.0171190575495\n",
      "0.0105734644657\n",
      "0.0124101902374\n",
      "0.0126557356753\n",
      "0.015217866917\n",
      "0.0167976511115\n",
      "0.0146798482578\n",
      "0.0141277893793\n",
      "0.0172738964178\n",
      "0.0127518392458\n",
      "0.013905636772\n",
      "0.0145157559799\n",
      "0.0154943764592\n",
      "0.0174574300301\n",
      "0.0164373301091\n",
      "0.013905253713\n",
      "0.0148862882576\n",
      "0.0139915444035\n",
      "0.0125284288349\n",
      "0.0139929158424\n",
      "0.0139163575899\n",
      "0.0146356923942\n",
      "0.0156436487755\n",
      "0.0150150257671\n",
      "0.0162272868305\n",
      "0.0142023871309\n",
      "0.0134772090564\n",
      "0.0189895926045\n",
      "0.0177293716459\n",
      "0.0127569953264\n",
      "0.018876079102\n",
      "0.0154266007152\n",
      "0.0147759270755\n",
      "0.0136348156065\n",
      "0.0122414702742\n",
      "0.0165051503477\n",
      "0.0157881905492\n",
      "0.0163351629827\n",
      "0.015429703898\n",
      "0.0144718424726\n",
      "0.0144499678893\n",
      "0.0146097353736\n",
      "0.0147579720675\n",
      "0.0158972966404\n",
      "0.0144523196403\n",
      "0.0143572425903\n",
      "0.0156763162759\n",
      "0.0145365142343\n",
      "0.013556625133\n",
      "0.0178730312302\n",
      "0.0141170712657\n",
      "0.0121557544992\n",
      "0.0146539209454\n",
      "0.0114301368028\n",
      "0.0148380930535\n",
      "0.0160524099077\n",
      "0.0147380216361\n",
      "0.013528250364\n",
      "0.012736675789\n",
      "0.0161659029079\n",
      "0.0148912253086\n",
      "0.0155877142498\n",
      "0.0151190123884\n",
      "0.0132504294566\n",
      "0.0162651360975\n",
      "0.0159365571627\n",
      "0.0164085726504\n",
      "0.0142287764898\n",
      "0.013190264432\n",
      "0.0133937649378\n",
      "0.0128154443499\n",
      "0.01419843848\n",
      "0.015490217044\n",
      "0.01479519621\n",
      "0.0168810250611\n",
      "0.0131937426809\n",
      "0.0146148381914\n",
      "0.0149788609123\n",
      "0.0150138363312\n",
      "0.0152397300042\n",
      "0.0149397558262\n",
      "0.0115532840466\n",
      "0.0169397356983\n",
      "0.0132020317514\n",
      "0.012100008739\n",
      "0.0138202843584\n",
      "0.0116311395662\n",
      "0.01715283479\n",
      "0.0146477582637\n",
      "0.014741465827 0.00162512429795 0.0189895926045 0.0105734644657\n"
     ]
    }
   ],
   "source": [
    "results = []\n",
    "for i in range(100):\n",
    "    subxtrain, subxval, subytrain, subyval = train_test_split(trndfx.values, trny.values, test_size=0.2, random_state=i)\n",
    "    \n",
    "    xgb = XGBRegressor()\n",
    "    xgb.fit(subxtrain, subytrain)\n",
    "    test1_pred = xgb.predict(subxval)\n",
    "    t = MSE(test1_pred, subyval)\n",
    "    results.append(t)\n",
    "print(np.mean(results), np.std(results), np.max(results), np.min(results))"
   ]
  },
  {
   "cell_type": "code",
   "execution_count": 93,
   "metadata": {},
   "outputs": [
    {
     "name": "stdout",
     "output_type": "stream",
     "text": [
      "0.0135574214126\n",
      "0.0164872261235\n",
      "0.0162525870101\n",
      "0.0214337744511\n",
      "0.0253874904891\n",
      "0.0163909634633\n",
      "0.0169658296069\n",
      "0.0154989624207\n",
      "0.0142551938484\n",
      "0.0140980651021\n",
      "0.0131023609852\n",
      "0.017116023615\n",
      "0.0110168668444\n",
      "0.0141042236556\n",
      "0.0132669091062\n",
      "0.0150043251495\n",
      "0.0251771290681\n",
      "0.0129299274312\n",
      "0.0122980973252\n",
      "0.0247279711981\n",
      "0.0113913543423\n",
      "0.0245754927174\n",
      "0.0148365673404\n",
      "0.0155191793253\n",
      "0.0152708444741\n",
      "0.0163950287949\n",
      "0.0226646010458\n",
      "0.0132511928378\n",
      "0.0227390401291\n",
      "0.013033943196\n",
      "0.0135286906774\n",
      "0.0208047247143\n",
      "0.0125110271558\n",
      "0.0238323786803\n",
      "0.0158291090335\n",
      "0.0159678129237\n",
      "0.0240316998322\n",
      "0.0210864260986\n",
      "0.01725108176\n",
      "0.0146208094491\n",
      "0.0140139392389\n",
      "0.0160940329359\n",
      "0.015002615111\n",
      "0.0151080626849\n",
      "0.0145854730014\n",
      "0.0110666709734\n",
      "0.0164601056893\n",
      "0.0243838124178\n",
      "0.0150882340591\n",
      "0.0129399163975\n",
      "0.01491601412\n",
      "0.0234373903215\n",
      "0.014000310685\n",
      "0.0140418323898\n",
      "0.0214111215984\n",
      "0.0239153520837\n",
      "0.0147230896859\n",
      "0.0175141975434\n",
      "0.017402327481\n",
      "0.0135053632946\n",
      "0.0157099977967\n",
      "0.014759646247\n",
      "0.0142877182763\n",
      "0.0241371362159\n",
      "0.0134825018877\n",
      "0.0135423128965\n",
      "0.0179007501693\n",
      "0.0201764684239\n",
      "0.0171708367748\n",
      "0.0144461159759\n",
      "0.0160240516412\n",
      "0.0119936871641\n",
      "0.0146977408911\n",
      "0.0238705932627\n",
      "0.0123682803737\n",
      "0.0154482012205\n",
      "0.0153113890921\n",
      "0.0170663745311\n",
      "0.0156239000942\n",
      "0.0163037319962\n",
      "0.0139670614342\n",
      "0.0216477672634\n",
      "0.0207590847104\n",
      "0.0167459322459\n",
      "0.0143517979301\n",
      "0.0125838913701\n",
      "0.0163678692756\n",
      "0.0181551106826\n",
      "0.014226689867\n",
      "0.015114498617\n",
      "0.0140764542946\n",
      "0.0152219898471\n",
      "0.0151513467673\n",
      "0.0196442988617\n",
      "0.0215728059557\n",
      "0.0235174704833\n",
      "0.0149480704786\n",
      "0.0124146236477\n",
      "0.0245555321156\n",
      "0.0144535420512\n",
      "0.0167161948738 0.00383721889742 0.0253874904891 0.0110168668444\n"
     ]
    }
   ],
   "source": [
    "results = []\n",
    "for i in range(100):\n",
    "    subxtrain, subxval, subytrain, subyval = train_test_split(ndfx[:800].values, train_y.values, test_size=0.2, random_state=i)\n",
    "\n",
    "    xgb = XGBRegressor()\n",
    "    xgb.fit(subxtrain, subytrain)\n",
    "    test1_pred = xgb.predict(subxval)\n",
    "    t = MSE(test1_pred, subyval)\n",
    "    results.append(t)\n",
    "print(np.mean(results), np.std(results), np.max(results), np.min(results))"
   ]
  },
  {
   "cell_type": "code",
   "execution_count": 84,
   "metadata": {
    "collapsed": true
   },
   "outputs": [],
   "source": [
    "# drop one low point and first time 0.014741465827 0.00162512429795 0.0189895926045 0.0105734644657\n",
    "# drop first time                   0.0167161948738 0.00383721889742 0.0253874904891 0.0110168668444\n",
    "# drop one low point                0.014741465827 0.00162512429795 0.0189895926045 0.0105734644657\n",
    "# no drop                           0.0167161948738 0.00383721889742 0.0253874904891 0.0110168668444 "
   ]
  },
  {
   "cell_type": "code",
   "execution_count": 98,
   "metadata": {},
   "outputs": [
    {
     "name": "stdout",
     "output_type": "stream",
     "text": [
      "0\n",
      "{'colsample_bytree': 0.75, 'gamma': 0.001, 'max_depth': 4, 'objective': 'reg:gamma', 'reg_lambda': 1, 'subsample': 0.85}\n",
      "0.00146086023566 0.0128567520904\n",
      "1\n",
      "{'colsample_bytree': 0.5, 'gamma': 0.001, 'max_depth': 3, 'objective': 'reg:linear', 'reg_lambda': 1, 'subsample': 0.85}\n",
      "0.00282183987351 0.0141974493677\n",
      "2\n",
      "{'colsample_bytree': 0.75, 'gamma': 0.001, 'max_depth': 4, 'objective': 'reg:linear', 'reg_lambda': 1, 'subsample': 0.85}\n",
      "0.000817409294922 0.0143166110715\n",
      "3\n",
      "{'colsample_bytree': 0.75, 'gamma': 0.001, 'max_depth': 4, 'objective': 'reg:linear', 'reg_lambda': 1, 'subsample': 0.85}\n",
      "0.000940050607208 0.0129356805313\n",
      "4\n",
      "{'colsample_bytree': 0.75, 'gamma': 0.0001, 'max_depth': 4, 'objective': 'reg:gamma', 'reg_lambda': 1, 'subsample': 0.7}\n",
      "0.00142270923584 0.0160145394252\n",
      "5\n",
      "{'colsample_bytree': 0.5, 'gamma': 0.0001, 'max_depth': 4, 'objective': 'reg:gamma', 'reg_lambda': 1, 'subsample': 0.85}\n",
      "0.00142029589041 0.0142416098444\n",
      "6\n",
      "{'colsample_bytree': 1, 'gamma': 0.0001, 'max_depth': 3, 'objective': 'reg:linear', 'reg_lambda': 1, 'subsample': 0.85}\n",
      "0.00232924441936 0.0160137860126\n",
      "7\n",
      "{'colsample_bytree': 0.75, 'gamma': 0.001, 'max_depth': 4, 'objective': 'reg:linear', 'reg_lambda': 1, 'subsample': 0.85}\n",
      "0.000856564004608 0.0160179449751\n",
      "8\n",
      "{'colsample_bytree': 0.5, 'gamma': 0.001, 'max_depth': 3, 'objective': 'reg:linear', 'reg_lambda': 1, 'subsample': 0.85}\n",
      "0.00269804099582 0.012384124207\n",
      "9\n",
      "{'colsample_bytree': 0.75, 'gamma': 0.0001, 'max_depth': 4, 'objective': 'reg:linear', 'reg_lambda': 1, 'subsample': 0.7}\n",
      "0.000937840602161 0.0129667060117\n",
      "10\n",
      "{'colsample_bytree': 0.75, 'gamma': 0, 'max_depth': 3, 'objective': 'reg:linear', 'reg_lambda': 1, 'subsample': 0.85}\n",
      "0.00272371062793 0.018396066327\n",
      "11\n",
      "{'colsample_bytree': 0.5, 'gamma': 0.0001, 'max_depth': 4, 'objective': 'reg:linear', 'reg_lambda': 1, 'subsample': 0.7}\n",
      "0.0009503731405 0.0160494080556\n",
      "12\n",
      "{'colsample_bytree': 0.5, 'gamma': 0.0001, 'max_depth': 4, 'objective': 'reg:linear', 'reg_lambda': 1, 'subsample': 0.85}\n",
      "0.000934767949254 0.0108480031717\n",
      "13\n",
      "{'colsample_bytree': 0.75, 'gamma': 0.01, 'max_depth': 4, 'objective': 'reg:linear', 'reg_lambda': 1, 'subsample': 0.7}\n",
      "0.00109252667922 0.0116626884352\n",
      "14\n",
      "{'colsample_bytree': 0.5, 'gamma': 0.01, 'max_depth': 3, 'objective': 'reg:linear', 'reg_lambda': 1, 'subsample': 0.85}\n",
      "0.00263711175682 0.0124691190762\n",
      "15\n",
      "{'colsample_bytree': 1, 'gamma': 0.001, 'max_depth': 4, 'objective': 'reg:linear', 'reg_lambda': 1, 'subsample': 0.7}\n",
      "0.000972363570801 0.013226842732\n",
      "16\n",
      "{'colsample_bytree': 0.5, 'gamma': 0.01, 'max_depth': 3, 'objective': 'reg:linear', 'reg_lambda': 2, 'subsample': 0.85}\n",
      "0.00290640350909 0.0157660420199\n",
      "17\n",
      "{'colsample_bytree': 0.5, 'gamma': 0.01, 'max_depth': 4, 'objective': 'reg:linear', 'reg_lambda': 1, 'subsample': 0.7}\n",
      "0.00117736469696 0.0145844564658\n",
      "18\n",
      "{'colsample_bytree': 1, 'gamma': 0.01, 'max_depth': 4, 'objective': 'reg:linear', 'reg_lambda': 1, 'subsample': 0.7}\n",
      "0.00112935682768 0.0138718271255\n",
      "19\n",
      "{'colsample_bytree': 1, 'gamma': 0.001, 'max_depth': 3, 'objective': 'reg:linear', 'reg_lambda': 1, 'subsample': 0.85}\n",
      "0.0024092144569 0.0147678498107\n",
      "20\n",
      "{'colsample_bytree': 0.5, 'gamma': 0, 'max_depth': 4, 'objective': 'reg:linear', 'reg_lambda': 1, 'subsample': 0.85}\n",
      "0.000931140548841 0.0119944494884\n",
      "21\n",
      "{'colsample_bytree': 0.5, 'gamma': 0.01, 'max_depth': 4, 'objective': 'reg:linear', 'reg_lambda': 1, 'subsample': 0.85}\n",
      "0.000999095538193 0.0140760652635\n",
      "22\n",
      "{'colsample_bytree': 0.75, 'gamma': 0, 'max_depth': 4, 'objective': 'reg:gamma', 'reg_lambda': 1, 'subsample': 0.85}\n",
      "0.00133173745225 0.0148124531505\n",
      "23\n",
      "{'colsample_bytree': 0.75, 'gamma': 0.01, 'max_depth': 3, 'objective': 'reg:linear', 'reg_lambda': 1, 'subsample': 0.85}\n",
      "0.00252555919381 0.0148705161335\n",
      "24\n",
      "{'colsample_bytree': 0.5, 'gamma': 0.001, 'max_depth': 3, 'objective': 'reg:linear', 'reg_lambda': 1, 'subsample': 0.85}\n",
      "0.0026294229527 0.0175049602387\n",
      "25\n",
      "{'colsample_bytree': 0.75, 'gamma': 0.01, 'max_depth': 4, 'objective': 'reg:linear', 'reg_lambda': 1, 'subsample': 0.7}\n",
      "0.00106381221583 0.0156187356239\n",
      "26\n",
      "{'colsample_bytree': 0.5, 'gamma': 0.01, 'max_depth': 3, 'objective': 'reg:linear', 'reg_lambda': 1, 'subsample': 0.85}\n",
      "0.00266216701477 0.0136161467607\n",
      "27\n",
      "{'colsample_bytree': 0.5, 'gamma': 0.0001, 'max_depth': 4, 'objective': 'reg:linear', 'reg_lambda': 2, 'subsample': 0.7}\n",
      "0.00105996093646 0.0158860964926\n",
      "28\n",
      "{'colsample_bytree': 1, 'gamma': 0.001, 'max_depth': 3, 'objective': 'reg:linear', 'reg_lambda': 1, 'subsample': 0.85}\n",
      "0.00243980779754 0.0139865603864\n",
      "29\n",
      "{'colsample_bytree': 0.5, 'gamma': 0.01, 'max_depth': 4, 'objective': 'reg:linear', 'reg_lambda': 1, 'subsample': 0.85}\n",
      "0.00106775770069 0.0128595031016\n",
      "30\n",
      "{'colsample_bytree': 0.5, 'gamma': 0.001, 'max_depth': 4, 'objective': 'reg:linear', 'reg_lambda': 1, 'subsample': 0.7}\n",
      "0.000959780024473 0.0143516000693\n",
      "31\n",
      "{'colsample_bytree': 0.5, 'gamma': 0.001, 'max_depth': 4, 'objective': 'reg:linear', 'reg_lambda': 1, 'subsample': 0.7}\n",
      "0.00103881798068 0.0140271848622\n",
      "32\n",
      "{'colsample_bytree': 0.75, 'gamma': 0.01, 'max_depth': 3, 'objective': 'reg:linear', 'reg_lambda': 1, 'subsample': 0.85}\n",
      "0.00270346669804 0.0132417954649\n",
      "33\n",
      "{'colsample_bytree': 1, 'gamma': 0.001, 'max_depth': 4, 'objective': 'reg:gamma', 'reg_lambda': 1, 'subsample': 0.7}\n",
      "0.00155006170768 0.0154470423842\n",
      "34\n",
      "{'colsample_bytree': 0.5, 'gamma': 0.0001, 'max_depth': 4, 'objective': 'reg:linear', 'reg_lambda': 1, 'subsample': 0.85}\n",
      "0.00103056701957 0.0151282823073\n",
      "35\n",
      "{'colsample_bytree': 0.5, 'gamma': 0.01, 'max_depth': 4, 'objective': 'reg:linear', 'reg_lambda': 1, 'subsample': 0.85}\n",
      "0.00103278748452 0.0188733457938\n",
      "36\n",
      "{'colsample_bytree': 0.5, 'gamma': 0, 'max_depth': 4, 'objective': 'reg:gamma', 'reg_lambda': 1, 'subsample': 0.7}\n",
      "0.00172713910007 0.0130138642077\n",
      "37\n",
      "{'colsample_bytree': 0.5, 'gamma': 0, 'max_depth': 4, 'objective': 'reg:linear', 'reg_lambda': 1, 'subsample': 0.85}\n",
      "0.000887989180195 0.0122009755818\n",
      "38\n",
      "{'colsample_bytree': 0.5, 'gamma': 0.01, 'max_depth': 4, 'objective': 'reg:linear', 'reg_lambda': 1, 'subsample': 0.7}\n",
      "0.00107480439124 0.0178433971608\n",
      "39\n",
      "{'colsample_bytree': 1, 'gamma': 0.001, 'max_depth': 3, 'objective': 'reg:linear', 'reg_lambda': 2, 'subsample': 0.85}\n",
      "0.00252192592071 0.0170331012905\n",
      "40\n",
      "{'colsample_bytree': 0.75, 'gamma': 0, 'max_depth': 4, 'objective': 'reg:linear', 'reg_lambda': 1, 'subsample': 0.7}\n",
      "0.000926597538401 0.0125464898243\n",
      "41\n",
      "{'colsample_bytree': 0.75, 'gamma': 0, 'max_depth': 4, 'objective': 'reg:linear', 'reg_lambda': 2, 'subsample': 0.7}\n",
      "0.00111100869943 0.0180487036761\n",
      "42\n",
      "{'colsample_bytree': 1, 'gamma': 0.001, 'max_depth': 4, 'objective': 'reg:gamma', 'reg_lambda': 2, 'subsample': 0.85}\n",
      "0.00149317854911 0.015402549055\n",
      "43\n",
      "{'colsample_bytree': 0.75, 'gamma': 0.01, 'max_depth': 4, 'objective': 'reg:linear', 'reg_lambda': 1, 'subsample': 0.7}\n",
      "0.00108361016212 0.0153065826862\n",
      "44\n",
      "{'colsample_bytree': 0.5, 'gamma': 0.01, 'max_depth': 4, 'objective': 'reg:linear', 'reg_lambda': 1, 'subsample': 0.85}\n",
      "0.00114170785624 0.0128564557912\n",
      "45\n",
      "{'colsample_bytree': 1, 'gamma': 0, 'max_depth': 4, 'objective': 'reg:linear', 'reg_lambda': 2, 'subsample': 0.7}\n",
      "0.00101802039479 0.0149934371058\n",
      "46\n",
      "{'colsample_bytree': 1, 'gamma': 0.001, 'max_depth': 4, 'objective': 'reg:gamma', 'reg_lambda': 1, 'subsample': 0.7}\n",
      "0.00148772878711 0.0179133632598\n",
      "47\n",
      "{'colsample_bytree': 1, 'gamma': 0.001, 'max_depth': 3, 'objective': 'reg:linear', 'reg_lambda': 1, 'subsample': 0.7}\n",
      "0.00230313405145 0.0153895594591\n",
      "48\n",
      "{'colsample_bytree': 0.75, 'gamma': 0.0001, 'max_depth': 4, 'objective': 'reg:linear', 'reg_lambda': 1, 'subsample': 0.85}\n",
      "0.000847562967286 0.0160441267943\n",
      "49\n",
      "{'colsample_bytree': 0.75, 'gamma': 0.001, 'max_depth': 4, 'objective': 'reg:linear', 'reg_lambda': 1, 'subsample': 0.85}\n",
      "0.00097011396042 0.015561638229\n"
     ]
    },
    {
     "ename": "KeyboardInterrupt",
     "evalue": "",
     "output_type": "error",
     "traceback": [
      "\u001b[0;31m---------------------------------------------------------------------------\u001b[0m",
      "\u001b[0;31mKeyboardInterrupt\u001b[0m                         Traceback (most recent call last)",
      "\u001b[0;32m<ipython-input-98-44d7e825c637>\u001b[0m in \u001b[0;36m<module>\u001b[0;34m()\u001b[0m\n\u001b[1;32m      7\u001b[0m \u001b[0;34m\u001b[0m\u001b[0m\n\u001b[1;32m      8\u001b[0m     \u001b[0mclf\u001b[0m \u001b[0;34m=\u001b[0m \u001b[0mGridSearchCV\u001b[0m\u001b[0;34m(\u001b[0m\u001b[0mestimator\u001b[0m \u001b[0;34m=\u001b[0m\u001b[0mXGBRegressor\u001b[0m\u001b[0;34m(\u001b[0m\u001b[0;34m)\u001b[0m\u001b[0;34m,\u001b[0m \u001b[0mparam_grid\u001b[0m \u001b[0;34m=\u001b[0m\u001b[0mtuned_parameters\u001b[0m\u001b[0;34m,\u001b[0m \u001b[0mcv\u001b[0m\u001b[0;34m=\u001b[0m\u001b[0;36m5\u001b[0m\u001b[0;34m,\u001b[0m \u001b[0mscoring\u001b[0m\u001b[0;34m=\u001b[0m\u001b[0;34m'neg_mean_squared_error'\u001b[0m\u001b[0;34m)\u001b[0m\u001b[0;34m\u001b[0m\u001b[0m\n\u001b[0;32m----> 9\u001b[0;31m     \u001b[0mclf\u001b[0m\u001b[0;34m.\u001b[0m\u001b[0mfit\u001b[0m\u001b[0;34m(\u001b[0m\u001b[0msubxtrain\u001b[0m\u001b[0;34m,\u001b[0m \u001b[0msubytrain\u001b[0m\u001b[0;34m)\u001b[0m\u001b[0;34m\u001b[0m\u001b[0m\n\u001b[0m\u001b[1;32m     10\u001b[0m     \u001b[0mprint\u001b[0m\u001b[0;34m(\u001b[0m\u001b[0mi\u001b[0m\u001b[0;34m)\u001b[0m\u001b[0;34m\u001b[0m\u001b[0m\n\u001b[1;32m     11\u001b[0m     \u001b[0mprint\u001b[0m\u001b[0;34m(\u001b[0m\u001b[0mclf\u001b[0m\u001b[0;34m.\u001b[0m\u001b[0mbest_params_\u001b[0m\u001b[0;34m)\u001b[0m\u001b[0;34m\u001b[0m\u001b[0m\n",
      "\u001b[0;32m/home/magnusterra/anaconda3/lib/python3.6/site-packages/sklearn/grid_search.py\u001b[0m in \u001b[0;36mfit\u001b[0;34m(self, X, y)\u001b[0m\n\u001b[1;32m    836\u001b[0m \u001b[0;34m\u001b[0m\u001b[0m\n\u001b[1;32m    837\u001b[0m         \"\"\"\n\u001b[0;32m--> 838\u001b[0;31m         \u001b[0;32mreturn\u001b[0m \u001b[0mself\u001b[0m\u001b[0;34m.\u001b[0m\u001b[0m_fit\u001b[0m\u001b[0;34m(\u001b[0m\u001b[0mX\u001b[0m\u001b[0;34m,\u001b[0m \u001b[0my\u001b[0m\u001b[0;34m,\u001b[0m \u001b[0mParameterGrid\u001b[0m\u001b[0;34m(\u001b[0m\u001b[0mself\u001b[0m\u001b[0;34m.\u001b[0m\u001b[0mparam_grid\u001b[0m\u001b[0;34m)\u001b[0m\u001b[0;34m)\u001b[0m\u001b[0;34m\u001b[0m\u001b[0m\n\u001b[0m\u001b[1;32m    839\u001b[0m \u001b[0;34m\u001b[0m\u001b[0m\n\u001b[1;32m    840\u001b[0m \u001b[0;34m\u001b[0m\u001b[0m\n",
      "\u001b[0;32m/home/magnusterra/anaconda3/lib/python3.6/site-packages/sklearn/grid_search.py\u001b[0m in \u001b[0;36m_fit\u001b[0;34m(self, X, y, parameter_iterable)\u001b[0m\n\u001b[1;32m    572\u001b[0m                                     \u001b[0mself\u001b[0m\u001b[0;34m.\u001b[0m\u001b[0mfit_params\u001b[0m\u001b[0;34m,\u001b[0m \u001b[0mreturn_parameters\u001b[0m\u001b[0;34m=\u001b[0m\u001b[0;32mTrue\u001b[0m\u001b[0;34m,\u001b[0m\u001b[0;34m\u001b[0m\u001b[0m\n\u001b[1;32m    573\u001b[0m                                     error_score=self.error_score)\n\u001b[0;32m--> 574\u001b[0;31m                 \u001b[0;32mfor\u001b[0m \u001b[0mparameters\u001b[0m \u001b[0;32min\u001b[0m \u001b[0mparameter_iterable\u001b[0m\u001b[0;34m\u001b[0m\u001b[0m\n\u001b[0m\u001b[1;32m    575\u001b[0m                 for train, test in cv)\n\u001b[1;32m    576\u001b[0m \u001b[0;34m\u001b[0m\u001b[0m\n",
      "\u001b[0;32m/home/magnusterra/anaconda3/lib/python3.6/site-packages/sklearn/externals/joblib/parallel.py\u001b[0m in \u001b[0;36m__call__\u001b[0;34m(self, iterable)\u001b[0m\n\u001b[1;32m    777\u001b[0m             \u001b[0;31m# was dispatched. In particular this covers the edge\u001b[0m\u001b[0;34m\u001b[0m\u001b[0;34m\u001b[0m\u001b[0m\n\u001b[1;32m    778\u001b[0m             \u001b[0;31m# case of Parallel used with an exhausted iterator.\u001b[0m\u001b[0;34m\u001b[0m\u001b[0;34m\u001b[0m\u001b[0m\n\u001b[0;32m--> 779\u001b[0;31m             \u001b[0;32mwhile\u001b[0m \u001b[0mself\u001b[0m\u001b[0;34m.\u001b[0m\u001b[0mdispatch_one_batch\u001b[0m\u001b[0;34m(\u001b[0m\u001b[0miterator\u001b[0m\u001b[0;34m)\u001b[0m\u001b[0;34m:\u001b[0m\u001b[0;34m\u001b[0m\u001b[0m\n\u001b[0m\u001b[1;32m    780\u001b[0m                 \u001b[0mself\u001b[0m\u001b[0;34m.\u001b[0m\u001b[0m_iterating\u001b[0m \u001b[0;34m=\u001b[0m \u001b[0;32mTrue\u001b[0m\u001b[0;34m\u001b[0m\u001b[0m\n\u001b[1;32m    781\u001b[0m             \u001b[0;32melse\u001b[0m\u001b[0;34m:\u001b[0m\u001b[0;34m\u001b[0m\u001b[0m\n",
      "\u001b[0;32m/home/magnusterra/anaconda3/lib/python3.6/site-packages/sklearn/externals/joblib/parallel.py\u001b[0m in \u001b[0;36mdispatch_one_batch\u001b[0;34m(self, iterator)\u001b[0m\n\u001b[1;32m    623\u001b[0m                 \u001b[0;32mreturn\u001b[0m \u001b[0;32mFalse\u001b[0m\u001b[0;34m\u001b[0m\u001b[0m\n\u001b[1;32m    624\u001b[0m             \u001b[0;32melse\u001b[0m\u001b[0;34m:\u001b[0m\u001b[0;34m\u001b[0m\u001b[0m\n\u001b[0;32m--> 625\u001b[0;31m                 \u001b[0mself\u001b[0m\u001b[0;34m.\u001b[0m\u001b[0m_dispatch\u001b[0m\u001b[0;34m(\u001b[0m\u001b[0mtasks\u001b[0m\u001b[0;34m)\u001b[0m\u001b[0;34m\u001b[0m\u001b[0m\n\u001b[0m\u001b[1;32m    626\u001b[0m                 \u001b[0;32mreturn\u001b[0m \u001b[0;32mTrue\u001b[0m\u001b[0;34m\u001b[0m\u001b[0m\n\u001b[1;32m    627\u001b[0m \u001b[0;34m\u001b[0m\u001b[0m\n",
      "\u001b[0;32m/home/magnusterra/anaconda3/lib/python3.6/site-packages/sklearn/externals/joblib/parallel.py\u001b[0m in \u001b[0;36m_dispatch\u001b[0;34m(self, batch)\u001b[0m\n\u001b[1;32m    586\u001b[0m         \u001b[0mdispatch_timestamp\u001b[0m \u001b[0;34m=\u001b[0m \u001b[0mtime\u001b[0m\u001b[0;34m.\u001b[0m\u001b[0mtime\u001b[0m\u001b[0;34m(\u001b[0m\u001b[0;34m)\u001b[0m\u001b[0;34m\u001b[0m\u001b[0m\n\u001b[1;32m    587\u001b[0m         \u001b[0mcb\u001b[0m \u001b[0;34m=\u001b[0m \u001b[0mBatchCompletionCallBack\u001b[0m\u001b[0;34m(\u001b[0m\u001b[0mdispatch_timestamp\u001b[0m\u001b[0;34m,\u001b[0m \u001b[0mlen\u001b[0m\u001b[0;34m(\u001b[0m\u001b[0mbatch\u001b[0m\u001b[0;34m)\u001b[0m\u001b[0;34m,\u001b[0m \u001b[0mself\u001b[0m\u001b[0;34m)\u001b[0m\u001b[0;34m\u001b[0m\u001b[0m\n\u001b[0;32m--> 588\u001b[0;31m         \u001b[0mjob\u001b[0m \u001b[0;34m=\u001b[0m \u001b[0mself\u001b[0m\u001b[0;34m.\u001b[0m\u001b[0m_backend\u001b[0m\u001b[0;34m.\u001b[0m\u001b[0mapply_async\u001b[0m\u001b[0;34m(\u001b[0m\u001b[0mbatch\u001b[0m\u001b[0;34m,\u001b[0m \u001b[0mcallback\u001b[0m\u001b[0;34m=\u001b[0m\u001b[0mcb\u001b[0m\u001b[0;34m)\u001b[0m\u001b[0;34m\u001b[0m\u001b[0m\n\u001b[0m\u001b[1;32m    589\u001b[0m         \u001b[0mself\u001b[0m\u001b[0;34m.\u001b[0m\u001b[0m_jobs\u001b[0m\u001b[0;34m.\u001b[0m\u001b[0mappend\u001b[0m\u001b[0;34m(\u001b[0m\u001b[0mjob\u001b[0m\u001b[0;34m)\u001b[0m\u001b[0;34m\u001b[0m\u001b[0m\n\u001b[1;32m    590\u001b[0m \u001b[0;34m\u001b[0m\u001b[0m\n",
      "\u001b[0;32m/home/magnusterra/anaconda3/lib/python3.6/site-packages/sklearn/externals/joblib/_parallel_backends.py\u001b[0m in \u001b[0;36mapply_async\u001b[0;34m(self, func, callback)\u001b[0m\n\u001b[1;32m    109\u001b[0m     \u001b[0;32mdef\u001b[0m \u001b[0mapply_async\u001b[0m\u001b[0;34m(\u001b[0m\u001b[0mself\u001b[0m\u001b[0;34m,\u001b[0m \u001b[0mfunc\u001b[0m\u001b[0;34m,\u001b[0m \u001b[0mcallback\u001b[0m\u001b[0;34m=\u001b[0m\u001b[0;32mNone\u001b[0m\u001b[0;34m)\u001b[0m\u001b[0;34m:\u001b[0m\u001b[0;34m\u001b[0m\u001b[0m\n\u001b[1;32m    110\u001b[0m         \u001b[0;34m\"\"\"Schedule a func to be run\"\"\"\u001b[0m\u001b[0;34m\u001b[0m\u001b[0m\n\u001b[0;32m--> 111\u001b[0;31m         \u001b[0mresult\u001b[0m \u001b[0;34m=\u001b[0m \u001b[0mImmediateResult\u001b[0m\u001b[0;34m(\u001b[0m\u001b[0mfunc\u001b[0m\u001b[0;34m)\u001b[0m\u001b[0;34m\u001b[0m\u001b[0m\n\u001b[0m\u001b[1;32m    112\u001b[0m         \u001b[0;32mif\u001b[0m \u001b[0mcallback\u001b[0m\u001b[0;34m:\u001b[0m\u001b[0;34m\u001b[0m\u001b[0m\n\u001b[1;32m    113\u001b[0m             \u001b[0mcallback\u001b[0m\u001b[0;34m(\u001b[0m\u001b[0mresult\u001b[0m\u001b[0;34m)\u001b[0m\u001b[0;34m\u001b[0m\u001b[0m\n",
      "\u001b[0;32m/home/magnusterra/anaconda3/lib/python3.6/site-packages/sklearn/externals/joblib/_parallel_backends.py\u001b[0m in \u001b[0;36m__init__\u001b[0;34m(self, batch)\u001b[0m\n\u001b[1;32m    330\u001b[0m         \u001b[0;31m# Don't delay the application, to avoid keeping the input\u001b[0m\u001b[0;34m\u001b[0m\u001b[0;34m\u001b[0m\u001b[0m\n\u001b[1;32m    331\u001b[0m         \u001b[0;31m# arguments in memory\u001b[0m\u001b[0;34m\u001b[0m\u001b[0;34m\u001b[0m\u001b[0m\n\u001b[0;32m--> 332\u001b[0;31m         \u001b[0mself\u001b[0m\u001b[0;34m.\u001b[0m\u001b[0mresults\u001b[0m \u001b[0;34m=\u001b[0m \u001b[0mbatch\u001b[0m\u001b[0;34m(\u001b[0m\u001b[0;34m)\u001b[0m\u001b[0;34m\u001b[0m\u001b[0m\n\u001b[0m\u001b[1;32m    333\u001b[0m \u001b[0;34m\u001b[0m\u001b[0m\n\u001b[1;32m    334\u001b[0m     \u001b[0;32mdef\u001b[0m \u001b[0mget\u001b[0m\u001b[0;34m(\u001b[0m\u001b[0mself\u001b[0m\u001b[0;34m)\u001b[0m\u001b[0;34m:\u001b[0m\u001b[0;34m\u001b[0m\u001b[0m\n",
      "\u001b[0;32m/home/magnusterra/anaconda3/lib/python3.6/site-packages/sklearn/externals/joblib/parallel.py\u001b[0m in \u001b[0;36m__call__\u001b[0;34m(self)\u001b[0m\n\u001b[1;32m    129\u001b[0m \u001b[0;34m\u001b[0m\u001b[0m\n\u001b[1;32m    130\u001b[0m     \u001b[0;32mdef\u001b[0m \u001b[0m__call__\u001b[0m\u001b[0;34m(\u001b[0m\u001b[0mself\u001b[0m\u001b[0;34m)\u001b[0m\u001b[0;34m:\u001b[0m\u001b[0;34m\u001b[0m\u001b[0m\n\u001b[0;32m--> 131\u001b[0;31m         \u001b[0;32mreturn\u001b[0m \u001b[0;34m[\u001b[0m\u001b[0mfunc\u001b[0m\u001b[0;34m(\u001b[0m\u001b[0;34m*\u001b[0m\u001b[0margs\u001b[0m\u001b[0;34m,\u001b[0m \u001b[0;34m**\u001b[0m\u001b[0mkwargs\u001b[0m\u001b[0;34m)\u001b[0m \u001b[0;32mfor\u001b[0m \u001b[0mfunc\u001b[0m\u001b[0;34m,\u001b[0m \u001b[0margs\u001b[0m\u001b[0;34m,\u001b[0m \u001b[0mkwargs\u001b[0m \u001b[0;32min\u001b[0m \u001b[0mself\u001b[0m\u001b[0;34m.\u001b[0m\u001b[0mitems\u001b[0m\u001b[0;34m]\u001b[0m\u001b[0;34m\u001b[0m\u001b[0m\n\u001b[0m\u001b[1;32m    132\u001b[0m \u001b[0;34m\u001b[0m\u001b[0m\n\u001b[1;32m    133\u001b[0m     \u001b[0;32mdef\u001b[0m \u001b[0m__len__\u001b[0m\u001b[0;34m(\u001b[0m\u001b[0mself\u001b[0m\u001b[0;34m)\u001b[0m\u001b[0;34m:\u001b[0m\u001b[0;34m\u001b[0m\u001b[0m\n",
      "\u001b[0;32m/home/magnusterra/anaconda3/lib/python3.6/site-packages/sklearn/externals/joblib/parallel.py\u001b[0m in \u001b[0;36m<listcomp>\u001b[0;34m(.0)\u001b[0m\n\u001b[1;32m    129\u001b[0m \u001b[0;34m\u001b[0m\u001b[0m\n\u001b[1;32m    130\u001b[0m     \u001b[0;32mdef\u001b[0m \u001b[0m__call__\u001b[0m\u001b[0;34m(\u001b[0m\u001b[0mself\u001b[0m\u001b[0;34m)\u001b[0m\u001b[0;34m:\u001b[0m\u001b[0;34m\u001b[0m\u001b[0m\n\u001b[0;32m--> 131\u001b[0;31m         \u001b[0;32mreturn\u001b[0m \u001b[0;34m[\u001b[0m\u001b[0mfunc\u001b[0m\u001b[0;34m(\u001b[0m\u001b[0;34m*\u001b[0m\u001b[0margs\u001b[0m\u001b[0;34m,\u001b[0m \u001b[0;34m**\u001b[0m\u001b[0mkwargs\u001b[0m\u001b[0;34m)\u001b[0m \u001b[0;32mfor\u001b[0m \u001b[0mfunc\u001b[0m\u001b[0;34m,\u001b[0m \u001b[0margs\u001b[0m\u001b[0;34m,\u001b[0m \u001b[0mkwargs\u001b[0m \u001b[0;32min\u001b[0m \u001b[0mself\u001b[0m\u001b[0;34m.\u001b[0m\u001b[0mitems\u001b[0m\u001b[0;34m]\u001b[0m\u001b[0;34m\u001b[0m\u001b[0m\n\u001b[0m\u001b[1;32m    132\u001b[0m \u001b[0;34m\u001b[0m\u001b[0m\n\u001b[1;32m    133\u001b[0m     \u001b[0;32mdef\u001b[0m \u001b[0m__len__\u001b[0m\u001b[0;34m(\u001b[0m\u001b[0mself\u001b[0m\u001b[0;34m)\u001b[0m\u001b[0;34m:\u001b[0m\u001b[0;34m\u001b[0m\u001b[0m\n",
      "\u001b[0;32m/home/magnusterra/anaconda3/lib/python3.6/site-packages/sklearn/cross_validation.py\u001b[0m in \u001b[0;36m_fit_and_score\u001b[0;34m(estimator, X, y, scorer, train, test, verbose, parameters, fit_params, return_train_score, return_parameters, error_score)\u001b[0m\n\u001b[1;32m   1673\u001b[0m             \u001b[0mestimator\u001b[0m\u001b[0;34m.\u001b[0m\u001b[0mfit\u001b[0m\u001b[0;34m(\u001b[0m\u001b[0mX_train\u001b[0m\u001b[0;34m,\u001b[0m \u001b[0;34m**\u001b[0m\u001b[0mfit_params\u001b[0m\u001b[0;34m)\u001b[0m\u001b[0;34m\u001b[0m\u001b[0m\n\u001b[1;32m   1674\u001b[0m         \u001b[0;32melse\u001b[0m\u001b[0;34m:\u001b[0m\u001b[0;34m\u001b[0m\u001b[0m\n\u001b[0;32m-> 1675\u001b[0;31m             \u001b[0mestimator\u001b[0m\u001b[0;34m.\u001b[0m\u001b[0mfit\u001b[0m\u001b[0;34m(\u001b[0m\u001b[0mX_train\u001b[0m\u001b[0;34m,\u001b[0m \u001b[0my_train\u001b[0m\u001b[0;34m,\u001b[0m \u001b[0;34m**\u001b[0m\u001b[0mfit_params\u001b[0m\u001b[0;34m)\u001b[0m\u001b[0;34m\u001b[0m\u001b[0m\n\u001b[0m\u001b[1;32m   1676\u001b[0m \u001b[0;34m\u001b[0m\u001b[0m\n\u001b[1;32m   1677\u001b[0m     \u001b[0;32mexcept\u001b[0m \u001b[0mException\u001b[0m \u001b[0;32mas\u001b[0m \u001b[0me\u001b[0m\u001b[0;34m:\u001b[0m\u001b[0;34m\u001b[0m\u001b[0m\n",
      "\u001b[0;32m/home/magnusterra/anaconda3/lib/python3.6/site-packages/xgboost/sklearn.py\u001b[0m in \u001b[0;36mfit\u001b[0;34m(self, X, y, eval_set, eval_metric, early_stopping_rounds, verbose)\u001b[0m\n\u001b[1;32m    249\u001b[0m                               \u001b[0mearly_stopping_rounds\u001b[0m\u001b[0;34m=\u001b[0m\u001b[0mearly_stopping_rounds\u001b[0m\u001b[0;34m,\u001b[0m\u001b[0;34m\u001b[0m\u001b[0m\n\u001b[1;32m    250\u001b[0m                               \u001b[0mevals_result\u001b[0m\u001b[0;34m=\u001b[0m\u001b[0mevals_result\u001b[0m\u001b[0;34m,\u001b[0m \u001b[0mobj\u001b[0m\u001b[0;34m=\u001b[0m\u001b[0mobj\u001b[0m\u001b[0;34m,\u001b[0m \u001b[0mfeval\u001b[0m\u001b[0;34m=\u001b[0m\u001b[0mfeval\u001b[0m\u001b[0;34m,\u001b[0m\u001b[0;34m\u001b[0m\u001b[0m\n\u001b[0;32m--> 251\u001b[0;31m                               verbose_eval=verbose)\n\u001b[0m\u001b[1;32m    252\u001b[0m \u001b[0;34m\u001b[0m\u001b[0m\n\u001b[1;32m    253\u001b[0m         \u001b[0;32mif\u001b[0m \u001b[0mevals_result\u001b[0m\u001b[0;34m:\u001b[0m\u001b[0;34m\u001b[0m\u001b[0m\n",
      "\u001b[0;32m/home/magnusterra/anaconda3/lib/python3.6/site-packages/xgboost/training.py\u001b[0m in \u001b[0;36mtrain\u001b[0;34m(params, dtrain, num_boost_round, evals, obj, feval, maximize, early_stopping_rounds, evals_result, verbose_eval, learning_rates, xgb_model, callbacks)\u001b[0m\n\u001b[1;32m    203\u001b[0m                            \u001b[0mevals\u001b[0m\u001b[0;34m=\u001b[0m\u001b[0mevals\u001b[0m\u001b[0;34m,\u001b[0m\u001b[0;34m\u001b[0m\u001b[0m\n\u001b[1;32m    204\u001b[0m                            \u001b[0mobj\u001b[0m\u001b[0;34m=\u001b[0m\u001b[0mobj\u001b[0m\u001b[0;34m,\u001b[0m \u001b[0mfeval\u001b[0m\u001b[0;34m=\u001b[0m\u001b[0mfeval\u001b[0m\u001b[0;34m,\u001b[0m\u001b[0;34m\u001b[0m\u001b[0m\n\u001b[0;32m--> 205\u001b[0;31m                            xgb_model=xgb_model, callbacks=callbacks)\n\u001b[0m\u001b[1;32m    206\u001b[0m \u001b[0;34m\u001b[0m\u001b[0m\n\u001b[1;32m    207\u001b[0m \u001b[0;34m\u001b[0m\u001b[0m\n",
      "\u001b[0;32m/home/magnusterra/anaconda3/lib/python3.6/site-packages/xgboost/training.py\u001b[0m in \u001b[0;36m_train_internal\u001b[0;34m(params, dtrain, num_boost_round, evals, obj, feval, xgb_model, callbacks)\u001b[0m\n\u001b[1;32m     74\u001b[0m         \u001b[0;31m# Skip the first update if it is a recovery step.\u001b[0m\u001b[0;34m\u001b[0m\u001b[0;34m\u001b[0m\u001b[0m\n\u001b[1;32m     75\u001b[0m         \u001b[0;32mif\u001b[0m \u001b[0mversion\u001b[0m \u001b[0;34m%\u001b[0m \u001b[0;36m2\u001b[0m \u001b[0;34m==\u001b[0m \u001b[0;36m0\u001b[0m\u001b[0;34m:\u001b[0m\u001b[0;34m\u001b[0m\u001b[0m\n\u001b[0;32m---> 76\u001b[0;31m             \u001b[0mbst\u001b[0m\u001b[0;34m.\u001b[0m\u001b[0mupdate\u001b[0m\u001b[0;34m(\u001b[0m\u001b[0mdtrain\u001b[0m\u001b[0;34m,\u001b[0m \u001b[0mi\u001b[0m\u001b[0;34m,\u001b[0m \u001b[0mobj\u001b[0m\u001b[0;34m)\u001b[0m\u001b[0;34m\u001b[0m\u001b[0m\n\u001b[0m\u001b[1;32m     77\u001b[0m             \u001b[0mbst\u001b[0m\u001b[0;34m.\u001b[0m\u001b[0msave_rabit_checkpoint\u001b[0m\u001b[0;34m(\u001b[0m\u001b[0;34m)\u001b[0m\u001b[0;34m\u001b[0m\u001b[0m\n\u001b[1;32m     78\u001b[0m             \u001b[0mversion\u001b[0m \u001b[0;34m+=\u001b[0m \u001b[0;36m1\u001b[0m\u001b[0;34m\u001b[0m\u001b[0m\n",
      "\u001b[0;32m/home/magnusterra/anaconda3/lib/python3.6/site-packages/xgboost/core.py\u001b[0m in \u001b[0;36mupdate\u001b[0;34m(self, dtrain, iteration, fobj)\u001b[0m\n\u001b[1;32m    804\u001b[0m \u001b[0;34m\u001b[0m\u001b[0m\n\u001b[1;32m    805\u001b[0m         \u001b[0;32mif\u001b[0m \u001b[0mfobj\u001b[0m \u001b[0;32mis\u001b[0m \u001b[0;32mNone\u001b[0m\u001b[0;34m:\u001b[0m\u001b[0;34m\u001b[0m\u001b[0m\n\u001b[0;32m--> 806\u001b[0;31m             \u001b[0m_check_call\u001b[0m\u001b[0;34m(\u001b[0m\u001b[0m_LIB\u001b[0m\u001b[0;34m.\u001b[0m\u001b[0mXGBoosterUpdateOneIter\u001b[0m\u001b[0;34m(\u001b[0m\u001b[0mself\u001b[0m\u001b[0;34m.\u001b[0m\u001b[0mhandle\u001b[0m\u001b[0;34m,\u001b[0m \u001b[0miteration\u001b[0m\u001b[0;34m,\u001b[0m \u001b[0mdtrain\u001b[0m\u001b[0;34m.\u001b[0m\u001b[0mhandle\u001b[0m\u001b[0;34m)\u001b[0m\u001b[0;34m)\u001b[0m\u001b[0;34m\u001b[0m\u001b[0m\n\u001b[0m\u001b[1;32m    807\u001b[0m         \u001b[0;32melse\u001b[0m\u001b[0;34m:\u001b[0m\u001b[0;34m\u001b[0m\u001b[0m\n\u001b[1;32m    808\u001b[0m             \u001b[0mpred\u001b[0m \u001b[0;34m=\u001b[0m \u001b[0mself\u001b[0m\u001b[0;34m.\u001b[0m\u001b[0mpredict\u001b[0m\u001b[0;34m(\u001b[0m\u001b[0mdtrain\u001b[0m\u001b[0;34m)\u001b[0m\u001b[0;34m\u001b[0m\u001b[0m\n",
      "\u001b[0;31mKeyboardInterrupt\u001b[0m: "
     ]
    }
   ],
   "source": [
    "tuned_parameters = {'objective':['reg:linear', 'reg:gamma'], 'max_depth':[1,2,3,4],\n",
    "                    'gamma':[0, 1e-3, 1e-2,  1e-4], 'subsample':[0.85, 0.7],\n",
    "                   'colsample_bytree':[0.5, 0.75, 1], 'reg_lambda':[1,2]}\n",
    "scores = ['MSE']\n",
    "for i in range(100):\n",
    "    subxtrain, subxval, subytrain, subyval = train_test_split(trndfx.values, trny.values, test_size=0.2, random_state=i)\n",
    "    \n",
    "    clf = GridSearchCV(estimator =XGBRegressor(), param_grid =tuned_parameters, cv=5, scoring='neg_mean_squared_error')\n",
    "    clf.fit(subxtrain, subytrain)\n",
    "    print(i)\n",
    "    print(clf.best_params_)  \n",
    "    y_pred1 = clf.predict(subxtrain)\n",
    "    mse1 = MSE(y_pred1, subytrain)\n",
    "    y_pred2 = clf.predict(subxval)\n",
    "    mse2 = MSE(subyval, y_pred2)\n",
    "    print(mse1, mse2)\n",
    "print(\"----------------------------------\")\n",
    "clf = GridSearchCV(estimator =XGBRegressor(), param_grid =tuned_parameters, cv=5, scoring='neg_mean_squared_error')\n",
    "clf.fit(trndfx.value, trny.values)\n",
    "print(clf.best_params_)  \n",
    "y_pred1 = clf.predict(trndfx.value)\n",
    "print(MSE(y_pred1, trny.values))"
   ]
  },
  {
   "cell_type": "code",
   "execution_count": 110,
   "metadata": {},
   "outputs": [
    {
     "name": "stdout",
     "output_type": "stream",
     "text": [
      "0.0143759856513 0.00165673281146 0.0193661159421 0.0104029329989\n"
     ]
    }
   ],
   "source": [
    "results = []\n",
    "for i in range(100):\n",
    "    subxtrain, subxval, subytrain, subyval = train_test_split(trndfx.values, trny.values, test_size=0.2, random_state=i)\n",
    "    \n",
    "    xgb = XGBRegressor(gamma=0.0001, max_depth=4, objective='reg:linear')\n",
    "    xgb.fit(subxtrain, subytrain)\n",
    "    test1_pred = xgb.predict(subxval)\n",
    "    t = MSE(test1_pred, subyval)\n",
    "    results.append(t)\n",
    "print(np.mean(results), np.std(results), np.max(results), np.min(results))"
   ]
  },
  {
   "cell_type": "code",
   "execution_count": 106,
   "metadata": {
    "collapsed": true
   },
   "outputs": [],
   "source": [
    "# drop one low point and first time 0.014741465827 0.00162512429795 0.0189895926045 0.0105734644657\n",
    "# gamma 0.001 maxdepth 4  reglinear 0.0144610802404 0.00175733689859 0.0196985530573 0.0100834249352\n",
    "# gamma 0.0001 maxdepth 4 reglinear 0.0143856951298 0.00170540998626 0.0191399670418 0.00971191056159\n",
    "# colsample_bytree 0.75 subsample 0.85 0.0142421094143 0.00181883817878 0.0197610426883 0.010295341613\n",
    "# gamma 0.0001 maxdepth 4 reggamma  0.0149096180762 0.00172825596149 0.0199681654468 0.010476040449\n",
    "# gamma 0.0001 maxdepth 3 reglinear 0.0147272494118 0.00162162861641 0.0189899116751 0.0105731757251"
   ]
  },
  {
   "cell_type": "code",
   "execution_count": 119,
   "metadata": {},
   "outputs": [
    {
     "name": "stdout",
     "output_type": "stream",
     "text": [
      "0.0667875043903\n",
      "0.0639566714423\n",
      "0.0662796512958\n",
      "0.0655412960678\n",
      "0.0662920383448\n",
      "0.0655230259902\n",
      "0.0607955913241\n",
      "0.0631220491814\n",
      "0.0637432964298\n",
      "0.0632103322711\n",
      "0.0606378348564\n",
      "0.0610464684039\n",
      "0.0666560580885\n",
      "0.0664667043301\n",
      "0.0642778931019\n",
      "0.0648257475045\n",
      "0.061317761155\n",
      "0.0639878491319\n",
      "0.0617881318216\n",
      "0.065396844497\n",
      "0.0632319641659\n",
      "0.0658815384733\n",
      "0.0654728547835\n",
      "0.0650374444198\n",
      "0.0638208359601\n",
      "0.0603828982556\n",
      "0.0635416629148\n",
      "0.062053435724\n",
      "0.0634516671694\n",
      "0.0646066783626\n",
      "0.0651099018204\n",
      "0.0631536667199\n",
      "0.06539549973\n",
      "0.0628728664347\n",
      "0.0648070352683\n",
      "0.0649789869466\n",
      "0.0638124927033\n",
      "0.0684285401821\n",
      "0.0600031681137\n",
      "0.063076508852\n",
      "0.0667324006048\n",
      "0.0619947071055\n",
      "0.0647441842258\n",
      "0.0637976361614\n",
      "0.0632864589939\n",
      "0.0638321666021\n",
      "0.0632500693105\n",
      "0.0631557793934\n",
      "0.0620323755622\n",
      "0.0653453908303\n",
      "0.0654716446384\n",
      "0.0653208844355\n",
      "0.0653168611421\n",
      "0.0625671968117\n",
      "0.0656561167129\n",
      "0.0654098099998\n",
      "0.0662353952486\n",
      "0.0620449108842\n",
      "0.0635409773378\n",
      "0.0643381742026\n",
      "0.0615903307172\n",
      "0.0639980558596\n",
      "0.0623506889741\n",
      "0.0652967963899\n",
      "0.0622766810812\n",
      "0.0630808580423\n",
      "0.0639764863887\n",
      "0.0667692240975\n",
      "0.06566706526\n",
      "0.0631182799443\n",
      "0.0657274256766\n",
      "0.062408470223\n",
      "0.0625219648894\n",
      "0.063388030249\n",
      "0.0635028249453\n",
      "0.0644306299669\n",
      "0.0641869281393\n",
      "0.063329827552\n",
      "0.0633613640384\n",
      "0.0628744738189\n",
      "0.0627510572731\n",
      "0.0643047538037\n",
      "0.0673294675979\n",
      "0.0636922012508\n",
      "0.0614240412423\n",
      "0.0628410228472\n",
      "0.0629248589245\n",
      "0.0614919474837\n",
      "0.0628972326415\n",
      "0.0643638264369\n",
      "0.0645970081742\n",
      "0.0646766467521\n",
      "0.0660420553905\n",
      "0.063466157456\n",
      "0.064664695166\n",
      "0.0655930459986\n",
      "0.0636715313354\n",
      "0.065289524446\n",
      "0.0625240601654\n",
      "0.0651220607937\n",
      "0.0633196474046 0.00439787343863 0.0751380365115 0.053865747991\n"
     ]
    }
   ],
   "source": [
    "results = []\n",
    "for i in range(100):\n",
    "    subxtrain, subxval, subytrain, subyval = train_test_split(trndfx.values, trny.values, test_size=0.2, random_state=i)\n",
    "    xgb = XGBRegressor()\n",
    "    tr_pred, tepred = get_oof(xgb, subxtrain, subytrain, subxval, len(subytrain), len(subyval))\n",
    "    print(MSE(tr_pred, subytrain))\n",
    "    t = MSE(tepred, subyval)\n",
    "    results.append(t)\n",
    "print(np.mean(results), np.std(results), np.max(results), np.min(results))"
   ]
  },
  {
   "cell_type": "code",
   "execution_count": 121,
   "metadata": {},
   "outputs": [
    {
     "name": "stdout",
     "output_type": "stream",
     "text": [
      "0.00135708685441\n"
     ]
    }
   ],
   "source": [
    "xgb = XGBRegressor(gamma=0.0001, max_depth=4, objective='reg:linear')\n",
    "xgb.fit(trndfx.values, trny.values)\n",
    "test1_pred = xgb.predict(trndfx.values)\n",
    "print(MSE(test1_pred, trny.values))\n",
    "test1_pred = xgb.predict(ndfx[800:1100].values)\n",
    "test1_pred = test1_pred.reshape(300)\n",
    "save = pd.DataFrame({'ID':test1_id, 'value':test1_pred})\n",
    "save.to_csv('answer/Synchronous_logohtime_xgb_20180119.csv', index=False, header=False)"
   ]
  },
  {
   "cell_type": "code",
   "execution_count": 122,
   "metadata": {},
   "outputs": [
    {
     "data": {
      "text/plain": [
       "(1512, 1533)"
      ]
     },
     "execution_count": 122,
     "metadata": {},
     "output_type": "execute_result"
    }
   ],
   "source": [
    "ndfx.shape"
   ]
  },
  {
   "cell_type": "code",
   "execution_count": 1,
   "metadata": {
    "collapsed": true
   },
   "outputs": [],
   "source": [
    "# 0 : GradientBoostingRegressor\n",
    "# 1 : ExtraTreesRegressor\n",
    "# 2 : RandomForestRegressor\n",
    "# 3 : SVM Regressor(RBF Kernel)\n",
    "# 4 : KNN Regressor(Distance-weighted)\n",
    "# 5 : Decision TreeRegressor\n",
    "# 6 : KNN Regressor (Uniform-weighted)\n",
    "# 7 : LinearRegression\n",
    "# 8 : SGDRegressor\n",
    "# 9 : SVM Regressor(Linear Kernel)\n",
    "\n",
    "from sklearn.ensemble import RandomForestRegressor, ExtraTreesRegressor, GradientBoostingRegressor\n",
    "from sklearn.tree import DecisionTreeRegressor\n",
    "from sklearn.neighbors import KNeighborsRegressor\n",
    "from sklearn.svm import SVR\n",
    "from sklearn.linear_model import LinearRegression, SGDRegressor\n",
    "\n",
    "def Regressor(number):\n",
    "    if number == 0:\n",
    "        return GradientBoostingRegressor()\n",
    "    elif number == 1:\n",
    "        return ExtraTreesRegressor()\n",
    "    elif number == 2:\n",
    "        return RandomForestRegressor()\n",
    "    elif number == 3:\n",
    "        return SVR(kernel='rbf')\n",
    "    elif number == 4:\n",
    "        return KNeighborsRegressor(weights='distance')\n",
    "    elif number == 5:\n",
    "        return DecisionTreeRegressor()\n",
    "    elif number == 6:\n",
    "        return KNeighborsRegressor(weights='uniform')\n",
    "    elif number == 7:\n",
    "        return LinearRegression()\n",
    "    elif number == 8:\n",
    "        return SGDRegressor()\n",
    "    elif number == 9:\n",
    "        return SVR(kernel='linear')\n",
    "    else:\n",
    "        return None"
   ]
  },
  {
   "cell_type": "code",
   "execution_count": null,
   "metadata": {
    "collapsed": true
   },
   "outputs": [],
   "source": [
    "for x in range(10):\n",
    "    results = []\n",
    "    for i in range(100):\n",
    "        subxtrain, subxval, subytrain, subyval = train_test_split(trndfx.values, trny.values, test_size=0.2, random_state=i)\n",
    "        xgb = Regressor()\n",
    "        tr_pred, tepred = get_oof(xgb, subxtrain, subytrain, subxval, len(subytrain), len(subyval))\n",
    "        t = MSE(tepred, subyval)\n",
    "        results.append(t)\n",
    "    print(np.mean(results), np.std(results), np.max(results), np.min(results))"
   ]
  }
 ],
 "metadata": {
  "kernelspec": {
   "display_name": "Python 3",
   "language": "python",
   "name": "python3"
  },
  "language_info": {
   "codemirror_mode": {
    "name": "ipython",
    "version": 3
   },
   "file_extension": ".py",
   "mimetype": "text/x-python",
   "name": "python",
   "nbconvert_exporter": "python",
   "pygments_lexer": "ipython3",
   "version": "3.6.1"
  }
 },
 "nbformat": 4,
 "nbformat_minor": 2
}
