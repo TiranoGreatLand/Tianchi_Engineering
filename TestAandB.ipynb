{
 "cells": [
  {
   "cell_type": "code",
   "execution_count": 1,
   "metadata": {
    "collapsed": true
   },
   "outputs": [],
   "source": [
    "import numpy as np\n",
    "import pandas as pd\n",
    "import copy\n",
    "import matplotlib.pyplot as plt\n",
    "import seaborn as sns\n",
    "from sklearn import preprocessing"
   ]
  },
  {
   "cell_type": "code",
   "execution_count": 2,
   "metadata": {
    "collapsed": true
   },
   "outputs": [],
   "source": [
    "test1_df = pd.read_excel(\"测试A.xlsx\")\n",
    "test2_df = pd.read_excel(\"测试B.xlsx\")\n",
    "test1_ANS = pd.read_csv('TESTA_ANS.csv', header=None)"
   ]
  },
  {
   "cell_type": "code",
   "execution_count": 35,
   "metadata": {
    "collapsed": true
   },
   "outputs": [],
   "source": [
    "test1_y = test1_ANS[test1_ANS.columns[-1]]"
   ]
  },
  {
   "cell_type": "code",
   "execution_count": 3,
   "metadata": {
    "collapsed": true
   },
   "outputs": [],
   "source": [
    "test1_id = test1_df['ID']\n",
    "test2_id = test2_df['ID']\n",
    "test1_df.drop(['ID'], axis=1, inplace=True)\n",
    "test2_df.drop(['ID'], axis=1, inplace=True)"
   ]
  },
  {
   "cell_type": "code",
   "execution_count": 4,
   "metadata": {},
   "outputs": [
    {
     "name": "stdout",
     "output_type": "stream",
     "text": [
      "665\n"
     ]
    }
   ],
   "source": [
    "names = test1_df.columns\n",
    "dts = test1_df.dtypes\n",
    "drop_names = []\n",
    "ratio = 0.1\n",
    "for i in range(len(names)):\n",
    "    n = names[i]\n",
    "    tp = dts[i]\n",
    "    trd = test2_df[n]\n",
    "    ted = test1_df[n]\n",
    "    if 'object' == str(tp):\n",
    "        continue\n",
    "    else:\n",
    "        misstr = np.sum(trd.isnull())/500\n",
    "        misste = np.sum(ted.isnull())/100\n",
    "        if np.abs(misstr-misste) > ratio:\n",
    "            drop_names.append(n)\n",
    "        else:\n",
    "            if 'int' in str(tp):\n",
    "                continue\n",
    "            trrd = trd[trd.notnull()]\n",
    "            terd = ted[ted.notnull()]\n",
    "            m1 = np.mean(trrd)\n",
    "            s1 = np.std(trrd)\n",
    "            m2 = np.mean(terd)\n",
    "            s2 = np.std(terd)\n",
    "            if np.abs(m1-m2)>ratio*np.abs(m1) and np.abs(s1-s2)>ratio*np.abs(s1):\n",
    "                drop_names.append(n)\n",
    "print(len(drop_names))"
   ]
  },
  {
   "cell_type": "code",
   "execution_count": 5,
   "metadata": {
    "collapsed": true
   },
   "outputs": [],
   "source": [
    "test1_df.drop(drop_names, axis=1, inplace=True)\n",
    "test2_df.drop(drop_names, axis=1, inplace=True)"
   ]
  },
  {
   "cell_type": "code",
   "execution_count": 6,
   "metadata": {
    "collapsed": true
   },
   "outputs": [],
   "source": [
    "names = test1_df.columns\n",
    "dfs = test1_df.dtypes"
   ]
  },
  {
   "cell_type": "code",
   "execution_count": 7,
   "metadata": {},
   "outputs": [
    {
     "name": "stdout",
     "output_type": "stream",
     "text": [
      "1630\n"
     ]
    }
   ],
   "source": [
    "# ints or strings\n",
    "ints = []\n",
    "for i in range(len(names)):\n",
    "    if 'int' in str(dfs[i]) or 'object' in str(dfs[i]):\n",
    "        ints.append(names[i])\n",
    "print(len(ints))"
   ]
  },
  {
   "cell_type": "code",
   "execution_count": 9,
   "metadata": {},
   "outputs": [],
   "source": [
    "df_X = pd.concat([test1_df, test2_df], axis=0)"
   ]
  },
  {
   "cell_type": "code",
   "execution_count": 10,
   "metadata": {},
   "outputs": [
    {
     "name": "stdout",
     "output_type": "stream",
     "text": [
      "396 379 694\n"
     ]
    }
   ],
   "source": [
    "remains1 = []\n",
    "remains2 = []\n",
    "tobedrop = []\n",
    "for n in ints:\n",
    "    lu1 = len(test1_df[n].unique())\n",
    "    lu2 = len(df_X[n].unique())\n",
    "    if lu1 < 10 and lu1 > 1:\n",
    "        remains1.append(n)\n",
    "    if lu2 < 10 and lu2 > 1:\n",
    "        remains2.append(n)\n",
    "    if lu1 != lu2:\n",
    "        tobedrop.append(n)\n",
    "print(len(remains1), len(remains2), len(tobedrop))"
   ]
  },
  {
   "cell_type": "code",
   "execution_count": 11,
   "metadata": {},
   "outputs": [
    {
     "name": "stdout",
     "output_type": "stream",
     "text": [
      "247\n"
     ]
    }
   ],
   "source": [
    "toberemain = list(set(remains1) & set(remains2) - set(tobedrop))\n",
    "print(len(toberemain))"
   ]
  },
  {
   "cell_type": "code",
   "execution_count": 12,
   "metadata": {
    "collapsed": true
   },
   "outputs": [],
   "source": [
    "def dict2list(dic:dict):\n",
    "    ''' 将字典转化为列表 '''\n",
    "    keys = dic.keys()\n",
    "    vals = dic.values()\n",
    "    lst = [(key, val) for key, val in zip(keys, vals)]\n",
    "    return lst\n",
    "\n",
    "def LastRemainJudge(column):\n",
    "    unique = set(column)\n",
    "    uf = {}\n",
    "    for u in unique:\n",
    "        uf[u] = 0\n",
    "    for c in column:\n",
    "        uf[c] += 1\n",
    "    sl = sorted(dict2list(uf), key = lambda x:x[1], reverse=True)\n",
    "    x = sl[0][1]/len(column)\n",
    "    sl = np.array(sl)\n",
    "    if x < 0.8:\n",
    "        #print(sl[:, 1]/len(column))\n",
    "        return True\n",
    "    else:\n",
    "        return False"
   ]
  },
  {
   "cell_type": "code",
   "execution_count": 13,
   "metadata": {},
   "outputs": [
    {
     "name": "stdout",
     "output_type": "stream",
     "text": [
      "182 185 180\n"
     ]
    }
   ],
   "source": [
    "lm1 = []\n",
    "lm2 = []\n",
    "for n in toberemain:\n",
    "    if LastRemainJudge(test1_df[n]):\n",
    "        lm1.append(n)\n",
    "    if LastRemainJudge(df_X[n]):\n",
    "        lm2.append(n)\n",
    "print(len(lm1), len(lm2), len(set(lm1)&set(lm2)))"
   ]
  },
  {
   "cell_type": "code",
   "execution_count": 14,
   "metadata": {},
   "outputs": [
    {
     "name": "stdout",
     "output_type": "stream",
     "text": [
      "180\n",
      "5735\n",
      "(221, 5735) (221, 180)\n"
     ]
    }
   ],
   "source": [
    "names = df_X.columns\n",
    "dts = df_X.dtypes\n",
    "dfx_float_n = []\n",
    "dfx_onehot_n = list(set(lm1) & set(lm2))\n",
    "print(len(dfx_onehot_n))\n",
    "for i in range(len(names)):\n",
    "    n = names[i]\n",
    "    d = dts[i]\n",
    "    if 'float' in str(d):\n",
    "        dfx_float_n.append(n)\n",
    "print(len(dfx_float_n))\n",
    "dfx_float = df_X[dfx_float_n]\n",
    "dfx_onehot = df_X[dfx_onehot_n]\n",
    "print(dfx_float.shape, dfx_onehot.shape)"
   ]
  },
  {
   "cell_type": "code",
   "execution_count": 15,
   "metadata": {},
   "outputs": [
    {
     "name": "stdout",
     "output_type": "stream",
     "text": [
      "0\n"
     ]
    }
   ],
   "source": [
    "drop_names = []\n",
    "names = dfx_float.columns\n",
    "for n in names:\n",
    "    x = np.sum(dfx_float[n].isnull())\n",
    "    if x > 300:\n",
    "        drop_names.append(n)\n",
    "print(len(drop_names))"
   ]
  },
  {
   "cell_type": "code",
   "execution_count": 18,
   "metadata": {},
   "outputs": [
    {
     "name": "stdout",
     "output_type": "stream",
     "text": [
      "2150 2154\n",
      "0\n"
     ]
    }
   ],
   "source": [
    "means = []\n",
    "stds = []\n",
    "drop_names = []\n",
    "names = dfx_float.columns\n",
    "for n in names:\n",
    "    c = dfx_float[n]\n",
    "    r = c[c.notnull()]\n",
    "    tmpm = np.mean(r)\n",
    "    tmps = np.std(r)\n",
    "    means.append(tmpm)\n",
    "    stds.append(tmps)\n",
    "    if tmps == 0:\n",
    "        drop_names.append(n)\n",
    "print(len(set(means)), len(set(stds)))\n",
    "print(len(drop_names))"
   ]
  },
  {
   "cell_type": "code",
   "execution_count": 17,
   "metadata": {},
   "outputs": [
    {
     "name": "stderr",
     "output_type": "stream",
     "text": [
      "/home/magnusterra/anaconda3/lib/python3.6/site-packages/ipykernel_launcher.py:1: SettingWithCopyWarning: \n",
      "A value is trying to be set on a copy of a slice from a DataFrame\n",
      "\n",
      "See the caveats in the documentation: http://pandas.pydata.org/pandas-docs/stable/indexing.html#indexing-view-versus-copy\n",
      "  \"\"\"Entry point for launching an IPython kernel.\n"
     ]
    }
   ],
   "source": [
    "dfx_float.drop(drop_names, axis=1, inplace=True)"
   ]
  },
  {
   "cell_type": "code",
   "execution_count": 19,
   "metadata": {},
   "outputs": [
    {
     "name": "stdout",
     "output_type": "stream",
     "text": [
      "730\n"
     ]
    }
   ],
   "source": [
    "# not move sames first, fill nan\n",
    "added = set()\n",
    "sames = []\n",
    "for i in range(len(names)):\n",
    "    tmpsl = []\n",
    "    tmpsl.append(i)\n",
    "    for j in range(i+1, len(names)):\n",
    "        if means[i] == means[j] and stds[i] == stds[j]:\n",
    "            if i not in added:\n",
    "                added.add(i)\n",
    "            if j not in added:\n",
    "                added.add(j)\n",
    "                tmpsl.append(j)\n",
    "    if len(tmpsl) > 1:\n",
    "        sames.append(tmpsl)\n",
    "print(len(sames))"
   ]
  },
  {
   "cell_type": "code",
   "execution_count": 20,
   "metadata": {},
   "outputs": [
    {
     "name": "stdout",
     "output_type": "stream",
     "text": [
      "3347\n"
     ]
    }
   ],
   "source": [
    "names = dfx_float.columns\n",
    "drop_names = []\n",
    "for i in sames:\n",
    "    for j in i[1:]:\n",
    "        drop_names.append(names[j])\n",
    "print(len(drop_names))"
   ]
  },
  {
   "cell_type": "code",
   "execution_count": 21,
   "metadata": {},
   "outputs": [
    {
     "name": "stdout",
     "output_type": "stream",
     "text": [
      "(221, 5503)\n"
     ]
    }
   ],
   "source": [
    "print(dfx_float.shape)"
   ]
  },
  {
   "cell_type": "code",
   "execution_count": 22,
   "metadata": {},
   "outputs": [
    {
     "name": "stdout",
     "output_type": "stream",
     "text": [
      "(221, 2156)\n"
     ]
    }
   ],
   "source": [
    "import copy\n",
    "trainx_float = copy.copy(dfx_float)\n",
    "trainx_float.drop(drop_names, axis=1, inplace=True)\n",
    "print(trainx_float.shape)"
   ]
  },
  {
   "cell_type": "code",
   "execution_count": 23,
   "metadata": {},
   "outputs": [
    {
     "name": "stdout",
     "output_type": "stream",
     "text": [
      "0\n"
     ]
    }
   ],
   "source": [
    "names = trainx_float.columns\n",
    "for n in names:\n",
    "    c = trainx_float[n]\n",
    "    r = c[c.notnull()]\n",
    "    tmpm = np.mean(r)\n",
    "    tmps = np.std(r)\n",
    "    assert tmps>0\n",
    "    trainx_float[n][c.isnull()] = tmpm\n",
    "print(np.sum(trainx_float.isnull().values))"
   ]
  },
  {
   "cell_type": "code",
   "execution_count": 24,
   "metadata": {},
   "outputs": [
    {
     "name": "stdout",
     "output_type": "stream",
     "text": [
      "0\n"
     ]
    }
   ],
   "source": [
    "# it shall be that there is only thre lines with nan in log1p\n",
    "mid = trainx_float-np.min(trainx_float)+1\n",
    "trainx_log1p = np.log1p(mid)\n",
    "del mid\n",
    "print(np.sum(trainx_log1p.isnull().values))"
   ]
  },
  {
   "cell_type": "code",
   "execution_count": 25,
   "metadata": {
    "collapsed": true
   },
   "outputs": [],
   "source": [
    "for n in names:\n",
    "    m1 = np.mean(trainx_float[n])\n",
    "    s1 = np.std(trainx_float[n])\n",
    "    assert s1 > 0\n",
    "    trainx_float[n] = (trainx_float[n]-m1)/s1\n",
    "    m2 = np.mean(trainx_log1p[n])\n",
    "    s2 = np.std(trainx_log1p[n])\n",
    "    assert s2 > 0\n",
    "    trainx_log1p[n] = (trainx_log1p[n]-m2)/s2"
   ]
  },
  {
   "cell_type": "code",
   "execution_count": 26,
   "metadata": {},
   "outputs": [
    {
     "name": "stdout",
     "output_type": "stream",
     "text": [
      "(221, 185)\n",
      "(221, 188)\n",
      "(221, 194)\n",
      "(221, 197)\n",
      "(221, 201)\n",
      "(221, 208)\n",
      "(221, 210)\n",
      "(221, 215)\n",
      "(221, 218)\n",
      "(221, 220)\n",
      "(221, 223)\n",
      "(221, 225)\n",
      "(221, 227)\n",
      "(221, 233)\n",
      "(221, 236)\n",
      "(221, 239)\n",
      "(221, 243)\n",
      "(221, 249)\n",
      "(221, 255)\n",
      "(221, 259)\n",
      "(221, 261)\n",
      "(221, 269)\n",
      "(221, 273)\n",
      "(221, 276)\n",
      "(221, 279)\n",
      "(221, 286)\n",
      "(221, 288)\n",
      "(221, 296)\n",
      "(221, 299)\n",
      "(221, 302)\n",
      "(221, 305)\n",
      "(221, 310)\n",
      "(221, 312)\n",
      "(221, 314)\n",
      "(221, 322)\n",
      "(221, 324)\n",
      "(221, 333)\n",
      "(221, 340)\n",
      "(221, 346)\n",
      "(221, 348)\n",
      "(221, 352)\n",
      "(221, 355)\n",
      "(221, 357)\n",
      "(221, 364)\n",
      "(221, 373)\n",
      "(221, 378)\n",
      "(221, 382)\n",
      "(221, 387)\n",
      "(221, 392)\n",
      "(221, 400)\n",
      "(221, 402)\n",
      "(221, 405)\n",
      "(221, 408)\n",
      "(221, 410)\n",
      "(221, 413)\n",
      "(221, 420)\n",
      "(221, 424)\n",
      "(221, 429)\n",
      "(221, 432)\n",
      "(221, 434)\n",
      "(221, 436)\n",
      "(221, 438)\n",
      "(221, 440)\n",
      "(221, 444)\n",
      "(221, 447)\n",
      "(221, 450)\n",
      "(221, 454)\n",
      "(221, 457)\n",
      "(221, 462)\n",
      "(221, 467)\n",
      "(221, 471)\n",
      "(221, 473)\n",
      "(221, 476)\n",
      "(221, 478)\n",
      "(221, 481)\n",
      "(221, 484)\n",
      "(221, 486)\n",
      "(221, 492)\n",
      "(221, 498)\n",
      "(221, 500)\n",
      "(221, 504)\n",
      "(221, 507)\n",
      "(221, 510)\n",
      "(221, 513)\n",
      "(221, 515)\n",
      "(221, 517)\n",
      "(221, 522)\n",
      "(221, 526)\n",
      "(221, 531)\n",
      "(221, 539)\n",
      "(221, 541)\n",
      "(221, 544)\n",
      "(221, 548)\n",
      "(221, 551)\n",
      "(221, 554)\n",
      "(221, 556)\n",
      "(221, 558)\n",
      "(221, 560)\n",
      "(221, 562)\n",
      "(221, 564)\n",
      "(221, 566)\n",
      "(221, 568)\n",
      "(221, 571)\n",
      "(221, 574)\n",
      "(221, 576)\n",
      "(221, 583)\n",
      "(221, 589)\n",
      "(221, 592)\n",
      "(221, 594)\n",
      "(221, 597)\n",
      "(221, 599)\n",
      "(221, 601)\n",
      "(221, 603)\n",
      "(221, 606)\n",
      "(221, 610)\n",
      "(221, 619)\n",
      "(221, 624)\n",
      "(221, 627)\n",
      "(221, 631)\n",
      "(221, 634)\n",
      "(221, 637)\n",
      "(221, 644)\n",
      "(221, 646)\n",
      "(221, 649)\n",
      "(221, 652)\n",
      "(221, 656)\n",
      "(221, 660)\n",
      "(221, 664)\n",
      "(221, 666)\n",
      "(221, 674)\n",
      "(221, 682)\n",
      "(221, 684)\n",
      "(221, 690)\n",
      "(221, 695)\n",
      "(221, 697)\n",
      "(221, 700)\n",
      "(221, 703)\n",
      "(221, 706)\n",
      "(221, 709)\n",
      "(221, 718)\n",
      "(221, 721)\n",
      "(221, 729)\n",
      "(221, 732)\n",
      "(221, 736)\n",
      "(221, 741)\n",
      "(221, 745)\n",
      "(221, 750)\n",
      "(221, 759)\n",
      "(221, 763)\n",
      "(221, 765)\n",
      "(221, 768)\n",
      "(221, 772)\n",
      "(221, 774)\n",
      "(221, 782)\n",
      "(221, 786)\n",
      "(221, 788)\n",
      "(221, 792)\n",
      "(221, 796)\n",
      "(221, 798)\n",
      "(221, 803)\n",
      "(221, 808)\n",
      "(221, 810)\n",
      "(221, 812)\n",
      "(221, 815)\n",
      "(221, 818)\n",
      "(221, 825)\n",
      "(221, 830)\n",
      "(221, 832)\n",
      "(221, 836)\n",
      "(221, 838)\n",
      "(221, 842)\n",
      "(221, 845)\n",
      "(221, 849)\n",
      "(221, 853)\n",
      "(221, 860)\n",
      "(221, 866)\n",
      "(221, 871)\n",
      "(221, 873)\n",
      "(221, 877)\n",
      "(221, 879)\n"
     ]
    }
   ],
   "source": [
    "# make onehots onehot\n",
    "ohnames = dfx_onehot.columns\n",
    "for i in range(len(ohnames)):\n",
    "    n = ohnames[i]\n",
    "    tmp = pd.get_dummies(dfx_onehot[n], prefix='onehot_'+str(i))\n",
    "    dfx_onehot = pd.concat([dfx_onehot, tmp], axis=1)\n",
    "    print(dfx_onehot.shape)"
   ]
  },
  {
   "cell_type": "code",
   "execution_count": 27,
   "metadata": {},
   "outputs": [
    {
     "name": "stdout",
     "output_type": "stream",
     "text": [
      "(221, 699)\n"
     ]
    }
   ],
   "source": [
    "dfx_onehot.drop(ohnames, axis=1, inplace=True)\n",
    "print(dfx_onehot.shape)"
   ]
  },
  {
   "cell_type": "code",
   "execution_count": 28,
   "metadata": {
    "collapsed": true
   },
   "outputs": [],
   "source": [
    "dfx_float = trainx_float\n",
    "dfx_log1p = trainx_log1p"
   ]
  },
  {
   "cell_type": "code",
   "execution_count": 29,
   "metadata": {},
   "outputs": [
    {
     "name": "stderr",
     "output_type": "stream",
     "text": [
      "/home/magnusterra/anaconda3/lib/python3.6/site-packages/sklearn/cross_validation.py:41: DeprecationWarning: This module was deprecated in version 0.18 in favor of the model_selection module into which all the refactored classes and functions are moved. Also note that the interface of the new CV iterators are different from that of this module. This module will be removed in 0.20.\n",
      "  \"This module will be removed in 0.20.\", DeprecationWarning)\n"
     ]
    }
   ],
   "source": [
    "from sklearn.ensemble import BaggingRegressor\n",
    "from sklearn.linear_model import LinearRegression\n",
    "from xgboost import XGBRegressor"
   ]
  },
  {
   "cell_type": "code",
   "execution_count": 30,
   "metadata": {
    "collapsed": true
   },
   "outputs": [],
   "source": [
    "def MSE(y_raw, y_pred):\n",
    "    print(np.mean(np.square(y_raw-y_pred)))"
   ]
  },
  {
   "cell_type": "code",
   "execution_count": 31,
   "metadata": {},
   "outputs": [
    {
     "name": "stderr",
     "output_type": "stream",
     "text": [
      "/home/magnusterra/anaconda3/lib/python3.6/site-packages/sklearn/grid_search.py:42: DeprecationWarning: This module was deprecated in version 0.18 in favor of the model_selection module into which all the refactored classes and functions are moved. This module will be removed in 0.20.\n",
      "  DeprecationWarning)\n"
     ]
    }
   ],
   "source": [
    "import matplotlib.pyplot as plt\n",
    "from sklearn.cross_validation import train_test_split\n",
    "from sklearn.grid_search import GridSearchCV "
   ]
  },
  {
   "cell_type": "code",
   "execution_count": 32,
   "metadata": {
    "collapsed": true
   },
   "outputs": [],
   "source": [
    "from sklearn.model_selection import KFold \n",
    "kf = KFold(n_splits=5, random_state=2018)\n",
    "def get_oof(rgr, xtrain, ytrain, xtest, lenot):\n",
    "    oof_train = np.zeros((lenot,))\n",
    "    oof_test = np.zeros((100,))\n",
    "    oof_test_skf = np.empty((5, 100))\n",
    "    for i, (train_index, test_index) in enumerate(kf.split(xtrain)):\n",
    "        kf_xtrain = xtrain[train_index]\n",
    "        kf_ytrain = ytrain[train_index]\n",
    "        kf_xtest = xtrain[test_index]\n",
    "        rgr.fit(kf_xtrain, kf_ytrain)\n",
    "        oof_train[test_index] = rgr.predict(kf_xtest)\n",
    "        oof_test_skf[i, : ] = rgr.predict(xtest)\n",
    "    oof_test[:] = oof_test_skf.mean(axis=0)\n",
    "    return oof_train.reshape(-1,1), oof_test.reshape(-1,1)"
   ]
  },
  {
   "cell_type": "code",
   "execution_count": 33,
   "metadata": {},
   "outputs": [
    {
     "data": {
      "text/plain": [
       "(221, 2855)"
      ]
     },
     "execution_count": 33,
     "metadata": {},
     "output_type": "execute_result"
    }
   ],
   "source": [
    "dfx = pd.concat([dfx_log1p, dfx_onehot], axis=1)\n",
    "dfx.shape"
   ]
  },
  {
   "cell_type": "code",
   "execution_count": 37,
   "metadata": {},
   "outputs": [
    {
     "name": "stdout",
     "output_type": "stream",
     "text": [
      "0.000408923291347\n"
     ]
    }
   ],
   "source": [
    "subxtrain, subxval, subytrain, subyval = train_test_split(dfx[:100].values, test1_y.values, \n",
    "                                                          test_size=0.2, random_state=20)\n",
    "\n",
    "xgb = XGBRegressor(gamma=0.0004, max_depth=3, objective='reg:gamma', subsample=0.8)\n",
    "xgb.fit(subxtrain, test1_y)\n",
    "tr_pred = xgb.predict(dfx[:100])\n",
    "te_pred = xgb.predict(dfx[500:600])\n",
    "MSE(tr_pred, test1_y.values)\n",
    "MSE(te_pred, test1_y.values)"
   ]
  },
  {
   "cell_type": "code",
   "execution_count": null,
   "metadata": {
    "collapsed": true
   },
   "outputs": [],
   "source": []
  }
 ],
 "metadata": {
  "kernelspec": {
   "display_name": "Python 3",
   "language": "python",
   "name": "python3"
  },
  "language_info": {
   "codemirror_mode": {
    "name": "ipython",
    "version": 3
   },
   "file_extension": ".py",
   "mimetype": "text/x-python",
   "name": "python",
   "nbconvert_exporter": "python",
   "pygments_lexer": "ipython3",
   "version": "3.6.1"
  }
 },
 "nbformat": 4,
 "nbformat_minor": 2
}
