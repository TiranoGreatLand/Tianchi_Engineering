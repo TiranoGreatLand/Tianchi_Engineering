{
 "cells": [
  {
   "cell_type": "code",
   "execution_count": 1,
   "metadata": {
    "collapsed": true
   },
   "outputs": [],
   "source": [
    "import numpy as np\n",
    "import pandas as pd\n",
    "import pickle"
   ]
  },
  {
   "cell_type": "code",
   "execution_count": 2,
   "metadata": {
    "collapsed": true
   },
   "outputs": [],
   "source": [
    "#read train and test data\n",
    "train_data = pd.read_excel('训练.xlsx')\n",
    "test_data_1 = pd.read_excel('测试A.xlsx')\n",
    "test_data_2 = pd.read_excel('测试B.xlsx')"
   ]
  },
  {
   "cell_type": "code",
   "execution_count": 3,
   "metadata": {
    "collapsed": true
   },
   "outputs": [],
   "source": [
    "train_nonnull = train_data.isnull().values\n",
    "test_nonnull_1 = test_data_1.isnull().values\n",
    "test_nonnull_2 = test_data_2.isnull().values\n",
    "train_X = train_data.values\n",
    "test_X_1 = test_data_1.values\n",
    "test_X_2 = test_data_2.values\n",
    "test_id_1 = test_X_1[:, 0]\n",
    "test_id_2 = test_X_2[:, 0]\n",
    "train_y = train_X[:, -1]\n",
    "train_X = train_X[:, 1:-1]\n",
    "test_X_1 = test_X_1[:, 1:]\n",
    "test_X_2 = test_X_2[:, 1:]"
   ]
  },
  {
   "cell_type": "code",
   "execution_count": 4,
   "metadata": {},
   "outputs": [
    {
     "data": {
      "text/plain": [
       "((500, 8027), (100, 8027), (121, 8027))"
      ]
     },
     "execution_count": 4,
     "metadata": {},
     "output_type": "execute_result"
    }
   ],
   "source": [
    "train_X.shape, test_X_1.shape, test_X_2.shape"
   ]
  },
  {
   "cell_type": "code",
   "execution_count": 5,
   "metadata": {},
   "outputs": [
    {
     "name": "stdout",
     "output_type": "stream",
     "text": [
      "(721, 8027) (721, 8027)\n"
     ]
    }
   ],
   "source": [
    "#Merge two data\n",
    "merged_X = np.concatenate((train_X, test_X_1, test_X_2), axis=0)\n",
    "merged_nn = np.concatenate((train_nonnull[:, 1:-1], test_nonnull_1[:, 1:], test_nonnull_2[:, 1:]), axis=0)\n",
    "print(merged_X.shape, merged_nn.shape)"
   ]
  },
  {
   "cell_type": "code",
   "execution_count": 6,
   "metadata": {
    "collapsed": true
   },
   "outputs": [],
   "source": [
    "#reverse nn\n",
    "def BoolReverse(columns):\n",
    "    tmpm = np.zeros(columns.shape)\n",
    "    tmpm[columns] = 1\n",
    "    return tmpm == 0\n",
    "\n",
    "merged_nn = BoolReverse(merged_nn)"
   ]
  },
  {
   "cell_type": "code",
   "execution_count": 7,
   "metadata": {},
   "outputs": [
    {
     "name": "stdout",
     "output_type": "stream",
     "text": [
      "62\n"
     ]
    }
   ],
   "source": [
    "# now find the values that has 0 value and delete such column\n",
    "first_delete_idxs = []\n",
    "for i in range(merged_X.shape[1]):\n",
    "    data = merged_X[:, i]\n",
    "    real = merged_nn[:, i]\n",
    "    rd = data[real]\n",
    "    if len(rd) == 0:\n",
    "        first_delete_idxs.append(i)\n",
    "    elif len(set(rd)) == 0:\n",
    "        first_delete_idxs.append(i)\n",
    "print(len(first_delete_idxs))"
   ]
  },
  {
   "cell_type": "code",
   "execution_count": 8,
   "metadata": {},
   "outputs": [
    {
     "name": "stdout",
     "output_type": "stream",
     "text": [
      "(721, 8027)\n",
      "(721, 7965)\n"
     ]
    }
   ],
   "source": [
    "print(merged_X.shape)\n",
    "merged_X = np.delete(merged_X, first_delete_idxs, axis=1)\n",
    "print(merged_X.shape)"
   ]
  },
  {
   "cell_type": "code",
   "execution_count": 9,
   "metadata": {},
   "outputs": [
    {
     "name": "stdout",
     "output_type": "stream",
     "text": [
      "(721, 8027)\n",
      "(721, 7965)\n"
     ]
    }
   ],
   "source": [
    "print(merged_nn.shape)\n",
    "merged_nn = np.delete(merged_nn, first_delete_idxs, axis=1)\n",
    "print(merged_nn.shape)"
   ]
  },
  {
   "cell_type": "code",
   "execution_count": 10,
   "metadata": {},
   "outputs": [
    {
     "name": "stdout",
     "output_type": "stream",
     "text": [
      "1007\n"
     ]
    }
   ],
   "source": [
    "#now find the columns that has only one value\n",
    "only_one_values = 0\n",
    "for i in range(merged_X.shape[1]):\n",
    "    data = merged_X[:, i]\n",
    "    real = merged_nn[:, i]\n",
    "    rd = data[real]\n",
    "    if len(set(rd)) == 1:\n",
    "        merged_X[:, i] = 1.0\n",
    "        merged_nn[:, i] = True\n",
    "        only_one_values += 1\n",
    "print(only_one_values)"
   ]
  },
  {
   "cell_type": "code",
   "execution_count": 11,
   "metadata": {
    "collapsed": true
   },
   "outputs": [],
   "source": [
    "def dict2list(dic):\n",
    "    keys = dic.keys()\n",
    "    vals = dic.values()\n",
    "    lst = [(key, val) for key, val in zip(keys, vals)]\n",
    "    return lst\n",
    "\n",
    "# input one array and return the most frequent one\n",
    "def MostFrequentOne(column):\n",
    "    itemfreq = {}\n",
    "    for i in column:\n",
    "        if i not in itemfreq:\n",
    "            itemfreq[i] = 1\n",
    "        else:\n",
    "            itemfreq[i] += 1\n",
    "    tmp_dict = sorted(dict2list(itemfreq), key=lambda d:d[1], reverse=True)\n",
    "    return tmp_dict[0][0]"
   ]
  },
  {
   "cell_type": "code",
   "execution_count": 12,
   "metadata": {
    "collapsed": true
   },
   "outputs": [],
   "source": [
    "# one_hot to map str to int\n",
    "def OneHot_Str(column, retdict = 0):\n",
    "    syms = set(column)\n",
    "    sim = {}\n",
    "    count = 0\n",
    "    for s in syms:\n",
    "        sim[s] = count\n",
    "        count += 1\n",
    "    cl = len(column)\n",
    "    retoh = np.zeros((cl, count))\n",
    "    for i in range(cl):\n",
    "        s = column[i]\n",
    "        mi = sim[s]\n",
    "        retoh[i, mi] = 1.0\n",
    "    if retdict == 0:\n",
    "        return retoh\n",
    "    else:\n",
    "        return retoh, sim"
   ]
  },
  {
   "cell_type": "code",
   "execution_count": 13,
   "metadata": {},
   "outputs": [
    {
     "name": "stdout",
     "output_type": "stream",
     "text": [
      "10\n",
      "(721, 7999)\n",
      "(721, 7989)\n"
     ]
    }
   ],
   "source": [
    "#now fix the remain data\n",
    "#if the values in data has one value that is string, then one_hot it, else normalize it\n",
    "stridxs = []\n",
    "for i in range(merged_X.shape[1]):\n",
    "    data = merged_X[:, i]\n",
    "    real = merged_nn[:, i]\n",
    "    rd = data[real]\n",
    "    #if len(data) == len(rd) and np.mean(data) == 1.0:\n",
    "    #    continue\n",
    "    isstr = False\n",
    "    for j in range(len(rd)):\n",
    "        x = rd[j]\n",
    "        sx = str(type(x))\n",
    "        if 'str' in sx:\n",
    "            isstr = True\n",
    "            break\n",
    "    if isstr:\n",
    "        stridxs.append(i)\n",
    "        # fix null and one_hot it\n",
    "        if len(rd) < len(data):\n",
    "            mfc = MostFrequentOne(rd)\n",
    "            rn = BoolReverse(real)\n",
    "            data[rn] = mfc\n",
    "        onehots = OneHot_Str(data)\n",
    "        merged_X = np.concatenate((merged_X, onehots), axis=1)\n",
    "    else:\n",
    "        if len(rd) < len(data):\n",
    "            if len(set(data)) == 1:\n",
    "                continue\n",
    "            rn = BoolReverse(real)\n",
    "            data[rn] = np.mean(rd)\n",
    "            mean = np.mean(data)\n",
    "            std = np.std(data)\n",
    "            data = (data-mean)/std\n",
    "            merged_X[:, i] = data\n",
    "#delete the string columns\n",
    "print(len(stridxs))\n",
    "print(merged_X.shape)\n",
    "merged_X = np.delete(merged_X, stridxs, axis=1)\n",
    "print(merged_X.shape)"
   ]
  },
  {
   "cell_type": "code",
   "execution_count": 112,
   "metadata": {},
   "outputs": [
    {
     "data": {
      "image/png": "[encoded data removed]",
      "text/plain": [
       "<matplotlib.figure.Figure at 0x7f3beeaf33c8>"
      ]
     },
     "metadata": {},
     "output_type": "display_data"
    },
    {
     "name": "stdout",
     "output_type": "stream",
     "text": [
      "-1.20190859305\n"
     ]
    }
   ],
   "source": [
    "tyl = np.sort(train_y)\n",
    "mean_y = np.mean(tyl)\n",
    "std_y = np.std(tyl)\n",
    "tyl = (tyl-np.mean(tyl))/np.std(tyl)\n",
    "newn = []\n",
    "for i in tyl:\n",
    "    x = float(i)\n",
    "    newn.append(np.arctan(x))\n",
    "tyl = np.array(newn)\n",
    "#tyl = np.sqrt(tyl)\n",
    "plt.plot(np.arange(len(train_y)), tyl)\n",
    "plt.show()\n",
    "print(np.min(tyl))\n",
    "bias_y = np.min(tyl)\n",
    "tyl -= bias_y"
   ]
  },
  {
   "cell_type": "code",
   "execution_count": 118,
   "metadata": {
    "collapsed": true
   },
   "outputs": [],
   "source": [
    "trX, vaX, tr_y, va_y = train_test_split(merged_X[:500], train_y, test_size=0.2, random_state=50)"
   ]
  },
  {
   "cell_type": "code",
   "execution_count": 19,
   "metadata": {
    "collapsed": true
   },
   "outputs": [],
   "source": [
    "import xgboost as xgb\n",
    "from xgboost import plot_importance"
   ]
  },
  {
   "cell_type": "code",
   "execution_count": 29,
   "metadata": {
    "collapsed": true
   },
   "outputs": [],
   "source": [
    "params={\n",
    "    'eta': 0.1,\n",
    "    'max_depth':5,   \n",
    "    'min_child_weight':3,\n",
    "    'gamma':0.1, \n",
    "    'lambda':3,\n",
    "    'subsample':0.7,\n",
    "    'colsample_bytree':0.7,\n",
    "    'booster':'gbtree',\n",
    "    'objective': 'reg:gamma',\n",
    "    'nthread':4,\n",
    "    #'scale_pos_weight': 1,\n",
    "    'seed':1000,\n",
    "    'silent':1 ,\n",
    "    #'eval_metric': 'auc'\n",
    "}"
   ]
  },
  {
   "cell_type": "code",
   "execution_count": 119,
   "metadata": {},
   "outputs": [],
   "source": [
    "dtrain = xgb.DMatrix(trX, tr_y)\n",
    "num_rounds = 400\n",
    "plst = params.items()\n",
    "model = xgb.train(plst, dtrain, num_rounds)"
   ]
  },
  {
   "cell_type": "code",
   "execution_count": 49,
   "metadata": {
    "collapsed": true
   },
   "outputs": [],
   "source": [
    "from xgboost.sklearn import XGBClassifier"
   ]
  },
  {
   "cell_type": "code",
   "execution_count": 115,
   "metadata": {
    "collapsed": true
   },
   "outputs": [],
   "source": [
    "def real_ans(y):\n",
    "    y += bias_y\n",
    "    y *= std_y\n",
    "    y += mean_y\n",
    "    return y"
   ]
  },
  {
   "cell_type": "code",
   "execution_count": 121,
   "metadata": {
    "collapsed": true
   },
   "outputs": [],
   "source": [
    "dtest = xgb.DMatrix(vaX)\n",
    "ans = model.predict(dtest)"
   ]
  },
  {
   "cell_type": "code",
   "execution_count": 122,
   "metadata": {},
   "outputs": [
    {
     "name": "stdout",
     "output_type": "stream",
     "text": [
      "0.03846938784034684\n"
     ]
    }
   ],
   "source": [
    "print(MSE_np(ans, va_y))"
   ]
  },
  {
   "cell_type": "code",
   "execution_count": 117,
   "metadata": {},
   "outputs": [
    {
     "data": {
      "image/png": "[encoded data removed]",
      "text/plain": [
       "<matplotlib.figure.Figure at 0x7f3c24239dd8>"
      ]
     },
     "metadata": {},
     "output_type": "display_data"
    }
   ],
   "source": [
    "plot_importance(model)\n",
    "plt.show()"
   ]
  },
  {
   "cell_type": "code",
   "execution_count": 48,
   "metadata": {},
   "outputs": [
    {
     "name": "stdout",
     "output_type": "stream",
     "text": [
      "0.029035031935667206\n"
     ]
    }
   ],
   "source": [
    "dtrain = xgb.DMatrix(merged_X[:500], train_y)\n",
    "num_rounds = 400\n",
    "plst = params.items()\n",
    "model = xgb.train(plst, dtrain, num_rounds)\n",
    "ta = model.predict(dtrain)\n",
    "print(MSE_np(ta, train_y))\n",
    "dtest = xgb.DMatrix(merged_X[500:600])\n",
    "test1_pred = model.predict(dtest)\n",
    "test1_pred = test1_pred.reshape(100)\n",
    "save = pd.DataFrame({'ID':test_id_1, 'value':test1_pred})\n",
    "save.to_csv('answer.csv', index=False, header=False)"
   ]
  },
  {
   "cell_type": "code",
   "execution_count": 50,
   "metadata": {
    "collapsed": true
   },
   "outputs": [],
   "source": [
    "clf = XGBClassifier(\n",
    "    n_estimators=30,#三十棵树\n",
    "    learning_rate =0.3,\n",
    "    max_depth=3,\n",
    "    min_child_weight=1,\n",
    "    gamma=0.3,\n",
    "    subsample=0.8,\n",
    "    colsample_bytree=0.8,\n",
    "    objective= 'reg:gamma',\n",
    "    nthread=12,\n",
    "    scale_pos_weight=1,\n",
    "    reg_lambda=1,\n",
    "    seed=27)"
   ]
  },
  {
   "cell_type": "code",
   "execution_count": 78,
   "metadata": {
    "collapsed": true
   },
   "outputs": [],
   "source": [
    "d_train = xgb.DMatrix(trX, label=tr_y)\n",
    "d_valid = xgb.DMatrix(vaX, label=va_y)\n",
    "d_test = xgb.DMatrix(merged_X[500:600])\n",
    "watchlist = [(d_train, 'train'), (d_valid, 'valid')]"
   ]
  },
  {
   "cell_type": "code",
   "execution_count": 79,
   "metadata": {},
   "outputs": [
    {
     "name": "stdout",
     "output_type": "stream",
     "text": [
      "[0]\ttrain-gamma-nloglik:4.63447\tvalid-gamma-nloglik:4.6224\n",
      "Multiple eval metrics have been passed: 'valid-gamma-nloglik' will be used for early stopping.\n",
      "\n",
      "Will train until valid-gamma-nloglik hasn't improved in 500 rounds.\n",
      "[10]\ttrain-gamma-nloglik:2.65673\tvalid-gamma-nloglik:2.65088\n",
      "[20]\ttrain-gamma-nloglik:2.16034\tvalid-gamma-nloglik:2.15676\n"
     ]
    }
   ],
   "source": [
    "model_bst = xgb.train(params, d_train, 30, watchlist, early_stopping_rounds=500, verbose_eval=10)"
   ]
  },
  {
   "cell_type": "code",
   "execution_count": 80,
   "metadata": {},
   "outputs": [
    {
     "name": "stdout",
     "output_type": "stream",
     "text": [
      "(400, 30)\n",
      "(100, 30)\n"
     ]
    }
   ],
   "source": [
    "trnew = model_bst.predict(d_train, pred_leaf=True)\n",
    "print(trnew.shape)\n",
    "vanew = model_bst.predict(d_valid, pred_leaf=True)\n",
    "print(vanew.shape)"
   ]
  },
  {
   "cell_type": "code",
   "execution_count": 67,
   "metadata": {
    "collapsed": true
   },
   "outputs": [],
   "source": [
    "from sklearn.linear_model import LinearRegression"
   ]
  },
  {
   "cell_type": "code",
   "execution_count": 81,
   "metadata": {},
   "outputs": [],
   "source": [
    "lr = LinearRegression()"
   ]
  },
  {
   "cell_type": "code",
   "execution_count": 82,
   "metadata": {},
   "outputs": [
    {
     "data": {
      "text/plain": [
       "LinearRegression(copy_X=True, fit_intercept=True, n_jobs=1, normalize=False)"
      ]
     },
     "execution_count": 82,
     "metadata": {},
     "output_type": "execute_result"
    }
   ],
   "source": [
    "lr.fit(trnew, tr_y)"
   ]
  },
  {
   "cell_type": "code",
   "execution_count": 83,
   "metadata": {},
   "outputs": [
    {
     "data": {
      "text/plain": [
       "0.04724269015666128"
      ]
     },
     "execution_count": 83,
     "metadata": {},
     "output_type": "execute_result"
    }
   ],
   "source": [
    "MSE_np(va_y, lr.predict(vanew))"
   ]
  },
  {
   "cell_type": "code",
   "execution_count": 290,
   "metadata": {},
   "outputs": [
    {
     "data": {
      "text/plain": [
       "RandomForestRegressor(bootstrap=True, criterion='mse', max_depth=None,\n",
       "           max_features='auto', max_leaf_nodes=None,\n",
       "           min_impurity_split=1e-07, min_samples_leaf=1,\n",
       "           min_samples_split=2, min_weight_fraction_leaf=0.0,\n",
       "           n_estimators=10, n_jobs=1, oob_score=False, random_state=None,\n",
       "           verbose=0, warm_start=False)"
      ]
     },
     "execution_count": 290,
     "metadata": {},
     "output_type": "execute_result"
    }
   ],
   "source": [
    "trainX = merged_X[:500]\n",
    "trX, vaX, tr_y, va_y = train_test_split(trainX, train_y, test_size=0.5, random_state=25)\n",
    "tmp_r = Regressor(2)\n",
    "tmp_r.fit(trX, tr_y)"
   ]
  },
  {
   "cell_type": "code",
   "execution_count": 291,
   "metadata": {},
   "outputs": [
    {
     "name": "stdout",
     "output_type": "stream",
     "text": [
      "0.00653264688653365\n",
      "0.0356420475014934\n"
     ]
    }
   ],
   "source": [
    "pred_y = tmp_r.predict(trX)\n",
    "print(MSE_np(pred_y, tr_y))\n",
    "pred_y = tmp_r.predict(vaX)\n",
    "print(MSE_np(pred_y, va_y))"
   ]
  },
  {
   "cell_type": "code",
   "execution_count": 294,
   "metadata": {
    "collapsed": true
   },
   "outputs": [],
   "source": [
    "test1_pred = tmp_r.predict(merged_X[500:600])\n",
    "test1_pred = test1_pred.reshape(100)\n",
    "save = pd.DataFrame({'ID':test_id_1, 'value':test1_pred})\n",
    "save.to_csv('answer.csv', index=False, header=False)"
   ]
  },
  {
   "cell_type": "code",
   "execution_count": 14,
   "metadata": {
    "scrolled": true
   },
   "outputs": [
    {
     "name": "stderr",
     "output_type": "stream",
     "text": [
      "/home/magnusterra/anaconda3/lib/python3.6/site-packages/sklearn/cross_validation.py:41: DeprecationWarning: This module was deprecated in version 0.18 in favor of the model_selection module into which all the refactored classes and functions are moved. Also note that the interface of the new CV iterators are different from that of this module. This module will be removed in 0.20.\n",
      "  \"This module will be removed in 0.20.\", DeprecationWarning)\n"
     ]
    }
   ],
   "source": [
    "import xgboost as xgb"
   ]
  },
  {
   "cell_type": "code",
   "execution_count": 15,
   "metadata": {
    "collapsed": true
   },
   "outputs": [],
   "source": [
    "import matplotlib.pyplot as plt"
   ]
  },
  {
   "cell_type": "code",
   "execution_count": null,
   "metadata": {
    "collapsed": true
   },
   "outputs": [],
   "source": []
  },
  {
   "cell_type": "code",
   "execution_count": 102,
   "metadata": {
    "collapsed": true
   },
   "outputs": [],
   "source": [
    "#now use pca to reduce its demension\n",
    "from sklearn.decomposition import PCA\n",
    "from sklearn.decomposition import KernelPCA"
   ]
  },
  {
   "cell_type": "code",
   "execution_count": 127,
   "metadata": {},
   "outputs": [
    {
     "name": "stdout",
     "output_type": "stream",
     "text": [
      "0 0.999999975997 0.999999975997\n",
      "1 0.999999988161 1.21642303191e-08\n",
      "2 0.999999996208 8.04744349027e-09\n",
      "3 0.999999999192 2.98389444005e-09\n",
      "4 0.999999999921 7.29025967026e-10\n",
      "5 0.999999999973 5.15364429733e-11\n",
      "6 0.999999999996 2.29004577611e-11\n",
      "7 0.999999999998 2.21812415711e-12\n",
      "8 0.999999999999 1.16480649017e-12\n",
      "9 0.999999999999 4.05106542261e-13\n",
      "10 1.0 3.5635447094e-13\n",
      "11 1.0 6.3991617151e-14\n",
      "12 1.0 4.38334783537e-14\n",
      "13 1.0 2.07982605367e-14\n",
      "14 1.0 1.57174133905e-14\n",
      "15 1.0 2.20683238919e-15\n",
      "16 1.0 1.60405629901e-15\n",
      "17 1.0 1.79635425041e-17\n",
      "18 1.0 8.41521642388e-18\n",
      "19 1.0 5.46518582808e-18\n",
      "20 1.0 2.57848357376e-18\n",
      "21 1.0 1.57896209797e-18\n",
      "22 1.0 1.06665620695e-18\n",
      "23 1.0 8.67680041323e-19\n",
      "24 1.0 8.1114062698e-19\n",
      "new shape (721, 25)\n"
     ]
    }
   ],
   "source": [
    "cn = 25\n",
    "pca = PCA(n_components=cn)\n",
    "#pca = KernelPCA(n_components=cn, kernel='rbf') \n",
    "pca.fit(merged_X) \n",
    "psum = 0 \n",
    "pe = pca.explained_variance_ratio_\n",
    "#pe = pca.lambdas_\n",
    "for i in range(cn): \n",
    "    e = pe[i] \n",
    "    psum += e \n",
    "    print(i, psum, e) \n",
    "X_new = pca.transform(merged_X) \n",
    "print(\"new shape\", X_new.shape)"
   ]
  },
  {
   "cell_type": "code",
   "execution_count": 128,
   "metadata": {
    "collapsed": true
   },
   "outputs": [],
   "source": [
    "# normalize new_X\n",
    "for i in range(cn):\n",
    "    col = X_new[:, i]\n",
    "    m = np.mean(col)\n",
    "    s = np.std(col)\n",
    "    #print(i, np.max(col), np.min(col), m, s)\n",
    "    col = (col-m)/s\n",
    "    #print(i, np.max(col), np.min(col), np.mean(col), np.std(col))\n",
    "    mean = np.mean(col)\n",
    "    std = np.std(col)\n",
    "    col = (col-mean)/std\n",
    "    #print(i, np.mean(col), np.std(col))\n",
    "    X_new[:, i] = col"
   ]
  },
  {
   "cell_type": "code",
   "execution_count": 129,
   "metadata": {},
   "outputs": [
    {
     "name": "stdout",
     "output_type": "stream",
     "text": [
      "(500, 25) (100, 25) (121, 25)\n"
     ]
    }
   ],
   "source": [
    "# split train, test1, test2 data\n",
    "trainX = X_new[:500]\n",
    "test1X = X_new[500:600]\n",
    "test2X = X_new[600:]\n",
    "print(trainX.shape, test1X.shape, test2X.shape)"
   ]
  },
  {
   "cell_type": "code",
   "execution_count": 17,
   "metadata": {
    "collapsed": true
   },
   "outputs": [],
   "source": [
    "#Regression by machinr learn\n",
    "def MSE_np(y, y_pred):\n",
    "    return np.mean(np.square(y-y_pred))"
   ]
  },
  {
   "cell_type": "code",
   "execution_count": 16,
   "metadata": {
    "collapsed": true
   },
   "outputs": [],
   "source": [
    "from sklearn.cross_validation import train_test_split"
   ]
  },
  {
   "cell_type": "code",
   "execution_count": 241,
   "metadata": {
    "collapsed": true
   },
   "outputs": [],
   "source": [
    "trX, vaX, tr_y, va_y = train_test_split(trainX, train_y, test_size=0.5, random_state=30)"
   ]
  },
  {
   "cell_type": "code",
   "execution_count": 274,
   "metadata": {
    "collapsed": true
   },
   "outputs": [],
   "source": [
    "regressor = Regressor(2)"
   ]
  },
  {
   "cell_type": "code",
   "execution_count": 275,
   "metadata": {},
   "outputs": [
    {
     "data": {
      "text/plain": [
       "RandomForestRegressor(bootstrap=True, criterion='mse', max_depth=None,\n",
       "           max_features='auto', max_leaf_nodes=None,\n",
       "           min_impurity_split=1e-07, min_samples_leaf=1,\n",
       "           min_samples_split=2, min_weight_fraction_leaf=0.0,\n",
       "           n_estimators=10, n_jobs=1, oob_score=False, random_state=None,\n",
       "           verbose=0, warm_start=False)"
      ]
     },
     "execution_count": 275,
     "metadata": {},
     "output_type": "execute_result"
    }
   ],
   "source": [
    "regressor.fit(trX, tr_y)"
   ]
  },
  {
   "cell_type": "code",
   "execution_count": 276,
   "metadata": {},
   "outputs": [
    {
     "name": "stdout",
     "output_type": "stream",
     "text": [
      "0.006243235640536375\n"
     ]
    }
   ],
   "source": [
    "tr_p = regressor.predict(trX)\n",
    "print(MSE_np(tr_y, tr_p))"
   ]
  },
  {
   "cell_type": "code",
   "execution_count": 277,
   "metadata": {},
   "outputs": [
    {
     "name": "stdout",
     "output_type": "stream",
     "text": [
      "0.038457481925419826\n"
     ]
    }
   ],
   "source": [
    "va_p = regressor.predict(vaX)\n",
    "print(MSE_np(va_y, va_p))"
   ]
  },
  {
   "cell_type": "code",
   "execution_count": 270,
   "metadata": {},
   "outputs": [
    {
     "name": "stdout",
     "output_type": "stream",
     "text": [
      "0.0059782197103562746\n"
     ]
    }
   ],
   "source": [
    "regressor = Regressor(2)\n",
    "regressor.fit(trainX, train_y)\n",
    "trainp = regressor.predict(trainX)\n",
    "print(MSE_np(train_y, trainp))"
   ]
  },
  {
   "cell_type": "code",
   "execution_count": 240,
   "metadata": {
    "collapsed": true
   },
   "outputs": [],
   "source": [
    "test1_pred = regressor.predict(test1X)\n",
    "test1_pred = test1_pred.reshape(100)\n",
    "save = pd.DataFrame({'ID':test_id_1, 'value':test1_pred})\n",
    "save.to_csv('answer.csv', index=False, header=False)"
   ]
  },
  {
   "cell_type": "markdown",
   "metadata": {},
   "source": [
    "# it is a bit fusion to combat all codes from pca to predict to get an good result to get the best prediction result"
   ]
  },
  {
   "cell_type": "code",
   "execution_count": 17,
   "metadata": {
    "collapsed": true
   },
   "outputs": [],
   "source": [
    "import time"
   ]
  },
  {
   "cell_type": "code",
   "execution_count": 16,
   "metadata": {
    "collapsed": true
   },
   "outputs": [],
   "source": [
    "# 0 : GradientBoostingRegressor\n",
    "# 1 : ExtraTreesRegressor\n",
    "# 2 : RandomForestRegressor\n",
    "# 3 : SVM Regressor(RBF Kernel)\n",
    "# 4 : KNN Regressor(Distance-weighted)\n",
    "# 5 : Decision TreeRegressor\n",
    "# 6 : KNN Regressor (Uniform-weighted)\n",
    "# 7 : LinearRegression\n",
    "# 8 : SGDRegressor\n",
    "# 9 : SVM Regressor(Linear Kernel)\n",
    "\n",
    "from sklearn.ensemble import RandomForestRegressor, ExtraTreesRegressor, GradientBoostingRegressor\n",
    "from sklearn.tree import DecisionTreeRegressor\n",
    "from sklearn.neighbors import KNeighborsRegressor\n",
    "from sklearn.svm import SVR\n",
    "from sklearn.linear_model import LinearRegression, SGDRegressor\n",
    "\n",
    "def Regressor(number):\n",
    "    if number == 0:\n",
    "        return GradientBoostingRegressor()\n",
    "    elif number == 1:\n",
    "        return ExtraTreesRegressor()\n",
    "    elif number == 2:\n",
    "        return RandomForestRegressor()\n",
    "    elif number == 3:\n",
    "        return SVR(kernel='rbf')\n",
    "    elif number == 4:\n",
    "        return KNeighborsRegressor(weights='distance')\n",
    "    elif number == 5:\n",
    "        return DecisionTreeRegressor()\n",
    "    elif number == 6:\n",
    "        return KNeighborsRegressor(weights='uniform')\n",
    "    elif number == 7:\n",
    "        return LinearRegression()\n",
    "    elif number == 8:\n",
    "        return SGDRegressor()\n",
    "    elif number == 9:\n",
    "        return SVR(kernel='linear')\n",
    "    else:\n",
    "        return None"
   ]
  },
  {
   "cell_type": "code",
   "execution_count": 126,
   "metadata": {},
   "outputs": [
    {
     "name": "stdout",
     "output_type": "stream",
     "text": [
      "0 12 4.421818017959595 0.0361337366481\n",
      "0 13 5.161895990371704 0.0364379225721\n",
      "0 14 4.634726524353027 0.0366321965281\n",
      "0 15 5.518438339233398 0.0368889988946\n",
      "0 16 5.839105844497681 0.0369648912494\n",
      "0 17 5.7945966720581055 0.0367746618891\n",
      "0 18 6.011782884597778 0.0366208597722\n",
      "0 19 6.2275230884552 0.0367523276268\n",
      "0 20 6.504511833190918 0.0371308668496\n",
      "0 21 6.707685232162476 0.037134715178\n",
      "0 22 6.737461566925049 0.0368297710411\n",
      "0 23 6.906983852386475 0.0364255420531\n",
      "0 24 6.313341379165649 0.0364456896303\n",
      "0 25 6.551576375961304 0.0360109032812\n",
      "0 26 7.459532976150513 0.0360653527262\n",
      "0 27 7.669758081436157 0.0363514185931\n",
      "0 28 7.875925540924072 0.0364369459674\n",
      "0 29 7.975120544433594 0.0364017276903\n",
      "0 30 8.202184200286865 0.0365215516008\n",
      "0 31 8.378604412078857 0.0363816925565\n",
      "0 32 8.559360265731812 0.0362917413953\n",
      "0 33 7.9645607471466064 0.0363089103697\n",
      "0 34 8.14734435081482 0.0364723748086\n",
      "0 35 9.1381995677948 0.0364645462011\n",
      "0 36 9.283891916275024 0.0363806805558\n",
      "0 37 9.53617000579834 0.036257141197\n",
      "0 38 9.655152320861816 0.036373157297\n",
      "0 39 9.861554384231567 0.0364366853007\n",
      "0 40 10.054752588272095 0.0364174258225\n",
      "0 41 9.439269542694092 0.036575275536\n",
      "0 42 9.598021745681763 0.0366352112245\n",
      "0 43 10.670432329177856 0.0368023663005\n",
      "0 44 10.774628639221191 0.0366996920843\n",
      "0 45 10.994583129882812 0.0367653000051\n",
      "0 46 11.115633726119995 0.0369667114292\n",
      "0 47 11.244222640991211 0.037019626359\n",
      "0 48 11.497002840042114 0.0367127215838\n",
      "0 49 10.857229471206665 0.0364306147877\n",
      "1 12 3.033024311065674 0.0431921678705\n",
      "1 13 3.095142364501953 0.0433302731156\n",
      "1 14 3.1082777976989746 0.0433412083771\n",
      "1 15 3.152402639389038 0.0436001912308\n",
      "1 16 3.1879215240478516 0.043447785314\n",
      "1 17 3.2379679679870605 0.0434454451167\n",
      "1 18 3.282728433609009 0.0431918698657\n",
      "1 19 3.3221518993377686 0.0425531081914\n",
      "1 20 3.386606216430664 0.0422895004354\n",
      "1 21 3.4231293201446533 0.0417441098032\n",
      "1 22 3.451493978500366 0.0411089801392\n",
      "1 23 3.4898602962493896 0.041171400308\n",
      "1 24 3.537036895751953 0.0403982206153\n",
      "1 25 3.6088979244232178 0.0398102130533\n",
      "1 26 3.631723165512085 0.0398875948123\n",
      "1 27 2.8886616230010986 0.0398034898288\n",
      "1 28 3.732207775115967 0.0397560480201\n",
      "1 29 3.7075631618499756 0.0394672263838\n",
      "1 30 3.05108904838562 0.039588100623\n",
      "1 31 3.834345817565918 0.0389120664017\n",
      "1 32 3.879685401916504 0.0388522692939\n",
      "1 33 3.9189705848693848 0.0388507861621\n",
      "1 34 3.8986215591430664 0.038738564337\n",
      "1 35 3.9668798446655273 0.0385809255552\n",
      "1 36 4.03863263130188 0.0389073937018\n",
      "1 37 4.079497337341309 0.0384735788699\n",
      "1 38 4.131577253341675 0.0384659588819\n",
      "1 39 4.148276090621948 0.038622125377\n",
      "1 40 4.194551944732666 0.0387003855561\n",
      "1 41 4.238061904907227 0.0387882928865\n",
      "1 42 4.241615533828735 0.0383091135196\n",
      "1 43 4.29706597328186 0.0384862246845\n",
      "1 44 4.348925590515137 0.0386825745625\n",
      "1 45 3.613192319869995 0.0386403009846\n",
      "1 46 4.44410514831543 0.0385799999418\n",
      "1 47 3.7259011268615723 0.0387545802177\n",
      "1 48 4.491000413894653 0.0387130901313\n",
      "1 49 4.586059093475342 0.0381445585186\n",
      "2 12 3.7070353031158447 0.0379591390244\n",
      "2 13 3.803358316421509 0.0379798084369\n",
      "2 14 3.8598406314849854 0.0382250274867\n",
      "2 15 3.984957695007324 0.0388418651897\n",
      "2 16 4.104686975479126 0.0384674746505\n",
      "2 17 4.220142364501953 0.0385878184655\n",
      "2 18 4.2979466915130615 0.0383407691898\n",
      "2 19 4.385266304016113 0.0382926309013\n",
      "2 20 4.475281238555908 0.0380855036185\n",
      "2 21 4.51188850402832 0.0377626415055\n",
      "2 22 4.635089874267578 0.0372883528742\n",
      "2 23 4.258334398269653 0.0373247471149\n",
      "2 24 4.724879026412964 0.036697594663\n",
      "2 25 4.807650566101074 0.0366934675479\n",
      "2 26 4.167182683944702 0.0363464603355\n",
      "2 27 5.085635423660278 0.036712127752\n",
      "2 28 5.174046993255615 0.0365432410439\n",
      "2 29 5.281256914138794 0.0366778190399\n",
      "2 30 5.352508306503296 0.0360907980722\n",
      "2 31 5.430352210998535 0.0364591468396\n",
      "2 32 5.534074544906616 0.0363303904928\n",
      "2 33 5.647978067398071 0.0365649980715\n",
      "2 34 5.722433805465698 0.0362481239972\n",
      "2 35 5.844846963882446 0.0365227765024\n",
      "2 36 5.888343334197998 0.0362216486217\n",
      "2 37 5.155288457870483 0.036076127523\n",
      "2 38 6.049381494522095 0.0365245226454\n",
      "2 39 5.377722501754761 0.0362321468283\n",
      "2 40 6.1925742626190186 0.0365497307973\n",
      "2 41 6.393813610076904 0.0364795737339\n",
      "2 42 6.496490716934204 0.036756902148\n",
      "2 43 6.632193088531494 0.0369222218016\n",
      "2 44 6.683760166168213 0.0366179643386\n",
      "2 45 6.784948825836182 0.0367261400604\n",
      "2 46 6.8500025272369385 0.0368376922316\n",
      "2 47 6.184098243713379 0.0367836122673\n",
      "2 48 6.176808595657349 0.0368544538553\n",
      "2 49 6.365014314651489 0.0365329414309\n",
      "3 12 1.5329091548919678 0.0365012545066\n",
      "3 13 1.6615376472473145 0.0367204594368\n",
      "3 14 1.663287878036499 0.0369452215359\n",
      "3 15 1.6807920932769775 0.0370433708477\n",
      "3 16 1.6769185066223145 0.037111429759\n",
      "3 17 1.699580430984497 0.0371677424722\n",
      "3 18 1.696197748184204 0.0371605125226\n",
      "3 19 1.7238492965698242 0.0373172864311\n",
      "3 20 1.7339608669281006 0.0372815394001\n",
      "3 21 1.7447915077209473 0.0374110572344\n",
      "3 22 1.7521438598632812 0.0375001913782\n",
      "3 23 1.7449438571929932 0.0375640777832\n",
      "3 24 1.7695775032043457 0.0376735651633\n",
      "3 25 1.7720654010772705 0.0376859957149\n",
      "3 26 1.7760603427886963 0.0372989821234\n",
      "3 27 1.7884597778320312 0.0371017832961\n",
      "3 28 1.796274185180664 0.0371431103278\n",
      "3 29 1.8099024295806885 0.0370550426213\n",
      "3 30 1.8361365795135498 0.037092675368\n",
      "3 31 1.8169233798980713 0.0368569560122\n",
      "3 32 1.8196439743041992 0.0367712941246\n",
      "3 33 1.8387749195098877 0.0367921807324\n",
      "3 34 1.8514113426208496 0.036792260092\n",
      "3 35 1.8508656024932861 0.0368190936931\n",
      "3 36 1.862382411956787 0.0368583826708\n",
      "3 37 1.8754220008850098 0.0368737070317\n",
      "3 38 1.8805384635925293 0.0367805084879\n",
      "3 39 1.8851432800292969 0.036766293895\n",
      "3 40 1.8893818855285645 0.0367417792097\n",
      "3 41 1.8987550735473633 0.0368431247165\n",
      "3 42 1.9127655029296875 0.0368664736458\n",
      "3 43 1.936493158340454 0.0368912518364\n",
      "3 44 1.7926390171051025 0.0369129043287\n",
      "3 45 1.9524447917938232 0.0366441269637\n",
      "3 46 1.9602422714233398 0.0365281726787\n",
      "3 47 1.9672365188598633 0.0366315681679\n",
      "3 48 1.9733517169952393 0.0366597157071\n",
      "3 49 1.8088741302490234 0.0365999763847\n",
      "4 12 1.1131699085235596 0.0396139530602\n",
      "4 13 1.1132266521453857 0.0396245225197\n",
      "4 14 1.106342077255249 0.0398054084893\n",
      "4 15 1.1362802982330322 0.0398451448646\n",
      "4 16 1.1420190334320068 0.0398492525612\n",
      "4 17 1.1375489234924316 0.0398495866797\n",
      "4 18 1.1502423286437988 0.0397535679825\n",
      "4 19 1.1677074432373047 0.0399029260224\n",
      "4 20 1.1708970069885254 0.0402267318924\n",
      "4 21 1.188985824584961 0.0396822095127\n",
      "4 22 1.1929969787597656 0.0395254680614\n",
      "4 23 1.196056842803955 0.0394500549643\n",
      "4 24 1.2112770080566406 0.0383470453252\n",
      "4 25 1.2119646072387695 0.0383352637937\n",
      "4 26 1.2086739540100098 0.0383676854373\n",
      "4 27 1.235276699066162 0.0383203209729\n",
      "4 28 1.224121332168579 0.0383182302802\n",
      "4 29 1.2522106170654297 0.0384085623354\n",
      "4 30 1.247469186782837 0.0384060465244\n",
      "4 31 1.2407231330871582 0.0380993861976\n",
      "4 32 1.2791357040405273 0.0381000779254\n",
      "4 33 1.2727100849151611 0.0380845599367\n",
      "4 34 1.2821018695831299 0.0380785860372\n",
      "4 35 1.2831518650054932 0.0380751422809\n",
      "4 36 1.306103229522705 0.0380694004484\n",
      "4 37 1.306861162185669 0.0380578271867\n",
      "4 38 1.303056001663208 0.0379662823948\n",
      "4 39 1.3253870010375977 0.037980118584\n",
      "4 40 1.3089501857757568 0.0377261030338\n",
      "4 41 1.3460655212402344 0.0380887168731\n",
      "4 42 1.354339361190796 0.0380755560966\n",
      "4 43 1.3917298316955566 0.0380933553984\n",
      "4 44 1.3882436752319336 0.0381153881996\n",
      "4 45 1.3927762508392334 0.0378342394704\n",
      "4 46 1.3694944381713867 0.0381426004169\n",
      "4 47 1.416994333267212 0.0377303908238\n",
      "4 48 1.4172818660736084 0.0375106255852\n",
      "4 49 1.4177286624908447 0.0373326556506\n",
      "5 12 1.2113704681396484 0.0559387580002\n",
      "5 13 1.2435297966003418 0.0559950172241\n",
      "5 14 1.238119125366211 0.0566652076693\n",
      "5 15 1.2539474964141846 0.0567856207608\n",
      "5 16 1.2878236770629883 0.0577818649451\n",
      "5 17 1.3146498203277588 0.0575750940969\n",
      "5 18 1.3228180408477783 0.0578672253\n",
      "5 19 1.3432567119598389 0.0576138360369\n",
      "5 20 1.1562492847442627 0.0590131864985\n",
      "5 21 1.3867290019989014 0.0593470385644\n",
      "5 22 1.4262018203735352 0.0585498247217\n",
      "5 23 1.4022133350372314 0.0588969639131\n",
      "5 24 1.4108712673187256 0.0590822053658\n",
      "5 25 1.4554965496063232 0.0592218176205\n",
      "5 26 1.4582293033599854 0.058967848994\n",
      "5 27 1.483407974243164 0.0593231502236\n",
      "5 28 1.4976961612701416 0.0592294419049\n",
      "5 29 1.5205247402191162 0.0595278092883\n",
      "5 30 1.5549697875976562 0.0592418300749\n"
     ]
    },
    {
     "name": "stdout",
     "output_type": "stream",
     "text": [
      "5 31 1.572618007659912 0.0588375043001\n",
      "5 32 1.5785109996795654 0.059568040754\n",
      "5 33 1.6011929512023926 0.0593986341236\n",
      "5 34 1.601088047027588 0.0599407438294\n",
      "5 35 2.4089908599853516 0.0595347554012\n",
      "5 36 2.4055018424987793 0.0601335901016\n",
      "5 37 2.392737865447998 0.0603387625446\n",
      "5 38 2.4781479835510254 0.0601733268981\n",
      "5 39 2.4932706356048584 0.0602468249606\n",
      "5 40 2.516441583633423 0.0606662621187\n",
      "5 41 2.490370750427246 0.0612903201567\n",
      "5 42 2.5204527378082275 0.0616687042804\n",
      "5 43 2.5820610523223877 0.0617238988942\n",
      "5 44 2.5761632919311523 0.0617813850216\n",
      "5 45 2.5843217372894287 0.0624834001433\n",
      "5 46 2.6089296340942383 0.0624830453271\n",
      "5 47 2.618239164352417 0.0618106925011\n",
      "5 48 2.6347315311431885 0.0620373447313\n",
      "5 49 2.66113543510437 0.0620357765528\n",
      "6 12 1.8613669872283936 0.0388306105896\n",
      "6 13 1.8341479301452637 0.038868712922\n",
      "6 14 1.8744699954986572 0.0388764864889\n",
      "6 15 1.8759338855743408 0.0389169034853\n",
      "6 16 1.890728235244751 0.0389169034853\n",
      "6 17 1.8737378120422363 0.0389193532713\n",
      "6 18 1.8860900402069092 0.038783211156\n",
      "6 19 1.9095373153686523 0.0383246526685\n",
      "6 20 1.9086699485778809 0.0380477633239\n",
      "6 21 1.9439210891723633 0.0380210498593\n",
      "6 22 1.9467542171478271 0.0379901174509\n",
      "6 23 1.9469842910766602 0.0381043967703\n",
      "6 24 1.9456944465637207 0.0377172794467\n",
      "6 25 1.979067325592041 0.0376933965727\n",
      "6 26 1.9780099391937256 0.0376085454032\n",
      "6 27 1.9757943153381348 0.0375326932584\n",
      "6 28 1.9765236377716064 0.0375326828474\n",
      "6 29 2.0192365646362305 0.0376677689605\n",
      "6 30 2.0117342472076416 0.0376730393685\n",
      "6 31 2.029064655303955 0.0375810528504\n",
      "6 32 2.024233818054199 0.037708128989\n",
      "6 33 2.044863224029541 0.0376883723771\n",
      "6 34 2.0401744842529297 0.037701998269\n",
      "6 35 2.0201308727264404 0.0377106620963\n",
      "6 36 2.031571626663208 0.03769972596\n",
      "6 37 2.07979416847229 0.0377019623232\n",
      "6 38 2.0543861389160156 0.0376318299611\n",
      "6 39 2.0669517517089844 0.0376743419688\n",
      "6 40 2.0597543716430664 0.0375991799698\n",
      "6 41 2.0882809162139893 0.0378950068897\n",
      "6 42 1.5106031894683838 0.0378645503617\n",
      "6 43 2.130959987640381 0.037938859223\n",
      "6 44 2.1417617797851562 0.0379521270388\n",
      "6 45 2.135551929473877 0.0375591687905\n",
      "6 46 2.1501145362854004 0.0379925937378\n",
      "6 47 2.1533241271972656 0.0380334701588\n",
      "6 48 2.1405036449432373 0.0377813580189\n",
      "6 49 2.1887340545654297 0.0374096494569\n",
      "7 12 1.8058562278747559 0.0377196544813\n",
      "7 13 1.7492825984954834 0.0378873139885\n",
      "7 14 1.7059805393218994 0.0379868011201\n",
      "7 15 1.7737812995910645 0.146935278687\n",
      "7 16 1.8372697830200195 0.148877784216\n",
      "7 17 1.7947454452514648 0.16443329423\n",
      "7 18 1.8212058544158936 0.152253904867\n",
      "7 19 1.8374488353729248 0.152824097537\n",
      "7 20 1.7741930484771729 0.144111514841\n",
      "7 21 1.6377558708190918 0.145899681201\n",
      "7 22 1.8129603862762451 0.147967387174\n",
      "7 23 1.8426322937011719 0.150887582114\n",
      "7 24 1.8448681831359863 0.152904274966\n",
      "7 25 1.833862066268921 0.174502981472\n",
      "7 26 1.774263620376587 0.179268461809\n",
      "7 27 1.882575511932373 0.224038062646\n",
      "7 28 1.793398141860962 0.212095456731\n",
      "7 29 1.8698785305023193 0.934313825526\n",
      "7 30 1.850651502609253 1.05590828316\n",
      "7 31 1.8704850673675537 0.981378581455\n",
      "7 32 1.8525707721710205 0.950428310326\n",
      "7 33 1.8512110710144043 2.33583936717\n",
      "7 34 1.888812780380249 3.44004821237\n",
      "7 35 1.8894636631011963 2.78825941996\n",
      "7 36 1.8901801109313965 3.08259936704\n",
      "7 37 1.9197187423706055 3.31538521842\n",
      "7 38 1.7972979545593262 3.14808674099\n",
      "7 39 1.8883137702941895 2.92109135916\n",
      "7 40 1.8716039657592773 3.12926353237\n",
      "7 41 1.6435906887054443 3.13759963642\n",
      "7 42 1.4593760967254639 3.32397527322\n",
      "7 43 1.9036643505096436 3.17832578227\n",
      "7 44 1.9080443382263184 3.25491794863\n",
      "7 45 1.928229570388794 3.01763105705\n",
      "7 46 1.9395244121551514 2.79159068454\n",
      "7 47 1.9354221820831299 2.93498622403\n",
      "7 48 1.8658418655395508 2.60330123107\n",
      "7 49 1.9275398254394531 2.41717582757\n",
      "8 12 1.7917726039886475 0.157643682652\n",
      "8 13 1.7956550121307373 0.157414328019\n",
      "8 14 1.780505657196045 0.141521731722\n",
      "8 15 1.8082811832427979 0.14148967844\n",
      "8 16 1.8352975845336914 0.137017820073\n",
      "8 17 1.8048737049102783 0.129441699922\n",
      "8 18 1.8206591606140137 0.126962186123\n",
      "8 19 1.802445888519287 0.124774845189\n",
      "8 20 1.8382313251495361 0.125158948178\n",
      "8 21 1.8623967170715332 0.124765338598\n",
      "8 22 1.8242740631103516 0.124276802318\n",
      "8 23 1.8224802017211914 0.117438363097\n",
      "8 24 1.820136547088623 0.116079564975\n",
      "8 25 1.844686508178711 0.115825095628\n",
      "8 26 1.8527076244354248 0.109838053001\n",
      "8 27 1.8424086570739746 0.107894840117\n",
      "8 28 1.8738610744476318 0.106046051991\n",
      "8 29 1.866689920425415 0.102472184704\n",
      "8 30 1.8673105239868164 0.0978835938521\n",
      "8 31 1.8292598724365234 0.0951456470141\n",
      "8 32 1.839298963546753 0.0886907555867\n",
      "8 33 1.8849749565124512 0.0871440001774\n",
      "8 34 1.861957311630249 0.0829827772558\n",
      "8 35 1.8524596691131592 0.0822715326318\n",
      "8 36 1.2527751922607422 0.0822852031777\n",
      "8 37 1.7178471088409424 0.0809027498544\n",
      "8 38 1.8421525955200195 0.0770100996917\n",
      "8 39 1.8371365070343018 0.0761081265695\n",
      "8 40 1.8755779266357422 0.0733559798287\n",
      "8 41 1.8949000835418701 0.071131845951\n",
      "8 42 1.9208242893218994 0.0713266285542\n",
      "8 43 1.943347692489624 0.0707745191608\n",
      "8 44 1.87646484375 0.0700636844702\n",
      "8 45 1.9377961158752441 0.0700168147739\n",
      "8 46 1.8439064025878906 0.069242768489\n",
      "8 47 1.3362455368041992 0.0682962603645\n",
      "8 48 1.8102078437805176 0.0673005764221\n",
      "8 49 1.9268074035644531 0.0661583071897\n",
      "9 12 2.703286647796631 0.0378419193783\n",
      "9 13 2.6991467475891113 0.0379568261101\n",
      "9 14 2.7595596313476562 0.0382661419721\n",
      "9 15 2.7347970008850098 0.0382913143886\n",
      "9 16 2.9440205097198486 0.0382917092314\n",
      "9 17 2.9673008918762207 0.0382923014398\n",
      "9 18 3.211975336074829 0.0383341270018\n",
      "9 19 2.825056791305542 0.0385793808938\n",
      "9 20 3.100658416748047 0.0385663926828\n",
      "9 21 2.9167966842651367 0.0388500533966\n",
      "9 22 2.8536717891693115 0.0389954458378\n",
      "9 23 2.957340955734253 0.039162455225\n",
      "9 24 2.9458508491516113 0.0393809463711\n",
      "9 25 2.929429531097412 0.039361027552\n",
      "9 26 3.1412956714630127 0.0389657224491\n",
      "9 27 3.0449609756469727 0.038422341702\n",
      "9 28 3.0707414150238037 0.0386532611434\n",
      "9 29 3.079822063446045 0.0382130696049\n",
      "9 30 3.040347099304199 0.0384008906095\n",
      "9 31 3.2159368991851807 0.0381993503955\n",
      "9 32 3.0336761474609375 0.0384426268503\n",
      "9 33 3.004556894302368 0.0382898880863\n",
      "9 34 2.966946601867676 0.0381647433713\n",
      "9 35 3.0738120079040527 0.0381692861012\n",
      "9 36 3.081158399581909 0.0381711657508\n",
      "9 37 2.9669065475463867 0.0381741355986\n",
      "9 38 2.9914793968200684 0.0377383239865\n",
      "9 39 2.994619607925415 0.0376306364531\n",
      "9 40 3.013355255126953 0.0378150627832\n",
      "9 41 2.2513303756713867 0.0379557634747\n",
      "9 42 3.068652391433716 0.0380246978448\n",
      "9 43 3.043043613433838 0.0381076270022\n",
      "9 44 3.083862781524658 0.0382398983301\n",
      "9 45 2.962200403213501 0.0382701587689\n",
      "9 46 3.1111197471618652 0.0381463713347\n",
      "9 47 3.156287670135498 0.0383210532182\n",
      "9 48 3.1244301795959473 0.0386271118303\n",
      "9 49 3.1681761741638184 0.0380184807534\n",
      "best regressor 0 best cn 25 0.0360109032812\n"
     ]
    }
   ],
   "source": [
    "cur_time = time.time()\n",
    "best_cn = 0\n",
    "best_val_mse = 1\n",
    "best_regressor = None\n",
    "#regressor\n",
    "for i in range(10):\n",
    "    #cn\n",
    "    for j in range(12, 50):\n",
    "        mses = []\n",
    "        cn = j \n",
    "        pca = PCA(n_components=cn) \n",
    "        pca.fit(merged_X) \n",
    "        X_new = pca.transform(merged_X)\n",
    "        for k in range(cn):\n",
    "            col = X_new[:, k]\n",
    "            m = np.mean(col)\n",
    "            s = np.std(col)\n",
    "            col = (col-m)/s\n",
    "            maxv = np.max(col)\n",
    "            minv = np.min(col)\n",
    "            col = (col-minv)/(maxv-minv)\n",
    "            X_new[:, k] = col\n",
    "        trainX = X_new[:500]\n",
    "        test1X = X_new[500:600]\n",
    "        test2X = X_new[600:]\n",
    "        mses = []\n",
    "        #random state\n",
    "        for k in range(0, 100):\n",
    "            trX, vaX, tr_y, va_y = train_test_split(trainX, train_y, test_size=0.33, random_state=k)\n",
    "            regressor = Regressor(i)\n",
    "            regressor.fit(trX, tr_y)\n",
    "            va_p = regressor.predict(vaX)\n",
    "            mse = MSE_np(va_y, va_p)\n",
    "            mses.append(mse)\n",
    "        mse = np.mean(mses)\n",
    "        if mse < best_val_mse:\n",
    "            best_cn = j\n",
    "            best_regressor = i\n",
    "            best_val_mse = mse\n",
    "        print(i, j, time.time()-cur_time, mse)\n",
    "        cur_time = time.time()\n",
    "print(\"best regressor\", best_regressor, \"best cn\", best_cn, best_val_mse)"
   ]
  },
  {
   "cell_type": "code",
   "execution_count": null,
   "metadata": {
    "collapsed": true
   },
   "outputs": [],
   "source": []
  }
 ],
 "metadata": {
  "kernelspec": {
   "display_name": "Python 3",
   "language": "python",
   "name": "python3"
  },
  "language_info": {
   "codemirror_mode": {
    "name": "ipython",
    "version": 3
   },
   "file_extension": ".py",
   "mimetype": "text/x-python",
   "name": "python",
   "nbconvert_exporter": "python",
   "pygments_lexer": "ipython3",
   "version": "3.6.1"
  }
 },
 "nbformat": 4,
 "nbformat_minor": 2
}
