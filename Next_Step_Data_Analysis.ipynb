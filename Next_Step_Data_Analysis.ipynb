{
 "cells": [
  {
   "cell_type": "code",
   "execution_count": 68,
   "metadata": {
    "collapsed": true
   },
   "outputs": [],
   "source": [
    "import numpy as np\n",
    "import pandas as pd\n",
    "import pickle\n",
    "import matplotlib.pyplot as plt\n",
    "from sklearn.cross_validation import train_test_split"
   ]
  },
  {
   "cell_type": "code",
   "execution_count": 52,
   "metadata": {
    "collapsed": true
   },
   "outputs": [],
   "source": [
    "#read train and test data\n",
    "train_data = pd.read_excel('训练.xlsx')\n",
    "test_data_1 = pd.read_excel('测试A.xlsx')\n",
    "test_data_2 = pd.read_excel('测试B.xlsx')"
   ]
  },
  {
   "cell_type": "code",
   "execution_count": 71,
   "metadata": {
    "collapsed": true
   },
   "outputs": [],
   "source": [
    "train_nonnull = train_data.isnull().values\n",
    "test_nonnull_1 = test_data_1.isnull().values\n",
    "test_nonnull_2 = test_data_2.isnull().values\n",
    "train_X = train_data.values\n",
    "test_X_1 = test_data_1.values\n",
    "test_X_2 = test_data_2.values\n",
    "test_id_1 = test_X_1[:, 0]\n",
    "test_id_2 = test_X_2[:, 0]\n",
    "train_y = train_X[:, -1]\n",
    "train_X = train_X[:, 1:-1]\n",
    "test_X_1 = test_X_1[:, 1:]\n",
    "test_X_2 = test_X_2[:, 1:]"
   ]
  },
  {
   "cell_type": "code",
   "execution_count": 72,
   "metadata": {},
   "outputs": [
    {
     "data": {
      "text/plain": [
       "((500, 8027), (100, 8027), (121, 8027))"
      ]
     },
     "execution_count": 72,
     "metadata": {},
     "output_type": "execute_result"
    }
   ],
   "source": [
    "train_X.shape, test_X_1.shape, test_X_2.shape"
   ]
  },
  {
   "cell_type": "code",
   "execution_count": 73,
   "metadata": {},
   "outputs": [
    {
     "name": "stdout",
     "output_type": "stream",
     "text": [
      "(721, 8027) (721, 8027)\n"
     ]
    }
   ],
   "source": [
    "#Merge two data\n",
    "merged_X = np.concatenate((train_X, test_X_1, test_X_2), axis=0)\n",
    "merged_nn = np.concatenate((train_nonnull[:, 1:-1], test_nonnull_1[:, 1:], test_nonnull_2[:, 1:]), axis=0)\n",
    "print(merged_X.shape, merged_nn.shape)"
   ]
  },
  {
   "cell_type": "code",
   "execution_count": 74,
   "metadata": {
    "collapsed": true
   },
   "outputs": [],
   "source": [
    "#reverse nn\n",
    "def BoolReverse(columns):\n",
    "    tmpm = np.zeros(columns.shape)\n",
    "    tmpm[columns] = 1\n",
    "    return tmpm == 0\n",
    "\n",
    "merged_nn = BoolReverse(merged_nn)"
   ]
  },
  {
   "cell_type": "code",
   "execution_count": 75,
   "metadata": {},
   "outputs": [
    {
     "name": "stdout",
     "output_type": "stream",
     "text": [
      "62\n"
     ]
    }
   ],
   "source": [
    "# now find the values that has 0 value and delete such column\n",
    "first_delete_idxs = []\n",
    "for i in range(merged_X.shape[1]):\n",
    "    data = merged_X[:, i]\n",
    "    real = merged_nn[:, i]\n",
    "    rd = data[real]\n",
    "    if len(rd) == 0:\n",
    "        first_delete_idxs.append(i)\n",
    "    elif len(set(rd)) == 0:\n",
    "        first_delete_idxs.append(i)\n",
    "print(len(first_delete_idxs))"
   ]
  },
  {
   "cell_type": "code",
   "execution_count": 76,
   "metadata": {},
   "outputs": [
    {
     "name": "stdout",
     "output_type": "stream",
     "text": [
      "(721, 8027)\n",
      "(721, 7965)\n"
     ]
    }
   ],
   "source": [
    "print(merged_X.shape)\n",
    "merged_X = np.delete(merged_X, first_delete_idxs, axis=1)\n",
    "print(merged_X.shape)"
   ]
  },
  {
   "cell_type": "code",
   "execution_count": 77,
   "metadata": {},
   "outputs": [
    {
     "name": "stdout",
     "output_type": "stream",
     "text": [
      "(721, 8027)\n",
      "(721, 7965)\n"
     ]
    }
   ],
   "source": [
    "print(merged_nn.shape)\n",
    "merged_nn = np.delete(merged_nn, first_delete_idxs, axis=1)\n",
    "print(merged_nn.shape)"
   ]
  },
  {
   "cell_type": "code",
   "execution_count": 78,
   "metadata": {},
   "outputs": [
    {
     "name": "stdout",
     "output_type": "stream",
     "text": [
      "1007\n"
     ]
    }
   ],
   "source": [
    "#now find the columns that has only one value\n",
    "only_one_values = 0\n",
    "for i in range(merged_X.shape[1]):\n",
    "    data = merged_X[:, i]\n",
    "    real = merged_nn[:, i]\n",
    "    rd = data[real]\n",
    "    if len(set(rd)) == 1:\n",
    "        merged_X[:, i] = 1.0\n",
    "        merged_nn[:, i] = True\n",
    "        only_one_values += 1\n",
    "print(only_one_values)"
   ]
  },
  {
   "cell_type": "code",
   "execution_count": 79,
   "metadata": {
    "collapsed": true
   },
   "outputs": [],
   "source": [
    "def dict2list(dic):\n",
    "    keys = dic.keys()\n",
    "    vals = dic.values()\n",
    "    lst = [(key, val) for key, val in zip(keys, vals)]\n",
    "    return lst\n",
    "\n",
    "# input one array and return the most frequent one\n",
    "def MostFrequentOne(column):\n",
    "    itemfreq = {}\n",
    "    for i in column:\n",
    "        if i not in itemfreq:\n",
    "            itemfreq[i] = 1\n",
    "        else:\n",
    "            itemfreq[i] += 1\n",
    "    tmp_dict = sorted(dict2list(itemfreq), key=lambda d:d[1], reverse=True)\n",
    "    return tmp_dict[0][0]"
   ]
  },
  {
   "cell_type": "code",
   "execution_count": 80,
   "metadata": {
    "collapsed": true
   },
   "outputs": [],
   "source": [
    "# one_hot to map str to int\n",
    "def OneHot_Str(column, retdict = 0):\n",
    "    syms = set(column)\n",
    "    sim = {}\n",
    "    count = 0\n",
    "    for s in syms:\n",
    "        sim[s] = count\n",
    "        count += 1\n",
    "    cl = len(column)\n",
    "    retoh = np.zeros((cl, count))\n",
    "    for i in range(cl):\n",
    "        s = column[i]\n",
    "        mi = sim[s]\n",
    "        retoh[i, mi] = 1.0\n",
    "    if retdict == 0:\n",
    "        return retoh\n",
    "    else:\n",
    "        return retoh, sim"
   ]
  },
  {
   "cell_type": "code",
   "execution_count": 81,
   "metadata": {},
   "outputs": [
    {
     "name": "stdout",
     "output_type": "stream",
     "text": [
      "10\n",
      "(721, 7999)\n",
      "(721, 6928)\n",
      "1061\n"
     ]
    }
   ],
   "source": [
    "#now fix the remain data\n",
    "#if the values in data has one value that is string, then one_hot it, else normalize it\n",
    "stridxs = []\n",
    "intidxs = []\n",
    "types = []\n",
    "for i in range(merged_X.shape[1]):\n",
    "    data = merged_X[:, i]\n",
    "    real = merged_nn[:, i]\n",
    "    rd = data[real]\n",
    "    #if len(data) == len(rd) and np.mean(data) == 1.0:\n",
    "    #    continue\n",
    "    isstr = False\n",
    "    for j in range(len(rd)):\n",
    "        x = rd[j]\n",
    "        sx = str(type(x))\n",
    "        if 'str' in sx:\n",
    "            isstr = True\n",
    "            break\n",
    "    if isstr:\n",
    "        stridxs.append(i)\n",
    "        types.append('str')\n",
    "        # fix null and one_hot it\n",
    "        if len(rd) < len(data):\n",
    "            mfc = MostFrequentOne(rd)\n",
    "            rn = BoolReverse(real)\n",
    "            data[rn] = mfc\n",
    "        onehots = OneHot_Str(data)\n",
    "        merged_X = np.concatenate((merged_X, onehots), axis=1)\n",
    "    else:\n",
    "        if 'int' in str(type(rd[0])):\n",
    "            intidxs.append(i)\n",
    "            types.append('int')\n",
    "        else:\n",
    "            types.append('float')\n",
    "        \n",
    "        if len(rd) < len(data):\n",
    "            if len(set(data)) == 1:\n",
    "                continue\n",
    "            rn = BoolReverse(real)\n",
    "            data[rn] = np.mean(rd)\n",
    "            mean = np.mean(data)\n",
    "            std = np.std(data)\n",
    "            data = (data-mean)/std\n",
    "            merged_X[:, i] = data\n",
    "        \n",
    "# delete the string columns and len_two columns\n",
    "print(len(stridxs))\n",
    "print(merged_X.shape)\n",
    "stridxs += intidxs\n",
    "merged_X = np.delete(merged_X, stridxs, axis=1)\n",
    "print(merged_X.shape)\n",
    "print(len(intidxs))"
   ]
  },
  {
   "cell_type": "code",
   "execution_count": 50,
   "metadata": {},
   "outputs": [
    {
     "name": "stdout",
     "output_type": "stream",
     "text": [
      "{0, 1, 2}\n",
      "{0, 2, 3}\n",
      "{9969, 9994, 9999}\n",
      "{9969, 9994, 9999}\n",
      "{0, 1, 3}\n",
      "{1, 2, 3}\n",
      "{0, 1, 2}\n",
      "{8, 13, 15}\n",
      "{120, 118, 119}\n",
      "{120, 118, 119}\n",
      "{120, 118, 119}\n",
      "{120, 121, 119}\n",
      "{120, 118, 119}\n",
      "{120, 121, 119}\n",
      "{120, 118, 119}\n",
      "{0, 1, 2}\n",
      "{120, 118, 119}\n",
      "{120, 121, 119}\n",
      "{102, 91, 94}\n",
      "{4000, 4010, 4020}\n",
      "{4000, 4010, 4020}\n",
      "{4000, 4010, 4020}\n",
      "{1130, 1123, 1127}\n",
      "{483, 486, 479}\n",
      "{147, 140, 143}\n",
      "{1001, 1004, 997}\n",
      "{1120, 1123, 1116}\n",
      "{472, 476, 479}\n",
      "{136, 140, 133}\n",
      "{1001, 994, 997}\n",
      "{448, 449, 30}\n",
      "{376, 374, 375}\n",
      "{370, 372, 374}\n",
      "{0, -4, -2}\n",
      "{3, 4, 5}\n",
      "{5, 6, 7}\n",
      "{12000, 18000, 17999}\n",
      "{0, 2, 4}\n",
      "{0, 1, -2}\n",
      "{0, -4, -2}\n",
      "{1193, 1197, 1190}\n",
      "{0, 1, 3}\n",
      "{99, 101, 78}\n",
      "{120, 114, 118}\n",
      "{97, 90, 100}\n",
      "{81, 92, 77}\n",
      "{99, 101, 78}\n",
      "{97, 90, 100}\n",
      "{81, 92, 79}\n",
      "{3000, 3010, 3020}\n",
      "{3000, 3010, 3020}\n",
      "{1200, 1202, 1204}\n",
      "{0, 2, -2}\n",
      "{0, 2, -2}\n",
      "{0, 2, -2}\n",
      "{0, -4, -2}\n",
      "{0, -4, -2}\n",
      "{400, 402, 405}\n",
      "{800, 802, 805}\n",
      "{602, 605, 598}\n",
      "{595, 598, 591}\n",
      "{1193, 1197, 1190}\n",
      "{0, 1, -1}\n",
      "{0, 1, -1}\n",
      "{0, -3, -1}\n",
      "{0, -3, -1}\n",
      "{112, 113, 111}\n",
      "{112, 113, 111}\n",
      "{112, 110, 111}\n",
      "{112, 113, 111}\n",
      "{370, 366, 367}\n",
      "{99, 100, 101}\n",
      "{99, 100, 101}\n",
      "{99, 100, 101}\n",
      "2 143\n",
      "3 74\n",
      "4 69\n",
      "5 30\n",
      "6 26\n",
      "7 18\n",
      "8 14\n",
      "9 19\n",
      "10 17\n",
      "11 9\n",
      "12 10\n",
      "13 11\n",
      "14 16\n",
      "15 13\n",
      "16 15\n",
      "17 5\n",
      "18 2\n",
      "19 5\n",
      "20 5\n",
      "21 6\n",
      "22 10\n",
      "23 11\n",
      "24 17\n",
      "25 2\n",
      "26 35\n",
      "27 1\n",
      "30 3\n",
      "31 1\n",
      "32 2\n",
      "33 5\n",
      "34 1\n",
      "35 2\n",
      "36 2\n",
      "37 1\n",
      "38 4\n",
      "39 6\n",
      "40 5\n",
      "41 3\n",
      "42 1\n",
      "43 3\n",
      "44 7\n",
      "45 4\n",
      "46 3\n",
      "47 2\n",
      "48 6\n",
      "49 1\n",
      "50 3\n",
      "51 4\n",
      "52 5\n",
      "53 10\n",
      "54 2\n",
      "55 2\n",
      "56 1\n",
      "57 8\n",
      "58 9\n",
      "59 2\n",
      "60 20\n",
      "61 11\n",
      "62 2\n",
      "63 6\n",
      "64 20\n",
      "65 7\n",
      "66 1\n",
      "67 2\n",
      "68 3\n",
      "69 2\n",
      "70 2\n",
      "71 4\n",
      "74 2\n",
      "76 1\n",
      "78 1\n",
      "80 3\n",
      "81 1\n",
      "82 2\n",
      "83 2\n",
      "84 1\n",
      "85 3\n",
      "88 1\n",
      "90 1\n",
      "91 2\n",
      "92 1\n",
      "93 1\n",
      "94 1\n",
      "96 1\n",
      "100 3\n",
      "101 2\n",
      "103 2\n",
      "105 1\n",
      "108 1\n",
      "109 1\n",
      "110 1\n",
      "114 1\n",
      "116 1\n",
      "118 1\n",
      "120 1\n",
      "121 1\n",
      "123 3\n",
      "125 1\n",
      "129 1\n",
      "131 1\n",
      "134 2\n",
      "135 2\n",
      "136 2\n",
      "138 2\n",
      "140 3\n",
      "148 2\n",
      "150 2\n",
      "155 1\n",
      "156 1\n",
      "157 1\n",
      "158 3\n",
      "159 2\n",
      "160 2\n",
      "162 1\n",
      "164 1\n",
      "165 2\n",
      "166 3\n",
      "167 2\n",
      "168 1\n",
      "170 2\n",
      "172 1\n",
      "174 2\n",
      "178 1\n",
      "182 1\n",
      "186 1\n",
      "191 1\n",
      "193 1\n",
      "194 2\n",
      "207 1\n",
      "209 1\n",
      "210 2\n",
      "211 1\n",
      "214 3\n",
      "216 1\n",
      "218 2\n",
      "220 1\n",
      "223 1\n",
      "228 1\n",
      "246 1\n",
      "254 1\n",
      "256 1\n",
      "258 1\n",
      "259 2\n",
      "260 1\n",
      "261 1\n",
      "286 1\n",
      "301 1\n",
      "313 7\n",
      "328 1\n",
      "357 2\n",
      "369 1\n",
      "417 1\n",
      "447 1\n",
      "457 5\n",
      "463 1\n",
      "472 1\n",
      "483 1\n",
      "491 1\n",
      "514 1\n",
      "523 1\n",
      "536 3\n",
      "537 1\n",
      "538 1\n",
      "539 1\n",
      "541 2\n",
      "543 5\n",
      "546 2\n",
      "547 3\n",
      "548 1\n",
      "551 5\n",
      "553 4\n",
      "554 1\n",
      "556 2\n",
      "557 2\n",
      "558 2\n",
      "559 1\n",
      "560 3\n",
      "561 2\n",
      "572 2\n",
      "573 3\n",
      "683 1\n",
      "703 2\n",
      "707 2\n",
      "708 1\n",
      "711 3\n",
      "715 4\n",
      "716 9\n",
      "717 4\n",
      "719 4\n",
      "720 65\n",
      "721 8\n",
      "39276\n"
     ]
    }
   ],
   "source": [
    "intnums = {}\n",
    "for i in intidxs:\n",
    "    data = merged_X[:, i]\n",
    "    real = merged_nn[:, i]\n",
    "    rd = data[real]\n",
    "    ns = len(set(rd))\n",
    "    #print(set(rd))\n",
    "    if ns == 3:\n",
    "        print(set(rd))\n",
    "    if ns not in intnums:\n",
    "        intnums[ns] = 1\n",
    "    else:\n",
    "        intnums[ns] += 1\n",
    "keys = np.sort(list(intnums.keys()))\n",
    "#print(keys)\n",
    "sums = 0\n",
    "for k in keys:\n",
    "    print(k, intnums[k])\n",
    "    sums += k\n",
    "print(sums)"
   ]
  },
  {
   "cell_type": "code",
   "execution_count": 65,
   "metadata": {},
   "outputs": [
    {
     "name": "stderr",
     "output_type": "stream",
     "text": [
      "/home/magnusterra/anaconda3/lib/python3.6/site-packages/sklearn/cross_validation.py:41: DeprecationWarning: This module was deprecated in version 0.18 in favor of the model_selection module into which all the refactored classes and functions are moved. Also note that the interface of the new CV iterators are different from that of this module. This module will be removed in 0.20.\n",
      "  \"This module will be removed in 0.20.\", DeprecationWarning)\n"
     ]
    }
   ],
   "source": [
    "import xgboost as xgb\n",
    "from xgboost import plot_importance"
   ]
  },
  {
   "cell_type": "code",
   "execution_count": 66,
   "metadata": {
    "collapsed": true
   },
   "outputs": [],
   "source": [
    "params={\n",
    "    'eta': 0.1,\n",
    "    'max_depth':5,   \n",
    "    'min_child_weight':3,\n",
    "    'gamma':0.1, \n",
    "    'lambda':3,\n",
    "    'subsample':0.7,\n",
    "    'colsample_bytree':0.7,\n",
    "    'booster':'gbtree',\n",
    "    'objective': 'reg:gamma',\n",
    "    'nthread':4,\n",
    "    #'scale_pos_weight': 1,\n",
    "    'seed':1000,\n",
    "    'silent':1 ,\n",
    "    #'eval_metric': 'auc'\n",
    "}"
   ]
  },
  {
   "cell_type": "code",
   "execution_count": 82,
   "metadata": {},
   "outputs": [],
   "source": [
    "trX, vaX, tr_y, va_y = train_test_split(merged_X[:500], train_y, test_size=0.2, random_state=50)"
   ]
  },
  {
   "cell_type": "code",
   "execution_count": 83,
   "metadata": {},
   "outputs": [],
   "source": [
    "dtrain = xgb.DMatrix(trX, tr_y)\n",
    "num_rounds = 400\n",
    "plst = params.items()\n",
    "model = xgb.train(plst, dtrain, num_rounds)"
   ]
  },
  {
   "cell_type": "code",
   "execution_count": 84,
   "metadata": {
    "collapsed": true
   },
   "outputs": [],
   "source": [
    "dtest = xgb.DMatrix(vaX)\n",
    "ans = model.predict(dtest)"
   ]
  },
  {
   "cell_type": "code",
   "execution_count": 85,
   "metadata": {
    "collapsed": true
   },
   "outputs": [],
   "source": [
    "#Regression by machinr learn\n",
    "def MSE_np(y, y_pred):\n",
    "    return np.mean(np.square(y-y_pred))"
   ]
  },
  {
   "cell_type": "code",
   "execution_count": 86,
   "metadata": {},
   "outputs": [
    {
     "name": "stdout",
     "output_type": "stream",
     "text": [
      "0.03961982692299999\n"
     ]
    }
   ],
   "source": [
    "print(MSE_np(ans, va_y))"
   ]
  },
  {
   "cell_type": "code",
   "execution_count": 87,
   "metadata": {},
   "outputs": [
    {
     "data": {
      "image/png": "[encoded data removed]",
      "text/plain": [
       "<matplotlib.figure.Figure at 0x7fe6af5522b0>"
      ]
     },
     "metadata": {},
     "output_type": "display_data"
    }
   ],
   "source": [
    "plot_importance(model)\n",
    "plt.show()"
   ]
  },
  {
   "cell_type": "code",
   "execution_count": 88,
   "metadata": {},
   "outputs": [
    {
     "name": "stdout",
     "output_type": "stream",
     "text": [
      "0.029100139888246303\n"
     ]
    }
   ],
   "source": [
    "dtrain = xgb.DMatrix(merged_X[:500], train_y)\n",
    "num_rounds = 400\n",
    "plst = params.items()\n",
    "model = xgb.train(plst, dtrain, num_rounds)\n",
    "ta = model.predict(dtrain)\n",
    "print(MSE_np(ta, train_y))\n",
    "dtest = xgb.DMatrix(merged_X[500:600])\n",
    "test1_pred = model.predict(dtest)\n",
    "test1_pred = test1_pred.reshape(100)\n",
    "save = pd.DataFrame({'ID':test_id_1, 'value':test1_pred})\n",
    "save.to_csv('answer.csv', index=False, header=False)"
   ]
  },
  {
   "cell_type": "code",
   "execution_count": null,
   "metadata": {
    "collapsed": true
   },
   "outputs": [],
   "source": []
  }
 ],
 "metadata": {
  "kernelspec": {
   "display_name": "Python 3",
   "language": "python",
   "name": "python3"
  },
  "language_info": {
   "codemirror_mode": {
    "name": "ipython",
    "version": 3
   },
   "file_extension": ".py",
   "mimetype": "text/x-python",
   "name": "python",
   "nbconvert_exporter": "python",
   "pygments_lexer": "ipython3",
   "version": "3.6.1"
  }
 },
 "nbformat": 4,
 "nbformat_minor": 2
}
