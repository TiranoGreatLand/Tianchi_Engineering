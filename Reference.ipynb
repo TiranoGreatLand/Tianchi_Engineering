{
 "cells": [
  {
   "cell_type": "code",
   "execution_count": 1,
   "metadata": {
    "collapsed": true
   },
   "outputs": [],
   "source": [
    "import numpy as np\n",
    "import pandas as pd\n",
    "import xlrd\n",
    "from tqdm import tqdm\n",
    "from sklearn.linear_model import LinearRegression\n",
    "from sklearn import preprocessing\n"
   ]
  },
  {
   "cell_type": "code",
   "execution_count": 3,
   "metadata": {},
   "outputs": [],
   "source": [
    "#### calculate miss values\n",
    "def col_miss(train_df):\n",
    "    col_missing_df = train_df.isnull().sum(axis=0).reset_index()\n",
    "    col_missing_df.columns = ['col','missing_count']\n",
    "    col_missing_df = col_missing_df.sort_values(by='missing_count')\n",
    "    return col_missing_df\n",
    "\n",
    "#### obtain cols of XX type\n",
    "def obtain_x(train_df,xtype):\n",
    "    dtype_df = train_df.dtypes.reset_index()\n",
    "    dtype_df.columns = ['col','type']\n",
    "    return dtype_df[dtype_df.type==xtype].col.values\n",
    "\n",
    "def date_cols(train_df,float_col):\n",
    "    float_date_col = []\n",
    "    for col in float_col:\n",
    "        if train_df[col].min() > 1e13:\n",
    "            float_date_col.append(col)\n",
    "    return float_date_col\n",
    "\n",
    "def float_uniq(float_df,float_col):\n",
    "    float_uniq_col = []\n",
    "    for col in tqdm(float_col):\n",
    "        uniq = float_df[col].unique()\n",
    "        if len(uniq) == 1:\n",
    "            float_uniq_col.append(col)\n",
    "    return float_uniq_col\n",
    "\n",
    "def cal_corrcoef(float_df,y_train,float_col):\n",
    "    corr_values = []\n",
    "    for col in float_col:\n",
    "        corr_values.append(abs(np.corrcoef(float_df[col].values,y_train)\\\n",
    "                [0,1]))\n",
    "    corr_df = pd.DataFrame({'col':float_col,'corr_value':corr_values})\n",
    "    corr_df = corr_df.sort_values(by='corr_value',ascending=False)\n",
    "    return corr_df\n",
    "\n",
    "def build_model(x_train,y_train):\n",
    "    reg_model = LinearRegression()\n",
    "    reg_model.fit(x_train,y_train)\n",
    "    return reg_model"
   ]
  },
  {
   "cell_type": "code",
   "execution_count": 4,
   "metadata": {
    "collapsed": true
   },
   "outputs": [],
   "source": [
    "train_df = pd.read_excel(\"训练.xlsx\")\n",
    "test1_df = pd.read_excel(\"测试A.xlsx\")\n",
    "test2_df = pd.read_excel(\"测试B.xlsx\")"
   ]
  },
  {
   "cell_type": "code",
   "execution_count": 5,
   "metadata": {
    "collapsed": true
   },
   "outputs": [],
   "source": [
    "col_missing_df = col_miss(train_df)"
   ]
  },
  {
   "cell_type": "code",
   "execution_count": 10,
   "metadata": {},
   "outputs": [],
   "source": [
    "all_nan_columns = col_missing_df[col_missing_df.missing_count==500].col.values"
   ]
  },
  {
   "cell_type": "code",
   "execution_count": 11,
   "metadata": {},
   "outputs": [
    {
     "name": "stdout",
     "output_type": "stream",
     "text": [
      "number of all nan col: 62\n"
     ]
    }
   ],
   "source": [
    "print('number of all nan col:',len(all_nan_columns))"
   ]
  },
  {
   "cell_type": "code",
   "execution_count": 12,
   "metadata": {},
   "outputs": [
    {
     "name": "stdout",
     "output_type": "stream",
     "text": [
      "deleted,and train shape: (500, 7967)\n"
     ]
    }
   ],
   "source": [
    "train_df.drop(all_nan_columns,axis=1,inplace=True)\n",
    "print('deleted,and train shape:', train_df.shape)"
   ]
  },
  {
   "cell_type": "code",
   "execution_count": 13,
   "metadata": {},
   "outputs": [
    {
     "name": "stdout",
     "output_type": "stream",
     "text": [
      "obtained float cols, and count: 6217\n"
     ]
    }
   ],
   "source": [
    "float64_col = obtain_x(train_df,'float64')\n",
    "print('obtained float cols, and count:',len(float64_col))"
   ]
  },
  {
   "cell_type": "code",
   "execution_count": 14,
   "metadata": {},
   "outputs": [
    {
     "data": {
      "text/plain": [
       "array(['210X1', '210X2', '210X3', ..., '750X1451', '750X1452', 'Y'], dtype=object)"
      ]
     },
     "execution_count": 14,
     "metadata": {},
     "output_type": "execute_result"
    }
   ],
   "source": [
    "float64_col"
   ]
  },
  {
   "cell_type": "code",
   "execution_count": 16,
   "metadata": {},
   "outputs": [],
   "source": [
    "miss_float = train_df[float64_col].isnull().sum(axis=0).reset_index()\n",
    "miss_float.columns = ['col','count']\n",
    "miss_float_almost = miss_float[miss_float['count']>200].col.values\n",
    "float64_col = float64_col.tolist()\n",
    "float64_col = [col for col in float64_col if col not in miss_float_almost]"
   ]
  },
  {
   "cell_type": "code",
   "execution_count": 21,
   "metadata": {},
   "outputs": [
    {
     "name": "stdout",
     "output_type": "stream",
     "text": [
      "deleted cols that miss number > 200\n",
      "get float cols data and fill nan...\n"
     ]
    },
    {
     "name": "stderr",
     "output_type": "stream",
     "text": [
      "/home/magnusterra/anaconda3/lib/python3.6/site-packages/pandas/core/generic.py:3549: SettingWithCopyWarning: \n",
      "A value is trying to be set on a copy of a slice from a DataFrame\n",
      "\n",
      "See the caveats in the documentation: http://pandas.pydata.org/pandas-docs/stable/indexing.html#indexing-view-versus-copy\n",
      "  self._update_inplace(new_data)\n"
     ]
    },
    {
     "name": "stdout",
     "output_type": "stream",
     "text": [
      "(500, 6080)\n"
     ]
    }
   ],
   "source": [
    "print('deleted cols that miss number > 200')\n",
    "print('get float cols data and fill nan...')\n",
    "float_df = train_df[float64_col]\n",
    "float_df.fillna(float_df.median(),inplace=True)\n",
    "print(float_df.shape)"
   ]
  },
  {
   "cell_type": "code",
   "execution_count": 22,
   "metadata": {},
   "outputs": [
    {
     "name": "stderr",
     "output_type": "stream",
     "text": [
      "100%|██████████| 6080/6080 [00:00<00:00, 20746.84it/s]"
     ]
    },
    {
     "name": "stdout",
     "output_type": "stream",
     "text": [
      "deleted unique cols, and float cols count: 5785\n"
     ]
    },
    {
     "name": "stderr",
     "output_type": "stream",
     "text": [
      "\n"
     ]
    }
   ],
   "source": [
    "float64_uniq_col = float_uniq(float_df,float64_col)\n",
    "float64_col = [col for col in float64_col if col not in float64_uniq_col]\n",
    "print('deleted unique cols, and float cols count:',len(float64_col))\n",
    "# obtained corrcoef greater than 0.2\n",
    "float64_col.remove('Y')\n",
    "y_train = train_df.Y.values"
   ]
  },
  {
   "cell_type": "code",
   "execution_count": 33,
   "metadata": {
    "collapsed": true
   },
   "outputs": [],
   "source": [
    "corr_df = cal_corrcoef(float_df,y_train,float64_col)"
   ]
  },
  {
   "cell_type": "code",
   "execution_count": 25,
   "metadata": {},
   "outputs": [],
   "source": [
    "import matplotlib.pyplot as plt"
   ]
  },
  {
   "cell_type": "code",
   "execution_count": 34,
   "metadata": {},
   "outputs": [
    {
     "data": {
      "text/plain": [
       "array([['310X153', 0.3083392764946273],\n",
       "       ['310X164', 0.2721469664000285],\n",
       "       ['310X44', 0.26974087236653427],\n",
       "       ..., \n",
       "       ['312X766', 6.549727346437295e-05],\n",
       "       ['220X168', 4.7699302550335566e-05],\n",
       "       ['220X170', 7.450397509198663e-06]], dtype=object)"
      ]
     },
     "execution_count": 34,
     "metadata": {},
     "output_type": "execute_result"
    }
   ],
   "source": [
    "corr_df.values"
   ]
  },
  {
   "cell_type": "code",
   "execution_count": 36,
   "metadata": {},
   "outputs": [
    {
     "data": {
      "image/png": "[encoded data removed]",
      "text/plain": [
       "<matplotlib.figure.Figure at 0x7fa8395995c0>"
      ]
     },
     "metadata": {},
     "output_type": "display_data"
    }
   ],
   "source": [
    "plt.plot(np.arange(len(corr_df.values)),100*corr_df.values[:, 1])\n",
    "plt.show()"
   ]
  },
  {
   "cell_type": "code",
   "execution_count": 108,
   "metadata": {},
   "outputs": [
    {
     "name": "stdout",
     "output_type": "stream",
     "text": [
      "get x_train\n",
      "173\n"
     ]
    }
   ],
   "source": [
    "corr02 = corr_df[corr_df.corr_value>=0.2]\n",
    "corr02_col = corr02['col'].values.tolist()\n",
    "print('get x_train')\n",
    "print(len(corr02_col))"
   ]
  },
  {
   "cell_type": "code",
   "execution_count": 109,
   "metadata": {
    "collapsed": true
   },
   "outputs": [],
   "source": [
    "x_train = float_df[corr02_col].values"
   ]
  },
  {
   "cell_type": "code",
   "execution_count": 110,
   "metadata": {},
   "outputs": [
    {
     "name": "stderr",
     "output_type": "stream",
     "text": [
      "/home/magnusterra/anaconda3/lib/python3.6/site-packages/pandas/core/generic.py:3549: SettingWithCopyWarning: \n",
      "A value is trying to be set on a copy of a slice from a DataFrame\n",
      "\n",
      "See the caveats in the documentation: http://pandas.pydata.org/pandas-docs/stable/indexing.html#indexing-view-versus-copy\n",
      "  self._update_inplace(new_data)\n"
     ]
    },
    {
     "name": "stdout",
     "output_type": "stream",
     "text": [
      "x_train shape: (500, 173)\n",
      "x_test shape: (100, 173)\n"
     ]
    }
   ],
   "source": [
    "sub_test = test1_df[corr02_col]\n",
    "sub_test.fillna(sub_test.median(),inplace=True)\n",
    "x_test = sub_test.values\n",
    "print('x_train shape:',x_train.shape)\n",
    "print('x_test shape:',x_test.shape)"
   ]
  },
  {
   "cell_type": "code",
   "execution_count": 111,
   "metadata": {},
   "outputs": [],
   "source": [
    "X = np.vstack((x_train,x_test))\n",
    "X = preprocessing.scale(X)\n",
    "x_train = X[0:len(x_train)]\n",
    "x_test = X[len(x_train):]"
   ]
  },
  {
   "cell_type": "code",
   "execution_count": 47,
   "metadata": {},
   "outputs": [],
   "source": [
    "from xgboost import XGBRegressor\n",
    "from sklearn.cross_validation import train_test_split\n",
    "from sklearn.model_selection import cross_val_score"
   ]
  },
  {
   "cell_type": "code",
   "execution_count": 112,
   "metadata": {},
   "outputs": [],
   "source": [
    "trX, vaX, tr_y, va_y = train_test_split(x_train, y_train, test_size=0.2, random_state=6)"
   ]
  },
  {
   "cell_type": "code",
   "execution_count": 103,
   "metadata": {
    "collapsed": true
   },
   "outputs": [],
   "source": [
    "#Regression by machinr learn\n",
    "def MSE_np(y, y_pred):\n",
    "    return np.mean(np.square(y-y_pred))"
   ]
  },
  {
   "cell_type": "code",
   "execution_count": 113,
   "metadata": {},
   "outputs": [],
   "source": [
    "params = [1,2,3,4,5,6]\n",
    "test_scores = []\n",
    "for param in params:\n",
    "    clf = XGBRegressor(max_depth=param)\n",
    "    test_score = np.sqrt(-cross_val_score(clf, trX, tr_y, cv=10, scoring='neg_mean_squared_error'))\n",
    "    test_scores.append(np.mean(test_score))"
   ]
  },
  {
   "cell_type": "code",
   "execution_count": 114,
   "metadata": {},
   "outputs": [
    {
     "data": {
      "image/png": "[encoded data removed]",
      "text/plain": [
       "<matplotlib.figure.Figure at 0x7fa839a2feb8>"
      ]
     },
     "metadata": {},
     "output_type": "display_data"
    }
   ],
   "source": [
    "%matplotlib inline\n",
    "plt.plot(params, test_scores)\n",
    "plt.title(\"n_estimator vs CV Error\");"
   ]
  },
  {
   "cell_type": "code",
   "execution_count": 115,
   "metadata": {
    "collapsed": true
   },
   "outputs": [],
   "source": [
    "model = XGBRegressor(max_depth=2)"
   ]
  },
  {
   "cell_type": "code",
   "execution_count": 116,
   "metadata": {},
   "outputs": [
    {
     "name": "stdout",
     "output_type": "stream",
     "text": [
      "0.0299394232334\n"
     ]
    }
   ],
   "source": [
    "model.fit(trX, tr_y)\n",
    "vap = model.predict(vaX)\n",
    "print(MSE_np(vap, va_y))"
   ]
  },
  {
   "cell_type": "code",
   "execution_count": 82,
   "metadata": {},
   "outputs": [
    {
     "data": {
      "text/plain": [
       "XGBRegressor(base_score=0.5, colsample_bylevel=1, colsample_bytree=1, gamma=0,\n",
       "       learning_rate=0.1, max_delta_step=0, max_depth=2,\n",
       "       min_child_weight=1, missing=None, n_estimators=100, nthread=-1,\n",
       "       objective='reg:linear', reg_alpha=0, reg_lambda=1,\n",
       "       scale_pos_weight=1, seed=0, silent=True, subsample=1)"
      ]
     },
     "execution_count": 82,
     "metadata": {},
     "output_type": "execute_result"
    }
   ],
   "source": [
    "model.fit(x_train, y_train)"
   ]
  },
  {
   "cell_type": "code",
   "execution_count": 83,
   "metadata": {
    "collapsed": true
   },
   "outputs": [],
   "source": [
    "subA = model.predict(x_test)"
   ]
  },
  {
   "cell_type": "code",
   "execution_count": 84,
   "metadata": {
    "collapsed": true
   },
   "outputs": [],
   "source": [
    "sub_df = pd.read_csv('测试A-答案模板.csv',header=None)\n",
    "sub_df['Y'] = subA\n",
    "sub_df.to_csv('github.csv',header=None,index=False)"
   ]
  },
  {
   "cell_type": "code",
   "execution_count": null,
   "metadata": {
    "collapsed": true
   },
   "outputs": [],
   "source": []
  }
 ],
 "metadata": {
  "kernelspec": {
   "display_name": "Python 3",
   "language": "python",
   "name": "python3"
  },
  "language_info": {
   "codemirror_mode": {
    "name": "ipython",
    "version": 3
   },
   "file_extension": ".py",
   "mimetype": "text/x-python",
   "name": "python",
   "nbconvert_exporter": "python",
   "pygments_lexer": "ipython3",
   "version": "3.6.1"
  }
 },
 "nbformat": 4,
 "nbformat_minor": 2
}
