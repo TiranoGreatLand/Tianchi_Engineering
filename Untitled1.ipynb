{
 "cells": [
  {
   "cell_type": "code",
   "execution_count": 1,
   "metadata": {
    "collapsed": true
   },
   "outputs": [],
   "source": [
    "import numpy as np\n",
    "import pandas as pd\n",
    "import copy\n",
    "import matplotlib.pyplot as plt\n",
    "import seaborn as sns\n",
    "from sklearn import preprocessing"
   ]
  },
  {
   "cell_type": "code",
   "execution_count": 12,
   "metadata": {
    "collapsed": true
   },
   "outputs": [],
   "source": [
    "train_df = pd.read_excel(\"训练.xlsx\")\n",
    "test1_df = pd.read_excel(\"测试A.xlsx\")\n",
    "test2_df = pd.read_excel(\"测试B.xlsx\")"
   ]
  },
  {
   "cell_type": "code",
   "execution_count": 13,
   "metadata": {
    "collapsed": true
   },
   "outputs": [],
   "source": [
    "new_column = test1_df.columns"
   ]
  },
  {
   "cell_type": "code",
   "execution_count": 14,
   "metadata": {
    "collapsed": true
   },
   "outputs": [],
   "source": [
    "train_id = train_df['ID']\n",
    "test1_id = test1_df['ID']\n",
    "test2_id = test2_df['ID']\n",
    "train_df.drop(['ID'], axis=1, inplace=True)\n",
    "test1_df.drop(['ID'], axis=1, inplace=True)\n",
    "test2_df.drop(['ID'], axis=1, inplace=True)"
   ]
  },
  {
   "cell_type": "code",
   "execution_count": 15,
   "metadata": {},
   "outputs": [
    {
     "name": "stdout",
     "output_type": "stream",
     "text": [
      "7\n"
     ]
    }
   ],
   "source": [
    "droprow = []\n",
    "train_y = train_df[train_df.columns[-1]]\n",
    "for i in range(len(train_y)):\n",
    "    y = train_y[i]\n",
    "    if y > 3.4 or y < 2.4:\n",
    "        droprow.append(i)\n",
    "print(len(droprow))"
   ]
  },
  {
   "cell_type": "code",
   "execution_count": 16,
   "metadata": {
    "collapsed": true
   },
   "outputs": [],
   "source": [
    "train_df.drop(droprow, inplace=True)"
   ]
  },
  {
   "cell_type": "code",
   "execution_count": 17,
   "metadata": {},
   "outputs": [
    {
     "data": {
      "text/plain": [
       "(493,)"
      ]
     },
     "execution_count": 17,
     "metadata": {},
     "output_type": "execute_result"
    }
   ],
   "source": [
    "train_y = train_df[train_df.columns[-1]]\n",
    "train_y.shape"
   ]
  },
  {
   "cell_type": "code",
   "execution_count": 18,
   "metadata": {
    "scrolled": true
   },
   "outputs": [
    {
     "data": {
      "image/png": "[encoded data removed]",
      "text/plain": [
       "<matplotlib.figure.Figure at 0x7fbfc79a1f28>"
      ]
     },
     "metadata": {},
     "output_type": "display_data"
    }
   ],
   "source": [
    "plt.figure(figsize=(8,6))\n",
    "plt.scatter(range(train_df.shape[0]), np.sort(train_y.values))\n",
    "plt.xlabel('index', fontsize=12)\n",
    "plt.ylabel('y', fontsize=12)\n",
    "plt.show()"
   ]
  },
  {
   "cell_type": "code",
   "execution_count": 19,
   "metadata": {
    "collapsed": true
   },
   "outputs": [],
   "source": [
    "train_y = train_df[train_df.columns[-1]]"
   ]
  },
  {
   "cell_type": "code",
   "execution_count": 20,
   "metadata": {},
   "outputs": [
    {
     "data": {
      "text/html": [
       "<div>\n",
       "<style>\n",
       "    .dataframe thead tr:only-child th {\n",
       "        text-align: right;\n",
       "    }\n",
       "\n",
       "    .dataframe thead th {\n",
       "        text-align: left;\n",
       "    }\n",
       "\n",
       "    .dataframe tbody tr th {\n",
       "        vertical-align: top;\n",
       "    }\n",
       "</style>\n",
       "<table border=\"1\" class=\"dataframe\">\n",
       "  <thead>\n",
       "    <tr style=\"text-align: right;\">\n",
       "      <th></th>\n",
       "      <th>Column Type</th>\n",
       "      <th>Count</th>\n",
       "    </tr>\n",
       "  </thead>\n",
       "  <tbody>\n",
       "    <tr>\n",
       "      <th>0</th>\n",
       "      <td>int64</td>\n",
       "      <td>1739</td>\n",
       "    </tr>\n",
       "    <tr>\n",
       "      <th>1</th>\n",
       "      <td>float64</td>\n",
       "      <td>6279</td>\n",
       "    </tr>\n",
       "    <tr>\n",
       "      <th>2</th>\n",
       "      <td>object</td>\n",
       "      <td>10</td>\n",
       "    </tr>\n",
       "  </tbody>\n",
       "</table>\n",
       "</div>"
      ],
      "text/plain": [
       "  Column Type  Count\n",
       "0       int64   1739\n",
       "1     float64   6279\n",
       "2      object     10"
      ]
     },
     "execution_count": 20,
     "metadata": {},
     "output_type": "execute_result"
    }
   ],
   "source": [
    "dtype_df = train_df.dtypes.reset_index()\n",
    "dtype_df.columns = [\"Count\", \"Column Type\"]\n",
    "dtype_df.groupby(\"Column Type\").aggregate('count').reset_index()"
   ]
  },
  {
   "cell_type": "code",
   "execution_count": 21,
   "metadata": {},
   "outputs": [
    {
     "name": "stderr",
     "output_type": "stream",
     "text": [
      "/home/magnusterra/anaconda3/lib/python3.6/site-packages/ipykernel_launcher.py:3: DeprecationWarning: \n",
      ".ix is deprecated. Please use\n",
      ".loc for label based indexing or\n",
      ".iloc for positional indexing\n",
      "\n",
      "See the documentation here:\n",
      "http://pandas.pydata.org/pandas-docs/stable/indexing.html#deprecate_ix\n",
      "  This is separate from the ipykernel package so we can avoid doing imports until\n"
     ]
    },
    {
     "data": {
      "text/html": [
       "<div>\n",
       "<style>\n",
       "    .dataframe thead tr:only-child th {\n",
       "        text-align: right;\n",
       "    }\n",
       "\n",
       "    .dataframe thead th {\n",
       "        text-align: left;\n",
       "    }\n",
       "\n",
       "    .dataframe tbody tr th {\n",
       "        vertical-align: top;\n",
       "    }\n",
       "</style>\n",
       "<table border=\"1\" class=\"dataframe\">\n",
       "  <thead>\n",
       "    <tr style=\"text-align: right;\">\n",
       "      <th></th>\n",
       "      <th>column_name</th>\n",
       "      <th>missing_count</th>\n",
       "    </tr>\n",
       "  </thead>\n",
       "  <tbody>\n",
       "    <tr>\n",
       "      <th>212</th>\n",
       "      <td>210X213</td>\n",
       "      <td>1</td>\n",
       "    </tr>\n",
       "    <tr>\n",
       "      <th>274</th>\n",
       "      <td>220X55</td>\n",
       "      <td>1</td>\n",
       "    </tr>\n",
       "    <tr>\n",
       "      <th>281</th>\n",
       "      <td>220X66</td>\n",
       "      <td>1</td>\n",
       "    </tr>\n",
       "    <tr>\n",
       "      <th>282</th>\n",
       "      <td>220X67</td>\n",
       "      <td>1</td>\n",
       "    </tr>\n",
       "    <tr>\n",
       "      <th>285</th>\n",
       "      <td>220X74</td>\n",
       "      <td>1</td>\n",
       "    </tr>\n",
       "    <tr>\n",
       "      <th>286</th>\n",
       "      <td>220X75</td>\n",
       "      <td>1</td>\n",
       "    </tr>\n",
       "    <tr>\n",
       "      <th>289</th>\n",
       "      <td>220X82</td>\n",
       "      <td>1</td>\n",
       "    </tr>\n",
       "    <tr>\n",
       "      <th>273</th>\n",
       "      <td>220X54</td>\n",
       "      <td>1</td>\n",
       "    </tr>\n",
       "    <tr>\n",
       "      <th>290</th>\n",
       "      <td>220X83</td>\n",
       "      <td>1</td>\n",
       "    </tr>\n",
       "    <tr>\n",
       "      <th>294</th>\n",
       "      <td>220X91</td>\n",
       "      <td>1</td>\n",
       "    </tr>\n",
       "    <tr>\n",
       "      <th>302</th>\n",
       "      <td>220X107</td>\n",
       "      <td>1</td>\n",
       "    </tr>\n",
       "    <tr>\n",
       "      <th>335</th>\n",
       "      <td>220X147</td>\n",
       "      <td>1</td>\n",
       "    </tr>\n",
       "    <tr>\n",
       "      <th>401</th>\n",
       "      <td>220X222</td>\n",
       "      <td>1</td>\n",
       "    </tr>\n",
       "    <tr>\n",
       "      <th>402</th>\n",
       "      <td>220X223</td>\n",
       "      <td>1</td>\n",
       "    </tr>\n",
       "    <tr>\n",
       "      <th>403</th>\n",
       "      <td>220X224</td>\n",
       "      <td>1</td>\n",
       "    </tr>\n",
       "    <tr>\n",
       "      <th>293</th>\n",
       "      <td>220X90</td>\n",
       "      <td>1</td>\n",
       "    </tr>\n",
       "    <tr>\n",
       "      <th>272</th>\n",
       "      <td>220X53</td>\n",
       "      <td>1</td>\n",
       "    </tr>\n",
       "    <tr>\n",
       "      <th>303</th>\n",
       "      <td>220X108</td>\n",
       "      <td>1</td>\n",
       "    </tr>\n",
       "    <tr>\n",
       "      <th>270</th>\n",
       "      <td>220X39</td>\n",
       "      <td>1</td>\n",
       "    </tr>\n",
       "    <tr>\n",
       "      <th>214</th>\n",
       "      <td>210X215</td>\n",
       "      <td>1</td>\n",
       "    </tr>\n",
       "    <tr>\n",
       "      <th>256</th>\n",
       "      <td>220X25</td>\n",
       "      <td>1</td>\n",
       "    </tr>\n",
       "    <tr>\n",
       "      <th>257</th>\n",
       "      <td>220X26</td>\n",
       "      <td>1</td>\n",
       "    </tr>\n",
       "    <tr>\n",
       "      <th>258</th>\n",
       "      <td>220X27</td>\n",
       "      <td>1</td>\n",
       "    </tr>\n",
       "    <tr>\n",
       "      <th>259</th>\n",
       "      <td>220X28</td>\n",
       "      <td>1</td>\n",
       "    </tr>\n",
       "    <tr>\n",
       "      <th>261</th>\n",
       "      <td>220X30</td>\n",
       "      <td>1</td>\n",
       "    </tr>\n",
       "    <tr>\n",
       "      <th>262</th>\n",
       "      <td>220X31</td>\n",
       "      <td>1</td>\n",
       "    </tr>\n",
       "    <tr>\n",
       "      <th>260</th>\n",
       "      <td>220X29</td>\n",
       "      <td>1</td>\n",
       "    </tr>\n",
       "    <tr>\n",
       "      <th>264</th>\n",
       "      <td>220X33</td>\n",
       "      <td>1</td>\n",
       "    </tr>\n",
       "    <tr>\n",
       "      <th>265</th>\n",
       "      <td>220X34</td>\n",
       "      <td>1</td>\n",
       "    </tr>\n",
       "    <tr>\n",
       "      <th>266</th>\n",
       "      <td>220X35</td>\n",
       "      <td>1</td>\n",
       "    </tr>\n",
       "    <tr>\n",
       "      <th>...</th>\n",
       "      <td>...</td>\n",
       "      <td>...</td>\n",
       "    </tr>\n",
       "    <tr>\n",
       "      <th>3705</th>\n",
       "      <td>340X12</td>\n",
       "      <td>493</td>\n",
       "    </tr>\n",
       "    <tr>\n",
       "      <th>3707</th>\n",
       "      <td>340X14</td>\n",
       "      <td>493</td>\n",
       "    </tr>\n",
       "    <tr>\n",
       "      <th>3709</th>\n",
       "      <td>340X16</td>\n",
       "      <td>493</td>\n",
       "    </tr>\n",
       "    <tr>\n",
       "      <th>3725</th>\n",
       "      <td>340X32</td>\n",
       "      <td>493</td>\n",
       "    </tr>\n",
       "    <tr>\n",
       "      <th>3745</th>\n",
       "      <td>340X52</td>\n",
       "      <td>493</td>\n",
       "    </tr>\n",
       "    <tr>\n",
       "      <th>3747</th>\n",
       "      <td>340X54</td>\n",
       "      <td>493</td>\n",
       "    </tr>\n",
       "    <tr>\n",
       "      <th>3749</th>\n",
       "      <td>340X56</td>\n",
       "      <td>493</td>\n",
       "    </tr>\n",
       "    <tr>\n",
       "      <th>3751</th>\n",
       "      <td>340X58</td>\n",
       "      <td>493</td>\n",
       "    </tr>\n",
       "    <tr>\n",
       "      <th>3753</th>\n",
       "      <td>340X60</td>\n",
       "      <td>493</td>\n",
       "    </tr>\n",
       "    <tr>\n",
       "      <th>3755</th>\n",
       "      <td>340X62</td>\n",
       "      <td>493</td>\n",
       "    </tr>\n",
       "    <tr>\n",
       "      <th>3757</th>\n",
       "      <td>340X64</td>\n",
       "      <td>493</td>\n",
       "    </tr>\n",
       "    <tr>\n",
       "      <th>3759</th>\n",
       "      <td>340X66</td>\n",
       "      <td>493</td>\n",
       "    </tr>\n",
       "    <tr>\n",
       "      <th>3761</th>\n",
       "      <td>340X68</td>\n",
       "      <td>493</td>\n",
       "    </tr>\n",
       "    <tr>\n",
       "      <th>3797</th>\n",
       "      <td>340X104</td>\n",
       "      <td>493</td>\n",
       "    </tr>\n",
       "    <tr>\n",
       "      <th>3763</th>\n",
       "      <td>340X70</td>\n",
       "      <td>493</td>\n",
       "    </tr>\n",
       "    <tr>\n",
       "      <th>3767</th>\n",
       "      <td>340X74</td>\n",
       "      <td>493</td>\n",
       "    </tr>\n",
       "    <tr>\n",
       "      <th>3771</th>\n",
       "      <td>340X78</td>\n",
       "      <td>493</td>\n",
       "    </tr>\n",
       "    <tr>\n",
       "      <th>3773</th>\n",
       "      <td>340X80</td>\n",
       "      <td>493</td>\n",
       "    </tr>\n",
       "    <tr>\n",
       "      <th>3775</th>\n",
       "      <td>340X82</td>\n",
       "      <td>493</td>\n",
       "    </tr>\n",
       "    <tr>\n",
       "      <th>3777</th>\n",
       "      <td>340X84</td>\n",
       "      <td>493</td>\n",
       "    </tr>\n",
       "    <tr>\n",
       "      <th>3779</th>\n",
       "      <td>340X86</td>\n",
       "      <td>493</td>\n",
       "    </tr>\n",
       "    <tr>\n",
       "      <th>3781</th>\n",
       "      <td>340X88</td>\n",
       "      <td>493</td>\n",
       "    </tr>\n",
       "    <tr>\n",
       "      <th>3783</th>\n",
       "      <td>340X90</td>\n",
       "      <td>493</td>\n",
       "    </tr>\n",
       "    <tr>\n",
       "      <th>3785</th>\n",
       "      <td>340X92</td>\n",
       "      <td>493</td>\n",
       "    </tr>\n",
       "    <tr>\n",
       "      <th>3787</th>\n",
       "      <td>340X94</td>\n",
       "      <td>493</td>\n",
       "    </tr>\n",
       "    <tr>\n",
       "      <th>3789</th>\n",
       "      <td>340X96</td>\n",
       "      <td>493</td>\n",
       "    </tr>\n",
       "    <tr>\n",
       "      <th>3791</th>\n",
       "      <td>340X98</td>\n",
       "      <td>493</td>\n",
       "    </tr>\n",
       "    <tr>\n",
       "      <th>3793</th>\n",
       "      <td>340X100</td>\n",
       "      <td>493</td>\n",
       "    </tr>\n",
       "    <tr>\n",
       "      <th>3765</th>\n",
       "      <td>340X72</td>\n",
       "      <td>493</td>\n",
       "    </tr>\n",
       "    <tr>\n",
       "      <th>3769</th>\n",
       "      <td>340X76</td>\n",
       "      <td>493</td>\n",
       "    </tr>\n",
       "  </tbody>\n",
       "</table>\n",
       "<p>2238 rows × 2 columns</p>\n",
       "</div>"
      ],
      "text/plain": [
       "     column_name  missing_count\n",
       "212      210X213              1\n",
       "274       220X55              1\n",
       "281       220X66              1\n",
       "282       220X67              1\n",
       "285       220X74              1\n",
       "286       220X75              1\n",
       "289       220X82              1\n",
       "273       220X54              1\n",
       "290       220X83              1\n",
       "294       220X91              1\n",
       "302      220X107              1\n",
       "335      220X147              1\n",
       "401      220X222              1\n",
       "402      220X223              1\n",
       "403      220X224              1\n",
       "293       220X90              1\n",
       "272       220X53              1\n",
       "303      220X108              1\n",
       "270       220X39              1\n",
       "214      210X215              1\n",
       "256       220X25              1\n",
       "257       220X26              1\n",
       "258       220X27              1\n",
       "259       220X28              1\n",
       "261       220X30              1\n",
       "262       220X31              1\n",
       "260       220X29              1\n",
       "264       220X33              1\n",
       "265       220X34              1\n",
       "266       220X35              1\n",
       "...          ...            ...\n",
       "3705      340X12            493\n",
       "3707      340X14            493\n",
       "3709      340X16            493\n",
       "3725      340X32            493\n",
       "3745      340X52            493\n",
       "3747      340X54            493\n",
       "3749      340X56            493\n",
       "3751      340X58            493\n",
       "3753      340X60            493\n",
       "3755      340X62            493\n",
       "3757      340X64            493\n",
       "3759      340X66            493\n",
       "3761      340X68            493\n",
       "3797     340X104            493\n",
       "3763      340X70            493\n",
       "3767      340X74            493\n",
       "3771      340X78            493\n",
       "3773      340X80            493\n",
       "3775      340X82            493\n",
       "3777      340X84            493\n",
       "3779      340X86            493\n",
       "3781      340X88            493\n",
       "3783      340X90            493\n",
       "3785      340X92            493\n",
       "3787      340X94            493\n",
       "3789      340X96            493\n",
       "3791      340X98            493\n",
       "3793     340X100            493\n",
       "3765      340X72            493\n",
       "3769      340X76            493\n",
       "\n",
       "[2238 rows x 2 columns]"
      ]
     },
     "execution_count": 21,
     "metadata": {},
     "output_type": "execute_result"
    }
   ],
   "source": [
    "missing_df = train_df.isnull().sum(axis=0).reset_index()\n",
    "missing_df.columns = ['column_name', 'missing_count']\n",
    "missing_df = missing_df.ix[missing_df['missing_count']>0]\n",
    "missing_df = missing_df.sort_values(by='missing_count')\n",
    "missing_df"
   ]
  },
  {
   "cell_type": "code",
   "execution_count": 22,
   "metadata": {},
   "outputs": [
    {
     "name": "stdout",
     "output_type": "stream",
     "text": [
      "10 ['TOOL_ID', 'Tool', 'TOOL_ID (#1)', 'TOOL_ID (#2)', 'TOOL_ID (#3)', 'Tool (#2)', 'tool (#1)', 'TOOL', 'TOOL (#1)', 'TOOL (#2)']\n"
     ]
    }
   ],
   "source": [
    "strings = []\n",
    "dtypes = train_df.dtypes\n",
    "names = train_df.columns\n",
    "for i in range(len(names)):\n",
    "    n = names[i]\n",
    "    d = dtypes[i]\n",
    "    if str(d) == 'object':\n",
    "        strings.append(n)\n",
    "print(len(strings), strings)"
   ]
  },
  {
   "cell_type": "code",
   "execution_count": 23,
   "metadata": {
    "scrolled": false
   },
   "outputs": [
    {
     "data": {
      "text/plain": [
       "0"
      ]
     },
     "execution_count": 23,
     "metadata": {},
     "output_type": "execute_result"
    }
   ],
   "source": [
    "np.sum(train_y<2.4)"
   ]
  },
  {
   "cell_type": "code",
   "execution_count": 24,
   "metadata": {},
   "outputs": [
    {
     "data": {
      "image/png": "[encoded data removed]",
      "text/plain": [
       "<matplotlib.figure.Figure at 0x7fbfc79a15f8>"
      ]
     },
     "metadata": {},
     "output_type": "display_data"
    }
   ],
   "source": [
    "var_name = strings[0]\n",
    "col_order = np.sort(train_df[var_name].unique()).tolist()\n",
    "plt.figure(figsize=(12,6))\n",
    "sns.stripplot(x=var_name, y='Y', data=train_df, order=col_order)\n",
    "plt.xlabel(var_name, fontsize=12)\n",
    "plt.ylabel('y', fontsize=12)\n",
    "plt.title(\"Distribution of y variable with \"+var_name, fontsize=15)\n",
    "plt.show()"
   ]
  },
  {
   "cell_type": "code",
   "execution_count": 25,
   "metadata": {},
   "outputs": [
    {
     "data": {
      "image/png": "[encoded data removed]",
      "text/plain": [
       "<matplotlib.figure.Figure at 0x7fbfced896d8>"
      ]
     },
     "metadata": {},
     "output_type": "display_data"
    }
   ],
   "source": [
    "var_name = strings[1]\n",
    "col_order = np.sort(train_df[var_name].unique()).tolist()\n",
    "plt.figure(figsize=(12,6))\n",
    "sns.stripplot(x=var_name, y='Y', data=train_df, order=col_order)\n",
    "plt.xlabel(var_name, fontsize=12)\n",
    "plt.ylabel('y', fontsize=12)\n",
    "plt.title(\"Distribution of y variable with \"+var_name, fontsize=15)\n",
    "plt.show()"
   ]
  },
  {
   "cell_type": "code",
   "execution_count": 26,
   "metadata": {},
   "outputs": [
    {
     "data": {
      "image/png": "[encoded data removed]",
      "text/plain": [
       "<matplotlib.figure.Figure at 0x7fbfd031ee48>"
      ]
     },
     "metadata": {},
     "output_type": "display_data"
    }
   ],
   "source": [
    "var_name = strings[2]\n",
    "col_order = np.sort(train_df[var_name].unique()).tolist()\n",
    "plt.figure(figsize=(12,6))\n",
    "sns.stripplot(x=var_name, y='Y', data=train_df, order=col_order)\n",
    "plt.xlabel(var_name, fontsize=12)\n",
    "plt.ylabel('y', fontsize=12)\n",
    "plt.title(\"Distribution of y variable with \"+var_name, fontsize=15)\n",
    "plt.show()"
   ]
  },
  {
   "cell_type": "code",
   "execution_count": 27,
   "metadata": {},
   "outputs": [
    {
     "data": {
      "image/png": "[encoded data removed]",
      "text/plain": [
       "<matplotlib.figure.Figure at 0x7fbfc7e5a9b0>"
      ]
     },
     "metadata": {},
     "output_type": "display_data"
    }
   ],
   "source": [
    "var_name = strings[3]\n",
    "col_order = np.sort(train_df[var_name].unique()).tolist()\n",
    "plt.figure(figsize=(12,6))\n",
    "sns.stripplot(x=var_name, y='Y', data=train_df, order=col_order)\n",
    "plt.xlabel(var_name, fontsize=12)\n",
    "plt.ylabel('y', fontsize=12)\n",
    "plt.title(\"Distribution of y variable with \"+var_name, fontsize=15)\n",
    "plt.show()"
   ]
  },
  {
   "cell_type": "code",
   "execution_count": 28,
   "metadata": {},
   "outputs": [
    {
     "data": {
      "image/png": "[encoded data removed]",
      "text/plain": [
       "<matplotlib.figure.Figure at 0x7fbfc79a1cc0>"
      ]
     },
     "metadata": {},
     "output_type": "display_data"
    }
   ],
   "source": [
    "var_name = strings[4]\n",
    "col_order = np.sort(train_df[var_name].unique()).tolist()\n",
    "plt.figure(figsize=(12,6))\n",
    "sns.stripplot(x=var_name, y='Y', data=train_df, order=col_order)\n",
    "plt.xlabel(var_name, fontsize=12)\n",
    "plt.ylabel('y', fontsize=12)\n",
    "plt.title(\"Distribution of y variable with \"+var_name, fontsize=15)\n",
    "plt.show()"
   ]
  },
  {
   "cell_type": "code",
   "execution_count": 29,
   "metadata": {},
   "outputs": [
    {
     "data": {
      "image/png": "[encoded data removed]",
      "text/plain": [
       "<matplotlib.figure.Figure at 0x7fbfca6e4358>"
      ]
     },
     "metadata": {},
     "output_type": "display_data"
    }
   ],
   "source": [
    "var_name = strings[5]\n",
    "col_order = np.sort(train_df[var_name].unique()).tolist()\n",
    "plt.figure(figsize=(12,6))\n",
    "sns.stripplot(x=var_name, y='Y', data=train_df, order=col_order)\n",
    "plt.xlabel(var_name, fontsize=12)\n",
    "plt.ylabel('y', fontsize=12)\n",
    "plt.title(\"Distribution of y variable with \"+var_name, fontsize=15)\n",
    "plt.show()"
   ]
  },
  {
   "cell_type": "code",
   "execution_count": 30,
   "metadata": {},
   "outputs": [
    {
     "data": {
      "image/png": "[encoded data removed]",
      "text/plain": [
       "<matplotlib.figure.Figure at 0x7fbfcea500f0>"
      ]
     },
     "metadata": {},
     "output_type": "display_data"
    }
   ],
   "source": [
    "var_name = strings[6]\n",
    "col_order = np.sort(train_df[var_name].unique()).tolist()\n",
    "plt.figure(figsize=(12,6))\n",
    "sns.stripplot(x=var_name, y='Y', data=train_df, order=col_order)\n",
    "plt.xlabel(var_name, fontsize=12)\n",
    "plt.ylabel('y', fontsize=12)\n",
    "plt.title(\"Distribution of y variable with \"+var_name, fontsize=15)\n",
    "plt.show()"
   ]
  },
  {
   "cell_type": "code",
   "execution_count": 31,
   "metadata": {},
   "outputs": [
    {
     "data": {
      "image/png": "[encoded data removed]",
      "text/plain": [
       "<matplotlib.figure.Figure at 0x7fbfcece1668>"
      ]
     },
     "metadata": {},
     "output_type": "display_data"
    }
   ],
   "source": [
    "var_name = strings[7]\n",
    "col_order = np.sort(train_df[var_name].unique()).tolist()\n",
    "plt.figure(figsize=(12,6))\n",
    "sns.stripplot(x=var_name, y='Y', data=train_df, order=col_order)\n",
    "plt.xlabel(var_name, fontsize=12)\n",
    "plt.ylabel('y', fontsize=12)\n",
    "plt.title(\"Distribution of y variable with \"+var_name, fontsize=15)\n",
    "plt.show()"
   ]
  },
  {
   "cell_type": "code",
   "execution_count": 32,
   "metadata": {},
   "outputs": [
    {
     "data": {
      "image/png": "[encoded data removed]",
      "text/plain": [
       "<matplotlib.figure.Figure at 0x7fbfc8d94198>"
      ]
     },
     "metadata": {},
     "output_type": "display_data"
    }
   ],
   "source": [
    "var_name = strings[8]\n",
    "col_order = np.sort(train_df[var_name].unique()).tolist()\n",
    "plt.figure(figsize=(12,6))\n",
    "sns.stripplot(x=var_name, y='Y', data=train_df, order=col_order)\n",
    "plt.xlabel(var_name, fontsize=12)\n",
    "plt.ylabel('y', fontsize=12)\n",
    "plt.title(\"Distribution of y variable with \"+var_name, fontsize=15)\n",
    "plt.show()"
   ]
  },
  {
   "cell_type": "code",
   "execution_count": 32,
   "metadata": {},
   "outputs": [
    {
     "name": "stdout",
     "output_type": "stream",
     "text": [
      "499\n"
     ]
    }
   ],
   "source": [
    "print(np.sum(train_df[strings[8]]=='YX1'))"
   ]
  },
  {
   "cell_type": "code",
   "execution_count": 33,
   "metadata": {},
   "outputs": [
    {
     "data": {
      "image/png": "[encoded data removed]",
      "text/plain": [
       "<matplotlib.figure.Figure at 0x7fbfd00b4550>"
      ]
     },
     "metadata": {},
     "output_type": "display_data"
    }
   ],
   "source": [
    "var_name = strings[9]\n",
    "col_order = np.sort(train_df[var_name].unique()).tolist()\n",
    "plt.figure(figsize=(12,6))\n",
    "sns.stripplot(x=var_name, y='Y', data=train_df, order=col_order)\n",
    "plt.xlabel(var_name, fontsize=12)\n",
    "plt.ylabel('y', fontsize=12)\n",
    "plt.title(\"Distribution of y variable with \"+var_name, fontsize=15)\n",
    "plt.show()"
   ]
  },
  {
   "cell_type": "code",
   "execution_count": 35,
   "metadata": {},
   "outputs": [
    {
     "name": "stdout",
     "output_type": "stream",
     "text": [
      "6\n"
     ]
    }
   ],
   "source": [
    "print(np.sum(train_df[strings[9]]=='B'))"
   ]
  },
  {
   "cell_type": "code",
   "execution_count": 37,
   "metadata": {},
   "outputs": [],
   "source": [
    "\n",
    "train_y = train_df[names[-1]]\n",
    "train_df = train_df[names[:-1]]\n"
   ]
  },
  {
   "cell_type": "code",
   "execution_count": 39,
   "metadata": {},
   "outputs": [
    {
     "name": "stdout",
     "output_type": "stream",
     "text": [
      "856\n"
     ]
    }
   ],
   "source": [
    "names = train_df.columns\n",
    "dts = train_df.dtypes\n",
    "drop_names = []\n",
    "ratio = 0.1\n",
    "for i in range(len(names)):\n",
    "    n = names[i]\n",
    "    tp = dts[i]\n",
    "    trd = train_df[n]\n",
    "    ted = test1_df[n]\n",
    "    if 'object' == str(tp):\n",
    "        continue\n",
    "    else:\n",
    "        misstr = np.sum(trd.isnull())/500\n",
    "        misste = np.sum(ted.isnull())/100\n",
    "        if np.abs(misstr-misste) > ratio:\n",
    "            drop_names.append(n)\n",
    "        else:\n",
    "            if 'int' in str(tp):\n",
    "                continue\n",
    "            trrd = trd[trd.notnull()]\n",
    "            terd = ted[ted.notnull()]\n",
    "            m1 = np.mean(trrd)\n",
    "            s1 = np.std(trrd)\n",
    "            m2 = np.mean(terd)\n",
    "            s2 = np.std(terd)\n",
    "            if np.abs(m1-m2)>ratio*np.abs(m1) and np.abs(s1-s2)>ratio*np.abs(s1):\n",
    "                drop_names.append(n)\n",
    "print(len(drop_names))"
   ]
  },
  {
   "cell_type": "code",
   "execution_count": 40,
   "metadata": {
    "collapsed": true
   },
   "outputs": [],
   "source": [
    "train_df.drop(drop_names, axis=1, inplace=True)\n",
    "test1_df.drop(drop_names, axis=1, inplace=True)\n",
    "test2_df.drop(drop_names, axis=1, inplace=True)"
   ]
  },
  {
   "cell_type": "code",
   "execution_count": 41,
   "metadata": {},
   "outputs": [
    {
     "name": "stdout",
     "output_type": "stream",
     "text": [
      "1749\n"
     ]
    }
   ],
   "source": [
    "names = train_df.columns\n",
    "dfs = train_df.dtypes\n",
    "ints = []\n",
    "for i in range(len(names)):\n",
    "    if 'int' in str(dfs[i]) or 'object' in str(dfs[i]):\n",
    "        ints.append(names[i])\n",
    "print(len(ints))"
   ]
  },
  {
   "cell_type": "code",
   "execution_count": 42,
   "metadata": {
    "collapsed": true
   },
   "outputs": [],
   "source": [
    "df_X = pd.concat([train_df, test1_df, test2_df], axis=0)"
   ]
  },
  {
   "cell_type": "code",
   "execution_count": 43,
   "metadata": {},
   "outputs": [
    {
     "name": "stdout",
     "output_type": "stream",
     "text": [
      "405 473 769\n"
     ]
    }
   ],
   "source": [
    "remains1 = []\n",
    "remains2 = []\n",
    "tobedrop = []\n",
    "for n in ints:\n",
    "    lu1 = len(train_df[n].unique())\n",
    "    lu2 = len(df_X[n].unique())\n",
    "    if lu1 < 10 and lu1 > 1:\n",
    "        remains1.append(n)\n",
    "    if lu2 < 10 and lu2 > 1:\n",
    "        remains2.append(n)\n",
    "    if lu1 != lu2:\n",
    "        tobedrop.append(n)\n",
    "print(len(remains1), len(remains2), len(tobedrop))"
   ]
  },
  {
   "cell_type": "code",
   "execution_count": 44,
   "metadata": {},
   "outputs": [
    {
     "name": "stdout",
     "output_type": "stream",
     "text": [
      "292\n"
     ]
    }
   ],
   "source": [
    "toberemain = list(set(remains1) & set(remains2) - set(tobedrop))\n",
    "print(len(toberemain))"
   ]
  },
  {
   "cell_type": "code",
   "execution_count": 45,
   "metadata": {
    "collapsed": true
   },
   "outputs": [],
   "source": [
    "def dict2list(dic:dict):\n",
    "    ''' 将字典转化为列表 '''\n",
    "    keys = dic.keys()\n",
    "    vals = dic.values()\n",
    "    lst = [(key, val) for key, val in zip(keys, vals)]\n",
    "    return lst\n",
    "\n",
    "def LastRemainJudge(column):\n",
    "    unique = set(column)\n",
    "    uf = {}\n",
    "    for u in unique:\n",
    "        uf[u] = 0\n",
    "    for c in column:\n",
    "        uf[c] += 1\n",
    "    sl = sorted(dict2list(uf), key = lambda x:x[1], reverse=True)\n",
    "    x = sl[0][1]/len(column)\n",
    "    sl = np.array(sl)\n",
    "    if x < 0.8:\n",
    "        #print(sl[:, 1]/len(column))\n",
    "        return True\n",
    "    else:\n",
    "        return False"
   ]
  },
  {
   "cell_type": "code",
   "execution_count": 46,
   "metadata": {},
   "outputs": [
    {
     "name": "stdout",
     "output_type": "stream",
     "text": [
      "183 187 181\n"
     ]
    }
   ],
   "source": [
    "lm1 = []\n",
    "lm2 = []\n",
    "for n in toberemain:\n",
    "    if LastRemainJudge(train_df[n]):\n",
    "        lm1.append(n)\n",
    "    if LastRemainJudge(df_X[n]):\n",
    "        lm2.append(n)\n",
    "print(len(lm1), len(lm2), len(set(lm1)&set(lm2)))"
   ]
  },
  {
   "cell_type": "code",
   "execution_count": 47,
   "metadata": {
    "collapsed": true
   },
   "outputs": [],
   "source": [
    "names = df_X.columns\n",
    "dts = df_X.dtypes"
   ]
  },
  {
   "cell_type": "code",
   "execution_count": 48,
   "metadata": {},
   "outputs": [
    {
     "name": "stdout",
     "output_type": "stream",
     "text": [
      "181\n",
      "5627\n",
      "(714, 5627) (714, 181)\n"
     ]
    }
   ],
   "source": [
    "dfx_float_n = []\n",
    "dfx_onehot_n = list(set(lm1) & set(lm2))\n",
    "print(len(dfx_onehot_n))\n",
    "for i in range(len(names)):\n",
    "    n = names[i]\n",
    "    d = dts[i]\n",
    "    if 'float' in str(d):\n",
    "        dfx_float_n.append(n)\n",
    "print(len(dfx_float_n))\n",
    "dfx_float = df_X[dfx_float_n]\n",
    "dfx_onehot = df_X[dfx_onehot_n]\n",
    "print(dfx_float.shape, dfx_onehot.shape)"
   ]
  },
  {
   "cell_type": "code",
   "execution_count": 49,
   "metadata": {},
   "outputs": [
    {
     "name": "stdout",
     "output_type": "stream",
     "text": [
      "64\n"
     ]
    }
   ],
   "source": [
    "drop_names = []\n",
    "names = dfx_float.columns\n",
    "for n in names:\n",
    "    x = np.sum(dfx_float[n].isnull())\n",
    "    if x > 300:\n",
    "        drop_names.append(n)\n",
    "print(len(drop_names))"
   ]
  },
  {
   "cell_type": "code",
   "execution_count": 52,
   "metadata": {},
   "outputs": [
    {
     "name": "stderr",
     "output_type": "stream",
     "text": [
      "/home/magnusterra/anaconda3/lib/python3.6/site-packages/ipykernel_launcher.py:1: SettingWithCopyWarning: \n",
      "A value is trying to be set on a copy of a slice from a DataFrame\n",
      "\n",
      "See the caveats in the documentation: http://pandas.pydata.org/pandas-docs/stable/indexing.html#indexing-view-versus-copy\n",
      "  \"\"\"Entry point for launching an IPython kernel.\n"
     ]
    }
   ],
   "source": [
    "dfx_float.drop(drop_names, axis=1, inplace=True)"
   ]
  },
  {
   "cell_type": "code",
   "execution_count": 53,
   "metadata": {},
   "outputs": [
    {
     "name": "stdout",
     "output_type": "stream",
     "text": [
      "2147 2146\n",
      "0\n"
     ]
    }
   ],
   "source": [
    "means = []\n",
    "stds = []\n",
    "drop_names = []\n",
    "names = dfx_float.columns\n",
    "for n in names:\n",
    "    c = dfx_float[n]\n",
    "    r = c[c.notnull()]\n",
    "    tmpm = np.mean(r)\n",
    "    tmps = np.std(r)\n",
    "    means.append(tmpm)\n",
    "    stds.append(tmps)\n",
    "    if tmps == 0:\n",
    "        drop_names.append(n)\n",
    "print(len(set(means)), len(set(stds)))\n",
    "print(len(drop_names))"
   ]
  },
  {
   "cell_type": "code",
   "execution_count": 54,
   "metadata": {},
   "outputs": [
    {
     "name": "stdout",
     "output_type": "stream",
     "text": [
      "701\n"
     ]
    }
   ],
   "source": [
    "# not move sames first, fill nan\n",
    "added = set()\n",
    "sames = []\n",
    "for i in range(len(names)):\n",
    "    tmpsl = []\n",
    "    tmpsl.append(i)\n",
    "    for j in range(i+1, len(names)):\n",
    "        if means[i] == means[j] and stds[i] == stds[j]:\n",
    "            if i not in added:\n",
    "                added.add(i)\n",
    "            if j not in added:\n",
    "                added.add(j)\n",
    "                tmpsl.append(j)\n",
    "    if len(tmpsl) > 1:\n",
    "        sames.append(tmpsl)\n",
    "print(len(sames))"
   ]
  },
  {
   "cell_type": "code",
   "execution_count": 55,
   "metadata": {},
   "outputs": [
    {
     "name": "stdout",
     "output_type": "stream",
     "text": [
      "3148\n"
     ]
    }
   ],
   "source": [
    "names = dfx_float.columns\n",
    "drop_names = []\n",
    "for i in sames:\n",
    "    for j in i[1:]:\n",
    "        drop_names.append(names[j])\n",
    "print(len(drop_names))"
   ]
  },
  {
   "cell_type": "code",
   "execution_count": 56,
   "metadata": {},
   "outputs": [
    {
     "name": "stdout",
     "output_type": "stream",
     "text": [
      "(714, 5297)\n"
     ]
    }
   ],
   "source": [
    "print(dfx_float.shape)"
   ]
  },
  {
   "cell_type": "code",
   "execution_count": 57,
   "metadata": {},
   "outputs": [
    {
     "name": "stdout",
     "output_type": "stream",
     "text": [
      "(714, 2149)\n"
     ]
    }
   ],
   "source": [
    "import copy\n",
    "trainx_float = copy.copy(dfx_float)\n",
    "trainx_float.drop(drop_names, axis=1, inplace=True)\n",
    "print(trainx_float.shape)"
   ]
  },
  {
   "cell_type": "code",
   "execution_count": 58,
   "metadata": {},
   "outputs": [
    {
     "name": "stdout",
     "output_type": "stream",
     "text": [
      "0\n"
     ]
    }
   ],
   "source": [
    "names = trainx_float.columns\n",
    "for n in names:\n",
    "    c = trainx_float[n]\n",
    "    r = c[c.notnull()]\n",
    "    tmpm = np.mean(r)\n",
    "    tmps = np.std(r)\n",
    "    assert tmps>0\n",
    "    trainx_float[n][c.isnull()] = tmpm\n",
    "print(np.sum(trainx_float.isnull().values))"
   ]
  },
  {
   "cell_type": "code",
   "execution_count": 59,
   "metadata": {},
   "outputs": [
    {
     "name": "stdout",
     "output_type": "stream",
     "text": [
      "0\n"
     ]
    }
   ],
   "source": [
    "# it shall be that there is only thre lines with nan in log1p\n",
    "mid = trainx_float-np.min(trainx_float)+1\n",
    "trainx_log1p = np.log1p(mid)\n",
    "del mid\n",
    "print(np.sum(trainx_log1p.isnull().values))"
   ]
  },
  {
   "cell_type": "code",
   "execution_count": 60,
   "metadata": {
    "collapsed": true
   },
   "outputs": [],
   "source": [
    "for n in names:\n",
    "    m1 = np.mean(trainx_float[n])\n",
    "    s1 = np.std(trainx_float[n])\n",
    "    assert s1 > 0\n",
    "    trainx_float[n] = (trainx_float[n]-m1)/s1\n",
    "    m2 = np.mean(trainx_log1p[n])\n",
    "    s2 = np.std(trainx_log1p[n])\n",
    "    assert s2 > 0\n",
    "    trainx_log1p[n] = (trainx_log1p[n]-m2)/s2"
   ]
  },
  {
   "cell_type": "code",
   "execution_count": 62,
   "metadata": {},
   "outputs": [
    {
     "data": {
      "text/plain": [
       "Index(['tool (#1)', '340X77', '360X1353', '312X583', '344X166', '312X286',\n",
       "       '312X577', '312X382', '340X53', '312X627',\n",
       "       ...\n",
       "       '340X132', '261X369', '312X429', '344X42', '312X283', '312X457',\n",
       "       '344X130', '312X289', '312X90', '360X1343'],\n",
       "      dtype='object', length=181)"
      ]
     },
     "execution_count": 62,
     "metadata": {},
     "output_type": "execute_result"
    }
   ],
   "source": [
    "dfx_onehot.columns"
   ]
  },
  {
   "cell_type": "code",
   "execution_count": 63,
   "metadata": {},
   "outputs": [
    {
     "name": "stdout",
     "output_type": "stream",
     "text": [
      "(714, 190)\n",
      "(714, 193)\n",
      "(714, 195)\n",
      "(714, 203)\n",
      "(714, 205)\n",
      "(714, 208)\n",
      "(714, 214)\n",
      "(714, 220)\n",
      "(714, 222)\n",
      "(714, 224)\n",
      "(714, 228)\n",
      "(714, 237)\n",
      "(714, 244)\n",
      "(714, 247)\n",
      "(714, 251)\n",
      "(714, 253)\n",
      "(714, 256)\n",
      "(714, 260)\n",
      "(714, 262)\n",
      "(714, 266)\n",
      "(714, 269)\n",
      "(714, 272)\n",
      "(714, 277)\n",
      "(714, 283)\n",
      "(714, 286)\n",
      "(714, 290)\n",
      "(714, 297)\n",
      "(714, 299)\n",
      "(714, 305)\n",
      "(714, 307)\n",
      "(714, 309)\n",
      "(714, 311)\n",
      "(714, 313)\n",
      "(714, 322)\n",
      "(714, 329)\n",
      "(714, 332)\n",
      "(714, 338)\n",
      "(714, 344)\n",
      "(714, 350)\n",
      "(714, 354)\n",
      "(714, 357)\n",
      "(714, 362)\n",
      "(714, 365)\n",
      "(714, 371)\n",
      "(714, 374)\n",
      "(714, 376)\n",
      "(714, 384)\n",
      "(714, 389)\n",
      "(714, 393)\n",
      "(714, 395)\n",
      "(714, 398)\n",
      "(714, 403)\n",
      "(714, 408)\n",
      "(714, 411)\n",
      "(714, 415)\n",
      "(714, 417)\n",
      "(714, 421)\n",
      "(714, 423)\n",
      "(714, 426)\n",
      "(714, 429)\n",
      "(714, 434)\n",
      "(714, 442)\n",
      "(714, 444)\n",
      "(714, 449)\n",
      "(714, 453)\n",
      "(714, 455)\n",
      "(714, 460)\n",
      "(714, 465)\n",
      "(714, 467)\n",
      "(714, 470)\n",
      "(714, 474)\n",
      "(714, 476)\n",
      "(714, 478)\n",
      "(714, 481)\n",
      "(714, 483)\n",
      "(714, 489)\n",
      "(714, 494)\n",
      "(714, 496)\n",
      "(714, 498)\n",
      "(714, 505)\n",
      "(714, 509)\n",
      "(714, 516)\n",
      "(714, 518)\n",
      "(714, 521)\n",
      "(714, 524)\n",
      "(714, 528)\n",
      "(714, 530)\n",
      "(714, 533)\n",
      "(714, 537)\n",
      "(714, 543)\n",
      "(714, 551)\n",
      "(714, 554)\n",
      "(714, 559)\n",
      "(714, 568)\n",
      "(714, 571)\n",
      "(714, 574)\n",
      "(714, 578)\n",
      "(714, 584)\n",
      "(714, 586)\n",
      "(714, 591)\n",
      "(714, 600)\n",
      "(714, 607)\n",
      "(714, 616)\n",
      "(714, 618)\n",
      "(714, 626)\n",
      "(714, 629)\n",
      "(714, 635)\n",
      "(714, 638)\n",
      "(714, 640)\n",
      "(714, 649)\n",
      "(714, 655)\n",
      "(714, 662)\n",
      "(714, 666)\n",
      "(714, 668)\n",
      "(714, 671)\n",
      "(714, 680)\n",
      "(714, 682)\n",
      "(714, 684)\n",
      "(714, 686)\n",
      "(714, 691)\n",
      "(714, 693)\n",
      "(714, 698)\n",
      "(714, 707)\n",
      "(714, 714)\n",
      "(714, 716)\n",
      "(714, 724)\n",
      "(714, 726)\n",
      "(714, 729)\n",
      "(714, 732)\n",
      "(714, 734)\n",
      "(714, 739)\n",
      "(714, 745)\n",
      "(714, 747)\n",
      "(714, 749)\n",
      "(714, 751)\n",
      "(714, 760)\n",
      "(714, 764)\n",
      "(714, 773)\n",
      "(714, 777)\n",
      "(714, 780)\n",
      "(714, 784)\n",
      "(714, 788)\n",
      "(714, 791)\n",
      "(714, 793)\n",
      "(714, 795)\n",
      "(714, 801)\n",
      "(714, 804)\n",
      "(714, 806)\n",
      "(714, 815)\n",
      "(714, 819)\n",
      "(714, 823)\n",
      "(714, 825)\n",
      "(714, 828)\n",
      "(714, 834)\n",
      "(714, 838)\n",
      "(714, 840)\n",
      "(714, 842)\n",
      "(714, 851)\n",
      "(714, 853)\n",
      "(714, 858)\n",
      "(714, 867)\n",
      "(714, 876)\n",
      "(714, 878)\n",
      "(714, 884)\n",
      "(714, 886)\n",
      "(714, 888)\n",
      "(714, 891)\n",
      "(714, 897)\n",
      "(714, 904)\n",
      "(714, 910)\n",
      "(714, 913)\n",
      "(714, 918)\n",
      "(714, 921)\n",
      "(714, 925)\n",
      "(714, 933)\n",
      "(714, 936)\n",
      "(714, 938)\n",
      "(714, 942)\n",
      "(714, 945)\n",
      "(714, 954)\n",
      "(714, 956)\n"
     ]
    }
   ],
   "source": [
    "# make onehots onehot\n",
    "ohnames = dfx_onehot.columns\n",
    "for i in range(len(ohnames)):\n",
    "    n = ohnames[i]\n",
    "    tmp = pd.get_dummies(dfx_onehot[n], prefix='onehot_'+str(i))\n",
    "    dfx_onehot = pd.concat([dfx_onehot, tmp], axis=1)\n",
    "    print(dfx_onehot.shape)"
   ]
  },
  {
   "cell_type": "code",
   "execution_count": 64,
   "metadata": {},
   "outputs": [
    {
     "name": "stdout",
     "output_type": "stream",
     "text": [
      "(714, 775)\n"
     ]
    }
   ],
   "source": [
    "dfx_onehot.drop(ohnames, axis=1, inplace=True)\n",
    "print(dfx_onehot.shape)"
   ]
  },
  {
   "cell_type": "code",
   "execution_count": 65,
   "metadata": {
    "collapsed": true
   },
   "outputs": [],
   "source": [
    "dfx_float = trainx_float\n",
    "dfx_log1p = trainx_log1p"
   ]
  },
  {
   "cell_type": "code",
   "execution_count": 66,
   "metadata": {},
   "outputs": [
    {
     "name": "stderr",
     "output_type": "stream",
     "text": [
      "/home/magnusterra/anaconda3/lib/python3.6/site-packages/sklearn/cross_validation.py:41: DeprecationWarning: This module was deprecated in version 0.18 in favor of the model_selection module into which all the refactored classes and functions are moved. Also note that the interface of the new CV iterators are different from that of this module. This module will be removed in 0.20.\n",
      "  \"This module will be removed in 0.20.\", DeprecationWarning)\n"
     ]
    }
   ],
   "source": [
    "from sklearn.ensemble import BaggingRegressor\n",
    "from sklearn.linear_model import LinearRegression\n",
    "from xgboost import XGBRegressor"
   ]
  },
  {
   "cell_type": "code",
   "execution_count": 67,
   "metadata": {
    "collapsed": true
   },
   "outputs": [],
   "source": [
    "def MSE(y_raw, y_pred):\n",
    "    print(np.mean(np.square(y_raw-y_pred)))"
   ]
  },
  {
   "cell_type": "code",
   "execution_count": 68,
   "metadata": {},
   "outputs": [
    {
     "name": "stderr",
     "output_type": "stream",
     "text": [
      "/home/magnusterra/anaconda3/lib/python3.6/site-packages/sklearn/grid_search.py:42: DeprecationWarning: This module was deprecated in version 0.18 in favor of the model_selection module into which all the refactored classes and functions are moved. This module will be removed in 0.20.\n",
      "  DeprecationWarning)\n"
     ]
    }
   ],
   "source": [
    "import matplotlib.pyplot as plt\n",
    "from sklearn.cross_validation import train_test_split\n",
    "from sklearn.grid_search import GridSearchCV "
   ]
  },
  {
   "cell_type": "code",
   "execution_count": 69,
   "metadata": {
    "collapsed": true
   },
   "outputs": [],
   "source": [
    "from sklearn.model_selection import KFold "
   ]
  },
  {
   "cell_type": "code",
   "execution_count": 77,
   "metadata": {
    "collapsed": true
   },
   "outputs": [],
   "source": [
    "kf = KFold(n_splits=5, random_state=2018)\n",
    "def get_oof(rgr, xtrain, ytrain, xtest, lenot, lenoe):\n",
    "    oof_train = np.zeros((lenot,))\n",
    "    oof_test = np.zeros((lenoe,))\n",
    "    oof_test_skf = np.empty((5, lenoe))\n",
    "    for i, (train_index, test_index) in enumerate(kf.split(xtrain)):\n",
    "        kf_xtrain = xtrain[train_index]\n",
    "        kf_ytrain = ytrain[train_index]\n",
    "        kf_xtest = xtrain[test_index]\n",
    "        rgr.fit(kf_xtrain, kf_ytrain)\n",
    "        oof_train[test_index] = rgr.predict(kf_xtest)\n",
    "        oof_test_skf[i, : ] = rgr.predict(xtest)\n",
    "    oof_test[:] = oof_test_skf.mean(axis=0)\n",
    "    return oof_train.reshape(-1,1), oof_test.reshape(-1,1)"
   ]
  },
  {
   "cell_type": "code",
   "execution_count": 80,
   "metadata": {},
   "outputs": [
    {
     "name": "stdout",
     "output_type": "stream",
     "text": [
      "0.0465141919755\n",
      "0.0461676920794\n",
      "0.0435178834502\n"
     ]
    }
   ],
   "source": [
    "subxtrain, subxval, subytrain, subyval = train_test_split(dfx_log1p[:493].values, train_y.values, test_size=0.2, random_state=20)\n",
    "xgb = XGBRegressor()\n",
    "tr_pred, te_pred = get_oof(xgb, dfx_log1p[:493].values, train_y.values, dfx_log1p[493:593].values, 493, 100)\n",
    "MSE(tr_pred, train_y.values)\n",
    "test1_pred = te_pred.reshape(100)\n",
    "save = pd.DataFrame({'ID':test1_id, 'value':test1_pred})\n",
    "save.to_csv('answer_Synchronous_paramstack_dropover_log_xgb_20180112.csv', index=False, header=False)\n",
    "xgb = XGBRegressor(gamma=0.001, max_depth=1, objective='reg:linear', subsample=0.7)\n",
    "tr_pred, te_pred = get_oof(xgb, subxtrain, subytrain, subxval, len(subxtrain), len(subxval))\n",
    "MSE(tr_pred, subytrain)\n",
    "MSE(te_pred, subyval)"
   ]
  },
  {
   "cell_type": "code",
   "execution_count": 81,
   "metadata": {},
   "outputs": [
    {
     "name": "stdout",
     "output_type": "stream",
     "text": [
      "Best parameters set found on development set:\n",
      "\n",
      "{'gamma': 0, 'max_depth': 5, 'objective': 'reg:gamma', 'subsample': 0.8}\n",
      "\n",
      "Grid scores on development set:\n",
      "\n",
      "-0.034 (+/-0.009) for {'gamma': 0, 'max_depth': 1, 'objective': 'reg:linear', 'subsample': 0.85}\n",
      "-0.034 (+/-0.009) for {'gamma': 0, 'max_depth': 1, 'objective': 'reg:linear', 'subsample': 0.8}\n",
      "-0.034 (+/-0.009) for {'gamma': 0, 'max_depth': 1, 'objective': 'reg:linear', 'subsample': 0.75}\n",
      "-0.034 (+/-0.010) for {'gamma': 0, 'max_depth': 1, 'objective': 'reg:linear', 'subsample': 0.7}\n",
      "-0.034 (+/-0.009) for {'gamma': 0, 'max_depth': 1, 'objective': 'reg:gamma', 'subsample': 0.85}\n",
      "-0.034 (+/-0.009) for {'gamma': 0, 'max_depth': 1, 'objective': 'reg:gamma', 'subsample': 0.8}\n",
      "-0.034 (+/-0.008) for {'gamma': 0, 'max_depth': 1, 'objective': 'reg:gamma', 'subsample': 0.75}\n",
      "-0.035 (+/-0.010) for {'gamma': 0, 'max_depth': 1, 'objective': 'reg:gamma', 'subsample': 0.7}\n",
      "-0.036 (+/-0.010) for {'gamma': 0, 'max_depth': 2, 'objective': 'reg:linear', 'subsample': 0.85}\n",
      "-0.035 (+/-0.009) for {'gamma': 0, 'max_depth': 2, 'objective': 'reg:linear', 'subsample': 0.8}\n",
      "-0.033 (+/-0.009) for {'gamma': 0, 'max_depth': 2, 'objective': 'reg:linear', 'subsample': 0.75}\n",
      "-0.034 (+/-0.009) for {'gamma': 0, 'max_depth': 2, 'objective': 'reg:linear', 'subsample': 0.7}\n",
      "-0.034 (+/-0.008) for {'gamma': 0, 'max_depth': 2, 'objective': 'reg:gamma', 'subsample': 0.85}\n",
      "-0.033 (+/-0.010) for {'gamma': 0, 'max_depth': 2, 'objective': 'reg:gamma', 'subsample': 0.8}\n",
      "-0.034 (+/-0.009) for {'gamma': 0, 'max_depth': 2, 'objective': 'reg:gamma', 'subsample': 0.75}\n",
      "-0.033 (+/-0.010) for {'gamma': 0, 'max_depth': 2, 'objective': 'reg:gamma', 'subsample': 0.7}\n",
      "-0.034 (+/-0.008) for {'gamma': 0, 'max_depth': 3, 'objective': 'reg:linear', 'subsample': 0.85}\n",
      "-0.036 (+/-0.010) for {'gamma': 0, 'max_depth': 3, 'objective': 'reg:linear', 'subsample': 0.8}\n",
      "-0.034 (+/-0.008) for {'gamma': 0, 'max_depth': 3, 'objective': 'reg:linear', 'subsample': 0.75}\n",
      "-0.033 (+/-0.008) for {'gamma': 0, 'max_depth': 3, 'objective': 'reg:linear', 'subsample': 0.7}\n",
      "-0.033 (+/-0.008) for {'gamma': 0, 'max_depth': 3, 'objective': 'reg:gamma', 'subsample': 0.85}\n",
      "-0.033 (+/-0.006) for {'gamma': 0, 'max_depth': 3, 'objective': 'reg:gamma', 'subsample': 0.8}\n",
      "-0.034 (+/-0.009) for {'gamma': 0, 'max_depth': 3, 'objective': 'reg:gamma', 'subsample': 0.75}\n",
      "-0.035 (+/-0.007) for {'gamma': 0, 'max_depth': 3, 'objective': 'reg:gamma', 'subsample': 0.7}\n",
      "-0.034 (+/-0.008) for {'gamma': 0, 'max_depth': 4, 'objective': 'reg:linear', 'subsample': 0.85}\n",
      "-0.034 (+/-0.009) for {'gamma': 0, 'max_depth': 4, 'objective': 'reg:linear', 'subsample': 0.8}\n",
      "-0.034 (+/-0.010) for {'gamma': 0, 'max_depth': 4, 'objective': 'reg:linear', 'subsample': 0.75}\n",
      "-0.034 (+/-0.009) for {'gamma': 0, 'max_depth': 4, 'objective': 'reg:linear', 'subsample': 0.7}\n",
      "-0.033 (+/-0.010) for {'gamma': 0, 'max_depth': 4, 'objective': 'reg:gamma', 'subsample': 0.85}\n",
      "-0.034 (+/-0.007) for {'gamma': 0, 'max_depth': 4, 'objective': 'reg:gamma', 'subsample': 0.8}\n",
      "-0.033 (+/-0.007) for {'gamma': 0, 'max_depth': 4, 'objective': 'reg:gamma', 'subsample': 0.75}\n",
      "-0.034 (+/-0.009) for {'gamma': 0, 'max_depth': 4, 'objective': 'reg:gamma', 'subsample': 0.7}\n",
      "-0.035 (+/-0.011) for {'gamma': 0, 'max_depth': 5, 'objective': 'reg:linear', 'subsample': 0.85}\n",
      "-0.035 (+/-0.007) for {'gamma': 0, 'max_depth': 5, 'objective': 'reg:linear', 'subsample': 0.8}\n",
      "-0.033 (+/-0.009) for {'gamma': 0, 'max_depth': 5, 'objective': 'reg:linear', 'subsample': 0.75}\n",
      "-0.035 (+/-0.010) for {'gamma': 0, 'max_depth': 5, 'objective': 'reg:linear', 'subsample': 0.7}\n",
      "-0.033 (+/-0.006) for {'gamma': 0, 'max_depth': 5, 'objective': 'reg:gamma', 'subsample': 0.85}\n",
      "-0.032 (+/-0.007) for {'gamma': 0, 'max_depth': 5, 'objective': 'reg:gamma', 'subsample': 0.8}\n",
      "-0.034 (+/-0.009) for {'gamma': 0, 'max_depth': 5, 'objective': 'reg:gamma', 'subsample': 0.75}\n",
      "-0.034 (+/-0.007) for {'gamma': 0, 'max_depth': 5, 'objective': 'reg:gamma', 'subsample': 0.7}\n",
      "-0.035 (+/-0.007) for {'gamma': 0, 'max_depth': 6, 'objective': 'reg:linear', 'subsample': 0.85}\n",
      "-0.034 (+/-0.009) for {'gamma': 0, 'max_depth': 6, 'objective': 'reg:linear', 'subsample': 0.8}\n",
      "-0.035 (+/-0.009) for {'gamma': 0, 'max_depth': 6, 'objective': 'reg:linear', 'subsample': 0.75}\n",
      "-0.034 (+/-0.011) for {'gamma': 0, 'max_depth': 6, 'objective': 'reg:linear', 'subsample': 0.7}\n",
      "-0.033 (+/-0.007) for {'gamma': 0, 'max_depth': 6, 'objective': 'reg:gamma', 'subsample': 0.85}\n",
      "-0.033 (+/-0.009) for {'gamma': 0, 'max_depth': 6, 'objective': 'reg:gamma', 'subsample': 0.8}\n",
      "-0.035 (+/-0.010) for {'gamma': 0, 'max_depth': 6, 'objective': 'reg:gamma', 'subsample': 0.75}\n",
      "-0.034 (+/-0.009) for {'gamma': 0, 'max_depth': 6, 'objective': 'reg:gamma', 'subsample': 0.7}\n",
      "-0.034 (+/-0.009) for {'gamma': 0.001, 'max_depth': 1, 'objective': 'reg:linear', 'subsample': 0.85}\n",
      "-0.034 (+/-0.009) for {'gamma': 0.001, 'max_depth': 1, 'objective': 'reg:linear', 'subsample': 0.8}\n",
      "-0.034 (+/-0.009) for {'gamma': 0.001, 'max_depth': 1, 'objective': 'reg:linear', 'subsample': 0.75}\n",
      "-0.034 (+/-0.010) for {'gamma': 0.001, 'max_depth': 1, 'objective': 'reg:linear', 'subsample': 0.7}\n",
      "-0.034 (+/-0.009) for {'gamma': 0.001, 'max_depth': 1, 'objective': 'reg:gamma', 'subsample': 0.85}\n",
      "-0.034 (+/-0.009) for {'gamma': 0.001, 'max_depth': 1, 'objective': 'reg:gamma', 'subsample': 0.8}\n",
      "-0.034 (+/-0.008) for {'gamma': 0.001, 'max_depth': 1, 'objective': 'reg:gamma', 'subsample': 0.75}\n",
      "-0.035 (+/-0.010) for {'gamma': 0.001, 'max_depth': 1, 'objective': 'reg:gamma', 'subsample': 0.7}\n",
      "-0.036 (+/-0.010) for {'gamma': 0.001, 'max_depth': 2, 'objective': 'reg:linear', 'subsample': 0.85}\n",
      "-0.035 (+/-0.010) for {'gamma': 0.001, 'max_depth': 2, 'objective': 'reg:linear', 'subsample': 0.8}\n",
      "-0.033 (+/-0.009) for {'gamma': 0.001, 'max_depth': 2, 'objective': 'reg:linear', 'subsample': 0.75}\n",
      "-0.034 (+/-0.009) for {'gamma': 0.001, 'max_depth': 2, 'objective': 'reg:linear', 'subsample': 0.7}\n",
      "-0.033 (+/-0.008) for {'gamma': 0.001, 'max_depth': 2, 'objective': 'reg:gamma', 'subsample': 0.85}\n",
      "-0.033 (+/-0.009) for {'gamma': 0.001, 'max_depth': 2, 'objective': 'reg:gamma', 'subsample': 0.8}\n",
      "-0.034 (+/-0.008) for {'gamma': 0.001, 'max_depth': 2, 'objective': 'reg:gamma', 'subsample': 0.75}\n",
      "-0.034 (+/-0.010) for {'gamma': 0.001, 'max_depth': 2, 'objective': 'reg:gamma', 'subsample': 0.7}\n",
      "-0.034 (+/-0.008) for {'gamma': 0.001, 'max_depth': 3, 'objective': 'reg:linear', 'subsample': 0.85}\n",
      "-0.035 (+/-0.009) for {'gamma': 0.001, 'max_depth': 3, 'objective': 'reg:linear', 'subsample': 0.8}\n",
      "-0.034 (+/-0.008) for {'gamma': 0.001, 'max_depth': 3, 'objective': 'reg:linear', 'subsample': 0.75}\n",
      "-0.033 (+/-0.009) for {'gamma': 0.001, 'max_depth': 3, 'objective': 'reg:linear', 'subsample': 0.7}\n",
      "-0.033 (+/-0.008) for {'gamma': 0.001, 'max_depth': 3, 'objective': 'reg:gamma', 'subsample': 0.85}\n",
      "-0.034 (+/-0.007) for {'gamma': 0.001, 'max_depth': 3, 'objective': 'reg:gamma', 'subsample': 0.8}\n",
      "-0.034 (+/-0.010) for {'gamma': 0.001, 'max_depth': 3, 'objective': 'reg:gamma', 'subsample': 0.75}\n",
      "-0.034 (+/-0.008) for {'gamma': 0.001, 'max_depth': 3, 'objective': 'reg:gamma', 'subsample': 0.7}\n",
      "-0.034 (+/-0.009) for {'gamma': 0.001, 'max_depth': 4, 'objective': 'reg:linear', 'subsample': 0.85}\n",
      "-0.033 (+/-0.010) for {'gamma': 0.001, 'max_depth': 4, 'objective': 'reg:linear', 'subsample': 0.8}\n",
      "-0.033 (+/-0.009) for {'gamma': 0.001, 'max_depth': 4, 'objective': 'reg:linear', 'subsample': 0.75}\n",
      "-0.034 (+/-0.009) for {'gamma': 0.001, 'max_depth': 4, 'objective': 'reg:linear', 'subsample': 0.7}\n",
      "-0.034 (+/-0.008) for {'gamma': 0.001, 'max_depth': 4, 'objective': 'reg:gamma', 'subsample': 0.85}\n",
      "-0.035 (+/-0.007) for {'gamma': 0.001, 'max_depth': 4, 'objective': 'reg:gamma', 'subsample': 0.8}\n",
      "-0.033 (+/-0.009) for {'gamma': 0.001, 'max_depth': 4, 'objective': 'reg:gamma', 'subsample': 0.75}\n",
      "-0.034 (+/-0.009) for {'gamma': 0.001, 'max_depth': 4, 'objective': 'reg:gamma', 'subsample': 0.7}\n",
      "-0.035 (+/-0.010) for {'gamma': 0.001, 'max_depth': 5, 'objective': 'reg:linear', 'subsample': 0.85}\n",
      "-0.034 (+/-0.009) for {'gamma': 0.001, 'max_depth': 5, 'objective': 'reg:linear', 'subsample': 0.8}\n",
      "-0.034 (+/-0.010) for {'gamma': 0.001, 'max_depth': 5, 'objective': 'reg:linear', 'subsample': 0.75}\n",
      "-0.035 (+/-0.009) for {'gamma': 0.001, 'max_depth': 5, 'objective': 'reg:linear', 'subsample': 0.7}\n",
      "-0.034 (+/-0.009) for {'gamma': 0.001, 'max_depth': 5, 'objective': 'reg:gamma', 'subsample': 0.85}\n",
      "-0.034 (+/-0.008) for {'gamma': 0.001, 'max_depth': 5, 'objective': 'reg:gamma', 'subsample': 0.8}\n",
      "-0.036 (+/-0.009) for {'gamma': 0.001, 'max_depth': 5, 'objective': 'reg:gamma', 'subsample': 0.75}\n",
      "-0.034 (+/-0.007) for {'gamma': 0.001, 'max_depth': 5, 'objective': 'reg:gamma', 'subsample': 0.7}\n",
      "-0.035 (+/-0.008) for {'gamma': 0.001, 'max_depth': 6, 'objective': 'reg:linear', 'subsample': 0.85}\n",
      "-0.034 (+/-0.010) for {'gamma': 0.001, 'max_depth': 6, 'objective': 'reg:linear', 'subsample': 0.8}\n",
      "-0.035 (+/-0.009) for {'gamma': 0.001, 'max_depth': 6, 'objective': 'reg:linear', 'subsample': 0.75}\n",
      "-0.034 (+/-0.009) for {'gamma': 0.001, 'max_depth': 6, 'objective': 'reg:linear', 'subsample': 0.7}\n",
      "-0.032 (+/-0.008) for {'gamma': 0.001, 'max_depth': 6, 'objective': 'reg:gamma', 'subsample': 0.85}\n",
      "-0.034 (+/-0.009) for {'gamma': 0.001, 'max_depth': 6, 'objective': 'reg:gamma', 'subsample': 0.8}\n",
      "-0.035 (+/-0.010) for {'gamma': 0.001, 'max_depth': 6, 'objective': 'reg:gamma', 'subsample': 0.75}\n",
      "-0.034 (+/-0.007) for {'gamma': 0.001, 'max_depth': 6, 'objective': 'reg:gamma', 'subsample': 0.7}\n",
      "-0.034 (+/-0.009) for {'gamma': 0.01, 'max_depth': 1, 'objective': 'reg:linear', 'subsample': 0.85}\n",
      "-0.034 (+/-0.009) for {'gamma': 0.01, 'max_depth': 1, 'objective': 'reg:linear', 'subsample': 0.8}\n",
      "-0.034 (+/-0.009) for {'gamma': 0.01, 'max_depth': 1, 'objective': 'reg:linear', 'subsample': 0.75}\n",
      "-0.034 (+/-0.010) for {'gamma': 0.01, 'max_depth': 1, 'objective': 'reg:linear', 'subsample': 0.7}\n",
      "-0.034 (+/-0.009) for {'gamma': 0.01, 'max_depth': 1, 'objective': 'reg:gamma', 'subsample': 0.85}\n",
      "-0.034 (+/-0.009) for {'gamma': 0.01, 'max_depth': 1, 'objective': 'reg:gamma', 'subsample': 0.8}\n",
      "-0.034 (+/-0.008) for {'gamma': 0.01, 'max_depth': 1, 'objective': 'reg:gamma', 'subsample': 0.75}\n",
      "-0.035 (+/-0.009) for {'gamma': 0.01, 'max_depth': 1, 'objective': 'reg:gamma', 'subsample': 0.7}\n",
      "-0.036 (+/-0.010) for {'gamma': 0.01, 'max_depth': 2, 'objective': 'reg:linear', 'subsample': 0.85}\n",
      "-0.035 (+/-0.010) for {'gamma': 0.01, 'max_depth': 2, 'objective': 'reg:linear', 'subsample': 0.8}\n",
      "-0.033 (+/-0.009) for {'gamma': 0.01, 'max_depth': 2, 'objective': 'reg:linear', 'subsample': 0.75}\n",
      "-0.034 (+/-0.011) for {'gamma': 0.01, 'max_depth': 2, 'objective': 'reg:linear', 'subsample': 0.7}\n",
      "-0.034 (+/-0.008) for {'gamma': 0.01, 'max_depth': 2, 'objective': 'reg:gamma', 'subsample': 0.85}\n",
      "-0.034 (+/-0.009) for {'gamma': 0.01, 'max_depth': 2, 'objective': 'reg:gamma', 'subsample': 0.8}\n",
      "-0.034 (+/-0.008) for {'gamma': 0.01, 'max_depth': 2, 'objective': 'reg:gamma', 'subsample': 0.75}\n",
      "-0.036 (+/-0.010) for {'gamma': 0.01, 'max_depth': 2, 'objective': 'reg:gamma', 'subsample': 0.7}\n",
      "-0.035 (+/-0.008) for {'gamma': 0.01, 'max_depth': 3, 'objective': 'reg:linear', 'subsample': 0.85}\n",
      "-0.036 (+/-0.009) for {'gamma': 0.01, 'max_depth': 3, 'objective': 'reg:linear', 'subsample': 0.8}\n",
      "-0.034 (+/-0.009) for {'gamma': 0.01, 'max_depth': 3, 'objective': 'reg:linear', 'subsample': 0.75}\n",
      "-0.034 (+/-0.009) for {'gamma': 0.01, 'max_depth': 3, 'objective': 'reg:linear', 'subsample': 0.7}\n",
      "-0.033 (+/-0.008) for {'gamma': 0.01, 'max_depth': 3, 'objective': 'reg:gamma', 'subsample': 0.85}\n",
      "-0.034 (+/-0.006) for {'gamma': 0.01, 'max_depth': 3, 'objective': 'reg:gamma', 'subsample': 0.8}\n",
      "-0.035 (+/-0.009) for {'gamma': 0.01, 'max_depth': 3, 'objective': 'reg:gamma', 'subsample': 0.75}\n",
      "-0.034 (+/-0.008) for {'gamma': 0.01, 'max_depth': 3, 'objective': 'reg:gamma', 'subsample': 0.7}\n",
      "-0.034 (+/-0.008) for {'gamma': 0.01, 'max_depth': 4, 'objective': 'reg:linear', 'subsample': 0.85}\n",
      "-0.035 (+/-0.009) for {'gamma': 0.01, 'max_depth': 4, 'objective': 'reg:linear', 'subsample': 0.8}\n",
      "-0.034 (+/-0.009) for {'gamma': 0.01, 'max_depth': 4, 'objective': 'reg:linear', 'subsample': 0.75}\n",
      "-0.034 (+/-0.011) for {'gamma': 0.01, 'max_depth': 4, 'objective': 'reg:linear', 'subsample': 0.7}\n",
      "-0.034 (+/-0.009) for {'gamma': 0.01, 'max_depth': 4, 'objective': 'reg:gamma', 'subsample': 0.85}\n",
      "-0.033 (+/-0.010) for {'gamma': 0.01, 'max_depth': 4, 'objective': 'reg:gamma', 'subsample': 0.8}\n",
      "-0.034 (+/-0.008) for {'gamma': 0.01, 'max_depth': 4, 'objective': 'reg:gamma', 'subsample': 0.75}\n",
      "-0.035 (+/-0.010) for {'gamma': 0.01, 'max_depth': 4, 'objective': 'reg:gamma', 'subsample': 0.7}\n",
      "-0.034 (+/-0.009) for {'gamma': 0.01, 'max_depth': 5, 'objective': 'reg:linear', 'subsample': 0.85}\n",
      "-0.035 (+/-0.010) for {'gamma': 0.01, 'max_depth': 5, 'objective': 'reg:linear', 'subsample': 0.8}\n",
      "-0.034 (+/-0.011) for {'gamma': 0.01, 'max_depth': 5, 'objective': 'reg:linear', 'subsample': 0.75}\n",
      "-0.034 (+/-0.008) for {'gamma': 0.01, 'max_depth': 5, 'objective': 'reg:linear', 'subsample': 0.7}\n",
      "-0.032 (+/-0.006) for {'gamma': 0.01, 'max_depth': 5, 'objective': 'reg:gamma', 'subsample': 0.85}\n",
      "-0.033 (+/-0.008) for {'gamma': 0.01, 'max_depth': 5, 'objective': 'reg:gamma', 'subsample': 0.8}\n",
      "-0.034 (+/-0.008) for {'gamma': 0.01, 'max_depth': 5, 'objective': 'reg:gamma', 'subsample': 0.75}\n",
      "-0.035 (+/-0.009) for {'gamma': 0.01, 'max_depth': 5, 'objective': 'reg:gamma', 'subsample': 0.7}\n",
      "-0.035 (+/-0.008) for {'gamma': 0.01, 'max_depth': 6, 'objective': 'reg:linear', 'subsample': 0.85}\n",
      "-0.034 (+/-0.008) for {'gamma': 0.01, 'max_depth': 6, 'objective': 'reg:linear', 'subsample': 0.8}\n",
      "-0.035 (+/-0.010) for {'gamma': 0.01, 'max_depth': 6, 'objective': 'reg:linear', 'subsample': 0.75}\n",
      "-0.034 (+/-0.012) for {'gamma': 0.01, 'max_depth': 6, 'objective': 'reg:linear', 'subsample': 0.7}\n",
      "-0.032 (+/-0.008) for {'gamma': 0.01, 'max_depth': 6, 'objective': 'reg:gamma', 'subsample': 0.85}\n",
      "-0.034 (+/-0.006) for {'gamma': 0.01, 'max_depth': 6, 'objective': 'reg:gamma', 'subsample': 0.8}\n",
      "-0.035 (+/-0.008) for {'gamma': 0.01, 'max_depth': 6, 'objective': 'reg:gamma', 'subsample': 0.75}\n",
      "-0.035 (+/-0.008) for {'gamma': 0.01, 'max_depth': 6, 'objective': 'reg:gamma', 'subsample': 0.7}\n",
      "-0.034 (+/-0.009) for {'gamma': 0.0001, 'max_depth': 1, 'objective': 'reg:linear', 'subsample': 0.85}\n",
      "-0.034 (+/-0.009) for {'gamma': 0.0001, 'max_depth': 1, 'objective': 'reg:linear', 'subsample': 0.8}\n",
      "-0.034 (+/-0.009) for {'gamma': 0.0001, 'max_depth': 1, 'objective': 'reg:linear', 'subsample': 0.75}\n",
      "-0.034 (+/-0.010) for {'gamma': 0.0001, 'max_depth': 1, 'objective': 'reg:linear', 'subsample': 0.7}\n",
      "-0.034 (+/-0.009) for {'gamma': 0.0001, 'max_depth': 1, 'objective': 'reg:gamma', 'subsample': 0.85}\n",
      "-0.034 (+/-0.009) for {'gamma': 0.0001, 'max_depth': 1, 'objective': 'reg:gamma', 'subsample': 0.8}\n",
      "-0.034 (+/-0.008) for {'gamma': 0.0001, 'max_depth': 1, 'objective': 'reg:gamma', 'subsample': 0.75}\n",
      "-0.035 (+/-0.010) for {'gamma': 0.0001, 'max_depth': 1, 'objective': 'reg:gamma', 'subsample': 0.7}\n",
      "-0.036 (+/-0.010) for {'gamma': 0.0001, 'max_depth': 2, 'objective': 'reg:linear', 'subsample': 0.85}\n",
      "-0.035 (+/-0.009) for {'gamma': 0.0001, 'max_depth': 2, 'objective': 'reg:linear', 'subsample': 0.8}\n",
      "-0.033 (+/-0.009) for {'gamma': 0.0001, 'max_depth': 2, 'objective': 'reg:linear', 'subsample': 0.75}\n",
      "-0.034 (+/-0.009) for {'gamma': 0.0001, 'max_depth': 2, 'objective': 'reg:linear', 'subsample': 0.7}\n",
      "-0.034 (+/-0.008) for {'gamma': 0.0001, 'max_depth': 2, 'objective': 'reg:gamma', 'subsample': 0.85}\n",
      "-0.033 (+/-0.010) for {'gamma': 0.0001, 'max_depth': 2, 'objective': 'reg:gamma', 'subsample': 0.8}\n",
      "-0.034 (+/-0.009) for {'gamma': 0.0001, 'max_depth': 2, 'objective': 'reg:gamma', 'subsample': 0.75}\n",
      "-0.033 (+/-0.010) for {'gamma': 0.0001, 'max_depth': 2, 'objective': 'reg:gamma', 'subsample': 0.7}\n",
      "-0.034 (+/-0.008) for {'gamma': 0.0001, 'max_depth': 3, 'objective': 'reg:linear', 'subsample': 0.85}\n",
      "-0.036 (+/-0.010) for {'gamma': 0.0001, 'max_depth': 3, 'objective': 'reg:linear', 'subsample': 0.8}\n",
      "-0.034 (+/-0.008) for {'gamma': 0.0001, 'max_depth': 3, 'objective': 'reg:linear', 'subsample': 0.75}\n",
      "-0.033 (+/-0.008) for {'gamma': 0.0001, 'max_depth': 3, 'objective': 'reg:linear', 'subsample': 0.7}\n",
      "-0.033 (+/-0.009) for {'gamma': 0.0001, 'max_depth': 3, 'objective': 'reg:gamma', 'subsample': 0.85}\n",
      "-0.033 (+/-0.005) for {'gamma': 0.0001, 'max_depth': 3, 'objective': 'reg:gamma', 'subsample': 0.8}\n",
      "-0.034 (+/-0.008) for {'gamma': 0.0001, 'max_depth': 3, 'objective': 'reg:gamma', 'subsample': 0.75}\n",
      "-0.035 (+/-0.006) for {'gamma': 0.0001, 'max_depth': 3, 'objective': 'reg:gamma', 'subsample': 0.7}\n",
      "-0.034 (+/-0.009) for {'gamma': 0.0001, 'max_depth': 4, 'objective': 'reg:linear', 'subsample': 0.85}\n",
      "-0.033 (+/-0.010) for {'gamma': 0.0001, 'max_depth': 4, 'objective': 'reg:linear', 'subsample': 0.8}\n",
      "-0.034 (+/-0.011) for {'gamma': 0.0001, 'max_depth': 4, 'objective': 'reg:linear', 'subsample': 0.75}\n",
      "-0.033 (+/-0.008) for {'gamma': 0.0001, 'max_depth': 4, 'objective': 'reg:linear', 'subsample': 0.7}\n",
      "-0.033 (+/-0.009) for {'gamma': 0.0001, 'max_depth': 4, 'objective': 'reg:gamma', 'subsample': 0.85}\n",
      "-0.034 (+/-0.008) for {'gamma': 0.0001, 'max_depth': 4, 'objective': 'reg:gamma', 'subsample': 0.8}\n",
      "-0.035 (+/-0.008) for {'gamma': 0.0001, 'max_depth': 4, 'objective': 'reg:gamma', 'subsample': 0.75}\n",
      "-0.034 (+/-0.009) for {'gamma': 0.0001, 'max_depth': 4, 'objective': 'reg:gamma', 'subsample': 0.7}\n",
      "-0.035 (+/-0.012) for {'gamma': 0.0001, 'max_depth': 5, 'objective': 'reg:linear', 'subsample': 0.85}\n",
      "-0.034 (+/-0.009) for {'gamma': 0.0001, 'max_depth': 5, 'objective': 'reg:linear', 'subsample': 0.8}\n",
      "-0.034 (+/-0.009) for {'gamma': 0.0001, 'max_depth': 5, 'objective': 'reg:linear', 'subsample': 0.75}\n",
      "-0.035 (+/-0.010) for {'gamma': 0.0001, 'max_depth': 5, 'objective': 'reg:linear', 'subsample': 0.7}\n",
      "-0.033 (+/-0.007) for {'gamma': 0.0001, 'max_depth': 5, 'objective': 'reg:gamma', 'subsample': 0.85}\n",
      "-0.033 (+/-0.009) for {'gamma': 0.0001, 'max_depth': 5, 'objective': 'reg:gamma', 'subsample': 0.8}\n",
      "-0.035 (+/-0.009) for {'gamma': 0.0001, 'max_depth': 5, 'objective': 'reg:gamma', 'subsample': 0.75}\n",
      "-0.034 (+/-0.007) for {'gamma': 0.0001, 'max_depth': 5, 'objective': 'reg:gamma', 'subsample': 0.7}\n",
      "-0.035 (+/-0.008) for {'gamma': 0.0001, 'max_depth': 6, 'objective': 'reg:linear', 'subsample': 0.85}\n",
      "-0.032 (+/-0.008) for {'gamma': 0.0001, 'max_depth': 6, 'objective': 'reg:linear', 'subsample': 0.8}\n",
      "-0.035 (+/-0.010) for {'gamma': 0.0001, 'max_depth': 6, 'objective': 'reg:linear', 'subsample': 0.75}\n",
      "-0.034 (+/-0.011) for {'gamma': 0.0001, 'max_depth': 6, 'objective': 'reg:linear', 'subsample': 0.7}\n",
      "-0.034 (+/-0.008) for {'gamma': 0.0001, 'max_depth': 6, 'objective': 'reg:gamma', 'subsample': 0.85}\n",
      "-0.034 (+/-0.010) for {'gamma': 0.0001, 'max_depth': 6, 'objective': 'reg:gamma', 'subsample': 0.8}\n",
      "-0.033 (+/-0.009) for {'gamma': 0.0001, 'max_depth': 6, 'objective': 'reg:gamma', 'subsample': 0.75}\n",
      "-0.033 (+/-0.007) for {'gamma': 0.0001, 'max_depth': 6, 'objective': 'reg:gamma', 'subsample': 0.7}\n",
      "\n",
      "The scores are computed on the full evaluation set.\n",
      "\n",
      "0.0272420613323\n",
      "None\n",
      "0.000277592155259\n",
      "None\n"
     ]
    }
   ],
   "source": [
    "tuned_parameters = {'objective':['reg:linear', 'reg:gamma'], 'max_depth':[1,2,3,4,5,6],\n",
    "                    'gamma':[0, 1e-3, 1e-2,  1e-4], 'subsample':[0.85, 0.8, 0.75, 0.7]}\n",
    "scores = ['MSE']\n",
    "clf = GridSearchCV(estimator =XGBRegressor(), param_grid =tuned_parameters, cv=5, scoring='neg_mean_squared_error')\n",
    "clf.fit(subxtrain, subytrain)\n",
    "print(\"Best parameters set found on development set:\")  \n",
    "print()  \n",
    "print(clf.best_params_)  \n",
    "print()  \n",
    "print(\"Grid scores on development set:\")  \n",
    "print()  \n",
    "for params, mean_score, scores in clf.grid_scores_:  \n",
    "    print(\"%0.3f (+/-%0.03f) for %r\"  \n",
    "              % (mean_score, scores.std() * 2, params))  \n",
    "print()\n",
    "print(\"The scores are computed on the full evaluation set.\")  \n",
    "print()  \n",
    "y_true, y_pred = subyval, clf.predict(subxval)\n",
    "print(MSE(y_true, y_pred))\n",
    "y_pred = clf.predict(subxtrain)\n",
    "print(MSE(y_pred, subytrain))"
   ]
  },
  {
   "cell_type": "code",
   "execution_count": null,
   "metadata": {
    "collapsed": true
   },
   "outputs": [],
   "source": []
  }
 ],
 "metadata": {
  "kernelspec": {
   "display_name": "Python 3",
   "language": "python",
   "name": "python3"
  },
  "language_info": {
   "codemirror_mode": {
    "name": "ipython",
    "version": 3
   },
   "file_extension": ".py",
   "mimetype": "text/x-python",
   "name": "python",
   "nbconvert_exporter": "python",
   "pygments_lexer": "ipython3",
   "version": "3.6.1"
  }
 },
 "nbformat": 4,
 "nbformat_minor": 2
}
